{
 "cells": [
  {
   "cell_type": "code",
   "execution_count": 1,
   "metadata": {},
   "outputs": [],
   "source": [
    "%load_ext autoreload\n",
    "%autoreload 2\n",
    "\n",
    "import numpy as np\n",
    "import pydot\n",
    "import os\n",
    "import matplotlib.pyplot as plt\n",
    "import copy\n",
    "import time\n",
    "from collections import Counter\n",
    "import scene\n",
    "import AllegroWrapper\n",
    "import contact\n",
    "import motion_planning\n",
    "import search\n",
    "import visualizations\n",
    "from pydrake.all import StartMeshcat\n",
    "from manipulation.utils import ConfigureParser"
   ]
  },
  {
   "cell_type": "code",
   "execution_count": 2,
   "metadata": {},
   "outputs": [],
   "source": [
    "meshcat = None"
   ]
  },
  {
   "cell_type": "code",
   "execution_count": 4,
   "metadata": {},
   "outputs": [],
   "source": [
    "#p_W_brick = [np.random.uniform(0.4, 0.75), np.random.uniform(-0.35, 0.35), 0.01]\n",
    "#R_W_brick = None\n",
    "\n",
    "p_W_brick = [2.75, 0.0, 0.01]\n",
    "R_W_brick = [0, 0, 90]\n",
    "meshcat, station, simulator, context, p_W_brick, R_W_brick = scene.init_scenario(brick_location=p_W_brick, brick_rotation=R_W_brick, meshcat=meshcat)\n",
    "\n",
    "allegro = AllegroWrapper.AllegroHand(station, context)\n",
    "simulator.set_target_realtime_rate(1.0)\n",
    "x0 = station.GetOutputPort(\"iiwa+allegro.state_estimated\").Eval(context)\n",
    "# scene.render_station_diagram(station)\n",
    "\n",
    "def reset_arm(station, simulator, context, x0):\n",
    "    station.GetInputPort(\"iiwa+allegro.desired_state\").FixValue(context, x0)\n",
    "    simulator.AdvanceTo(context.get_time() + 1)\n"
   ]
  },
  {
   "cell_type": "code",
   "execution_count": 4,
   "metadata": {},
   "outputs": [],
   "source": [
    "reset_arm(station, simulator, context, x0)"
   ]
  },
  {
   "cell_type": "code",
   "execution_count": 5,
   "metadata": {},
   "outputs": [
    {
     "data": {
      "text/plain": [
       "dict_keys(['index_revolute_z', 'index_0', 'index_1', 'index_2', 'thumb_revolute_z', 'thumb_revolute_y', 'thumb_1', 'thumb_2', 'middle_revolute_z', 'middle_0', 'middle_1', 'middle_2', 'pinky_revolute_z', 'pinky_0', 'pinky_1', 'pinky_2'])"
      ]
     },
     "execution_count": 5,
     "metadata": {},
     "output_type": "execute_result"
    }
   ],
   "source": [
    "allegro.get_limbs()"
   ]
  },
  {
   "cell_type": "code",
   "execution_count": 6,
   "metadata": {},
   "outputs": [],
   "source": [
    "# allegro.set_positions([\"index_1\", \"middle_1\", \"pinky_1\"], [0.6] * 3)\n",
    "# allegro.set_positions([\"index_2\", \"middle_2\", \"pinky_2\"], [0.3] * 3)\n",
    "\n",
    "# simulator.AdvanceTo(context.get_time() + 1)"
   ]
  },
  {
   "cell_type": "code",
   "execution_count": 7,
   "metadata": {},
   "outputs": [],
   "source": [
    "# allegro.get_positions([\"thumb_revolute_y\", \"thumb_revolute_z\"], context)"
   ]
  },
  {
   "cell_type": "code",
   "execution_count": 8,
   "metadata": {},
   "outputs": [],
   "source": [
    "# allegro.set_positions([\"thumb_revolute_z\"], [-1])\n",
    "# #allegro.set_positions([\"thumb_0\", \"thumb_1\"], [0.6, -2.6])\n",
    "# simulator.AdvanceTo(context.get_time() + 1)\n"
   ]
  },
  {
   "cell_type": "code",
   "execution_count": 30,
   "metadata": {},
   "outputs": [],
   "source": [
    "from pydrake.all import Solve, RotationMatrix, RigidTransform\n",
    "from pydrake.multibody import inverse_kinematics\n",
    "\n",
    "def optimize_arm_movement(X_WG, station, end_effector_poses, frame=\"hand_root\"):\n",
    "    \"\"\"Convert end-effector pose list to joint position list using series of\n",
    "    InverseKinematics problems. Note that q is 9-dimensional because the last 2 dimensions\n",
    "    contain gripper joints, but these should not matter to the constraints.\n",
    "\n",
    "    @param: X_WG (numpy array): X_WG[i] contains joint position q at index i.\n",
    "    @param: station (pydrake.systems.framework.DiagramBuilder): DiagramBuilder containing the robot model.\n",
    "    @param: end_effector_poses (python_list): end_effector_poses[i] contains the desired pose of the end-effector at index i.\n",
    "    @param: frame (string): name of the frame of the end-effector.\n",
    "\n",
    "    @return: q_knots (python_list): q_knots[i] contains IK solution that will give f(q_knots[i]) \\approx pose_lst[i].\n",
    "    \"\"\"\n",
    "    q_knots = []\n",
    "    plant = station.GetSubsystemByName(\"plant\")\n",
    "    world_frame = plant.world_frame()\n",
    "    gripper_frame = plant.GetFrameByName(frame)\n",
    "\n",
    "    iiwa_initial = X_WG[:7]\n",
    "    gripper_initial = np.ones((23))\n",
    "    q_nominal = np.concatenate((iiwa_initial, gripper_initial))\n",
    "\n",
    "    def AddPositionConstraint(ik, p_WG_lower, p_WG_upper):\n",
    "        \"\"\"Add position constraint to the ik problem. Implements an inequality\n",
    "        constraint where f_p(q) must lie between p_WG_lower and p_WG_upper. Can be\n",
    "        translated to\n",
    "        ik.prog().AddBoundingBoxConstraint(f_p(q), p_WG_lower, p_WG_upper)\n",
    "        \"\"\"\n",
    "        ik.AddPositionConstraint(\n",
    "            frameA=world_frame,\n",
    "            frameB=gripper_frame,\n",
    "            p_BQ=np.zeros(3),\n",
    "            p_AQ_lower=p_WG_lower,\n",
    "            p_AQ_upper=p_WG_upper,\n",
    "        )\n",
    "\n",
    "    def AddOrientationConstraint(ik, R_WG, bounds):\n",
    "        \"\"\"Add orientation constraint to the ik problem. Implements an inequality\n",
    "        constraint where the axis-angle difference between f_R(q) and R_WG must be\n",
    "        within bounds. Can be translated to:\n",
    "        ik.prog().AddBoundingBoxConstraint(angle_diff(f_R(q), R_WG), -bounds, bounds)\n",
    "        \"\"\"\n",
    "        ik.AddOrientationConstraint(\n",
    "            frameAbar=world_frame,\n",
    "            R_AbarA=R_WG,\n",
    "            frameBbar=gripper_frame,\n",
    "            R_BbarB=RotationMatrix(),\n",
    "            theta_bound=bounds,\n",
    "        )\n",
    "\n",
    "    for i in range(len(end_effector_poses)):\n",
    "        ik = inverse_kinematics.InverseKinematics(plant)\n",
    "        q_variables = ik.q()  # Get variables for MathematicalProgram\n",
    "        prog = ik.prog()  # Get MathematicalProgram\n",
    "\n",
    "        pose = end_effector_poses[i]\n",
    "        AddPositionConstraint(\n",
    "                    ik,\n",
    "                    pose.translation() - 0.01 * np.ones(3),\n",
    "                    pose.translation() + 0.01 * np.ones(3),\n",
    "        )\n",
    "        \n",
    "        if frame == \"hand_root\":\n",
    "            AddOrientationConstraint(ik, pose.rotation(), 0.01)\n",
    "        \n",
    "        \n",
    "        prog.AddQuadraticErrorCost(np.identity(len(q_variables)), q_nominal, q_variables)\n",
    "        if i == 0:\n",
    "            prog.SetInitialGuess(q_variables, q_nominal)\n",
    "        else:\n",
    "            prog.SetInitialGuess(q_variables, q_knots[i-1])\n",
    "\n",
    "        result_found = False\n",
    "        for i in range(1000):\n",
    "            result = Solve(prog)\n",
    "            if result.is_success():\n",
    "                result_found = True\n",
    "                break\n",
    "\n",
    "        if not result_found:\n",
    "            raise RuntimeError(\"Inverse kinematics failed.\")\n",
    "\n",
    "        q_knots.append(result.GetSolution(q_variables))\n",
    "\n",
    "    return np.array(q_knots)\n",
    "\n",
    "def interpolate_locations(X_WG, p_WG_post, interp_steps=16, arc_height=0.1, rotate=False):\n",
    "    p_WG_pre = X_WG.translation()\n",
    "    xs = np.linspace(p_WG_pre[0], p_WG_post[0], interp_steps)\n",
    "    ys = np.linspace(p_WG_pre[1], p_WG_post[1], interp_steps)\n",
    "    zs = np.linspace(p_WG_pre[2], p_WG_post[2], interp_steps)\n",
    "    interp_points = np.vstack((xs, ys, zs)).T\n",
    "\n",
    "    poses = []\n",
    "    for i in range(interp_steps):\n",
    "        if rotate is None:\n",
    "            rotation = X_WG.rotation()\n",
    "        else:\n",
    "            rotation = X_WG.rotation().MakeXRotation(np.pi / 2).MakeYRotation(np.pi / 2)\n",
    "        p_WG = interp_points[i]\n",
    "        poses.append(RigidTransform(rotation, p_WG))\n",
    "    return poses\n",
    "\n",
    "def move_arm(p_WG_post, simulator, station, context, poses=None, time_interval=0.5, frame=\"iiwa_link_6\", arc_height=0.01):\n",
    "    \"\"\"\n",
    "    Move the arm to a new location. If the arm is in contact with an object, stop moving.\n",
    "    @param: X_WG (numpy array): Allegro wrapper with current robot state.\n",
    "    @param: simulator (pydrake.systems.analysis.Simulator): Simulator object.\n",
    "    @param: station (pydrake.systems.framework.DiagramBuilder): DiagramBuilder containing the robot model.\n",
    "    @param: context (pydrake.systems.framework.Context): Context object.\n",
    "    @param: end_effector_poses (python_list): end_effector_poses[i] contains the desired pose of the end-effector at index i.\n",
    "    @param: time_interval (float): time interval for each step of the simulation.\n",
    "    @param: frame (string): name of the frame of the end-effector.\n",
    "\n",
    "    @return: The touched object and current contact params\n",
    "    \"\"\"    \n",
    "    plant = station.GetSubsystemByName(\"plant\")\n",
    "    plant_context = plant.GetMyContextFromRoot(context)\n",
    "    gripper = plant.GetBodyByName(frame)\n",
    "    X_WG = plant.EvalBodyPoseInWorld(plant_context, gripper)\n",
    "    if frame == \"iiwa_link_6\" and not poses:\n",
    "        end_effector_poses = interpolate_locations(X_WG, p_WG_post, interp_steps=16, arc_height=arc_height)\n",
    "    elif not poses:\n",
    "        end_effector_poses = interpolate_locations(X_WG, p_WG_post, interp_steps=16, arc_height=arc_height, rotate=True)\n",
    "    else:\n",
    "        end_effector_poses = poses\n",
    "        \n",
    "    X_WG_full = station.GetOutputPort(\"iiwa+allegro.state_estimated\").Eval(context)\n",
    "    trajectory = optimize_arm_movement(X_WG_full, station, end_effector_poses, frame=frame)\n",
    "\n",
    "    arm_trajectory = trajectory[:, :7]\n",
    "    all_contacts = set()\n",
    "    for state_update in arm_trajectory:\n",
    "        new_state = X_WG_full.copy()\n",
    "        new_state[:len(state_update)] = state_update\n",
    "        station.GetInputPort(\"iiwa+allegro.desired_state\").FixValue(context, new_state)\n",
    "        simulator_steps = 25\n",
    "        for i in range(simulator_steps):\n",
    "            simulator.AdvanceTo(context.get_time() + time_interval / simulator_steps)\n",
    "            # Check for contact\n",
    "            current_contact = contact.get_contacts(station, context)\n",
    "            for p_WC in current_contact:\n",
    "                all_contacts.add(tuple(p_WC))\n",
    "    return"
   ]
  },
  {
   "cell_type": "code",
   "execution_count": 127,
   "metadata": {},
   "outputs": [],
   "source": [
    "def make_box_grip(box_location, box_rotation, allegro, station, context):\n",
    "    # Do IK to get specific hand links (the end effectors) to pre-specified grasp points on the box\n",
    "    # Grasp points are specified in the world frame\n",
    "\n",
    "    # Get the box pose in the world frame\n",
    "    p_W_box = box_location\n",
    "    box_size = [0.08700, 0.0700, 0.026000]\n",
    "    #box_size = [0.075, 0.05, 0.05]\n",
    "    \n",
    "    # Get frames of the hand links in the world frame\n",
    "    plant = station.GetSubsystemByName(\"plant\")\n",
    "    plant_context = plant.GetMyContextFromRoot(context)\n",
    "    world_frame = plant.world_frame()\n",
    "    \n",
    "    thumb_link = plant.GetBodyByName(allegro.link_ids[\"thumb_1\"])\n",
    "    index_link = plant.GetBodyByName(allegro.link_ids[\"index_2\"])\n",
    "    middle_link = plant.GetBodyByName(allegro.link_ids[\"middle_2\"])\n",
    "    pinky_link = plant.GetBodyByName(allegro.link_ids[\"pinky_2\"])\n",
    "\n",
    "    # Specify grasp points in the world frame\n",
    "    p_W_thumb = p_W_box + np.array([-box_size[0] // 2, 0, 0])\n",
    "    p_W_index = p_W_box + np.array([box_size[0] // 2, box_size[1] // 2, 0])\n",
    "    p_W_middle = p_W_box + np.array([box_size[0] // 2, 0, 0])\n",
    "    p_W_pinky = p_W_box + np.array([box_size[0] // 2, -box_size[1] // 2, 0])\n",
    "    \n",
    "    print(p_W_thumb, p_W_index, p_W_middle, p_W_pinky)\n",
    "    # Generate IK constraints for each link\n",
    "    ik = inverse_kinematics.InverseKinematics(plant)\n",
    "    def add_ik_constraint(link, p_WQ):\n",
    "        ik.AddPositionConstraint(\n",
    "            frameA=world_frame,\n",
    "            frameB=link.body_frame(),\n",
    "            p_BQ=np.zeros(3),\n",
    "            p_AQ_lower=p_WQ + np.array([-0.02, -0.02, -0.02]),\n",
    "            p_AQ_upper=p_WQ + np.array([0.02, 0.02, 0.02])\n",
    "        )\n",
    "\n",
    "    add_ik_constraint(thumb_link, p_W_thumb)\n",
    "    add_ik_constraint(index_link, p_W_index)\n",
    "    add_ik_constraint(middle_link, p_W_middle)\n",
    "    add_ik_constraint(pinky_link, p_W_pinky)    \n",
    "\n",
    "    q_variables = ik.q()  # Get variables for MathematicalProgram\n",
    "    prog = ik.prog()  # Get MathematicalProgram\n",
    "    estimated_state = station.GetOutputPort(\"iiwa+allegro.state_estimated\").Eval(context)\n",
    "    q_nominal = np.concatenate([estimated_state[:7], np.ones(23)])\n",
    "    prog.AddQuadraticErrorCost(np.identity(len(q_variables)), q_nominal, q_variables)\n",
    "\n",
    "    result_found = False\n",
    "    for i in range(1000):\n",
    "        prog.SetInitialGuess(q_variables, q_nominal)\n",
    "        result = Solve(prog)\n",
    "        if result.is_success():\n",
    "            result_found = True\n",
    "            break\n",
    "\n",
    "    if not result_found:\n",
    "        raise RuntimeError(\"Inverse kinematics failed.\")\n",
    "\n",
    "    solution = result.GetSolution(q_variables)\n",
    "\n",
    "    solution = np.concatenate([solution, np.zeros(16)])\n",
    "    station.GetInputPort(\"iiwa+allegro.desired_state\").FixValue(context, solution)\n",
    "    simulator_steps = 100\n",
    "    time_interval = 1.\n",
    "    for i in range(simulator_steps):\n",
    "        simulator.AdvanceTo(context.get_time() + time_interval / simulator_steps)"
   ]
  },
  {
   "cell_type": "code",
   "execution_count": 153,
   "metadata": {},
   "outputs": [],
   "source": [
    "#p_W_brick = [np.random.uniform(0.4, 0.75), np.random.uniform(-0.35, 0.35), 0.01]\n",
    "#R_W_brick = None\n",
    "\n",
    "p_W_brick = [0.75, 0.0, 0.05]\n",
    "R_W_brick = [90, 0, 90]\n",
    "meshcat, station, simulator, context, p_W_brick, R_W_brick = scene.init_scenario(brick_location=p_W_brick, brick_rotation=R_W_brick, meshcat=meshcat)\n",
    "\n",
    "allegro = AllegroWrapper.AllegroHand(station, context)\n",
    "simulator.set_target_realtime_rate(1.0)\n",
    "x0 = station.GetOutputPort(\"iiwa+allegro.state_estimated\").Eval(context)\n",
    "# scene.render_station_diagram(station)\n",
    "\n",
    "def reset_arm(station, simulator, context, x0):\n",
    "    station.GetInputPort(\"iiwa+allegro.desired_state\").FixValue(context, x0)\n",
    "    simulator.AdvanceTo(context.get_time() + 1)\n"
   ]
  },
  {
   "cell_type": "code",
   "execution_count": 15,
   "metadata": {},
   "outputs": [],
   "source": [
    "reset_arm(station, simulator, context, x0)"
   ]
  },
  {
   "cell_type": "code",
   "execution_count": 71,
   "metadata": {},
   "outputs": [
    {
     "ename": "RuntimeError",
     "evalue": "Inverse kinematics failed.",
     "output_type": "error",
     "traceback": [
      "\u001b[0;31m---------------------------------------------------------------------------\u001b[0m",
      "\u001b[0;31mRuntimeError\u001b[0m                              Traceback (most recent call last)",
      "Cell \u001b[0;32mIn[71], line 25\u001b[0m\n\u001b[1;32m     21\u001b[0m     poses\u001b[38;5;241m.\u001b[39mappend(RigidTransform(rotation, translation))\n\u001b[1;32m     24\u001b[0m move_arm(p_WG_post, simulator, station, context, poses\u001b[38;5;241m=\u001b[39m\u001b[38;5;28;01mNone\u001b[39;00m, time_interval\u001b[38;5;241m=\u001b[39m\u001b[38;5;241m0.5\u001b[39m, frame\u001b[38;5;241m=\u001b[39m\u001b[38;5;124m\"\u001b[39m\u001b[38;5;124miiwa_link_6\u001b[39m\u001b[38;5;124m\"\u001b[39m, arc_height\u001b[38;5;241m=\u001b[39m\u001b[38;5;241m0.01\u001b[39m)\n\u001b[0;32m---> 25\u001b[0m \u001b[43mmove_arm\u001b[49m\u001b[43m(\u001b[49m\u001b[43mp_WG_post\u001b[49m\u001b[43m,\u001b[49m\u001b[43m \u001b[49m\u001b[43msimulator\u001b[49m\u001b[43m,\u001b[49m\u001b[43m \u001b[49m\u001b[43mstation\u001b[49m\u001b[43m,\u001b[49m\u001b[43m \u001b[49m\u001b[43mcontext\u001b[49m\u001b[43m,\u001b[49m\u001b[43m \u001b[49m\u001b[43mposes\u001b[49m\u001b[38;5;241;43m=\u001b[39;49m\u001b[43mposes\u001b[49m\u001b[43m,\u001b[49m\u001b[43m \u001b[49m\u001b[43mtime_interval\u001b[49m\u001b[38;5;241;43m=\u001b[39;49m\u001b[38;5;241;43m0.5\u001b[39;49m\u001b[43m,\u001b[49m\u001b[43m \u001b[49m\u001b[43mframe\u001b[49m\u001b[38;5;241;43m=\u001b[39;49m\u001b[38;5;124;43m\"\u001b[39;49m\u001b[38;5;124;43mhand_root\u001b[39;49m\u001b[38;5;124;43m\"\u001b[39;49m\u001b[43m,\u001b[49m\u001b[43m \u001b[49m\u001b[43marc_height\u001b[49m\u001b[38;5;241;43m=\u001b[39;49m\u001b[38;5;241;43m0.01\u001b[39;49m\u001b[43m)\u001b[49m\n\u001b[1;32m     26\u001b[0m \u001b[38;5;66;03m#allegro.set_positions([\"thumb_revolute_z\"], [.9])\u001b[39;00m\n\u001b[1;32m     27\u001b[0m \u001b[38;5;66;03m#simulator.AdvanceTo(context.get_time() + .5)\u001b[39;00m\n\u001b[1;32m     28\u001b[0m \u001b[38;5;66;03m#allegro.close_hand()\u001b[39;00m\n\u001b[1;32m     29\u001b[0m simulator\u001b[38;5;241m.\u001b[39mAdvanceTo(context\u001b[38;5;241m.\u001b[39mget_time() \u001b[38;5;241m+\u001b[39m \u001b[38;5;241m.5\u001b[39m)\n",
      "Cell \u001b[0;32mIn[30], line 131\u001b[0m, in \u001b[0;36mmove_arm\u001b[0;34m(p_WG_post, simulator, station, context, poses, time_interval, frame, arc_height)\u001b[0m\n\u001b[1;32m    128\u001b[0m     end_effector_poses \u001b[38;5;241m=\u001b[39m poses\n\u001b[1;32m    130\u001b[0m X_WG_full \u001b[38;5;241m=\u001b[39m station\u001b[38;5;241m.\u001b[39mGetOutputPort(\u001b[38;5;124m\"\u001b[39m\u001b[38;5;124miiwa+allegro.state_estimated\u001b[39m\u001b[38;5;124m\"\u001b[39m)\u001b[38;5;241m.\u001b[39mEval(context)\n\u001b[0;32m--> 131\u001b[0m trajectory \u001b[38;5;241m=\u001b[39m \u001b[43moptimize_arm_movement\u001b[49m\u001b[43m(\u001b[49m\u001b[43mX_WG_full\u001b[49m\u001b[43m,\u001b[49m\u001b[43m \u001b[49m\u001b[43mstation\u001b[49m\u001b[43m,\u001b[49m\u001b[43m \u001b[49m\u001b[43mend_effector_poses\u001b[49m\u001b[43m,\u001b[49m\u001b[43m \u001b[49m\u001b[43mframe\u001b[49m\u001b[38;5;241;43m=\u001b[39;49m\u001b[43mframe\u001b[49m\u001b[43m)\u001b[49m\n\u001b[1;32m    133\u001b[0m arm_trajectory \u001b[38;5;241m=\u001b[39m trajectory[:, :\u001b[38;5;241m7\u001b[39m]\n\u001b[1;32m    134\u001b[0m all_contacts \u001b[38;5;241m=\u001b[39m \u001b[38;5;28mset\u001b[39m()\n",
      "Cell \u001b[0;32mIn[30], line 83\u001b[0m, in \u001b[0;36moptimize_arm_movement\u001b[0;34m(X_WG, station, end_effector_poses, frame)\u001b[0m\n\u001b[1;32m     80\u001b[0m             \u001b[38;5;28;01mbreak\u001b[39;00m\n\u001b[1;32m     82\u001b[0m     \u001b[38;5;28;01mif\u001b[39;00m \u001b[38;5;129;01mnot\u001b[39;00m result_found:\n\u001b[0;32m---> 83\u001b[0m         \u001b[38;5;28;01mraise\u001b[39;00m \u001b[38;5;167;01mRuntimeError\u001b[39;00m(\u001b[38;5;124m\"\u001b[39m\u001b[38;5;124mInverse kinematics failed.\u001b[39m\u001b[38;5;124m\"\u001b[39m)\n\u001b[1;32m     85\u001b[0m     q_knots\u001b[38;5;241m.\u001b[39mappend(result\u001b[38;5;241m.\u001b[39mGetSolution(q_variables))\n\u001b[1;32m     87\u001b[0m \u001b[38;5;28;01mreturn\u001b[39;00m np\u001b[38;5;241m.\u001b[39marray(q_knots)\n",
      "\u001b[0;31mRuntimeError\u001b[0m: Inverse kinematics failed."
     ]
    }
   ],
   "source": [
    "####################\n",
    "# Finger Walking\n",
    "####################\n",
    "reset_arm(station, simulator, context, x0)\n",
    "plant = station.GetSubsystemByName(\"plant\")\n",
    "gripper = plant.GetBodyByName(\"hand_root\")\n",
    "plant_context = plant.GetMyContextFromRoot(context)\n",
    "\n",
    "X_WG = plant.EvalBodyPoseInWorld(plant_context, gripper)\n",
    "p_WG_pre = plant.EvalBodyPoseInWorld(plant_context, gripper).translation()\n",
    "#p_WG_post = RigidTransform(RotationMatrix().MakeZRotation(90), [p_WG_pre[0], p_WG_pre[1], -0.02])\n",
    "p_WG_post = [0.5, 0, 0.2]\n",
    "\n",
    "allegro.set_positions([\"thumb_revolute_y\", \"thumb_revolute_z\", \"thumb_1\"], [1.2, 0.5, 0.5])\n",
    "simulator.AdvanceTo(context.get_time() + 0.5)\n",
    "\n",
    "poses = []\n",
    "for i in range(15):\n",
    "    translation = [p_WG_post[0] - 0.01 * i, p_WG_post[1], p_WG_post[2]]\n",
    "    rotation = RotationMatrix().MakeXRotation(np.pi)\n",
    "    poses.append(RigidTransform(rotation, translation))\n",
    "    \n",
    "\n",
    "move_arm(p_WG_post, simulator, station, context, poses=None, time_interval=0.5, frame=\"iiwa_link_6\", arc_height=0.01)\n",
    "move_arm(p_WG_post, simulator, station, context, poses=poses, time_interval=0.5, frame=\"hand_root\", arc_height=0.01)\n",
    "#allegro.set_positions([\"thumb_revolute_z\"], [.9])\n",
    "#simulator.AdvanceTo(context.get_time() + .5)\n",
    "#allegro.close_hand()\n",
    "simulator.AdvanceTo(context.get_time() + .5)\n"
   ]
  },
  {
   "cell_type": "code",
   "execution_count": 73,
   "metadata": {},
   "outputs": [
    {
     "ename": "RuntimeError",
     "evalue": "Inverse kinematics failed.",
     "output_type": "error",
     "traceback": [
      "\u001b[0;31m---------------------------------------------------------------------------\u001b[0m",
      "\u001b[0;31mRuntimeError\u001b[0m                              Traceback (most recent call last)",
      "Cell \u001b[0;32mIn[73], line 23\u001b[0m\n\u001b[1;32m     20\u001b[0m poses \u001b[38;5;241m=\u001b[39m \u001b[38;5;28mlist\u001b[39m(\u001b[38;5;28mreversed\u001b[39m(poses))\n\u001b[1;32m     22\u001b[0m move_arm(poses[\u001b[38;5;241m0\u001b[39m]\u001b[38;5;241m.\u001b[39mtranslation(), simulator, station, context, poses\u001b[38;5;241m=\u001b[39m\u001b[38;5;28;01mNone\u001b[39;00m, time_interval\u001b[38;5;241m=\u001b[39m\u001b[38;5;241m0.5\u001b[39m, frame\u001b[38;5;241m=\u001b[39m\u001b[38;5;124m\"\u001b[39m\u001b[38;5;124miiwa_link_6\u001b[39m\u001b[38;5;124m\"\u001b[39m, arc_height\u001b[38;5;241m=\u001b[39m\u001b[38;5;241m0.01\u001b[39m)\n\u001b[0;32m---> 23\u001b[0m \u001b[43mmove_arm\u001b[49m\u001b[43m(\u001b[49m\u001b[43mp_WG_post\u001b[49m\u001b[43m,\u001b[49m\u001b[43m \u001b[49m\u001b[43msimulator\u001b[49m\u001b[43m,\u001b[49m\u001b[43m \u001b[49m\u001b[43mstation\u001b[49m\u001b[43m,\u001b[49m\u001b[43m \u001b[49m\u001b[43mcontext\u001b[49m\u001b[43m,\u001b[49m\u001b[43m \u001b[49m\u001b[43mposes\u001b[49m\u001b[38;5;241;43m=\u001b[39;49m\u001b[43mposes\u001b[49m\u001b[43m,\u001b[49m\u001b[43m \u001b[49m\u001b[43mtime_interval\u001b[49m\u001b[38;5;241;43m=\u001b[39;49m\u001b[38;5;241;43m0.5\u001b[39;49m\u001b[43m,\u001b[49m\u001b[43m \u001b[49m\u001b[43mframe\u001b[49m\u001b[38;5;241;43m=\u001b[39;49m\u001b[38;5;124;43m\"\u001b[39;49m\u001b[38;5;124;43mhand_root\u001b[39;49m\u001b[38;5;124;43m\"\u001b[39;49m\u001b[43m,\u001b[49m\u001b[43m \u001b[49m\u001b[43marc_height\u001b[49m\u001b[38;5;241;43m=\u001b[39;49m\u001b[38;5;241;43m0.01\u001b[39;49m\u001b[43m)\u001b[49m\n\u001b[1;32m     24\u001b[0m \u001b[38;5;66;03m#allegro.set_positions([\"thumb_revolute_z\"], [.9])\u001b[39;00m\n\u001b[1;32m     25\u001b[0m \u001b[38;5;66;03m#simulator.AdvanceTo(context.get_time() + .5)\u001b[39;00m\n\u001b[1;32m     26\u001b[0m \u001b[38;5;66;03m#allegro.close_hand()\u001b[39;00m\n\u001b[1;32m     27\u001b[0m simulator\u001b[38;5;241m.\u001b[39mAdvanceTo(context\u001b[38;5;241m.\u001b[39mget_time() \u001b[38;5;241m+\u001b[39m \u001b[38;5;241m.5\u001b[39m)\n",
      "Cell \u001b[0;32mIn[30], line 131\u001b[0m, in \u001b[0;36mmove_arm\u001b[0;34m(p_WG_post, simulator, station, context, poses, time_interval, frame, arc_height)\u001b[0m\n\u001b[1;32m    128\u001b[0m     end_effector_poses \u001b[38;5;241m=\u001b[39m poses\n\u001b[1;32m    130\u001b[0m X_WG_full \u001b[38;5;241m=\u001b[39m station\u001b[38;5;241m.\u001b[39mGetOutputPort(\u001b[38;5;124m\"\u001b[39m\u001b[38;5;124miiwa+allegro.state_estimated\u001b[39m\u001b[38;5;124m\"\u001b[39m)\u001b[38;5;241m.\u001b[39mEval(context)\n\u001b[0;32m--> 131\u001b[0m trajectory \u001b[38;5;241m=\u001b[39m \u001b[43moptimize_arm_movement\u001b[49m\u001b[43m(\u001b[49m\u001b[43mX_WG_full\u001b[49m\u001b[43m,\u001b[49m\u001b[43m \u001b[49m\u001b[43mstation\u001b[49m\u001b[43m,\u001b[49m\u001b[43m \u001b[49m\u001b[43mend_effector_poses\u001b[49m\u001b[43m,\u001b[49m\u001b[43m \u001b[49m\u001b[43mframe\u001b[49m\u001b[38;5;241;43m=\u001b[39;49m\u001b[43mframe\u001b[49m\u001b[43m)\u001b[49m\n\u001b[1;32m    133\u001b[0m arm_trajectory \u001b[38;5;241m=\u001b[39m trajectory[:, :\u001b[38;5;241m7\u001b[39m]\n\u001b[1;32m    134\u001b[0m all_contacts \u001b[38;5;241m=\u001b[39m \u001b[38;5;28mset\u001b[39m()\n",
      "Cell \u001b[0;32mIn[30], line 83\u001b[0m, in \u001b[0;36moptimize_arm_movement\u001b[0;34m(X_WG, station, end_effector_poses, frame)\u001b[0m\n\u001b[1;32m     80\u001b[0m             \u001b[38;5;28;01mbreak\u001b[39;00m\n\u001b[1;32m     82\u001b[0m     \u001b[38;5;28;01mif\u001b[39;00m \u001b[38;5;129;01mnot\u001b[39;00m result_found:\n\u001b[0;32m---> 83\u001b[0m         \u001b[38;5;28;01mraise\u001b[39;00m \u001b[38;5;167;01mRuntimeError\u001b[39;00m(\u001b[38;5;124m\"\u001b[39m\u001b[38;5;124mInverse kinematics failed.\u001b[39m\u001b[38;5;124m\"\u001b[39m)\n\u001b[1;32m     85\u001b[0m     q_knots\u001b[38;5;241m.\u001b[39mappend(result\u001b[38;5;241m.\u001b[39mGetSolution(q_variables))\n\u001b[1;32m     87\u001b[0m \u001b[38;5;28;01mreturn\u001b[39;00m np\u001b[38;5;241m.\u001b[39marray(q_knots)\n",
      "\u001b[0;31mRuntimeError\u001b[0m: Inverse kinematics failed."
     ]
    }
   ],
   "source": [
    "reset_arm(station, simulator, context, x0)\n",
    "plant = station.GetSubsystemByName(\"plant\")\n",
    "gripper = plant.GetBodyByName(\"hand_root\")\n",
    "plant_context = plant.GetMyContextFromRoot(context)\n",
    "\n",
    "X_WG = plant.EvalBodyPoseInWorld(plant_context, gripper)\n",
    "p_WG_pre = plant.EvalBodyPoseInWorld(plant_context, gripper).translation()\n",
    "#p_WG_post = RigidTransform(RotationMatrix().MakeZRotation(90), [p_WG_pre[0], p_WG_pre[1], -0.02])\n",
    "p_WG_post = [0.5, 0, 0.2]\n",
    "\n",
    "allegro.set_positions([\"thumb_revolute_y\", \"thumb_revolute_z\", \"thumb_1\"], [1.2, 0.5, 0.5])\n",
    "simulator.AdvanceTo(context.get_time() + 0.5)\n",
    "\n",
    "poses = []\n",
    "for i in range(15):\n",
    "    translation = [p_WG_post[0] - 0.01 * i, p_WG_post[1], p_WG_post[2]]\n",
    "    rotation = RotationMatrix().MakeXRotation(np.pi)\n",
    "    poses.append(RigidTransform(rotation, translation))\n",
    "    \n",
    "poses = list(reversed(poses))\n",
    "\n",
    "move_arm(poses[0].translation(), simulator, station, context, poses=None, time_interval=0.5, frame=\"iiwa_link_6\", arc_height=0.01)\n",
    "move_arm(p_WG_post, simulator, station, context, poses=poses, time_interval=0.5, frame=\"hand_root\", arc_height=0.01)\n",
    "#allegro.set_positions([\"thumb_revolute_z\"], [.9])\n",
    "#simulator.AdvanceTo(context.get_time() + .5)\n",
    "#allegro.close_hand()\n",
    "simulator.AdvanceTo(context.get_time() + .5)\n"
   ]
  },
  {
   "cell_type": "code",
   "execution_count": 92,
   "metadata": {},
   "outputs": [],
   "source": [
    "reset_arm(station, simulator, context, x0)\n",
    "plant = station.GetSubsystemByName(\"plant\")\n",
    "gripper = plant.GetBodyByName(\"hand_root\")\n",
    "plant_context = plant.GetMyContextFromRoot(context)\n",
    "\n",
    "X_WG = plant.EvalBodyPoseInWorld(plant_context, gripper)\n",
    "p_WG_pre = plant.EvalBodyPoseInWorld(plant_context, gripper).translation()\n",
    "#p_WG_post = RigidTransform(RotationMatrix().MakeZRotation(90), [p_WG_pre[0], p_WG_pre[1], -0.02])\n",
    "p_WG_post = [0.4, 0, 0.2]\n",
    "\n",
    "allegro.set_positions([\"thumb_revolute_y\", \"thumb_revolute_z\", \"thumb_1\"], [1.2, 0.5, 0.5])\n",
    "simulator.AdvanceTo(context.get_time() + 0.5)\n",
    "\n",
    "poses = []\n",
    "for i in range(10):\n",
    "    translation = [p_WG_post[0] - 0.01 * i, p_WG_post[1], p_WG_post[2]]\n",
    "    rotation = RotationMatrix().MakeXRotation(np.pi)\n",
    "    poses.append(RigidTransform(rotation, translation))\n",
    "    \n",
    "poses = list(reversed(poses))\n",
    "\n",
    "move_arm(poses[0].translation(), simulator, station, context, poses=[poses[0]], time_interval=0.5, frame=\"iiwa_link_6\", arc_height=0.01)\n",
    "# move_arm(p_WG_post, simulator, station, context, poses=poses, time_interval=0.5, frame=\"hand_root\", arc_height=0.01)\n",
    "#allegro.set_positions([\"thumb_revolute_z\"], [.9])\n",
    "#simulator.AdvanceTo(context.get_time() + .5)\n",
    "#allegro.close_hand()\n",
    "\n",
    "for i in range(10):\n",
    "    allegro.moonwalk_index_lead()\n",
    "    simulator.AdvanceTo(context.get_time() + .5)\n",
    "    allegro.moonwalk_index_back()\n",
    "    simulator.AdvanceTo(context.get_time() + .5)\n",
    "    forward_joint = 3\n",
    "\n",
    "    # # Move iiwa forward\n",
    "    # current_state = station.GetOutputPort(\"iiwa+allegro.state_estimated\").Eval(context)\n",
    "    # current_state[forward_joint] += 0.05\n",
    "    # current_state[5] += 0.05\n",
    "    # station.GetInputPort(\"iiwa+allegro.desired_state\").FixValue(context, current_state)\n",
    "    # simulator.AdvanceTo(context.get_time() + .5)\n",
    "\n",
    "    allegro.moonwalk_middle_lead()\n",
    "    simulator.AdvanceTo(context.get_time() + .5)\n",
    "    allegro.moonwalk_middle_back()\n",
    "    simulator.AdvanceTo(context.get_time() + .5)\n",
    "\n",
    "    # # Move iiwa forward\n",
    "    # current_state = station.GetOutputPort(\"iiwa+allegro.state_estimated\").Eval(context)\n",
    "    # current_state[forward_joint] += 0.05\n",
    "    # current_state[5] += 0.05\n",
    "    # station.GetInputPort(\"iiwa+allegro.desired_state\").FixValue(context, current_state)\n",
    "    # simulator.AdvanceTo(context.get_time() + .5)\n",
    "    \n",
    "    allegro.moonwalk_pinky_lead()\n",
    "    simulator.AdvanceTo(context.get_time() + .1)\n",
    "    allegro.moonwalk_pinky_back()\n",
    "    simulator.AdvanceTo(context.get_time() + .1)\n",
    "    \n",
    "    # Move iiwa forward\n",
    "    current_state = station.GetOutputPort(\"iiwa+allegro.state_estimated\").Eval(context)\n",
    "    current_state[forward_joint] += 0.05\n",
    "    current_state[5] += 0.05\n",
    "    current_state[1] += 0.01\n",
    "    station.GetInputPort(\"iiwa+allegro.desired_state\").FixValue(context, current_state)\n",
    "    simulator.AdvanceTo(context.get_time() + .5)\n"
   ]
  },
  {
   "cell_type": "code",
   "execution_count": 155,
   "metadata": {},
   "outputs": [],
   "source": [
    "move_arm(p_WG_pre, simulator, station, context, time_interval=0.5, frame=\"iiwa_link_6\", arc_height=0.01)"
   ]
  },
  {
   "cell_type": "code",
   "execution_count": 132,
   "metadata": {},
   "outputs": [
    {
     "name": "stdout",
     "output_type": "stream",
     "text": [
      "[-0.25  0.    0.05] [0.75 0.   0.05] [0.75 0.   0.05] [ 0.75 -1.    0.05]\n"
     ]
    },
    {
     "ename": "RuntimeError",
     "evalue": "Inverse kinematics failed.",
     "output_type": "error",
     "traceback": [
      "\u001b[0;31m---------------------------------------------------------------------------\u001b[0m",
      "\u001b[0;31mRuntimeError\u001b[0m                              Traceback (most recent call last)",
      "Cell \u001b[0;32mIn[132], line 1\u001b[0m\n\u001b[0;32m----> 1\u001b[0m \u001b[43mmake_box_grip\u001b[49m\u001b[43m(\u001b[49m\u001b[43mp_W_brick\u001b[49m\u001b[43m,\u001b[49m\u001b[43m \u001b[49m\u001b[43mR_W_brick\u001b[49m\u001b[43m,\u001b[49m\u001b[43m \u001b[49m\u001b[43mallegro\u001b[49m\u001b[43m,\u001b[49m\u001b[43m \u001b[49m\u001b[43mstation\u001b[49m\u001b[43m,\u001b[49m\u001b[43m \u001b[49m\u001b[43mcontext\u001b[49m\u001b[43m)\u001b[49m\n\u001b[1;32m      2\u001b[0m simulator\u001b[38;5;241m.\u001b[39mAdvanceTo(context\u001b[38;5;241m.\u001b[39mget_time() \u001b[38;5;241m+\u001b[39m \u001b[38;5;241m1\u001b[39m)\n\u001b[1;32m      3\u001b[0m move_arm(p_WG_pre, simulator, station, context, time_interval\u001b[38;5;241m=\u001b[39m\u001b[38;5;241m0.5\u001b[39m, frame\u001b[38;5;241m=\u001b[39m\u001b[38;5;124m\"\u001b[39m\u001b[38;5;124mhand_root\u001b[39m\u001b[38;5;124m\"\u001b[39m, arc_height\u001b[38;5;241m=\u001b[39m\u001b[38;5;241m0.01\u001b[39m)\n",
      "Cell \u001b[0;32mIn[127], line 58\u001b[0m, in \u001b[0;36mmake_box_grip\u001b[0;34m(box_location, box_rotation, allegro, station, context)\u001b[0m\n\u001b[1;32m     55\u001b[0m         \u001b[38;5;28;01mbreak\u001b[39;00m\n\u001b[1;32m     57\u001b[0m \u001b[38;5;28;01mif\u001b[39;00m \u001b[38;5;129;01mnot\u001b[39;00m result_found:\n\u001b[0;32m---> 58\u001b[0m     \u001b[38;5;28;01mraise\u001b[39;00m \u001b[38;5;167;01mRuntimeError\u001b[39;00m(\u001b[38;5;124m\"\u001b[39m\u001b[38;5;124mInverse kinematics failed.\u001b[39m\u001b[38;5;124m\"\u001b[39m)\n\u001b[1;32m     60\u001b[0m solution \u001b[38;5;241m=\u001b[39m result\u001b[38;5;241m.\u001b[39mGetSolution(q_variables)\n\u001b[1;32m     62\u001b[0m solution \u001b[38;5;241m=\u001b[39m np\u001b[38;5;241m.\u001b[39mconcatenate([solution, np\u001b[38;5;241m.\u001b[39mzeros(\u001b[38;5;241m16\u001b[39m)])\n",
      "\u001b[0;31mRuntimeError\u001b[0m: Inverse kinematics failed."
     ]
    }
   ],
   "source": [
    "\n",
    "make_box_grip(p_W_brick, R_W_brick, allegro, station, context)\n",
    "simulator.AdvanceTo(context.get_time() + 1)\n",
    "move_arm(p_WG_pre, simulator, station, context, time_interval=0.5, frame=\"hand_root\", arc_height=0.01)\n"
   ]
  },
  {
   "cell_type": "code",
   "execution_count": 60,
   "metadata": {},
   "outputs": [
    {
     "data": {
      "text/plain": [
       "RotationMatrix([\n",
       "  [0.9996541431539786, 0.007020243955324362, 0.025343840472464574],\n",
       "  [-0.00701367217911951, 0.9999753432800637, -0.0003481874250376038],\n",
       "  [-0.025345659937153875, 0.00017031361319899232, 0.9996787326514575],\n",
       "])"
      ]
     },
     "execution_count": 60,
     "metadata": {},
     "output_type": "execute_result"
    }
   ],
   "source": [
    "X_WG.rotation()"
   ]
  },
  {
   "cell_type": "code",
   "execution_count": 151,
   "metadata": {},
   "outputs": [
    {
     "data": {
      "text/plain": [
       "RigidTransform(\n",
       "  R=RotationMatrix([\n",
       "    [-0.09021568530711165, -0.030771656225939803, 0.9954467516134058],\n",
       "    [0.008957714387879847, -0.999507194059979, -0.030085351506888233],\n",
       "    [0.9958819656352424, 0.006202757085396569, 0.09044687018922322],\n",
       "  ]),\n",
       "  p=[0.26503932022056576, -0.00888072687266526, 0.7128243501800458],\n",
       ")"
      ]
     },
     "execution_count": 151,
     "metadata": {},
     "output_type": "execute_result"
    }
   ],
   "source": [
    "station.GetOutputPort(\"body_poses\").Eval(context)[6]"
   ]
  },
  {
   "cell_type": "code",
   "execution_count": 152,
   "metadata": {},
   "outputs": [
    {
     "ename": "TypeError",
     "evalue": "GetFixedPoseInBodyFrame(): incompatible function arguments. The following argument types are supported:\n    1. (self: pydrake.multibody.tree.Frame) -> pydrake.math.RigidTransform\n    2. (self: pydrake.multibody.tree.Frame) -> pydrake.math.RigidTransform\n\nInvoked with: <BodyFrame name='iiwa_link_6' index=7 model_instance=2>, <pydrake.systems.framework.LeafContext object at 0x15600d230>",
     "output_type": "error",
     "traceback": [
      "\u001b[0;31m---------------------------------------------------------------------------\u001b[0m",
      "\u001b[0;31mTypeError\u001b[0m                                 Traceback (most recent call last)",
      "Cell \u001b[0;32mIn[152], line 1\u001b[0m\n\u001b[0;32m----> 1\u001b[0m \u001b[43mplant\u001b[49m\u001b[38;5;241;43m.\u001b[39;49m\u001b[43mGetBodyByName\u001b[49m\u001b[43m(\u001b[49m\u001b[38;5;124;43m\"\u001b[39;49m\u001b[38;5;124;43miiwa_link_6\u001b[39;49m\u001b[38;5;124;43m\"\u001b[39;49m\u001b[43m)\u001b[49m\u001b[38;5;241;43m.\u001b[39;49m\u001b[43mbody_frame\u001b[49m\u001b[43m(\u001b[49m\u001b[43m)\u001b[49m\u001b[38;5;241;43m.\u001b[39;49m\u001b[43mGetFixedPoseInBodyFrame\u001b[49m\u001b[43m(\u001b[49m\u001b[43mplant_context\u001b[49m\u001b[43m)\u001b[49m\n",
      "\u001b[0;31mTypeError\u001b[0m: GetFixedPoseInBodyFrame(): incompatible function arguments. The following argument types are supported:\n    1. (self: pydrake.multibody.tree.Frame) -> pydrake.math.RigidTransform\n    2. (self: pydrake.multibody.tree.Frame) -> pydrake.math.RigidTransform\n\nInvoked with: <BodyFrame name='iiwa_link_6' index=7 model_instance=2>, <pydrake.systems.framework.LeafContext object at 0x15600d230>"
     ]
    }
   ],
   "source": [
    "plant.GetBodyByName(\"iiwa_link_6\").body_frame().GetFixedPoseInBodyFrame(plant_context)"
   ]
  },
  {
   "cell_type": "code",
   "execution_count": 39,
   "metadata": {},
   "outputs": [
    {
     "data": {
      "text/plain": [
       "array([[ 6.23897108e-01,  6.52843052e-02, -3.54828327e-07],\n",
       "       [ 6.62806992e-01,  6.99062311e-02, -1.60340233e-05],\n",
       "       [ 5.09089070e-01,  4.95168755e-02, -1.24869511e-04],\n",
       "       [ 4.60982275e-01,  1.18640410e-01, -9.92332021e-04],\n",
       "       [ 4.60630810e-01,  1.20183633e-01, -9.81958293e-04],\n",
       "       [ 6.68096023e-01,  1.81247187e-02, -1.29082907e-05],\n",
       "       [ 6.27666443e-01, -5.89975599e-02, -5.60820181e-07],\n",
       "       [ 6.66682288e-01, -6.12066078e-02, -1.23313829e-05]])"
      ]
     },
     "execution_count": 39,
     "metadata": {},
     "output_type": "execute_result"
    }
   ],
   "source": [
    "\n",
    "contact.get_contacts(station, context)"
   ]
  }
 ],
 "metadata": {
  "kernelspec": {
   "display_name": "Python 3.11.5 ('drake_env': venv)",
   "language": "python",
   "name": "python3"
  },
  "language_info": {
   "codemirror_mode": {
    "name": "ipython",
    "version": 3
   },
   "file_extension": ".py",
   "mimetype": "text/x-python",
   "name": "python",
   "nbconvert_exporter": "python",
   "pygments_lexer": "ipython3",
   "version": "3.11.5"
  },
  "orig_nbformat": 4,
  "vscode": {
   "interpreter": {
    "hash": "a3a58c6867cb66131d0bfe5a5f9b20b5d7637deda1e9bd90477c03cc28f30e93"
   }
  }
 },
 "nbformat": 4,
 "nbformat_minor": 2
}
