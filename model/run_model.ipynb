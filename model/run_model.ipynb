{
 "cells": [
  {
   "cell_type": "code",
   "execution_count": 1,
   "metadata": {},
   "outputs": [],
   "source": [
    "%load_ext autoreload\n",
    "%autoreload 2\n",
    "\n",
    "import numpy as np\n",
    "import pydot\n",
    "import os\n",
    "import matplotlib.pyplot as plt\n",
    "import copy\n",
    "import time\n",
    "from collections import Counter\n",
    "import scene\n",
    "import AllegroWrapper\n",
    "import contact\n",
    "import motion_planning\n",
    "import search\n",
    "import visualizations\n",
    "from pydrake.all import StartMeshcat, RigidTransform, RotationMatrix\n",
    "from manipulation.utils import ConfigureParser"
   ]
  },
  {
   "cell_type": "code",
   "execution_count": 2,
   "metadata": {},
   "outputs": [],
   "source": [
    "meshcat = None"
   ]
  },
  {
   "cell_type": "code",
   "execution_count": 3,
   "metadata": {},
   "outputs": [
    {
     "name": "stderr",
     "output_type": "stream",
     "text": [
      "INFO:drake:Meshcat listening for connections at http://localhost:7002\n"
     ]
    }
   ],
   "source": [
    "p_W_brick = [0.6, -0.3, 0.015] #[np.random.uniform(0.4, 0.75), np.random.uniform(-0.35, 0.35), 0.01]\n",
    "R_W_brick = [0, 0, np.random.randint(0, 360)]\n",
    "meshcat, station, simulator, context, p_W_brick, R_W_brick = scene.init_scenario(brick_location=p_W_brick, brick_rotation=R_W_brick, meshcat=meshcat)\n",
    "\n",
    "allegro = AllegroWrapper.AllegroHand(station, context)\n",
    "simulator.set_target_realtime_rate(1.0)\n",
    "x0 = station.GetOutputPort(\"iiwa+allegro.state_estimated\").Eval(context)\n",
    "# scene.render_station_diagram(station)\n",
    "\n",
    "def reset_arm(station, simulator, context, x0):\n",
    "    station.GetInputPort(\"iiwa+allegro.desired_state\").FixValue(context, x0)\n",
    "    simulator.AdvanceTo(context.get_time() + 1)\n",
    "\n",
    "reset_arm(station, simulator, context, x0)"
   ]
  },
  {
   "cell_type": "code",
   "execution_count": 5,
   "metadata": {},
   "outputs": [],
   "source": [
    "def investigate(simulator, station, p_W_obj, all_touched_points):\n",
    "    \"\"\"\n",
    "    Given contact with an object, sample a number of contact locations nearby and \n",
    "    plan a trajectory with a finger to the object, in order to build up a point cloud\n",
    "    of the object for pose estimation\n",
    "    \"\"\"\n",
    "    context = simulator.get_mutable_context()   \n",
    "    plant = station.GetSubsystemByName(\"plant\")\n",
    "    gripper = plant.GetBodyByName(\"hand_root\") # tip of the index finger\n",
    "    plant_context = plant.GetMyContextFromRoot(context)\n",
    "\n",
    "    def raise_hand(amount):\n",
    "        iiwa_body = plant.GetBodyByName(\"hand_root\")\n",
    "        X_WG = plant.EvalBodyPoseInWorld(plant_context, iiwa_body)\n",
    "\n",
    "        start_pos = np.array(X_WG.translation())\n",
    "        end_pos = start_pos + np.array([0, 0, amount])\n",
    "        print(start_pos, end_pos)\n",
    "        # Linear interpolation in Z-axis\n",
    "        interp_positions = np.linspace(start_pos, end_pos, 5)\n",
    "        print(interp_positions)\n",
    "        # Generate list of RigidTransform objects\n",
    "        pose_list = [RigidTransform(X_WG.rotation(), pos) for pos in interp_positions]\n",
    "\n",
    "        obj_touched, new_contacts, p_W_obj = motion_planning.move_arm(end_pos, \n",
    "                                                simulator, \n",
    "                                                station, \n",
    "                                                context, \n",
    "                                                time_interval=0.4, \n",
    "                                                poses=pose_list,\n",
    "                                                frame=\"hand_root\", \n",
    "                                                arc_height=0.2,\n",
    "                                                stop_on_contact=False,\n",
    "                                                freeze_fingers=False,\n",
    "                                                position_tol=np.array([0.1, 0.1, 0.01])\n",
    "                                                )\n",
    "        print(\"Raised arm up!\")\n",
    "        return None\n",
    "\n",
    "    raise_hand(.2)\n",
    "    simulator.AdvanceTo(context.get_time() + 1)\n",
    "\n",
    "    num_samples = 20\n",
    "    nearby_x = np.random.uniform(p_W_obj[0] - 0.05, p_W_obj[0] + 0.05, num_samples)\n",
    "    nearby_y = np.random.uniform(p_W_obj[1] - 0.05, p_W_obj[1] + 0.05, num_samples)\n",
    "    nearby_z = np.ones(num_samples) * p_W_obj[2]\n",
    "\n",
    "    nearby_points = np.vstack((nearby_x, nearby_y, nearby_z)).T\n",
    "    for point in nearby_points:\n",
    "        obj_touched, new_contacts, p_W_obj = motion_planning.move_arm(point, \n",
    "                                                simulator, \n",
    "                                                station, \n",
    "                                                context, \n",
    "                                                time_interval=0.4, \n",
    "                                                frame=\"link_2\", \n",
    "                                                arc_height=0.2,\n",
    "                                                stop_on_contact=True,\n",
    "                                                freeze_fingers=False,\n",
    "                                                state_update_len=23,\n",
    "                                                simulator_steps=100,\n",
    "                                                position_tol=[0.01, 0.01, 0.01])\n",
    "        for contact in new_contacts:\n",
    "            all_touched_points.add(tuple(contact))   \n",
    "\n",
    "        # raise_hand(0.5)\n",
    "        simulator.AdvanceTo(context.get_time() + .25)\n",
    "        \n",
    "    return all_touched_points"
   ]
  },
  {
   "cell_type": "code",
   "execution_count": 6,
   "metadata": {},
   "outputs": [
    {
     "name": "stdout",
     "output_type": "stream",
     "text": [
      "Table height:  -0.0005481044961132379\n",
      "Object found! Location at:  [ 0.61554279 -0.27478185  0.04874894]\n",
      "Actual object location:  [0.6, -0.3, 0.015]\n",
      "Difference:  0.02962319112654896\n"
     ]
    }
   ],
   "source": [
    "def run_search(station, frame = \"hand_root\", object_bias=None):\n",
    "    reset_arm(station, simulator, context, x0)\n",
    "    plant = station.GetSubsystemByName(\"plant\")\n",
    "    all_touched_points = set()\n",
    "\n",
    "    # Get initial pose of the gripper by using default context of manip station.\n",
    "    gripper = plant.GetBodyByName(frame)\n",
    "    plant_context = plant.GetMyContextFromRoot(context)\n",
    "    \n",
    "    X_WG = plant.EvalBodyPoseInWorld(plant_context, gripper)\n",
    "    table_end_effector_poses = contact.get_table_contact(X_WG)\n",
    "    p_WG_post = table_end_effector_poses[-1].translation()\n",
    "       \n",
    "    obj_touched, new_contacts, p_W_obj = motion_planning.move_arm(p_WG_post, simulator, station, context, time_interval=0.4, frame=frame)\n",
    "    touch_history = []\n",
    "\n",
    "    if obj_touched == \"table\":\n",
    "        table_height = min(new_contacts[:, 2])\n",
    "        touched_point = new_contacts[np.random.choice(np.arange(len(new_contacts)))]\n",
    "        print(\"Table height: \", table_height)\n",
    "    else:\n",
    "        print(\"Table not found\")\n",
    "\n",
    "    touch_history.append(touched_point[:2])\n",
    "    for point in new_contacts:\n",
    "        all_touched_points.add(tuple(point))\n",
    "\n",
    "    i = 0\n",
    "    while obj_touched != \"object\":\n",
    "        if i > 30:\n",
    "            break\n",
    "        i += 1\n",
    "        \n",
    "        next_touch = search.sample_new_target(touch_history, bias_position=object_bias, object_radius=0.03)\n",
    "        next_point = [next_touch[0], next_touch[1], table_height]\n",
    "        touch_history.append(next_touch)\n",
    "        \n",
    "        #next_point = p_W_brick\n",
    "        X_WG = plant.EvalBodyPoseInWorld(plant_context, gripper)\n",
    "\n",
    "        # NOTE: This can change if there's biases in the search algorithm, based on the object's height and expected distance from the gripper\n",
    "        # NOTE: We might also modify it based on some energy constraint, to minimize movement costs\n",
    "        obj_touched, new_contacts, p_W_obj = motion_planning.move_arm(next_point, \n",
    "                                                simulator, \n",
    "                                                station, \n",
    "                                                context, \n",
    "                                                time_interval=0.4, \n",
    "                                                frame=frame, \n",
    "                                                stop_on_contact=True,\n",
    "                                                arc_height=0.2)\n",
    "                                                \n",
    "        for point in new_contacts:\n",
    "            all_touched_points.add(tuple(point))\n",
    "\n",
    "        X_WG = plant.EvalBodyPoseInWorld(plant_context, gripper)\n",
    "        #fig = visualizations.plot_2d_search(X_WG.translation(), all_touched_points, next_touch, object_bias, p_W_brick)\n",
    "        #plt.show()\n",
    "\n",
    "    print(\"Object found! Location at: \", p_W_obj)\n",
    "    print(\"Actual object location: \", p_W_brick)\n",
    "    print(\"Difference: \", np.linalg.norm(np.array(p_W_obj)[:2] - np.array(p_W_brick[:2])))\n",
    "    return all_touched_points, p_W_obj\n",
    "\n",
    "all_touched_points, object_contact = run_search(station, object_bias=[p_W_brick[0], p_W_brick[1]])"
   ]
  },
  {
   "cell_type": "code",
   "execution_count": 7,
   "metadata": {},
   "outputs": [],
   "source": [
    "# reset_arm(station, simulator, context, x0)\n",
    "# allegro.set_positions([\"thumb_revolute_z\"], [1.0])\n"
   ]
  },
  {
   "cell_type": "code",
   "execution_count": 8,
   "metadata": {},
   "outputs": [
    {
     "name": "stdout",
     "output_type": "stream",
     "text": [
      "[ 0.61811263 -0.22195504  0.05120234] [ 0.61811263 -0.22195504  0.25120234]\n",
      "[[ 0.61811263 -0.22195504  0.05120234]\n",
      " [ 0.61811263 -0.22195504  0.10120234]\n",
      " [ 0.61811263 -0.22195504  0.15120234]\n",
      " [ 0.61811263 -0.22195504  0.20120234]\n",
      " [ 0.61811263 -0.22195504  0.25120234]]\n",
      "Raised arm up!\n"
     ]
    }
   ],
   "source": [
    "all_touched_points = investigate(simulator, station, object_contact, all_touched_points)"
   ]
  },
  {
   "cell_type": "code",
   "execution_count": 9,
   "metadata": {},
   "outputs": [
    {
     "data": {
      "text/plain": [
       "array([[ 0.64472937, -0.28855893,  0.04893513],\n",
       "       [ 0.64461625, -0.28862616,  0.04904841],\n",
       "       [ 0.60236364, -0.2693819 ,  0.04906034],\n",
       "       [ 0.63251734, -0.31515526,  0.04900669],\n",
       "       [ 0.64462956, -0.28863196,  0.04903859],\n",
       "       [ 0.64470303, -0.28857633,  0.04895829],\n",
       "       [ 0.64471522, -0.28856995,  0.04894798],\n",
       "       [ 0.64469249, -0.28858033,  0.04896994],\n",
       "       [ 0.6445744 , -0.28882987,  0.048976  ],\n",
       "       [ 0.64461269, -0.28863032,  0.04905256],\n",
       "       [ 0.64461056, -0.28863723,  0.04905575],\n",
       "       [ 0.6447656 , -0.28853045,  0.0489099 ],\n",
       "       [ 0.64473313, -0.28855777,  0.04893187],\n",
       "       [ 0.64474538, -0.28854814,  0.04892273],\n",
       "       [ 0.6182588 , -0.27561848,  0.04655889]])"
      ]
     },
     "execution_count": 9,
     "metadata": {},
     "output_type": "execute_result"
    }
   ],
   "source": [
    "p_WC = np.array(list(all_touched_points))\n",
    "p_WC[np.where(p_WC[:, 2] > 0.01)]"
   ]
  },
  {
   "cell_type": "code",
   "execution_count": 10,
   "metadata": {},
   "outputs": [
    {
     "name": "stdout",
     "output_type": "stream",
     "text": [
      "[[ 0.64472937 -0.28855893  0.04893513]\n",
      " [ 0.64461625 -0.28862616  0.04904841]\n",
      " [ 0.60236364 -0.2693819   0.04906034]\n",
      " [ 0.63251734 -0.31515526  0.04900669]\n",
      " [ 0.64462956 -0.28863196  0.04903859]\n",
      " [ 0.64470303 -0.28857633  0.04895829]\n",
      " [ 0.64471522 -0.28856995  0.04894798]\n",
      " [ 0.64469249 -0.28858033  0.04896994]\n",
      " [ 0.6445744  -0.28882987  0.048976  ]\n",
      " [ 0.64461269 -0.28863032  0.04905256]\n",
      " [ 0.64461056 -0.28863723  0.04905575]\n",
      " [ 0.6447656  -0.28853045  0.0489099 ]\n",
      " [ 0.64473313 -0.28855777  0.04893187]\n",
      " [ 0.64474538 -0.28854814  0.04892273]\n",
      " [ 0.6182588  -0.27561848  0.04655889]]\n"
     ]
    },
    {
     "data": {
      "text/plain": [
       "<matplotlib.collections.PathCollection at 0x127b6f3d0>"
      ]
     },
     "execution_count": 10,
     "metadata": {},
     "output_type": "execute_result"
    },
    {
     "data": {
      "image/png": "[encoded data removed]",
      "text/plain": [
       "<Figure size 640x480 with 1 Axes>"
      ]
     },
     "metadata": {},
     "output_type": "display_data"
    }
   ],
   "source": [
    "pc = np.array(list(all_touched_points))\n",
    "box_points = pc[np.where(pc[:, 2] > 0.01)]\n",
    "print(box_points)\n",
    "plt.scatter(box_points[:, 0], box_points[:, 1])"
   ]
  },
  {
   "cell_type": "code",
   "execution_count": 11,
   "metadata": {},
   "outputs": [],
   "source": [
    "def fit_plane_to_points(points):\n",
    "    \"\"\"\n",
    "    Fits a plane to a set of points using PCA and returns the plane's normal.\n",
    "\n",
    "    Args:\n",
    "        points (np.array): Nx3 array of 3D points.\n",
    "\n",
    "    Returns:\n",
    "        normal (np.array): The normal vector of the fitted plane.\n",
    "    \"\"\"\n",
    "\n",
    "    centroid = np.mean(points, axis=0)\n",
    "    centered_points = points - centroid\n",
    "    covariance_matrix = np.cov(centered_points.T)\n",
    "    eigenvalues, eigenvectors = np.linalg.eig(covariance_matrix)\n",
    "\n",
    "    # The normal of the plane is the eigenvector corresponding to the smallest eigenvalue\n",
    "    sorted_indices = np.argsort(np.abs(eigenvalues)) \n",
    "    max_eigenvectors = eigenvectors[:, sorted_indices[-2:]]\n",
    "\n",
    "    return max_eigenvectors"
   ]
  },
  {
   "cell_type": "code",
   "execution_count": 12,
   "metadata": {},
   "outputs": [
    {
     "name": "stdout",
     "output_type": "stream",
     "text": [
      "Estimated object location:  0.6392844977885105 -0.28822887079170384 0.04882487122264333\n",
      "(2, 3)\n",
      "Estimated angle:  195.42211971271632\n"
     ]
    }
   ],
   "source": [
    "x_est_W = np.mean(box_points[:, 0])\n",
    "y_est_W = np.mean(box_points[:, 1])\n",
    "z_est_W = np.mean(box_points[:, 2])\n",
    "print(\"Estimated object location: \", x_est_W, y_est_W, z_est_W)\n",
    "\n",
    "# Estimate Orientation by fitting a plane to the points\n",
    "orientation = fit_plane_to_points(box_points).T\n",
    "print(orientation.shape)\n",
    "x1, y1 = orientation[0][:2]\n",
    "x2, y2 = orientation[1][:2]\n",
    "angle = np.rad2deg(np.arctan((y2 - y1) / (x2 - x1))) + 180\n",
    "\n",
    "print(\"Estimated angle: \", angle)\n"
   ]
  },
  {
   "cell_type": "code",
   "execution_count": 13,
   "metadata": {},
   "outputs": [
    {
     "name": "stdout",
     "output_type": "stream",
     "text": [
      "Actual position and Angle:  [0.6, -0.3, 0.015] [0, 0, 3]\n"
     ]
    }
   ],
   "source": [
    "print(\"Actual position and Angle: \", p_W_brick, R_W_brick)"
   ]
  },
  {
   "cell_type": "code",
   "execution_count": 14,
   "metadata": {},
   "outputs": [],
   "source": [
    "# allegro.close_hand()\n",
    "# simulator.AdvanceTo(context.get_time() + 1)\n",
    "                                            "
   ]
  },
  {
   "cell_type": "code",
   "execution_count": 15,
   "metadata": {},
   "outputs": [],
   "source": [
    "# allegro.open_hand()\n",
    "# simulator.AdvanceTo(context.get_time() + 1)\n"
   ]
  },
  {
   "cell_type": "code",
   "execution_count": 16,
   "metadata": {},
   "outputs": [],
   "source": [
    "frame = \"hand_root\"\n",
    "plant = station.GetSubsystemByName(\"plant\")\n",
    "plant_context = plant.GetMyContextFromRoot(context)\n",
    "world_frame = plant.world_frame()\n",
    "X_WG = plant.EvalBodyPoseInWorld(plant_context, plant.GetBodyByName(frame))\n"
   ]
  },
  {
   "cell_type": "code",
   "execution_count": 17,
   "metadata": {},
   "outputs": [],
   "source": [
    "def raise_hand(amount):\n",
    "        iiwa_body = plant.GetBodyByName(\"hand_root\")\n",
    "        X_WG = plant.EvalBodyPoseInWorld(plant_context, iiwa_body)\n",
    "\n",
    "        start_pos = np.array(X_WG.translation())\n",
    "        end_pos = start_pos + np.array([0, 0, amount])\n",
    "        print(start_pos, end_pos)\n",
    "        # Linear interpolation in Z-axis\n",
    "        interp_positions = np.linspace(start_pos, end_pos, 5)\n",
    "        print(interp_positions)\n",
    "        # Generate list of RigidTransform objects\n",
    "        pose_list = [RigidTransform(X_WG.rotation(), pos) for pos in interp_positions]\n",
    "\n",
    "        obj_touched, new_contacts, p_W_obj = motion_planning.move_arm(end_pos, \n",
    "                                                simulator, \n",
    "                                                station, \n",
    "                                                context, \n",
    "                                                time_interval=0.4, \n",
    "                                                poses=pose_list,\n",
    "                                                frame=\"hand_root\", \n",
    "                                                arc_height=0.2,\n",
    "                                                stop_on_contact=False,\n",
    "                                                freeze_fingers=False,\n",
    "                                                position_tol=np.array([0.1, 0.1, 0.01])\n",
    "                                                )"
   ]
  },
  {
   "cell_type": "code",
   "execution_count": 21,
   "metadata": {},
   "outputs": [
    {
     "name": "stdout",
     "output_type": "stream",
     "text": [
      "[ 0.43253328 -0.32879114  0.12829914] [ 0.43253328 -0.32879114  0.32829914]\n",
      "[[ 0.43253328 -0.32879114  0.12829914]\n",
      " [ 0.43253328 -0.32879114  0.17829914]\n",
      " [ 0.43253328 -0.32879114  0.22829914]\n",
      " [ 0.43253328 -0.32879114  0.27829914]\n",
      " [ 0.43253328 -0.32879114  0.32829914]]\n"
     ]
    },
    {
     "data": {
      "text/plain": [
       "<pydrake.systems.analysis.SimulatorStatus at 0x133dd4a70>"
      ]
     },
     "execution_count": 21,
     "metadata": {},
     "output_type": "execute_result"
    }
   ],
   "source": [
    "raise_hand(0.2)\n",
    "\n",
    "# Open hand\n",
    "allegro.open_hand()\n",
    "simulator.AdvanceTo(context.get_time() + .5)\n",
    "allegro.set_positions([\"thumb_revolute_z\", \"thumb_revolute_y\", \"thumb_1\", \"thumb_2\"], [1.5, .9, 1.2, 0.5])\n",
    "simulator.AdvanceTo(context.get_time() + .5)\n",
    "\n",
    "\n",
    "# Position Hand in pre-grasp mode\n",
    "R_WG = X_WG.rotation()\n",
    "X_Wbrick_estimated = RigidTransform(RotationMatrix().MakeZRotation(angle), [x_est_W, y_est_W, z_est_W])\n",
    "\n",
    "X_BG = X_Wbrick_estimated.inverse().multiply(copy.deepcopy(X_WG))\n",
    "offset_BGripper = np.array([-0.05, 0.0, 0.05])\n",
    "p_BG_pre = X_BG.translation() + offset_BGripper\n",
    "R_BG_pre = X_BG.rotation().MakeXRotation(np.pi / 2).MakeYRotation(np.pi / 2)\n",
    "\n",
    "X_BG_pre = RigidTransform(R_BG_pre, p_BG_pre)\n",
    "X_WG_pre = X_Wbrick_estimated.multiply(X_BG_pre)\n",
    "\n",
    "pose_list = [X_WG_pre]\n",
    "\n",
    "_, _, _ = motion_planning.move_arm(None, \n",
    "                                    simulator, \n",
    "                                    station, \n",
    "                                    context, \n",
    "                                    poses=pose_list,\n",
    "                                    time_interval=1, \n",
    "                                    frame=frame, \n",
    "                                    stop_on_contact=False,\n",
    "                                    arc_height=0.2)\n",
    "\n",
    "\n",
    "# Move hand down\n",
    "X_WG_pick = copy.deepcopy(X_WG_pre)\n",
    "X_WG_pick.set_translation(X_WG_pick.translation() + np.array([0, 0, -0.1]))\n",
    "pose_list = [X_WG_pick]\n",
    "\n",
    "simulator.AdvanceTo(context.get_time() + 1)\n",
    "_, _, _ = motion_planning.move_arm(None, \n",
    "                                    simulator, \n",
    "                                    station, \n",
    "                                    context, \n",
    "                                    poses=pose_list,\n",
    "                                    time_interval=1, \n",
    "                                    frame=frame, \n",
    "                                    arc_height=0.2\n",
    "                                )\n",
    "simulator.AdvanceTo(context.get_time() + 1)\n"
   ]
  },
  {
   "cell_type": "code",
   "execution_count": 25,
   "metadata": {},
   "outputs": [
    {
     "data": {
      "text/plain": [
       "<pydrake.systems.analysis.SimulatorStatus at 0x28ae108b0>"
      ]
     },
     "execution_count": 25,
     "metadata": {},
     "output_type": "execute_result"
    }
   ],
   "source": [
    "\n",
    "# Close hand\n",
    "simulator.AdvanceTo(context.get_time() + 1)\n",
    "allegro.close_hand()\n",
    "simulator.AdvanceTo(context.get_time() + 1)\n",
    "allegro.tighten_hand()\n",
    "simulator.AdvanceTo(context.get_time() + 1)\n",
    "X_WG_post = copy.deepcopy(X_WG_pick)\n",
    "X_WG_post.set_translation(X_WG_post.translation() + np.array([0, 0, 0.05]))\n",
    "pose_list = [X_WG_post]\n",
    "\n",
    "# allegro.tighten_hand()\n",
    "# simulator.AdvanceTo(context.get_time() + 1)\n",
    "\n",
    "# Try and pick the fucker up\n",
    "_, _, _ = motion_planning.move_arm(None, \n",
    "                                    simulator, \n",
    "                                    station, \n",
    "                                    context, \n",
    "                                    poses=pose_list,\n",
    "                                    time_interval=1, \n",
    "                                    frame=frame, \n",
    "                                    arc_height=0.2)\n",
    "simulator.AdvanceTo(context.get_time() + 1)                                   "
   ]
  },
  {
   "cell_type": "code",
   "execution_count": null,
   "metadata": {},
   "outputs": [],
   "source": []
  }
 ],
 "metadata": {
  "kernelspec": {
   "display_name": "Python 3.11.5 ('drake_env': venv)",
   "language": "python",
   "name": "python3"
  },
  "language_info": {
   "codemirror_mode": {
    "name": "ipython",
    "version": 3
   },
   "file_extension": ".py",
   "mimetype": "text/x-python",
   "name": "python",
   "nbconvert_exporter": "python",
   "pygments_lexer": "ipython3",
   "version": "3.11.5"
  },
  "orig_nbformat": 4,
  "vscode": {
   "interpreter": {
    "hash": "a3a58c6867cb66131d0bfe5a5f9b20b5d7637deda1e9bd90477c03cc28f30e93"
   }
  }
 },
 "nbformat": 4,
 "nbformat_minor": 2
}
