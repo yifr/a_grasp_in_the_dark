{
 "cells": [
  {
   "cell_type": "code",
   "execution_count": 2,
   "metadata": {},
   "outputs": [
    {
     "name": "stdout",
     "output_type": "stream",
     "text": [
      "The autoreload extension is already loaded. To reload it, use:\n",
      "  %reload_ext autoreload\n"
     ]
    }
   ],
   "source": [
    "%load_ext autoreload\n",
    "%autoreload 2\n",
    "\n",
    "import numpy as np\n",
    "import pydot\n",
    "import os\n",
    "import matplotlib.pyplot as plt\n",
    "import copy\n",
    "import time\n",
    "from collections import Counter\n",
    "import scene\n",
    "import AllegroWrapper\n",
    "import contact\n",
    "import motion_planning\n",
    "import search\n",
    "import visualizations\n",
    "from pydrake.all import StartMeshcat, RigidTransform, RotationMatrix\n",
    "from manipulation.utils import ConfigureParser"
   ]
  },
  {
   "cell_type": "code",
   "execution_count": 3,
   "metadata": {},
   "outputs": [],
   "source": [
    "meshcat = None"
   ]
  },
  {
   "cell_type": "code",
   "execution_count": 34,
   "metadata": {},
   "outputs": [],
   "source": [
    "p_W_brick = [0.65, -0.28, 0.015] #[np.random.uniform(0.4, 0.75), np.random.uniform(-0.35, 0.35), 0.01]\n",
    "R_W_brick = [0, 0, 274]\n",
    "meshcat, station, simulator, context, p_W_brick, R_W_brick = scene.init_scenario(brick_location=p_W_brick, brick_rotation=R_W_brick, meshcat=meshcat)\n",
    "\n",
    "allegro = AllegroWrapper.AllegroHand(station, context)\n",
    "simulator.set_target_realtime_rate(1.0)\n",
    "x0 = station.GetOutputPort(\"iiwa+allegro.state_estimated\").Eval(context)\n",
    "# scene.render_station_diagram(station)\n",
    "\n",
    "def reset_arm(station, simulator, context, x0):\n",
    "    station.GetInputPort(\"iiwa+allegro.desired_state\").FixValue(context, x0)\n",
    "    simulator.AdvanceTo(context.get_time() + 1)\n",
    "\n",
    "reset_arm(station, simulator, context, x0)"
   ]
  },
  {
   "cell_type": "code",
   "execution_count": 35,
   "metadata": {},
   "outputs": [],
   "source": [
    "def investigate(simulator, station, p_W_obj, all_touched_points):\n",
    "    \"\"\"\n",
    "    Given contact with an object, sample a number of contact locations nearby and \n",
    "    plan a trajectory with a finger to the object, in order to build up a point cloud\n",
    "    of the object for pose estimation\n",
    "    \"\"\"\n",
    "    context = simulator.get_mutable_context()   \n",
    "    plant = station.GetSubsystemByName(\"plant\")\n",
    "    gripper = plant.GetBodyByName(\"hand_root\") # tip of the index finger\n",
    "    plant_context = plant.GetMyContextFromRoot(context)\n",
    "\n",
    "    def raise_hand(amount):\n",
    "        iiwa_body = plant.GetBodyByName(\"hand_root\")\n",
    "        X_WG = plant.EvalBodyPoseInWorld(plant_context, iiwa_body)\n",
    "\n",
    "        start_pos = np.array(X_WG.translation())\n",
    "        end_pos = start_pos + np.array([0, 0, amount])\n",
    "        print(start_pos, end_pos)\n",
    "        # Linear interpolation in Z-axis\n",
    "        interp_positions = np.linspace(start_pos, end_pos, 5)\n",
    "        print(interp_positions)\n",
    "        # Generate list of RigidTransform objects\n",
    "        pose_list = [RigidTransform(X_WG.rotation(), pos) for pos in interp_positions]\n",
    "\n",
    "        obj_touched, new_contacts, p_W_obj = motion_planning.move_arm(end_pos, \n",
    "                                                simulator, \n",
    "                                                station, \n",
    "                                                context, \n",
    "                                                time_interval=0.4, \n",
    "                                                poses=pose_list,\n",
    "                                                frame=\"hand_root\", \n",
    "                                                arc_height=0.2,\n",
    "                                                stop_on_contact=False,\n",
    "                                                freeze_fingers=False,\n",
    "                                                position_tol=np.array([0.1, 0.1, 0.01])\n",
    "                                                )\n",
    "        print(\"Raised arm up!\")\n",
    "        return None\n",
    "\n",
    "    raise_hand(0.5)\n",
    "    simulator.AdvanceTo(context.get_time() + 1)\n",
    "\n",
    "    num_samples = 20\n",
    "    nearby_x = np.random.uniform(p_W_obj[0] - 0.09, p_W_obj[0] + 0.09, num_samples)\n",
    "    nearby_y = np.random.uniform(p_W_obj[1] - 0.09, p_W_obj[1] + 0.09, num_samples)\n",
    "    nearby_z = np.ones(num_samples) * p_W_obj[2]\n",
    "\n",
    "    nearby_points = np.vstack((nearby_x, nearby_y, nearby_z)).T\n",
    "    for point in nearby_points:\n",
    "        obj_touched, new_contacts, p_W_obj = motion_planning.move_arm(point, \n",
    "                                                simulator, \n",
    "                                                station, \n",
    "                                                context, \n",
    "                                                time_interval=0.4, \n",
    "                                                frame=\"link_2\", \n",
    "                                                arc_height=0.5,\n",
    "                                                stop_on_contact=True,\n",
    "                                                freeze_fingers=False,\n",
    "                                                state_update_len=23,\n",
    "                                                simulator_steps=1000,\n",
    "                                                position_tol=[0.01, 0.01, 0.01])\n",
    "        for contact in new_contacts:\n",
    "            all_touched_points.add(tuple(contact))   \n",
    "\n",
    "        # raise_hand(0.5)\n",
    "        simulator.AdvanceTo(context.get_time() + .25)\n",
    "        \n",
    "    return all_touched_points"
   ]
  },
  {
   "cell_type": "code",
   "execution_count": 36,
   "metadata": {},
   "outputs": [
    {
     "name": "stdout",
     "output_type": "stream",
     "text": [
      "Table height:  -0.0005481045260718378\n",
      "Object found! Location at:  [ 0.62674944 -0.24457775  0.04877561]\n",
      "Actual object location:  [0.65, -0.28, 0.015]\n",
      "Difference:  0.04237127172170303\n"
     ]
    }
   ],
   "source": [
    "def run_search(station, frame = \"hand_root\", object_bias=None):\n",
    "    reset_arm(station, simulator, context, x0)\n",
    "    plant = station.GetSubsystemByName(\"plant\")\n",
    "    all_touched_points = set()\n",
    "\n",
    "    # Get initial pose of the gripper by using default context of manip station.\n",
    "    gripper = plant.GetBodyByName(frame)\n",
    "    plant_context = plant.GetMyContextFromRoot(context)\n",
    "    \n",
    "    X_WG = plant.EvalBodyPoseInWorld(plant_context, gripper)\n",
    "    table_end_effector_poses = contact.get_table_contact(X_WG)\n",
    "    p_WG_post = table_end_effector_poses[-1].translation()\n",
    "       \n",
    "    obj_touched, new_contacts, p_W_obj = motion_planning.move_arm(p_WG_post, simulator, station, context, time_interval=0.4, frame=frame)\n",
    "    touch_history = []\n",
    "\n",
    "    if obj_touched == \"table\":\n",
    "        table_height = min(new_contacts[:, 2])\n",
    "        touched_point = new_contacts[np.random.choice(np.arange(len(new_contacts)))]\n",
    "        print(\"Table height: \", table_height)\n",
    "    else:\n",
    "        print(\"Table not found\")\n",
    "\n",
    "    touch_history.append(touched_point[:2])\n",
    "    for point in new_contacts:\n",
    "        all_touched_points.add(tuple(point))\n",
    "\n",
    "    i = 0\n",
    "    while obj_touched != \"object\":\n",
    "        if i > 30:\n",
    "            break\n",
    "        i += 1\n",
    "        \n",
    "        next_touch = search.sample_new_target(touch_history, bias_position=object_bias, object_radius=0.03)\n",
    "        next_point = [next_touch[0], next_touch[1], table_height]\n",
    "        touch_history.append(next_touch)\n",
    "        \n",
    "        #next_point = p_W_brick\n",
    "        X_WG = plant.EvalBodyPoseInWorld(plant_context, gripper)\n",
    "\n",
    "        # NOTE: This can change if there's biases in the search algorithm, based on the object's height and expected distance from the gripper\n",
    "        # NOTE: We might also modify it based on some energy constraint, to minimize movement costs\n",
    "        obj_touched, new_contacts, p_W_obj = motion_planning.move_arm(next_point, \n",
    "                                                simulator, \n",
    "                                                station, \n",
    "                                                context, \n",
    "                                                time_interval=0.4, \n",
    "                                                frame=frame, \n",
    "                                                stop_on_contact=True,\n",
    "                                                arc_height=0.2)\n",
    "                                                \n",
    "        for point in new_contacts:\n",
    "            all_touched_points.add(tuple(point))\n",
    "\n",
    "        X_WG = plant.EvalBodyPoseInWorld(plant_context, gripper)\n",
    "        #fig = visualizations.plot_2d_search(X_WG.translation(), all_touched_points, next_touch, object_bias, p_W_brick)\n",
    "        #plt.show()\n",
    "\n",
    "    print(\"Object found! Location at: \", p_W_obj)\n",
    "    print(\"Actual object location: \", p_W_brick)\n",
    "    print(\"Difference: \", np.linalg.norm(np.array(p_W_obj)[:2] - np.array(p_W_brick[:2])))\n",
    "    return all_touched_points, p_W_obj\n",
    "\n",
    "all_touched_points, object_contact = run_search(station, object_bias=[p_W_brick[0], p_W_brick[1]])"
   ]
  },
  {
   "cell_type": "code",
   "execution_count": 37,
   "metadata": {},
   "outputs": [],
   "source": [
    "# reset_arm(station, simulator, context, x0)\n",
    "# allegro.set_positions([\"thumb_revolute_z\"], [1.0])\n"
   ]
  },
  {
   "cell_type": "code",
   "execution_count": 38,
   "metadata": {},
   "outputs": [
    {
     "name": "stdout",
     "output_type": "stream",
     "text": [
      "[ 0.62498233 -0.23765418  0.05899313] [ 0.62498233 -0.23765418  0.55899313]\n",
      "[[ 0.62498233 -0.23765418  0.05899313]\n",
      " [ 0.62498233 -0.23765418  0.18399313]\n",
      " [ 0.62498233 -0.23765418  0.30899313]\n",
      " [ 0.62498233 -0.23765418  0.43399313]\n",
      " [ 0.62498233 -0.23765418  0.55899313]]\n",
      "Raised arm up!\n"
     ]
    }
   ],
   "source": [
    "all_touched_points = investigate(simulator, station, object_contact, all_touched_points)"
   ]
  },
  {
   "cell_type": "code",
   "execution_count": 39,
   "metadata": {},
   "outputs": [
    {
     "data": {
      "text/plain": [
       "array([[ 0.69701723, -0.27842136,  0.06327184],\n",
       "       [ 0.65827696, -0.2839196 ,  0.07849263],\n",
       "       [ 0.67132387, -0.28019479,  0.07147382],\n",
       "       [ 0.68530324, -0.32409871,  0.0813527 ],\n",
       "       [ 0.65949932, -0.28399281,  0.07896814],\n",
       "       [ 0.68233855, -0.32318067,  0.08124733],\n",
       "       [ 0.68281905, -0.32348685,  0.08124943],\n",
       "       [ 0.62549583, -0.24631882,  0.04892221],\n",
       "       [ 0.67886597, -0.31829935,  0.08080986],\n",
       "       [ 0.68574313, -0.32422258,  0.08134285],\n",
       "       [ 0.67721091, -0.31522571,  0.04898747],\n",
       "       [ 0.67200355, -0.28661946,  0.07431571],\n",
       "       [ 0.67332543, -0.28193237,  0.07247922],\n",
       "       [ 0.68023408, -0.32046414,  0.08137637],\n",
       "       [ 0.6729185 , -0.28148934,  0.07226078],\n",
       "       [ 0.66209193, -0.28423621,  0.07987392],\n",
       "       [ 0.68071331, -0.32103219,  0.08142343],\n",
       "       [ 0.68158031, -0.32207065,  0.08136805],\n",
       "       [ 0.68197491, -0.32260996,  0.08131109],\n",
       "       [ 0.67754159, -0.31375945,  0.0799897 ],\n",
       "       [ 0.66008141, -0.28403112,  0.07918346],\n",
       "       [ 0.67240386, -0.28106602,  0.07205746],\n",
       "       [ 0.68387737, -0.32372804,  0.08132465],\n",
       "       [ 0.66062073, -0.28407676,  0.07937799],\n",
       "       [ 0.6833583 , -0.3236065 ,  0.0812923 ],\n",
       "       [ 0.68115562, -0.32155572,  0.08141517],\n",
       "       [ 0.62674944, -0.24457775,  0.04877561],\n",
       "       [ 0.65888621, -0.28395817,  0.07873602],\n",
       "       [ 0.67965748, -0.31973196,  0.08121013],\n",
       "       [ 0.68437237, -0.32385114,  0.08134498],\n",
       "       [ 0.68484649, -0.32397487,  0.081354  ],\n",
       "       [ 0.68617413, -0.32434699,  0.08132507]])"
      ]
     },
     "execution_count": 39,
     "metadata": {},
     "output_type": "execute_result"
    }
   ],
   "source": [
    "p_WC = np.array(list(all_touched_points))\n",
    "p_WC[np.where(p_WC[:, 2] > 0.001)]"
   ]
  },
  {
   "cell_type": "code",
   "execution_count": 40,
   "metadata": {},
   "outputs": [
    {
     "name": "stdout",
     "output_type": "stream",
     "text": [
      "[[ 0.69701723 -0.27842136  0.06327184]\n",
      " [ 0.65827696 -0.2839196   0.07849263]\n",
      " [ 0.67132387 -0.28019479  0.07147382]\n",
      " [ 0.68530324 -0.32409871  0.0813527 ]\n",
      " [ 0.65949932 -0.28399281  0.07896814]\n",
      " [ 0.68233855 -0.32318067  0.08124733]\n",
      " [ 0.68281905 -0.32348685  0.08124943]\n",
      " [ 0.62549583 -0.24631882  0.04892221]\n",
      " [ 0.67886597 -0.31829935  0.08080986]\n",
      " [ 0.68574313 -0.32422258  0.08134285]\n",
      " [ 0.67721091 -0.31522571  0.04898747]\n",
      " [ 0.67200355 -0.28661946  0.07431571]\n",
      " [ 0.67332543 -0.28193237  0.07247922]\n",
      " [ 0.68023408 -0.32046414  0.08137637]\n",
      " [ 0.6729185  -0.28148934  0.07226078]\n",
      " [ 0.66209193 -0.28423621  0.07987392]\n",
      " [ 0.68071331 -0.32103219  0.08142343]\n",
      " [ 0.68158031 -0.32207065  0.08136805]\n",
      " [ 0.68197491 -0.32260996  0.08131109]\n",
      " [ 0.67754159 -0.31375945  0.0799897 ]\n",
      " [ 0.66008141 -0.28403112  0.07918346]\n",
      " [ 0.67240386 -0.28106602  0.07205746]\n",
      " [ 0.68387737 -0.32372804  0.08132465]\n",
      " [ 0.66062073 -0.28407676  0.07937799]\n",
      " [ 0.6833583  -0.3236065   0.0812923 ]\n",
      " [ 0.68115562 -0.32155572  0.08141517]\n",
      " [ 0.62674944 -0.24457775  0.04877561]\n",
      " [ 0.65888621 -0.28395817  0.07873602]\n",
      " [ 0.67965748 -0.31973196  0.08121013]\n",
      " [ 0.68437237 -0.32385114  0.08134498]\n",
      " [ 0.68484649 -0.32397487  0.081354  ]\n",
      " [ 0.68617413 -0.32434699  0.08132507]]\n"
     ]
    },
    {
     "data": {
      "text/plain": [
       "(-1.0, 1.0)"
      ]
     },
     "execution_count": 40,
     "metadata": {},
     "output_type": "execute_result"
    }
   ],
   "source": [
    "pc = np.array(list(all_touched_points))\n",
    "box_points = pc[np.where(pc[:, 2] > 0.0001)]\n",
    "print(box_points)\n",
    "plt.scatter(box_points[:, 0], box_points[:, 1])\n",
    "plt.scatter(p_W_brick[0], p_W_brick[1], c=\"r\", marker=\"x\")\n",
    "plt.xlim(-1, 1)\n",
    "plt.ylim(-1, 1)"
   ]
  },
  {
   "cell_type": "code",
   "execution_count": 41,
   "metadata": {},
   "outputs": [],
   "source": [
    "# generate 3D scatterplot of pointcloud + pointcloud of actual brick\n",
    "import matplotlib\n",
    "matplotlib.use('Qt5Agg')\n",
    "\n",
    "brick_size = [0.075, 0.05, 0.05]\n",
    "\n",
    "def generate_brick_pointcloud(p_W_brick, R_W_brick_deg, brick_size, points_per_side=10):\n",
    "    \"\"\"\n",
    "    Returns a pointcloud of a brick in world coordinates.\n",
    "    \n",
    "    p_W_brick: np.array: (3,) array with center of brick coordinates (in world coordinates)\n",
    "    R_W_brick: np.ndarray: (4, 4) rotation matrix for brick (in world coordinates)\n",
    "    brick_size: np.array: (3,) array with x, y, and z size\n",
    "    \"\"\"\n",
    "    # Generate a grid of points in the local frame of the brick\n",
    "    # Convert rotation from degrees to radians\n",
    "    rotation_radians = np.radians(R_W_brick_deg[2])\n",
    "\n",
    "    # Create rotation matrix for z-axis rotation\n",
    "    R_z = np.array([\n",
    "        [np.cos(rotation_radians), -np.sin(rotation_radians), 0],\n",
    "        [np.sin(rotation_radians), np.cos(rotation_radians), 0],\n",
    "        [0, 0, 1]\n",
    "    ])\n",
    "\n",
    "    # Generate a grid of points in the local frame of the brick\n",
    "    x = np.linspace(-brick_size[0]/2, brick_size[0]/2, points_per_side)\n",
    "    y = np.linspace(-brick_size[1]/2, brick_size[1]/2, points_per_side)\n",
    "    z = np.linspace(-brick_size[2]/2, brick_size[2]/2, points_per_side)\n",
    "    X, Y, Z = np.meshgrid(x, y, z)\n",
    "\n",
    "    # Flatten the grid to a list of points\n",
    "    points_local = np.vstack([X.ravel(), Y.ravel(), Z.ravel()]).T\n",
    "\n",
    "    # Apply rotation and translation to transform points to the world frame\n",
    "    points_world = np.dot(points_local, R_z.T) + p_W_brick\n",
    "\n",
    "    return points_world\n",
    "\n",
    "brick_points = generate_brick_pointcloud(p_W_brick, R_W_brick, brick_size)\n",
    "\n",
    "def visualize_pointcloud_results(box_points, brick_points):\n",
    "    from mpl_toolkits.mplot3d import Axes3D\n",
    "    fig = plt.figure()\n",
    "    ax = fig.add_subplot(111, projection='3d')\n",
    "\n",
    "    # Scatter plot for the brick point cloud\n",
    "    ax.scatter(brick_points[:, 0], brick_points[:, 1], brick_points[:, 2], c='r', marker='o', label='Brick Point Cloud')\n",
    "\n",
    "    # Scatter plot for the robot hand point cloud\n",
    "    ax.scatter(box_points[:, 0], box_points[:, 1], box_points[:, 2], c='b', marker='^', label='Estimated Point Cloud', s=100)\n",
    "\n",
    "    \n",
    "    ax.set_xlabel('X Label')\n",
    "    ax.set_ylabel('Y Label')\n",
    "    ax.set_zlabel('Z Label')\n",
    "\n",
    "visualize_pointcloud_results(box_points, brick_points)\n",
    "plt.show()\n"
   ]
  },
  {
   "cell_type": "code",
   "execution_count": null,
   "metadata": {},
   "outputs": [],
   "source": []
  },
  {
   "cell_type": "code",
   "execution_count": 110,
   "metadata": {},
   "outputs": [],
   "source": [
    "def fit_plane_to_points(points):\n",
    "    \"\"\"\n",
    "    Fits a plane to a set of points using PCA and returns the plane's normal.\n",
    "\n",
    "    Args:\n",
    "        points (np.array): Nx3 array of 3D points.\n",
    "\n",
    "    Returns:\n",
    "        normal (np.array): The normal vector of the fitted plane.\n",
    "    \"\"\"\n",
    "\n",
    "    centroid = np.mean(points, axis=0)\n",
    "    centered_points = points - centroid\n",
    "    covariance_matrix = np.cov(centered_points.T)\n",
    "    eigenvalues, eigenvectors = np.linalg.eig(covariance_matrix)\n",
    "\n",
    "    # The normal of the plane is the eigenvector corresponding to the smallest eigenvalue\n",
    "    sorted_indices = np.argsort(np.abs(eigenvalues)) \n",
    "    max_eigenvectors = eigenvectors[:, sorted_indices[-2:]]\n",
    "\n",
    "    return max_eigenvectors"
   ]
  },
  {
   "cell_type": "code",
   "execution_count": 111,
   "metadata": {},
   "outputs": [
    {
     "name": "stdout",
     "output_type": "stream",
     "text": [
      "Estimated object location:  0.6739495312234425 -0.29392092742599857 0.04883863236777456\n",
      "(2, 3)\n",
      "Estimated angle:  138.2922184020169\n"
     ]
    }
   ],
   "source": [
    "x_est_W = np.mean(box_points[:, 0])\n",
    "y_est_W = np.mean(box_points[:, 1])\n",
    "z_est_W = np.mean(box_points[:, 2])\n",
    "print(\"Estimated object location: \", x_est_W, y_est_W, z_est_W)\n",
    "\n",
    "# Estimate Orientation by fitting a plane to the points\n",
    "orientation = fit_plane_to_points(box_points).T\n",
    "print(orientation.shape)\n",
    "x1, y1 = orientation[0][:2]\n",
    "x2, y2 = orientation[1][:2]\n",
    "angle = np.rad2deg(np.arctan((y2 - y1) / (x2 - x1))) + 180\n",
    "\n",
    "print(\"Estimated angle: \", angle)\n"
   ]
  },
  {
   "cell_type": "code",
   "execution_count": 112,
   "metadata": {},
   "outputs": [
    {
     "name": "stdout",
     "output_type": "stream",
     "text": [
      "Actual position and Angle:  [0.65, -0.28, 0.015] [0, 0, 274]\n"
     ]
    }
   ],
   "source": [
    "print(\"Actual position and Angle: \", p_W_brick, R_W_brick)"
   ]
  },
  {
   "cell_type": "code",
   "execution_count": 113,
   "metadata": {},
   "outputs": [],
   "source": [
    "# allegro.close_hand()\n",
    "# simulator.AdvanceTo(context.get_time() + 1)\n",
    "                                            "
   ]
  },
  {
   "cell_type": "code",
   "execution_count": 114,
   "metadata": {},
   "outputs": [],
   "source": [
    "# allegro.open_hand()\n",
    "# simulator.AdvanceTo(context.get_time() + 1)\n"
   ]
  },
  {
   "cell_type": "code",
   "execution_count": 115,
   "metadata": {},
   "outputs": [],
   "source": [
    "frame = \"hand_root\"\n",
    "plant = station.GetSubsystemByName(\"plant\")\n",
    "plant_context = plant.GetMyContextFromRoot(context)\n",
    "world_frame = plant.world_frame()\n",
    "X_WG = plant.EvalBodyPoseInWorld(plant_context, plant.GetBodyByName(frame))\n"
   ]
  },
  {
   "cell_type": "code",
   "execution_count": 116,
   "metadata": {},
   "outputs": [],
   "source": [
    "def raise_hand(amount):\n",
    "        iiwa_body = plant.GetBodyByName(\"hand_root\")\n",
    "        X_WG = plant.EvalBodyPoseInWorld(plant_context, iiwa_body)\n",
    "\n",
    "        start_pos = np.array(X_WG.translation())\n",
    "        end_pos = start_pos + np.array([0, 0, amount])\n",
    "        print(start_pos, end_pos)\n",
    "        # Linear interpolation in Z-axis\n",
    "        interp_positions = np.linspace(start_pos, end_pos, 5)\n",
    "        print(interp_positions)\n",
    "        # Generate list of RigidTransform objects\n",
    "        pose_list = [RigidTransform(X_WG.rotation(), pos) for pos in interp_positions]\n",
    "\n",
    "        obj_touched, new_contacts, p_W_obj = motion_planning.move_arm(end_pos, \n",
    "                                                simulator, \n",
    "                                                station, \n",
    "                                                context, \n",
    "                                                time_interval=0.4, \n",
    "                                                poses=pose_list,\n",
    "                                                frame=\"hand_root\", \n",
    "                                                arc_height=0.2,\n",
    "                                                stop_on_contact=False,\n",
    "                                                freeze_fingers=False,\n",
    "                                                position_tol=np.array([0.1, 0.1, 0.01])\n",
    "                                                )"
   ]
  },
  {
   "cell_type": "code",
   "execution_count": 117,
   "metadata": {},
   "outputs": [
    {
     "name": "stdout",
     "output_type": "stream",
     "text": [
      "[ 0.51915296 -0.32727821  0.13005945] [ 0.51915296 -0.32727821  0.33005945]\n",
      "[[ 0.51915296 -0.32727821  0.13005945]\n",
      " [ 0.51915296 -0.32727821  0.18005945]\n",
      " [ 0.51915296 -0.32727821  0.23005945]\n",
      " [ 0.51915296 -0.32727821  0.28005945]\n",
      " [ 0.51915296 -0.32727821  0.33005945]]\n"
     ]
    },
    {
     "data": {
      "text/plain": [
       "<pydrake.systems.analysis.SimulatorStatus at 0x14a5e9eb0>"
      ]
     },
     "execution_count": 117,
     "metadata": {},
     "output_type": "execute_result"
    }
   ],
   "source": [
    "raise_hand(0.2)\n",
    "\n",
    "# Open hand\n",
    "allegro.open_hand()\n",
    "simulator.AdvanceTo(context.get_time() + .5)\n",
    "allegro.set_positions([\"thumb_revolute_z\", \"thumb_revolute_y\", \"thumb_1\", \"thumb_2\"], [1.5, .9, 1.2, 0.5])\n",
    "simulator.AdvanceTo(context.get_time() + .5)\n",
    "\n",
    "\n",
    "# Position Hand in pre-grasp mode\n",
    "R_WG = X_WG.rotation()\n",
    "X_Wbrick_estimated = RigidTransform(RotationMatrix().MakeZRotation(angle), [x_est_W, y_est_W, z_est_W])\n",
    "\n",
    "X_BG = X_Wbrick_estimated.inverse().multiply(copy.deepcopy(X_WG))\n",
    "offset_BGripper = np.array([-0.05, 0.0, 0.05])\n",
    "p_BG_pre = X_BG.translation() + offset_BGripper\n",
    "R_BG_pre = X_BG.rotation()\n",
    "\n",
    "X_BG_pre = RigidTransform(R_BG_pre, p_BG_pre)\n",
    "X_WG_pre = X_Wbrick_estimated.multiply(X_BG_pre)\n",
    "\n",
    "pose_list = [X_WG_pre]\n",
    "\n",
    "_, _, _ = motion_planning.move_arm(None, \n",
    "                                    simulator, \n",
    "                                    station, \n",
    "                                    context, \n",
    "                                    poses=pose_list,\n",
    "                                    time_interval=1, \n",
    "                                    frame=frame, \n",
    "                                    stop_on_contact=False,\n",
    "                                    arc_height=0.2)\n",
    "\n",
    "\n",
    "# Move hand down\n",
    "X_WG_pick = copy.deepcopy(X_WG_pre)\n",
    "X_WG_pick.set_translation(X_WG_pick.translation() + np.array([0, 0, -0.1]))\n",
    "pose_list = [X_WG_pick]\n",
    "\n",
    "simulator.AdvanceTo(context.get_time() + 1)\n",
    "_, _, _ = motion_planning.move_arm(None, \n",
    "                                    simulator, \n",
    "                                    station, \n",
    "                                    context, \n",
    "                                    poses=pose_list,\n",
    "                                    time_interval=1, \n",
    "                                    frame=frame, \n",
    "                                    arc_height=0.2\n",
    "                                )\n",
    "simulator.AdvanceTo(context.get_time() + 1)\n"
   ]
  },
  {
   "cell_type": "code",
   "execution_count": 118,
   "metadata": {},
   "outputs": [
    {
     "data": {
      "text/plain": [
       "<pydrake.systems.analysis.SimulatorStatus at 0x148c82530>"
      ]
     },
     "execution_count": 118,
     "metadata": {},
     "output_type": "execute_result"
    }
   ],
   "source": [
    "\n",
    "# Close hand\n",
    "simulator.AdvanceTo(context.get_time() + 1)\n",
    "allegro.close_hand()\n",
    "simulator.AdvanceTo(context.get_time() + 1)\n",
    "allegro.tighten_hand()\n",
    "simulator.AdvanceTo(context.get_time() + 1)\n",
    "X_WG_post = copy.deepcopy(X_WG_pick)\n",
    "X_WG_post.set_translation(X_WG_post.translation() + np.array([0, 0, 0.05]))\n",
    "pose_list = [X_WG_post]\n",
    "\n",
    "# allegro.tighten_hand()\n",
    "# simulator.AdvanceTo(context.get_time() + 1)\n",
    "\n",
    "# Try and pick the fucker up\n",
    "_, _, _ = motion_planning.move_arm(None, \n",
    "                                    simulator, \n",
    "                                    station, \n",
    "                                    context, \n",
    "                                    poses=pose_list,\n",
    "                                    time_interval=1, \n",
    "                                    frame=frame, \n",
    "                                    arc_height=0.2)\n",
    "simulator.AdvanceTo(context.get_time() + 1)                                   "
   ]
  },
  {
   "cell_type": "code",
   "execution_count": null,
   "metadata": {},
   "outputs": [],
   "source": []
  }
 ],
 "metadata": {
  "kernelspec": {
   "display_name": "Python 3.11.5 ('drake_env': venv)",
   "language": "python",
   "name": "python3"
  },
  "language_info": {
   "codemirror_mode": {
    "name": "ipython",
    "version": 3
   },
   "file_extension": ".py",
   "mimetype": "text/x-python",
   "name": "python",
   "nbconvert_exporter": "python",
   "pygments_lexer": "ipython3",
   "version": "3.11.5"
  },
  "orig_nbformat": 4,
  "vscode": {
   "interpreter": {
    "hash": "a3a58c6867cb66131d0bfe5a5f9b20b5d7637deda1e9bd90477c03cc28f30e93"
   }
  }
 },
 "nbformat": 4,
 "nbformat_minor": 2
}
