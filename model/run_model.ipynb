{
 "cells": [
  {
   "cell_type": "code",
   "execution_count": 1,
   "metadata": {},
   "outputs": [],
   "source": [
    "%load_ext autoreload\n",
    "%autoreload 2\n",
    "\n",
    "import numpy as np\n",
    "import pydot\n",
    "import os\n",
    "import matplotlib.pyplot as plt\n",
    "import copy\n",
    "import time\n",
    "from collections import Counter\n",
    "import scene\n",
    "import AllegroWrapper\n",
    "import contact\n",
    "import motion_planning\n",
    "import search\n",
    "import visualizations\n",
    "from pydrake.all import StartMeshcat\n",
    "from manipulation.utils import ConfigureParser"
   ]
  },
  {
   "cell_type": "code",
   "execution_count": 2,
   "metadata": {},
   "outputs": [],
   "source": [
    "meshcat = None"
   ]
  },
  {
   "cell_type": "code",
   "execution_count": 114,
   "metadata": {},
   "outputs": [],
   "source": [
    "p_W_brick = [0.65, -0.3, 0.015] #[np.random.uniform(0.4, 0.75), np.random.uniform(-0.35, 0.35), 0.01]\n",
    "R_W_brick = [0, 0, np.random.randint(0, 360)]\n",
    "meshcat, station, simulator, context, p_W_brick, R_W_brick = scene.init_scenario(brick_location=p_W_brick, brick_rotation=R_W_brick, meshcat=meshcat)\n",
    "\n",
    "allegro = AllegroWrapper.AllegroHand(station, context)\n",
    "simulator.set_target_realtime_rate(1.0)\n",
    "x0 = station.GetOutputPort(\"iiwa+allegro.state_estimated\").Eval(context)\n",
    "# scene.render_station_diagram(station)\n",
    "\n",
    "def reset_arm(station, simulator, context, x0):\n",
    "    station.GetInputPort(\"iiwa+allegro.desired_state\").FixValue(context, x0)\n",
    "    simulator.AdvanceTo(context.get_time() + 1)\n",
    "\n",
    "reset_arm(station, simulator, context, x0)"
   ]
  },
  {
   "cell_type": "code",
   "execution_count": 115,
   "metadata": {},
   "outputs": [],
   "source": [
    "def investigate(simulator, station, p_W_obj, all_touched_points):\n",
    "    \"\"\"\n",
    "    Given contact with an object, sample a number of contact locations nearby and \n",
    "    plan a trajectory with a finger to the object, in order to build up a point cloud\n",
    "    of the object for pose estimation\n",
    "    \"\"\"\n",
    "    context = simulator.get_mutable_context()    \n",
    "    plant = station.GetSubsystemByName(\"plant\")\n",
    "    gripper = plant.GetBodyByName(\"link_2\") # tip of the index finger\n",
    "    plant_context = plant.GetMyContextFromRoot(context)\n",
    "\n",
    "    def raise_hand(amount):\n",
    "        iiwa_body = plant.GetBodyByName(\"iiwa_link_6\")\n",
    "        X_WG = plant.EvalBodyPoseInWorld(plant_context, iiwa_body)\n",
    "        X_WG_desired = copy.deepcopy(X_WG)\n",
    "        X_WG_desired.set_translation(X_WG.translation() + [0, 0, amount])\n",
    "        obj_touched, new_contacts, p_W_obj = motion_planning.move_arm(X_WG_desired.translation(), \n",
    "                                                simulator, \n",
    "                                                station, \n",
    "                                                context, \n",
    "                                                time_interval=0.4, \n",
    "                                                frame=\"iiwa_link_6\", \n",
    "                                                arc_height=0.0,\n",
    "                                                stop_on_contact=True)\n",
    "    \n",
    "    #raise_hand(0.25)\n",
    "    allegro.set_explore_mode()\n",
    "    simulator.AdvanceTo(context.get_time() + 1)\n",
    "\n",
    "    nearby_x = np.random.normal(p_W_obj[0], 0.05, 10)\n",
    "    nearby_y = np.random.normal(p_W_obj[1], 0.05, 10)\n",
    "    nearby_z = np.random.normal(p_W_obj[2], 0.05, 10)\n",
    "\n",
    "    nearby_points = np.vstack((nearby_x, nearby_y, nearby_z)).T\n",
    "    for point in nearby_points:\n",
    "        obj_touched, new_contacts, p_W_obj = motion_planning.move_arm(point, \n",
    "                                                simulator, \n",
    "                                                station, \n",
    "                                                context, \n",
    "                                                time_interval=0.4, \n",
    "                                                frame=\"link_2\", \n",
    "                                                arc_height=0.1,\n",
    "                                                stop_on_contact=True, state_update_len=23)\n",
    "        for contact in new_contacts:\n",
    "            all_touched_points.add(tuple(contact))   \n",
    "\n",
    "        raise_hand(0.15)\n",
    "        simulator.AdvanceTo(context.get_time() + 1)\n",
    "        \n",
    "    return all_touched_points"
   ]
  },
  {
   "cell_type": "code",
   "execution_count": 116,
   "metadata": {},
   "outputs": [
    {
     "name": "stdout",
     "output_type": "stream",
     "text": [
      "0.774116363851472\n",
      "Table height:  -0.000546129027791319\n",
      "0.015336683969959868\n",
      "0.022488814833522816\n",
      "Object found! Location at:  [ 0.63699149 -0.25810261  0.04871794]\n",
      "Actual object location:  [0.65, -0.3, 0.015]\n",
      "Difference:  0.043870409143647864\n"
     ]
    }
   ],
   "source": [
    "def run_search(station, frame = \"hand_root\", object_bias=None):\n",
    "    reset_arm(station, simulator, context, x0)\n",
    "    plant = station.GetSubsystemByName(\"plant\")\n",
    "    all_touched_points = set()\n",
    "\n",
    "    # Get initial pose of the gripper by using default context of manip station.\n",
    "    gripper = plant.GetBodyByName(frame)\n",
    "    plant_context = plant.GetMyContextFromRoot(context)\n",
    "    \n",
    "    X_WG = plant.EvalBodyPoseInWorld(plant_context, gripper)\n",
    "    table_end_effector_poses = contact.get_table_contact(X_WG)\n",
    "    p_WG_post = table_end_effector_poses[-1].translation()\n",
    "       \n",
    "    obj_touched, new_contacts, p_W_obj = motion_planning.move_arm(p_WG_post, simulator, station, context, time_interval=0.4, frame=frame)\n",
    "    touch_history = []\n",
    "\n",
    "    if obj_touched == \"table\":\n",
    "        table_height = min(new_contacts[:, 2])\n",
    "        touched_point = new_contacts[np.random.choice(np.arange(len(new_contacts)))]\n",
    "        print(\"Table height: \", table_height)\n",
    "    else:\n",
    "        print(\"Table not found\")\n",
    "\n",
    "    touch_history.append(touched_point[:2])\n",
    "    for point in new_contacts:\n",
    "        all_touched_points.add(tuple(point))\n",
    "\n",
    "    i = 0\n",
    "    while obj_touched != \"object\":\n",
    "        if i > 30:\n",
    "            break\n",
    "        i += 1\n",
    "        \n",
    "        next_touch = search.sample_new_target(touch_history, bias_position=object_bias, object_radius=0.03)\n",
    "        next_point = [next_touch[0], next_touch[1], table_height]\n",
    "        touch_history.append(next_touch)\n",
    "        \n",
    "        #next_point = p_W_brick\n",
    "        X_WG = plant.EvalBodyPoseInWorld(plant_context, gripper)\n",
    "\n",
    "        # NOTE: This can change if there's biases in the search algorithm, based on the object's height and expected distance from the gripper\n",
    "        # NOTE: We might also modify it based on some energy constraint, to minimize movement costs\n",
    "        obj_touched, new_contacts, p_W_obj = motion_planning.move_arm(next_point, \n",
    "                                                simulator, \n",
    "                                                station, \n",
    "                                                context, \n",
    "                                                time_interval=0.4, \n",
    "                                                frame=frame, \n",
    "                                                arc_height=0.15)\n",
    "                                                \n",
    "        for point in new_contacts:\n",
    "            all_touched_points.add(tuple(point))\n",
    "\n",
    "        X_WG = plant.EvalBodyPoseInWorld(plant_context, gripper)\n",
    "        #fig = visualizations.plot_2d_search(X_WG.translation(), all_touched_points, next_touch, object_bias, p_W_brick)\n",
    "        #plt.show()\n",
    "\n",
    "    print(\"Object found! Location at: \", p_W_obj)\n",
    "    print(\"Actual object location: \", p_W_brick)\n",
    "    print(\"Difference: \", np.linalg.norm(np.array(p_W_obj)[:2] - np.array(p_W_brick[:2])))\n",
    "    return all_touched_points, p_W_obj\n",
    "\n",
    "all_touched_points, object_contact = run_search(station, object_bias=[p_W_brick[0], p_W_brick[1]])"
   ]
  },
  {
   "cell_type": "code",
   "execution_count": 128,
   "metadata": {},
   "outputs": [],
   "source": [
    "reset_arm(station, simulator, context, x0)"
   ]
  },
  {
   "cell_type": "code",
   "execution_count": 92,
   "metadata": {},
   "outputs": [
    {
     "data": {
      "text/plain": [
       "{(0.5046366672701561, 0.1140568805671816, -0.0005461293225855722),\n",
       " (0.5048225624980727, 0.11268580134167645, -0.0005134505359551678),\n",
       " (0.5540449162538729, 0.06629355441160834, -0.0005187698382611138),\n",
       " (0.5632093291001625, 0.02338918247210161, -9.235200353522113e-05),\n",
       " (0.596075093899957, -0.02408811980162557, -0.0008644844413368338),\n",
       " (0.6050436784892271, -0.06700990080300123, -3.0193553530693043e-05),\n",
       " (0.6312328279716563, -0.2677584787920164, 0.04840738874405778),\n",
       " (0.7094020482108241, -0.06500153162170551, -1.571602567531586e-05)}"
      ]
     },
     "execution_count": 92,
     "metadata": {},
     "output_type": "execute_result"
    }
   ],
   "source": [
    "all_touched_points"
   ]
  },
  {
   "cell_type": "code",
   "execution_count": 91,
   "metadata": {},
   "outputs": [
    {
     "data": {
      "text/plain": [
       "array([], shape=(0, 3), dtype=float64)"
      ]
     },
     "execution_count": 91,
     "metadata": {},
     "output_type": "execute_result"
    }
   ],
   "source": [
    "p_WC = np.array(list(all_touched_points))\n",
    "p_WC[np.where(p_WC[:, 2] > 0.1)]"
   ]
  },
  {
   "cell_type": "code",
   "execution_count": 99,
   "metadata": {},
   "outputs": [
    {
     "name": "stdout",
     "output_type": "stream",
     "text": [
      "[ 0.46738026 -0.0043843   0.72526988] [ 0.63123283 -0.26775848  0.14840739]\n",
      "0.5767478573217084\n"
     ]
    }
   ],
   "source": [
    "frame = \"hand_root\"\n",
    "plant = station.GetSubsystemByName(\"plant\")\n",
    "plant_context = plant.GetMyContextFromRoot(context)\n",
    "current_pose = plant.EvalBodyPoseInWorld(plant_context, plant.GetBodyByName(frame))\n",
    "pre_grasp_pose = object_contact + np.array([0., 0.0, 0.1])\n",
    "print(current_pose.translation(), pre_grasp_pose)\n",
    "\n",
    "allegro.set_positions([\"thumb_revolute_z\", \"thumb_revolute_y\", \"thumb_1\"], [1.2, 0.5, 0.5])\n",
    "simulator.AdvanceTo(context.get_time() + 0.5)\n",
    "\n",
    "obj_touched, new_contacts, p_W_obj = motion_planning.move_arm(pre_grasp_pose, \n",
    "                                                simulator, \n",
    "                                                station, \n",
    "                                                context, \n",
    "                                                time_interval=0.4, \n",
    "                                                frame=frame, \n",
    "                                                arc_height=0.02)\n"
   ]
  },
  {
   "cell_type": "code",
   "execution_count": 76,
   "metadata": {},
   "outputs": [
    {
     "data": {
      "text/plain": [
       "<pydrake.systems.analysis.SimulatorStatus at 0x107fc7570>"
      ]
     },
     "execution_count": 76,
     "metadata": {},
     "output_type": "execute_result"
    }
   ],
   "source": [
    "allegro.close_hand()\n",
    "simulator.AdvanceTo(context.get_time() + 1)\n",
    "                                            "
   ]
  },
  {
   "cell_type": "code",
   "execution_count": 129,
   "metadata": {},
   "outputs": [
    {
     "name": "stdout",
     "output_type": "stream",
     "text": [
      "0.25\n",
      "1.1271763437319913\n",
      "0.15000000000000002\n",
      "1.0998367241249518\n",
      "0.15\n",
      "0.012701116026825596\n",
      "0.15000000000000002\n",
      "0.003163318747380406\n",
      "0.15\n",
      "0.005803772088017599\n",
      "0.15000000000000002\n",
      "0.0010409174521655573\n",
      "0.14999999999999997\n",
      "0.014102926525311546\n",
      "0.15\n",
      "0.011949163639131004\n",
      "0.14999999999999997\n",
      "0.03096634123583456\n",
      "0.14999999999999997\n",
      "0.024436933069754738\n",
      "0.15000000000000002\n"
     ]
    }
   ],
   "source": [
    "all_touched_points = investigate(simulator,station, object_contact, all_touched_points)"
   ]
  },
  {
   "cell_type": "code",
   "execution_count": 124,
   "metadata": {},
   "outputs": [
    {
     "data": {
      "text/plain": [
       "<matplotlib.collections.PathCollection at 0x2a1488b90>"
      ]
     },
     "execution_count": 124,
     "metadata": {},
     "output_type": "execute_result"
    },
    {
     "data": {
      "image/png": "[encoded data removed]",
      "text/plain": [
       "<Figure size 640x480 with 1 Axes>"
      ]
     },
     "metadata": {},
     "output_type": "display_data"
    }
   ],
   "source": [
    "pc = np.array(list(all_touched_points))\n",
    "box_points = pc[np.where(pc[:, 2] > 0.01)]\n",
    "plt.scatter(box_points[0, :], box_points[1, :])"
   ]
  },
  {
   "cell_type": "code",
   "execution_count": null,
   "metadata": {},
   "outputs": [],
   "source": []
  }
 ],
 "metadata": {
  "kernelspec": {
   "display_name": "Python 3.11.5 ('drake_env': venv)",
   "language": "python",
   "name": "python3"
  },
  "language_info": {
   "codemirror_mode": {
    "name": "ipython",
    "version": 3
   },
   "file_extension": ".py",
   "mimetype": "text/x-python",
   "name": "python",
   "nbconvert_exporter": "python",
   "pygments_lexer": "ipython3",
   "version": "3.11.4"
  },
  "orig_nbformat": 4,
  "vscode": {
   "interpreter": {
    "hash": "a3a58c6867cb66131d0bfe5a5f9b20b5d7637deda1e9bd90477c03cc28f30e93"
   }
  }
 },
 "nbformat": 4,
 "nbformat_minor": 2
}
