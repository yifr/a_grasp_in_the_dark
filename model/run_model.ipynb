{
 "cells": [
  {
   "cell_type": "code",
   "execution_count": 1,
   "metadata": {},
   "outputs": [],
   "source": [
    "%load_ext autoreload\n",
    "%autoreload 2\n",
    "\n",
    "import numpy as np\n",
    "import pydot\n",
    "import os\n",
    "import matplotlib.pyplot as plt\n",
    "import copy\n",
    "import time\n",
    "from collections import Counter\n",
    "import scene\n",
    "import AllegroWrapper\n",
    "import contact\n",
    "import motion_planning\n",
    "import search\n",
    "import visualizations\n",
    "from pydrake.all import StartMeshcat\n",
    "from manipulation.utils import ConfigureParser"
   ]
  },
  {
   "cell_type": "code",
   "execution_count": 2,
   "metadata": {},
   "outputs": [],
   "source": [
    "meshcat = None"
   ]
  },
  {
   "cell_type": "code",
   "execution_count": 9,
   "metadata": {},
   "outputs": [],
   "source": [
    "p_W_brick = [0.65, -0.3, 0.015] #[np.random.uniform(0.4, 0.75), np.random.uniform(-0.35, 0.35), 0.01]\n",
    "R_W_brick = [0, 0, np.random.randint(0, 360)]\n",
    "meshcat, station, simulator, context, p_W_brick, R_W_brick = scene.init_scenario(brick_location=p_W_brick, brick_rotation=R_W_brick, meshcat=meshcat)\n",
    "\n",
    "allegro = AllegroWrapper.AllegroHand(station, context)\n",
    "simulator.set_target_realtime_rate(1.0)\n",
    "x0 = station.GetOutputPort(\"iiwa+allegro.state_estimated\").Eval(context)\n",
    "# scene.render_station_diagram(station)\n",
    "\n",
    "def reset_arm(station, simulator, context, x0):\n",
    "    station.GetInputPort(\"iiwa+allegro.desired_state\").FixValue(context, x0)\n",
    "    simulator.AdvanceTo(context.get_time() + 1)\n",
    "\n",
    "reset_arm(station, simulator, context, x0)"
   ]
  },
  {
   "cell_type": "code",
   "execution_count": 10,
   "metadata": {},
   "outputs": [],
   "source": [
    "def investigate(simulator, station, p_W_obj, all_touched_points):\n",
    "    \"\"\"\n",
    "    Given contact with an object, sample a number of contact locations nearby and \n",
    "    plan a trajectory with a finger to the object, in order to build up a point cloud\n",
    "    of the object for pose estimation\n",
    "    \"\"\"\n",
    "    context = simulator.get_mutable_context()    \n",
    "    plant = station.GetSubsystemByName(\"plant\")\n",
    "    gripper = plant.GetBodyByName(\"link_2\") # tip of the index finger\n",
    "    plant_context = plant.GetMyContextFromRoot(context)\n",
    "\n",
    "    def raise_hand(amount):\n",
    "        iiwa_body = plant.GetBodyByName(\"iiwa_link_6\")\n",
    "        X_WG = plant.EvalBodyPoseInWorld(plant_context, iiwa_body)\n",
    "        X_WG_desired = copy.deepcopy(X_WG)\n",
    "        X_WG_desired.set_translation(X_WG.translation() + [0, 0, amount])\n",
    "        current_state = station.GetOutputPort(\"iiwa+allegro.state_estimated\").Eval(context)\n",
    "        q_knot = motion_planning.optimize_arm_movement(current_state, station, [X_WG_desired], frame=\"iiwa_link_6\")[0]\n",
    "        current_state[:7] = q_knot[:7]\n",
    "        station.GetInputPort(\"iiwa+allegro.desired_state\").FixValue(context, current_state)\n",
    "        simulator.AdvanceTo(context.get_time() + 1)\n",
    "    \n",
    "    raise_hand(0.25)\n",
    "    allegro.set_explore_mode()\n",
    "    simulator.AdvanceTo(context.get_time() + 1)\n",
    "\n",
    "    nearby_x = np.random.normal(p_W_obj[0], 0.001, 10)\n",
    "    nearby_y = np.random.normal(p_W_obj[1], 0.001, 10)\n",
    "    nearby_z = np.random.normal(p_W_obj[2], 0.001, 10)\n",
    "\n",
    "    nearby_points = np.vstack((nearby_x, nearby_y, nearby_z)).T\n",
    "    for point in nearby_points:\n",
    "        obj_touched, new_contacts, p_W_obj = motion_planning.move_arm(point, \n",
    "                                                simulator, \n",
    "                                                station, \n",
    "                                                context, \n",
    "                                                time_interval=0.4, \n",
    "                                                frame=\"link_2\", \n",
    "                                                arc_height=0.01,\n",
    "                                                stop_on_contact=True)\n",
    "        for contact in new_contacts:\n",
    "            all_touched_points.add(tuple(contact))   \n",
    "\n",
    "        raise_hand(0.1)\n",
    "\n",
    "    return all_touched_points"
   ]
  },
  {
   "cell_type": "code",
   "execution_count": 11,
   "metadata": {},
   "outputs": [
    {
     "name": "stdout",
     "output_type": "stream",
     "text": [
      "[ 0.46575126 -0.01149552  0.72690967] [ 0.46575126 -0.01149552 -0.05      ]\n",
      "Table height:  -5.0313245375336116e-05\n",
      "[ 0.46060291 -0.00297179  0.01384544] [0.5314802211847405, -0.02458268869845137, -5.0313245375336116e-05]\n",
      "[ 0.5205562  -0.01505584  0.01525598] [0.6042784397256155, -0.25316953156529415, -5.0313245375336116e-05]\n",
      "Object found! Location at:  [ 0.61357076 -0.28049994  0.04828023]\n",
      "Actual object location:  [0.65, -0.3, 0.015]\n",
      "Difference:  0.04131999574021662\n"
     ]
    }
   ],
   "source": [
    "def run_search(station, frame = \"hand_root\", object_bias=None):\n",
    "    reset_arm(station, simulator, context, x0)\n",
    "    plant = station.GetSubsystemByName(\"plant\")\n",
    "    all_touched_points = set()\n",
    "\n",
    "    # Get initial pose of the gripper by using default context of manip station.\n",
    "    gripper = plant.GetBodyByName(frame)\n",
    "    plant_context = plant.GetMyContextFromRoot(context)\n",
    "    \n",
    "    X_WG = plant.EvalBodyPoseInWorld(plant_context, gripper)\n",
    "    table_end_effector_poses = contact.get_table_contact(X_WG)\n",
    "    p_WG_post = table_end_effector_poses[-1].translation()\n",
    "       \n",
    "    obj_touched, new_contacts, p_W_obj = motion_planning.move_arm(p_WG_post, simulator, station, context, time_interval=0.4, frame=frame)\n",
    "    touch_history = []\n",
    "\n",
    "    if obj_touched == \"table\":\n",
    "        table_height = min(new_contacts[:, 2])\n",
    "        touched_point = new_contacts[np.random.choice(np.arange(len(new_contacts)))]\n",
    "        print(\"Table height: \", table_height)\n",
    "    else:\n",
    "        print(\"Table not found\")\n",
    "        # NOTE: Here we should feed coordinates into search algorithm\n",
    "\n",
    "    touch_history.append(touched_point[:2])\n",
    "    for point in new_contacts:\n",
    "        all_touched_points.add(tuple(point))\n",
    "\n",
    "    i = 0\n",
    "    while obj_touched != \"object\":\n",
    "        if i > 30:\n",
    "            break\n",
    "        i += 1\n",
    "        \n",
    "        next_touch = search.sample_new_target(touch_history, bias_position=object_bias, object_radius=0.03)\n",
    "        next_point = [next_touch[0], next_touch[1], table_height]\n",
    "        touch_history.append(next_touch)\n",
    "        \n",
    "        #next_point = p_W_brick\n",
    "        X_WG = plant.EvalBodyPoseInWorld(plant_context, gripper)\n",
    "\n",
    "        # NOTE: This can change if there's biases in the search algorithm, based on the object's height and expected distance from the gripper\n",
    "        # NOTE: We might also modify it based on some energy constraint, to minimize movement costs\n",
    "        arc_height = 0.2 \n",
    "        obj_touched, new_contacts, p_W_obj = motion_planning.move_arm(next_point, \n",
    "                                                simulator, \n",
    "                                                station, \n",
    "                                                context, \n",
    "                                                time_interval=0.4, \n",
    "                                                frame=frame, \n",
    "                                                arc_height=0.2)\n",
    "                                                \n",
    "        for point in new_contacts:\n",
    "            all_touched_points.add(tuple(point))\n",
    "\n",
    "        X_WG = plant.EvalBodyPoseInWorld(plant_context, gripper)\n",
    "        #fig = visualizations.plot_2d_search(X_WG.translation(), all_touched_points, next_touch, object_bias, p_W_brick)\n",
    "        #plt.show()\n",
    "\n",
    "    print(\"Object found! Location at: \", p_W_obj)\n",
    "    print(\"Actual object location: \", p_W_brick)\n",
    "    print(\"Difference: \", np.linalg.norm(np.array(p_W_obj)[:2] - np.array(p_W_brick[:2])))\n",
    "    return all_touched_points, p_W_obj\n",
    "\n",
    "all_touched_points, object_contact = run_search(station, object_bias=[p_W_brick[0], p_W_brick[1]])"
   ]
  },
  {
   "cell_type": "code",
   "execution_count": 46,
   "metadata": {},
   "outputs": [
    {
     "name": "stdout",
     "output_type": "stream",
     "text": [
      "[ 0.78135128 -0.20725061  0.72544234] [ 0.64476712 -0.25674013  0.05058089]\n",
      "[ 0.73927256 -0.24933745  0.46114486] [ 0.6443077  -0.2576757   0.05022751]\n",
      "[ 0.75362031 -0.2529005   0.62107932] [ 0.64492519 -0.25594277  0.04755045]\n"
     ]
    },
    {
     "ename": "KeyboardInterrupt",
     "evalue": "",
     "output_type": "error",
     "traceback": [
      "\u001b[0;31m---------------------------------------------------------------------------\u001b[0m",
      "\u001b[0;31mKeyboardInterrupt\u001b[0m                         Traceback (most recent call last)",
      "Cell \u001b[0;32mIn[46], line 1\u001b[0m\n\u001b[0;32m----> 1\u001b[0m all_touched_points \u001b[38;5;241m=\u001b[39m \u001b[43minvestigate\u001b[49m\u001b[43m(\u001b[49m\u001b[43msimulator\u001b[49m\u001b[43m,\u001b[49m\u001b[43mstation\u001b[49m\u001b[43m,\u001b[49m\u001b[43m \u001b[49m\u001b[43mobject_contact\u001b[49m\u001b[43m,\u001b[49m\u001b[43m \u001b[49m\u001b[43mall_touched_points\u001b[49m\u001b[43m)\u001b[49m\n",
      "Cell \u001b[0;32mIn[45], line 44\u001b[0m, in \u001b[0;36minvestigate\u001b[0;34m(simulator, station, p_W_obj, all_touched_points)\u001b[0m\n\u001b[1;32m     41\u001b[0m     \u001b[38;5;28;01mfor\u001b[39;00m contact \u001b[38;5;129;01min\u001b[39;00m new_contacts:\n\u001b[1;32m     42\u001b[0m         all_touched_points\u001b[38;5;241m.\u001b[39madd(\u001b[38;5;28mtuple\u001b[39m(contact))   \n\u001b[0;32m---> 44\u001b[0m     \u001b[43mraise_hand\u001b[49m\u001b[43m(\u001b[49m\u001b[38;5;241;43m0.1\u001b[39;49m\u001b[43m)\u001b[49m\n\u001b[1;32m     46\u001b[0m \u001b[38;5;28;01mreturn\u001b[39;00m all_touched_points\n",
      "Cell \u001b[0;32mIn[45], line 18\u001b[0m, in \u001b[0;36minvestigate.<locals>.raise_hand\u001b[0;34m(amount)\u001b[0m\n\u001b[1;32m     16\u001b[0m X_WG_desired\u001b[38;5;241m.\u001b[39mset_translation(X_WG\u001b[38;5;241m.\u001b[39mtranslation() \u001b[38;5;241m+\u001b[39m [\u001b[38;5;241m0\u001b[39m, \u001b[38;5;241m0\u001b[39m, amount])\n\u001b[1;32m     17\u001b[0m current_state \u001b[38;5;241m=\u001b[39m station\u001b[38;5;241m.\u001b[39mGetOutputPort(\u001b[38;5;124m\"\u001b[39m\u001b[38;5;124miiwa+allegro.state_estimated\u001b[39m\u001b[38;5;124m\"\u001b[39m)\u001b[38;5;241m.\u001b[39mEval(context)\n\u001b[0;32m---> 18\u001b[0m q_knot \u001b[38;5;241m=\u001b[39m \u001b[43mmotion_planning\u001b[49m\u001b[38;5;241;43m.\u001b[39;49m\u001b[43moptimize_arm_movement\u001b[49m\u001b[43m(\u001b[49m\u001b[43mcurrent_state\u001b[49m\u001b[43m,\u001b[49m\u001b[43m \u001b[49m\u001b[43mstation\u001b[49m\u001b[43m,\u001b[49m\u001b[43m \u001b[49m\u001b[43m[\u001b[49m\u001b[43mX_WG_desired\u001b[49m\u001b[43m]\u001b[49m\u001b[43m,\u001b[49m\u001b[43m \u001b[49m\u001b[43mframe\u001b[49m\u001b[38;5;241;43m=\u001b[39;49m\u001b[38;5;124;43m\"\u001b[39;49m\u001b[38;5;124;43miiwa_link_6\u001b[39;49m\u001b[38;5;124;43m\"\u001b[39;49m\u001b[43m)\u001b[49m[\u001b[38;5;241m0\u001b[39m]\n\u001b[1;32m     19\u001b[0m current_state[:\u001b[38;5;241m7\u001b[39m] \u001b[38;5;241m=\u001b[39m q_knot[:\u001b[38;5;241m7\u001b[39m]\n\u001b[1;32m     20\u001b[0m station\u001b[38;5;241m.\u001b[39mGetInputPort(\u001b[38;5;124m\"\u001b[39m\u001b[38;5;124miiwa+allegro.desired_state\u001b[39m\u001b[38;5;124m\"\u001b[39m)\u001b[38;5;241m.\u001b[39mFixValue(context, current_state)\n",
      "File \u001b[0;32m~/Research/RoboticManipulation/a_grasp_in_the_dark/model/motion_planning.py:132\u001b[0m, in \u001b[0;36moptimize_arm_movement\u001b[0;34m(q_current, station, end_effector_poses, frame)\u001b[0m\n\u001b[1;32m    129\u001b[0m \u001b[39melse\u001b[39;00m:\n\u001b[1;32m    130\u001b[0m     prog\u001b[39m.\u001b[39mSetInitialGuess(q_variables, q_knots[i\u001b[39m-\u001b[39m\u001b[39m1\u001b[39m])\n\u001b[0;32m--> 132\u001b[0m result \u001b[39m=\u001b[39m Solve(prog)\n\u001b[1;32m    133\u001b[0m \u001b[39mif\u001b[39;00m result\u001b[39m.\u001b[39mis_success():\n\u001b[1;32m    134\u001b[0m     result_found \u001b[39m=\u001b[39m \u001b[39mTrue\u001b[39;00m\n",
      "\u001b[0;31mKeyboardInterrupt\u001b[0m: "
     ]
    }
   ],
   "source": [
    "all_touched_points = investigate(simulator,station, object_contact, all_touched_points)"
   ]
  },
  {
   "cell_type": "code",
   "execution_count": null,
   "metadata": {},
   "outputs": [],
   "source": []
  }
 ],
 "metadata": {
  "kernelspec": {
   "display_name": "Python 3.11.5 ('drake_env': venv)",
   "language": "python",
   "name": "python3"
  },
  "language_info": {
   "codemirror_mode": {
    "name": "ipython",
    "version": 3
   },
   "file_extension": ".py",
   "mimetype": "text/x-python",
   "name": "python",
   "nbconvert_exporter": "python",
   "pygments_lexer": "ipython3",
   "version": "3.11.4"
  },
  "orig_nbformat": 4,
  "vscode": {
   "interpreter": {
    "hash": "a3a58c6867cb66131d0bfe5a5f9b20b5d7637deda1e9bd90477c03cc28f30e93"
   }
  }
 },
 "nbformat": 4,
 "nbformat_minor": 2
}
