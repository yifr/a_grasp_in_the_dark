{
 "cells": [
  {
   "cell_type": "code",
   "execution_count": 1,
   "metadata": {},
   "outputs": [],
   "source": [
    "import os\n",
    "import copy\n",
    "import numpy as np\n",
    "import numpy as np\n",
    "from pydrake.all import (\n",
    "    ConstantVectorSource,\n",
    "    DiagramBuilder,\n",
    "    MeshcatVisualizer,\n",
    "    MeshcatVisualizerParams,\n",
    "    MultibodyPlant,\n",
    "    Parser,\n",
    "    PiecewisePolynomial,\n",
    "    PiecewiseQuaternionSlerp,\n",
    "    RigidTransform,\n",
    "    RollPitchYaw,\n",
    "    RotationMatrix,\n",
    "    Simulator,\n",
    "    Solve,\n",
    "    StartMeshcat,\n",
    "    TrajectorySource,\n",
    ")\n",
    "from pydrake.multibody import inverse_kinematics\n",
    "from pydrake.trajectories import PiecewisePolynomial\n",
    "\n",
    "from manipulation.meshcat_utils import AddMeshcatTriad\n",
    "from manipulation.scenarios import AddMultibodyTriad, MakeManipulationStation\n",
    "from manipulation.utils import running_as_notebook"
   ]
  },
  {
   "cell_type": "code",
   "execution_count": 2,
   "metadata": {},
   "outputs": [],
   "source": [
    "def load_obj(filename):\n",
    "    vertices = []\n",
    "    with open(filename, 'r') as file:\n",
    "        for line in file:\n",
    "            if line.startswith('v '):\n",
    "                parts = line.split()\n",
    "                vertices.append([float(parts[1]), float(parts[2]), float(parts[3])])\n",
    "    return np.array(vertices)\n",
    "\n",
    "def get_dimensions(vertices):\n",
    "    min_vals = np.min(vertices, axis=0)\n",
    "    max_vals = np.max(vertices, axis=0)\n",
    "    return max_vals - min_vals"
   ]
  },
  {
   "cell_type": "code",
   "execution_count": 3,
   "metadata": {},
   "outputs": [],
   "source": [
    "def read_obj(\n",
    "        obj_name,\n",
    "        obj_position,\n",
    "        obj_rotation,\n",
    "        obj_mass = 0.5,\n",
    "        obj_dir = os.path.join(os.getcwd(), \"objects\")\n",
    "):\n",
    "  obj_path = os.path.join(obj_dir, \"{}.obj\".format(obj_name))\n",
    "  x, y, z = obj_position\n",
    "  roll, pitch, yaw = obj_rotation\n",
    "  obj_link = \"file://{}\".format(obj_path)\n",
    "  # Load the OBJ file\n",
    "  vertices = load_obj(obj_path)\n",
    "  # Calculate dimensions\n",
    "  dimensions = get_dimensions(vertices)\n",
    "  width, height, depth = dimensions\n",
    "  object_sdf = \"\"\"\n",
    "  <?xml version=\"1.0\"?>\n",
    "  <sdf version=\"1.7\">\n",
    "    <model name=\"{}\">\n",
    "      <link name=\"base_link_sugar\">\n",
    "        <inertial>\n",
    "          <mass>{}</mass>\n",
    "          <inertia>\n",
    "            <ixx>0.001418</ixx>\n",
    "            <ixy>0</ixy>\n",
    "            <ixz>0</ixz>\n",
    "            <iyy>0.000455</iyy>\n",
    "            <iyz>0</iyz>\n",
    "            <izz>0.001699</izz>\n",
    "          </inertia>\n",
    "        </inertial>\n",
    "        <visual name=\"base_link_sugar\">\n",
    "          <pose>{} {} {} {} {} {}</pose>\n",
    "          <geometry>\n",
    "            <mesh>\n",
    "              <uri>{}</uri>\n",
    "            </mesh>\n",
    "          </geometry>\n",
    "        </visual>\n",
    "      <collision name=\"box_collision\">\n",
    "          <geometry>\n",
    "            <box>\n",
    "              <size>{} {} {}</size>\n",
    "            </box>\n",
    "          </geometry>\n",
    "          <drake:proximity_properties>\n",
    "            <drake:compliant_hydroelastic/>\n",
    "            <drake:hydroelastic_modulus>1.0e8</drake:hydroelastic_modulus>\n",
    "          </drake:proximity_properties>\n",
    "        </collision>\n",
    "      </link>\n",
    "    </model>\n",
    "  </sdf>\n",
    "  \"\"\".format(obj_name, obj_mass, x, y, z, roll, pitch, yaw, obj_link, width, height, depth)\n",
    "\n",
    "  sdf_dir = os.path.join(os.getcwd(), \"sdf\")\n",
    "  object_sdf_file = os.path.join(sdf_dir, \"{}.sdf\".format(obj_name))\n",
    "  with open(object_sdf_file, \"w\") as f:\n",
    "      f.write(object_sdf)\n",
    "  obj_description = \"\"\"- add_model:\n",
    "    name: {}\n",
    "    file: \"file://{}\"\n",
    "\"\"\".format(obj_name, object_sdf_file)\n",
    "  return [width, height, depth], obj_description"
   ]
  },
  {
   "cell_type": "code",
   "execution_count": 4,
   "metadata": {},
   "outputs": [],
   "source": [
    "def read_sdf(obj_name, sdf_dir, obj_position, obj_rotation):\n",
    "  x, y, z = obj_position\n",
    "  roll, pitch, yaw = obj_rotation\n",
    "  obj_path = os.path.join(sdf_dir, \"{}.sdf\".format(obj_name))\n",
    "  sdf_link = \"file://{}\".format(obj_path)\n",
    "  rotation = \"deg: [{}, {}, {}]\".format(roll, pitch, yaw)\n",
    "  print(rotation)\n",
    "  obj_description = \"\"\"- add_model:\n",
    "    name: {}\n",
    "    file: \"file://{}\"\n",
    "- add_weld:\n",
    "    parent_body: world\n",
    "    child: {}::base\n",
    "    X_PC:\n",
    "      translation: [{}, {}, {}].format(obj_name, sdf_link)\n",
    "      rotation: !Rpy {{}}\n",
    "\"\"\".format(obj_name, sdf_link, obj_name, x, y, z, rotation)\n",
    "  return obj_description"
   ]
  },
  {
   "cell_type": "code",
   "execution_count": 5,
   "metadata": {},
   "outputs": [
    {
     "ename": "FileNotFoundError",
     "evalue": "[Errno 2] No such file or directory: '/home/aryan/Projects/Manipulation/a_grasp_in_the_dark/objects/box_solid.obj'",
     "output_type": "error",
     "traceback": [
      "\u001b[0;31m---------------------------------------------------------------------------\u001b[0m",
      "\u001b[0;31mFileNotFoundError\u001b[0m                         Traceback (most recent call last)",
      "\u001b[1;32m/home/aryan/Projects/Manipulation/a_grasp_in_the_dark/test_v2.ipynb Cell 5\u001b[0m line \u001b[0;36m4\n\u001b[1;32m      <a href='vscode-notebook-cell:/home/aryan/Projects/Manipulation/a_grasp_in_the_dark/test_v2.ipynb#W4sZmlsZQ%3D%3D?line=1'>2</a>\u001b[0m table_bounds, table_description \u001b[39m=\u001b[39m read_obj(table_name, [\u001b[39m0\u001b[39m, \u001b[39m0\u001b[39m, \u001b[39m0\u001b[39m], [\u001b[39m0\u001b[39m, \u001b[39m0\u001b[39m, \u001b[39m0\u001b[39m])\n\u001b[1;32m      <a href='vscode-notebook-cell:/home/aryan/Projects/Manipulation/a_grasp_in_the_dark/test_v2.ipynb#W4sZmlsZQ%3D%3D?line=2'>3</a>\u001b[0m box_name \u001b[39m=\u001b[39m \u001b[39m\"\u001b[39m\u001b[39mbox_solid\u001b[39m\u001b[39m\"\u001b[39m\n\u001b[0;32m----> <a href='vscode-notebook-cell:/home/aryan/Projects/Manipulation/a_grasp_in_the_dark/test_v2.ipynb#W4sZmlsZQ%3D%3D?line=3'>4</a>\u001b[0m box_bounds, box_description \u001b[39m=\u001b[39m read_obj(box_name, [\u001b[39m0\u001b[39m, \u001b[39m0\u001b[39m, table_bounds[\u001b[39m2\u001b[39m]], [\u001b[39m0\u001b[39m, \u001b[39m0\u001b[39m, \u001b[39m0\u001b[39m])\n",
      "\u001b[1;32m/home/aryan/Projects/Manipulation/a_grasp_in_the_dark/test_v2.ipynb Cell 5\u001b[0m line \u001b[0;36m1\n\u001b[1;32m     <a href='vscode-notebook-cell:/home/aryan/Projects/Manipulation/a_grasp_in_the_dark/test_v2.ipynb#W4sZmlsZQ%3D%3D?line=10'>11</a>\u001b[0m obj_link \u001b[39m=\u001b[39m \u001b[39m\"\u001b[39m\u001b[39mfile://\u001b[39m\u001b[39m{}\u001b[39;00m\u001b[39m\"\u001b[39m\u001b[39m.\u001b[39mformat(obj_path)\n\u001b[1;32m     <a href='vscode-notebook-cell:/home/aryan/Projects/Manipulation/a_grasp_in_the_dark/test_v2.ipynb#W4sZmlsZQ%3D%3D?line=11'>12</a>\u001b[0m \u001b[39m# Load the OBJ file\u001b[39;00m\n\u001b[0;32m---> <a href='vscode-notebook-cell:/home/aryan/Projects/Manipulation/a_grasp_in_the_dark/test_v2.ipynb#W4sZmlsZQ%3D%3D?line=12'>13</a>\u001b[0m vertices \u001b[39m=\u001b[39m load_obj(obj_path)\n\u001b[1;32m     <a href='vscode-notebook-cell:/home/aryan/Projects/Manipulation/a_grasp_in_the_dark/test_v2.ipynb#W4sZmlsZQ%3D%3D?line=13'>14</a>\u001b[0m \u001b[39m# Calculate dimensions\u001b[39;00m\n\u001b[1;32m     <a href='vscode-notebook-cell:/home/aryan/Projects/Manipulation/a_grasp_in_the_dark/test_v2.ipynb#W4sZmlsZQ%3D%3D?line=14'>15</a>\u001b[0m dimensions \u001b[39m=\u001b[39m get_dimensions(vertices)\n",
      "\u001b[1;32m/home/aryan/Projects/Manipulation/a_grasp_in_the_dark/test_v2.ipynb Cell 5\u001b[0m line \u001b[0;36m3\n\u001b[1;32m      <a href='vscode-notebook-cell:/home/aryan/Projects/Manipulation/a_grasp_in_the_dark/test_v2.ipynb#W4sZmlsZQ%3D%3D?line=0'>1</a>\u001b[0m \u001b[39mdef\u001b[39;00m \u001b[39mload_obj\u001b[39m(filename):\n\u001b[1;32m      <a href='vscode-notebook-cell:/home/aryan/Projects/Manipulation/a_grasp_in_the_dark/test_v2.ipynb#W4sZmlsZQ%3D%3D?line=1'>2</a>\u001b[0m     vertices \u001b[39m=\u001b[39m []\n\u001b[0;32m----> <a href='vscode-notebook-cell:/home/aryan/Projects/Manipulation/a_grasp_in_the_dark/test_v2.ipynb#W4sZmlsZQ%3D%3D?line=2'>3</a>\u001b[0m     \u001b[39mwith\u001b[39;00m \u001b[39mopen\u001b[39m(filename, \u001b[39m'\u001b[39m\u001b[39mr\u001b[39m\u001b[39m'\u001b[39m) \u001b[39mas\u001b[39;00m file:\n\u001b[1;32m      <a href='vscode-notebook-cell:/home/aryan/Projects/Manipulation/a_grasp_in_the_dark/test_v2.ipynb#W4sZmlsZQ%3D%3D?line=3'>4</a>\u001b[0m         \u001b[39mfor\u001b[39;00m line \u001b[39min\u001b[39;00m file:\n\u001b[1;32m      <a href='vscode-notebook-cell:/home/aryan/Projects/Manipulation/a_grasp_in_the_dark/test_v2.ipynb#W4sZmlsZQ%3D%3D?line=4'>5</a>\u001b[0m             \u001b[39mif\u001b[39;00m line\u001b[39m.\u001b[39mstartswith(\u001b[39m'\u001b[39m\u001b[39mv \u001b[39m\u001b[39m'\u001b[39m):\n",
      "File \u001b[0;32m~/anaconda3/lib/python3.11/site-packages/IPython/core/interactiveshell.py:284\u001b[0m, in \u001b[0;36m_modified_open\u001b[0;34m(file, *args, **kwargs)\u001b[0m\n\u001b[1;32m    277\u001b[0m \u001b[39mif\u001b[39;00m file \u001b[39min\u001b[39;00m {\u001b[39m0\u001b[39m, \u001b[39m1\u001b[39m, \u001b[39m2\u001b[39m}:\n\u001b[1;32m    278\u001b[0m     \u001b[39mraise\u001b[39;00m \u001b[39mValueError\u001b[39;00m(\n\u001b[1;32m    279\u001b[0m         \u001b[39mf\u001b[39m\u001b[39m\"\u001b[39m\u001b[39mIPython won\u001b[39m\u001b[39m'\u001b[39m\u001b[39mt let you open fd=\u001b[39m\u001b[39m{\u001b[39;00mfile\u001b[39m}\u001b[39;00m\u001b[39m by default \u001b[39m\u001b[39m\"\u001b[39m\n\u001b[1;32m    280\u001b[0m         \u001b[39m\"\u001b[39m\u001b[39mas it is likely to crash IPython. If you know what you are doing, \u001b[39m\u001b[39m\"\u001b[39m\n\u001b[1;32m    281\u001b[0m         \u001b[39m\"\u001b[39m\u001b[39myou can use builtins\u001b[39m\u001b[39m'\u001b[39m\u001b[39m open.\u001b[39m\u001b[39m\"\u001b[39m\n\u001b[1;32m    282\u001b[0m     )\n\u001b[0;32m--> 284\u001b[0m \u001b[39mreturn\u001b[39;00m io_open(file, \u001b[39m*\u001b[39margs, \u001b[39m*\u001b[39m\u001b[39m*\u001b[39mkwargs)\n",
      "\u001b[0;31mFileNotFoundError\u001b[0m: [Errno 2] No such file or directory: '/home/aryan/Projects/Manipulation/a_grasp_in_the_dark/objects/box_solid.obj'"
     ]
    }
   ],
   "source": [
    "table_name = \"table\"\n",
    "table_bounds, table_description = read_obj(table_name, [0, 0, 0], [0, 0, 0])\n",
    "box_name = \"box_solid\"\n",
    "box_bounds, box_description = read_obj(box_name, [0, 0, table_bounds[2]], [0, 0, 0])"
   ]
  },
  {
   "cell_type": "code",
   "execution_count": null,
   "metadata": {},
   "outputs": [
    {
     "name": "stdout",
     "output_type": "stream",
     "text": [
      "- add_model:\n",
      "    name: plate\n",
      "    file: \"file://file:///home/aryan/Projects/Manipulation/a_grasp_in_the_dark/ycb/029_plate/plate.sdf\"\n",
      "- add_weld:\n",
      "    parent_body: world\n",
      "    child: plate::base\n",
      "    X_PC:\n",
      "      translation: [0, 0, 0.5].format(obj_name, sdf_link)\n",
      "      rotation: !Rpy {}\n",
      "\n",
      "- add_model:\n",
      "    name: d_lego_duplo\n",
      "    file: \"file://file:///home/aryan/Projects/Manipulation/a_grasp_in_the_dark/ycb/073-d_lego_duplo/d_lego_duplo.sdf\"\n",
      "- add_weld:\n",
      "    parent_body: world\n",
      "    child: d_lego_duplo::base\n",
      "    X_PC:\n",
      "      translation: [0, 0, 0.5].format(obj_name, sdf_link)\n",
      "      rotation: !Rpy {}\n",
      "\n",
      "- add_model:\n",
      "    name: sponge\n",
      "    file: \"file://file:///home/aryan/Projects/Manipulation/a_grasp_in_the_dark/ycb/026_sponge/sponge.sdf\"\n",
      "- add_weld:\n",
      "    parent_body: world\n",
      "    child: sponge::base\n",
      "    X_PC:\n",
      "      translation: [0, 0, 0.5].format(obj_name, sdf_link)\n",
      "      rotation: !Rpy {}\n",
      "\n"
     ]
    }
   ],
   "source": [
    "# num_objs = 3\n",
    "# ycb_dir = os.path.join(os.getcwd(), \"ycb\")\n",
    "# model_names = os.listdir(ycb_dir)\n",
    "# selected_model_names = np.random.choice(model_names, num_objs, replace=False)\n",
    "# for model_name in selected_model_names:\n",
    "#     sdf_dir = os.path.join(ycb_dir, model_name)\n",
    "#     files = os.listdir(sdf_dir)\n",
    "#     for file in files:\n",
    "#         if file.endswith(\".sdf\"):\n",
    "#             obj_name = file.split(\".\")[0]\n",
    "#             obj_description = read_sdf(obj_name, sdf_dir, [0, 0, table_bounds[2]], [0, 0, 0])\n",
    "#             print(obj_description)\n",
    "#             all_descriptions.append(obj_description)"
   ]
  },
  {
   "cell_type": "code",
   "execution_count": null,
   "metadata": {},
   "outputs": [],
   "source": [
    "yaml_file = \"\"\"\n",
    "directives:\n",
    "{}\n",
    "{}\n",
    "\"\"\".format(table_description, box_description)\n",
    "yaml_dir = os.path.join(os.getcwd(), \"yaml\")\n",
    "if not os.path.exists(yaml_dir):\n",
    "    os.makedirs(yaml_dir)\n",
    "yaml_path = os.path.join(yaml_dir, \"scene.dmd.yaml\")\n",
    "with open(yaml_path, \"w\") as f:\n",
    "    f.write(yaml_file)"
   ]
  },
  {
   "cell_type": "markdown",
   "metadata": {},
   "source": [
    "Should be added to another code"
   ]
  },
  {
   "cell_type": "code",
   "execution_count": null,
   "metadata": {},
   "outputs": [
    {
     "name": "stderr",
     "output_type": "stream",
     "text": [
      "INFO:drake:Meshcat listening for connections at http://localhost:7000\n"
     ]
    }
   ],
   "source": [
    "# Start the visualizer.\n",
    "meshcat = StartMeshcat()"
   ]
  },
  {
   "cell_type": "code",
   "execution_count": null,
   "metadata": {},
   "outputs": [
    {
     "name": "stderr",
     "output_type": "stream",
     "text": [
      "WARNING:drake:warning: The OBJ file's material requested a diffuse texture image: /home/aryan/Projects/Manipulation/a_grasp_in_the_dark/objects/WoodSeemles.jpg. However the mesh doesn't define any texture coordinates. The image will be omitted.\n",
      "WARNING:drake:warning: The OBJ file's material requested a diffuse texture image: /home/aryan/Projects/Manipulation/a_grasp_in_the_dark/objects/WoodSeemles1.jpg. However the mesh doesn't define any texture coordinates. The image will be omitted.\n"
     ]
    }
   ],
   "source": [
    "def setup_manipulation_station():\n",
    "    builder = DiagramBuilder()\n",
    "    station = builder.AddSystem(\n",
    "        MakeManipulationStation(\n",
    "            filename=\"file://{}\".format(yaml_path),\n",
    "            time_step=1e-3,\n",
    "        )\n",
    "    )\n",
    "    plant = station.GetSubsystemByName(\"plant\")\n",
    "    scene_graph = station.GetSubsystemByName(\"scene_graph\")\n",
    "\n",
    "    MeshcatVisualizer.AddToBuilder(\n",
    "        builder,\n",
    "        station.GetOutputPort(\"query_object\"),\n",
    "        meshcat,\n",
    "        MeshcatVisualizerParams(delete_on_initialization_event=False),\n",
    "    )\n",
    "\n",
    "\n",
    "    diagram = builder.Build()\n",
    "\n",
    "    context = plant.CreateDefaultContext()\n",
    "\n",
    "\n",
    "    simulator = Simulator(diagram)\n",
    "    simulator.set_target_realtime_rate(1.0)\n",
    "    simulator.AdvanceTo(0.01)\n",
    "\n",
    "\n",
    "\n",
    "# Get initial pose of the gripper by using default context of manip station.\n",
    "setup_manipulation_station()"
   ]
  },
  {
   "cell_type": "code",
   "execution_count": null,
   "metadata": {},
   "outputs": [],
   "source": []
  },
  {
   "cell_type": "code",
   "execution_count": null,
   "metadata": {},
   "outputs": [],
   "source": []
  }
 ],
 "metadata": {
  "kernelspec": {
   "display_name": "base",
   "language": "python",
   "name": "python3"
  },
  "language_info": {
   "codemirror_mode": {
    "name": "ipython",
    "version": 3
   },
   "file_extension": ".py",
   "mimetype": "text/x-python",
   "name": "python",
   "nbconvert_exporter": "python",
   "pygments_lexer": "ipython3",
   "version": "3.11.4"
  },
  "orig_nbformat": 4
 },
 "nbformat": 4,
 "nbformat_minor": 2
}
