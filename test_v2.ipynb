{
 "cells": [
  {
   "cell_type": "code",
   "execution_count": 1,
   "metadata": {},
   "outputs": [],
   "source": [
    "import os\n",
    "import copy\n",
    "import numpy as np\n",
    "import numpy as np\n",
    "from pydrake.all import (\n",
    "    ConstantVectorSource,\n",
    "    DiagramBuilder,\n",
    "    MeshcatVisualizer,\n",
    "    MeshcatVisualizerParams,\n",
    "    MultibodyPlant,\n",
    "    Parser,\n",
    "    PiecewisePolynomial,\n",
    "    PiecewiseQuaternionSlerp,\n",
    "    RigidTransform,\n",
    "    RollPitchYaw,\n",
    "    RotationMatrix,\n",
    "    Simulator,\n",
    "    Solve,\n",
    "    StartMeshcat,\n",
    "    TrajectorySource,\n",
    ")\n",
    "from pydrake.multibody import inverse_kinematics\n",
    "from pydrake.trajectories import PiecewisePolynomial\n",
    "\n",
    "from manipulation.meshcat_utils import AddMeshcatTriad\n",
    "from manipulation.scenarios import AddMultibodyTriad, MakeManipulationStation\n",
    "from manipulation.utils import running_as_notebook"
   ]
  },
  {
   "cell_type": "code",
   "execution_count": 2,
   "metadata": {},
   "outputs": [],
   "source": [
    "def load_obj(filename):\n",
    "    vertices = []\n",
    "    with open(filename, 'r') as file:\n",
    "        for line in file:\n",
    "            if line.startswith('v '):\n",
    "                parts = line.split()\n",
    "                vertices.append([float(parts[1]), float(parts[2]), float(parts[3])])\n",
    "    return np.array(vertices)\n",
    "\n",
    "def get_dimensions(vertices):\n",
    "    min_vals = np.min(vertices, axis=0)\n",
    "    max_vals = np.max(vertices, axis=0)\n",
    "    return max_vals - min_vals"
   ]
  },
  {
   "cell_type": "code",
   "execution_count": 3,
   "metadata": {},
   "outputs": [],
   "source": [
    "def read_obj(\n",
    "        obj_name,\n",
    "        obj_position,\n",
    "        obj_rotation,\n",
    "        obj_mass = 0.5,\n",
    "        obj_dir = os.path.join(os.getcwd(), \"objects\")\n",
    "):\n",
    "  obj_path = os.path.join(obj_dir, \"{}.obj\".format(obj_name))\n",
    "  x, y, z = obj_position\n",
    "  roll, pitch, yaw = obj_rotation\n",
    "  obj_link = \"file://{}\".format(obj_path)\n",
    "  # Load the OBJ file\n",
    "  vertices = load_obj(obj_path)\n",
    "  # Calculate dimensions\n",
    "  dimensions = get_dimensions(vertices)\n",
    "  width, height, depth = dimensions\n",
    "  object_sdf = \"\"\"\n",
    "  <?xml version=\"1.0\"?>\n",
    "  <sdf version=\"1.7\">\n",
    "    <model name=\"{}\">\n",
    "      <link name=\"base_link_sugar\">\n",
    "        <inertial>\n",
    "          <mass>{}</mass>\n",
    "          <inertia>\n",
    "            <ixx>0.001418</ixx>\n",
    "            <ixy>0</ixy>\n",
    "            <ixz>0</ixz>\n",
    "            <iyy>0.000455</iyy>\n",
    "            <iyz>0</iyz>\n",
    "            <izz>0.001699</izz>\n",
    "          </inertia>\n",
    "        </inertial>\n",
    "        <visual name=\"base_link_sugar\">\n",
    "          <pose>{} {} {} {} {} {}</pose>\n",
    "          <geometry>\n",
    "            <mesh>\n",
    "              <uri>{}</uri>\n",
    "            </mesh>\n",
    "          </geometry>\n",
    "        </visual>\n",
    "      <collision name=\"box_collision\">\n",
    "          <geometry>\n",
    "            <box>\n",
    "              <size>{} {} {}</size>\n",
    "            </box>\n",
    "          </geometry>\n",
    "          <drake:proximity_properties>\n",
    "            <drake:compliant_hydroelastic/>\n",
    "            <drake:hydroelastic_modulus>1.0e8</drake:hydroelastic_modulus>\n",
    "          </drake:proximity_properties>\n",
    "        </collision>\n",
    "      </link>\n",
    "    </model>\n",
    "  </sdf>\n",
    "  \"\"\".format(obj_name, obj_mass, x, y, z, roll, pitch, yaw, obj_link, width, height, depth)\n",
    "\n",
    "  sdf_dir = os.path.join(os.getcwd(), \"sdf\")\n",
    "  object_sdf_file = os.path.join(sdf_dir, \"{}.sdf\".format(obj_name))\n",
    "  with open(object_sdf_file, \"w\") as f:\n",
    "      f.write(object_sdf)\n",
    "  obj_description = \"\"\"- add_model:\n",
    "    name: {}\n",
    "    file: \"file://{}\"\n",
    "\"\"\".format(obj_name, object_sdf_file)\n",
    "  return [width, height, depth], obj_description"
   ]
  },
  {
   "cell_type": "code",
   "execution_count": 4,
   "metadata": {},
   "outputs": [],
   "source": [
    "def read_sdf(obj_name, sdf_dir, obj_position, obj_rotation):\n",
    "  x, y, z = obj_position\n",
    "  roll, pitch, yaw = obj_rotation\n",
    "  obj_path = os.path.join(sdf_dir, \"{}.sdf\".format(obj_name))\n",
    "  sdf_link = \"file://{}\".format(obj_path)\n",
    "  rotation = \"deg: [{}, {}, {}]\".format(roll, pitch, yaw)\n",
    "  print(rotation)\n",
    "  obj_description = \"\"\"- add_model:\n",
    "    name: {}\n",
    "    file: \"file://{}\"\n",
    "- add_weld:\n",
    "    parent_body: world\n",
    "    child: {}::base\n",
    "    X_PC:\n",
    "      translation: [{}, {}, {}].format(obj_name, sdf_link)\n",
    "      rotation: !Rpy {{}}\n",
    "\"\"\".format(obj_name, sdf_link, obj_name, x, y, z, rotation)\n",
    "  return obj_description"
   ]
  },
  {
   "cell_type": "code",
   "execution_count": 6,
   "metadata": {},
   "outputs": [],
   "source": [
    "table_name = \"table\"\n",
    "table_bounds, table_description = read_obj(table_name, [0, 0, 0], [0, 0, 0])\n",
    "box_name = \"solid_box\"\n",
    "box_bounds, box_description = read_obj(box_name, [0, 0, table_bounds[2]], [0, 0, 0])"
   ]
  },
  {
   "cell_type": "code",
   "execution_count": 7,
   "metadata": {},
   "outputs": [],
   "source": [
    "# num_objs = 3\n",
    "# ycb_dir = os.path.join(os.getcwd(), \"ycb\")\n",
    "# model_names = os.listdir(ycb_dir)\n",
    "# selected_model_names = np.random.choice(model_names, num_objs, replace=False)\n",
    "# for model_name in selected_model_names:\n",
    "#     sdf_dir = os.path.join(ycb_dir, model_name)\n",
    "#     files = os.listdir(sdf_dir)\n",
    "#     for file in files:\n",
    "#         if file.endswith(\".sdf\"):\n",
    "#             obj_name = file.split(\".\")[0]\n",
    "#             obj_description = read_sdf(obj_name, sdf_dir, [0, 0, table_bounds[2]], [0, 0, 0])\n",
    "#             print(obj_description)\n",
    "#             all_descriptions.append(obj_description)"
   ]
  },
  {
   "cell_type": "code",
   "execution_count": 8,
   "metadata": {},
   "outputs": [],
   "source": [
    "yaml_file = \"\"\"\n",
    "directives:\n",
    "{}\n",
    "{}\n",
    "\"\"\".format(table_description, box_description)\n",
    "yaml_dir = os.path.join(os.getcwd(), \"yaml\")\n",
    "if not os.path.exists(yaml_dir):\n",
    "    os.makedirs(yaml_dir)\n",
    "yaml_path = os.path.join(yaml_dir, \"scene.dmd.yaml\")\n",
    "with open(yaml_path, \"w\") as f:\n",
    "    f.write(yaml_file)"
   ]
  },
  {
   "cell_type": "markdown",
   "metadata": {},
   "source": [
    "Should be added to another code"
   ]
  },
  {
   "cell_type": "code",
   "execution_count": 9,
   "metadata": {},
   "outputs": [
    {
     "name": "stderr",
     "output_type": "stream",
     "text": [
      "INFO:drake:Meshcat listening for connections at http://localhost:7000\n"
     ]
    }
   ],
   "source": [
    "# Start the visualizer.\n",
    "meshcat = StartMeshcat()"
   ]
  },
  {
   "cell_type": "code",
   "execution_count": 10,
   "metadata": {},
   "outputs": [
    {
     "name": "stderr",
     "output_type": "stream",
     "text": [
      "WARNING:drake:warning: The OBJ file's material requested a diffuse texture image: /home/aryan/Projects/Manipulation/a_grasp_in_the_dark/objects/WoodSeemles.jpg. However the mesh doesn't define any texture coordinates. The image will be omitted.\n",
      "WARNING:drake:warning: The OBJ file's material requested a diffuse texture image: /home/aryan/Projects/Manipulation/a_grasp_in_the_dark/objects/WoodSeemles1.jpg. However the mesh doesn't define any texture coordinates. The image will be omitted.\n"
     ]
    }
   ],
   "source": [
    "def setup_manipulation_station():\n",
    "    builder = DiagramBuilder()\n",
    "    station = builder.AddSystem(\n",
    "        MakeManipulationStation(\n",
    "            filename=\"file://{}\".format(yaml_path),\n",
    "            time_step=1e-3,\n",
    "        )\n",
    "    )\n",
    "    plant = station.GetSubsystemByName(\"plant\")\n",
    "    scene_graph = station.GetSubsystemByName(\"scene_graph\")\n",
    "\n",
    "    MeshcatVisualizer.AddToBuilder(\n",
    "        builder,\n",
    "        station.GetOutputPort(\"query_object\"),\n",
    "        meshcat,\n",
    "        MeshcatVisualizerParams(delete_on_initialization_event=False),\n",
    "    )\n",
    "\n",
    "\n",
    "    diagram = builder.Build()\n",
    "\n",
    "    context = plant.CreateDefaultContext()\n",
    "\n",
    "\n",
    "    simulator = Simulator(diagram)\n",
    "    simulator.set_target_realtime_rate(1.0)\n",
    "    simulator.AdvanceTo(0.01)\n",
    "\n",
    "\n",
    "\n",
    "# Get initial pose of the gripper by using default context of manip station.\n",
    "setup_manipulation_station()"
   ]
  },
  {
   "cell_type": "code",
   "execution_count": null,
   "metadata": {},
   "outputs": [],
   "source": []
  },
  {
   "cell_type": "code",
   "execution_count": null,
   "metadata": {},
   "outputs": [],
   "source": []
  }
 ],
 "metadata": {
  "kernelspec": {
   "display_name": "base",
   "language": "python",
   "name": "python3"
  },
  "language_info": {
   "codemirror_mode": {
    "name": "ipython",
    "version": 3
   },
   "file_extension": ".py",
   "mimetype": "text/x-python",
   "name": "python",
   "nbconvert_exporter": "python",
   "pygments_lexer": "ipython3",
   "version": "3.11.4"
  },
  "orig_nbformat": 4
 },
 "nbformat": 4,
 "nbformat_minor": 2
}
