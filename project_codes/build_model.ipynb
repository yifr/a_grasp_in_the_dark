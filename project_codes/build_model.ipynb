{
 "cells": [
  {
   "cell_type": "code",
   "execution_count": 3,
   "metadata": {},
   "outputs": [],
   "source": [
    "%load_ext autoreload\n",
    "%autoreload 2"
   ]
  },
  {
   "cell_type": "code",
   "execution_count": 85,
   "metadata": {},
   "outputs": [],
   "source": [
    "import numpy as np\n",
    "import pydot\n",
    "import os\n",
    "from IPython.display import SVG, display\n",
    "from pydrake.all import (\n",
    "    AddMultibodyPlantSceneGraph,\n",
    "    DiagramBuilder,\n",
    "    InverseDynamicsController,\n",
    "    LeafSystem,\n",
    "    MeshcatVisualizer,\n",
    "    MultibodyPlant,\n",
    "    Parser,\n",
    "    Simulator,\n",
    "    StartMeshcat,\n",
    "    RotationMatrix,\n",
    "    StateInterpolatorWithDiscreteDerivative,\n",
    "    ConstantVectorSource,\n",
    "    DiagramBuilder,\n",
    "    MeshcatVisualizer,\n",
    "    MeshcatVisualizerParams,\n",
    "    MultibodyPlant,\n",
    "    Parser,\n",
    "    PiecewisePolynomial,\n",
    "    PiecewiseQuaternionSlerp,\n",
    "    RigidTransform,\n",
    "    RollPitchYaw,\n",
    "    RotationMatrix,\n",
    "    Simulator,\n",
    "    Solve,\n",
    "    StartMeshcat,\n",
    "    TrajectorySource,\n",
    ")\n",
    "from manipulation.station import MakeHardwareStation, load_scenario\n",
    "from manipulation.scenarios import AddMultibodyTriad, MakeManipulationStation\n",
    "from manipulation.meshcat_utils import AddMeshcatTriad\n",
    "from pydrake.multibody import inverse_kinematics\n",
    "import matplotlib.pyplot as plt\n",
    "import copy\n",
    "import time\n",
    "from collections import Counter"
   ]
  },
  {
   "cell_type": "code",
   "execution_count": 5,
   "metadata": {},
   "outputs": [],
   "source": [
    "import model_builder\n",
    "import AllegroWrapper"
   ]
  },
  {
   "cell_type": "code",
   "execution_count": 6,
   "metadata": {},
   "outputs": [
    {
     "name": "stderr",
     "output_type": "stream",
     "text": [
      "INFO:drake:Meshcat listening for connections at http://localhost:7000\n"
     ]
    }
   ],
   "source": [
    "meshcat, station, simulator, context = model_builder.build_scenario()\n",
    "allegro = AllegroWrapper.AllegroHand(station, context)\n",
    "simulator.set_target_realtime_rate(1.0)\n",
    "x0 = allegro.get_state()"
   ]
  },
  {
   "cell_type": "code",
   "execution_count": 7,
   "metadata": {},
   "outputs": [
    {
     "data": {
      "image/svg+xml": "<svg xmlns=\"http://www.w3.org/2000/svg\" xmlns:xlink=\"http://www.w3.org/1999/xlink\" width=\"2107pt\" height=\"1087pt\" viewBox=\"0.00 0.00 2106.57 1087.42\">\n<g id=\"graph0\" class=\"graph\" transform=\"scale(1 1) rotate(0) translate(4 1083.42)\">\n<title>_410</title>\n<polygon fill=\"white\" stroke=\"transparent\" points=\"-4,4 -4,-1083.42 2102.57,-1083.42 2102.57,4 -4,4\"/>\n<g id=\"clust1\" class=\"cluster\">\n<title>cluster410diagram</title>\n<polygon fill=\"none\" stroke=\"black\" points=\"8,-36.42 8,-1071.42 2090.57,-1071.42 2090.57,-36.42 8,-36.42\"/>\n<text text-anchor=\"start\" x=\"1015.79\" y=\"-1053.22\" font-family=\"Times,serif\" font-weight=\"bold\" font-size=\"14.00\">Diagram</text>\n<text text-anchor=\"start\" x=\"999.29\" y=\"-1039.22\" font-family=\"Times,serif\" font-size=\"14.00\">name=station</text>\n</g>\n<g id=\"clust2\" class=\"cluster\">\n<title>clusters410in</title>\n<polygon fill=\"lightgrey\" stroke=\"lightgrey\" points=\"744,-944.42 744,-1019.42 980,-1019.42 980,-944.42 744,-944.42\"/>\n<text text-anchor=\"middle\" x=\"862\" y=\"-1004.22\" font-family=\"Times,serif\" font-size=\"14.00\">input ports</text>\n</g>\n<g id=\"clust3\" class=\"cluster\">\n<title>clusters410out</title>\n<polygon fill=\"lightgrey\" stroke=\"lightgrey\" points=\"1433.5,-44.42 1433.5,-215.42 1687.5,-215.42 1687.5,-44.42 1433.5,-44.42\"/>\n<text text-anchor=\"middle\" x=\"1560.5\" y=\"-200.22\" font-family=\"Times,serif\" font-size=\"14.00\">output ports</text>\n</g>\n<g id=\"clust4\" class=\"cluster\">\n<title>cluster410subsystems</title>\n<polygon fill=\"none\" stroke=\"white\" points=\"16,-223.42 16,-936.42 2082.57,-936.42 2082.57,-223.42 16,-223.42\"/>\n</g>\n<!-- s410in -->\n<g id=\"node1\" class=\"node\">\n<title>s410in</title>\n<polygon fill=\"none\" stroke=\"blue\" points=\"763,-959.42 763,-980.42 961,-980.42 961,-959.42 763,-959.42\"/>\n<text text-anchor=\"start\" x=\"766\" y=\"-966.22\" font-family=\"Times,serif\" font-size=\"14.00\">iiwa+allegro.desired_state</text>\n</g>\n<!-- s262 -->\n<g id=\"node5\" class=\"node\">\n<title>s262</title>\n<polygon fill=\"none\" stroke=\"black\" points=\"1073.5,-795.42 1073.5,-829.42 1327.5,-829.42 1327.5,-795.42 1073.5,-795.42\"/>\n<text text-anchor=\"start\" x=\"1092\" y=\"-816.22\" font-family=\"Times,serif\" font-weight=\"bold\" font-size=\"14.00\">InverseDynamicsController</text>\n<text text-anchor=\"start\" x=\"1092\" y=\"-802.22\" font-family=\"Times,serif\" font-size=\"14.00\">name=iiwa+allegro.controller</text>\n<polygon fill=\"none\" stroke=\"black\" points=\"1073.5,-774.42 1073.5,-795.42 1194.5,-795.42 1194.5,-774.42 1073.5,-774.42\"/>\n<text text-anchor=\"start\" x=\"1076.5\" y=\"-781.22\" font-family=\"Times,serif\" font-size=\"14.00\">estimated_state</text>\n<polygon fill=\"none\" stroke=\"black\" points=\"1194.5,-774.42 1194.5,-795.42 1327.5,-795.42 1327.5,-774.42 1194.5,-774.42\"/>\n<text text-anchor=\"start\" x=\"1197.5\" y=\"-781.22\" font-family=\"Times,serif\" font-size=\"14.00\">generalized_force</text>\n<polygon fill=\"none\" stroke=\"black\" points=\"1073.5,-753.42 1073.5,-774.42 1194.5,-774.42 1194.5,-753.42 1073.5,-753.42\"/>\n<text text-anchor=\"start\" x=\"1085.5\" y=\"-760.22\" font-family=\"Times,serif\" font-size=\"14.00\">desired_state</text>\n<polygon fill=\"none\" stroke=\"black\" points=\"1194.5,-753.42 1194.5,-774.42 1327.5,-774.42 1327.5,-753.42 1194.5,-753.42\"/>\n<text text-anchor=\"start\" x=\"1233.5\" y=\"-761.22\" font-family=\"Times,serif\" text-decoration=\"line-through\" font-size=\"14.00\">force</text>\n<text text-anchor=\"start\" x=\"1270.5\" y=\"-761.22\" font-family=\"Times,serif\" font-size=\"14.00\">🪦</text>\n</g>\n<!-- s410in&#45;&gt;s262 -->\n<g id=\"edge27\" class=\"edge\">\n<title>s410in:e-&gt;s262:w</title>\n<path fill=\"none\" stroke=\"blue\" d=\"M962,-969.42C989.63,-969.42 999.31,-961.65 1017,-940.42 1067.41,-879.93 996.95,-773.53 1062.34,-764.09\"/>\n<polygon fill=\"blue\" stroke=\"blue\" points=\"1062.75,-767.57 1072.5,-763.42 1062.29,-760.59 1062.75,-767.57\"/>\n</g>\n<!-- s410out -->\n<g id=\"node2\" class=\"node\">\n<title>s410out</title>\n<polygon fill=\"none\" stroke=\"green\" points=\"1452.5,-155.42 1452.5,-176.42 1668.5,-176.42 1668.5,-155.42 1452.5,-155.42\"/>\n<text text-anchor=\"start\" x=\"1455.5\" y=\"-162.22\" font-family=\"Times,serif\" font-size=\"14.00\">iiwa+allegro.state_estimated</text>\n<polygon fill=\"none\" stroke=\"green\" points=\"1452.5,-131.42 1452.5,-152.42 1668.5,-152.42 1668.5,-131.42 1452.5,-131.42\"/>\n<text text-anchor=\"start\" x=\"1514.5\" y=\"-138.22\" font-family=\"Times,serif\" font-size=\"14.00\">query_object</text>\n<polygon fill=\"none\" stroke=\"green\" points=\"1452.5,-107.42 1452.5,-128.42 1668.5,-128.42 1668.5,-107.42 1452.5,-107.42\"/>\n<text text-anchor=\"start\" x=\"1506\" y=\"-114.22\" font-family=\"Times,serif\" font-size=\"14.00\">contact_results</text>\n<polygon fill=\"none\" stroke=\"green\" points=\"1452.5,-83.42 1452.5,-104.42 1668.5,-104.42 1668.5,-83.42 1452.5,-83.42\"/>\n<text text-anchor=\"start\" x=\"1478\" y=\"-90.22\" font-family=\"Times,serif\" font-size=\"14.00\">plant_continuous_state</text>\n<polygon fill=\"none\" stroke=\"green\" points=\"1452.5,-59.42 1452.5,-80.42 1668.5,-80.42 1668.5,-59.42 1452.5,-59.42\"/>\n<text text-anchor=\"start\" x=\"1519.5\" y=\"-66.22\" font-family=\"Times,serif\" font-size=\"14.00\">body_poses</text>\n</g>\n<!-- s2 -->\n<g id=\"node3\" class=\"node\">\n<title>s2</title>\n<polygon fill=\"none\" stroke=\"black\" points=\"32.5,-844.42 32.5,-878.42 663.5,-878.42 663.5,-844.42 32.5,-844.42\"/>\n<text text-anchor=\"start\" x=\"286.5\" y=\"-865.22\" font-family=\"Times,serif\" font-weight=\"bold\" font-size=\"14.00\">MultibodyPlant</text>\n<text text-anchor=\"start\" x=\"304\" y=\"-851.22\" font-family=\"Times,serif\" font-size=\"14.00\">name=plant</text>\n<polygon fill=\"none\" stroke=\"black\" points=\"32.5,-823.42 32.5,-844.42 299.5,-844.42 299.5,-823.42 32.5,-823.42\"/>\n<text text-anchor=\"start\" x=\"107.5\" y=\"-830.22\" font-family=\"Times,serif\" font-size=\"14.00\">geometry_query</text>\n<polygon fill=\"none\" stroke=\"black\" points=\"299.5,-823.42 299.5,-844.42 663.5,-844.42 663.5,-823.42 299.5,-823.42\"/>\n<text text-anchor=\"start\" x=\"427\" y=\"-830.22\" font-family=\"Times,serif\" font-size=\"14.00\">geometry_pose</text>\n<polygon fill=\"none\" stroke=\"black\" points=\"32.5,-802.42 32.5,-823.42 299.5,-823.42 299.5,-802.42 32.5,-802.42\"/>\n<text text-anchor=\"start\" x=\"55.5\" y=\"-809.22\" font-family=\"Times,serif\" font-size=\"14.00\" fill=\"grey\">WorldModelInstance_actuation</text>\n<polygon fill=\"none\" stroke=\"black\" points=\"299.5,-802.42 299.5,-823.42 663.5,-823.42 663.5,-802.42 299.5,-802.42\"/>\n<text text-anchor=\"start\" x=\"463\" y=\"-809.22\" font-family=\"Times,serif\" font-size=\"14.00\">state</text>\n<polygon fill=\"none\" stroke=\"black\" points=\"32.5,-781.42 32.5,-802.42 299.5,-802.42 299.5,-781.42 32.5,-781.42\"/>\n<text text-anchor=\"start\" x=\"50\" y=\"-788.22\" font-family=\"Times,serif\" font-size=\"14.00\" fill=\"grey\">DefaultModelInstance_actuation</text>\n<polygon fill=\"none\" stroke=\"black\" points=\"299.5,-781.42 299.5,-802.42 663.5,-802.42 663.5,-781.42 299.5,-781.42\"/>\n<text text-anchor=\"start\" x=\"440.5\" y=\"-788.22\" font-family=\"Times,serif\" font-size=\"14.00\">body_poses</text>\n<polygon fill=\"none\" stroke=\"black\" points=\"32.5,-760.42 32.5,-781.42 299.5,-781.42 299.5,-760.42 32.5,-760.42\"/>\n<text text-anchor=\"start\" x=\"114.5\" y=\"-767.22\" font-family=\"Times,serif\" font-size=\"14.00\">iiwa_actuation</text>\n<polygon fill=\"none\" stroke=\"black\" points=\"299.5,-760.42 299.5,-781.42 663.5,-781.42 663.5,-760.42 299.5,-760.42\"/>\n<text text-anchor=\"start\" x=\"420\" y=\"-767.22\" font-family=\"Times,serif\" font-size=\"14.00\">spatial_velocities</text>\n<polygon fill=\"none\" stroke=\"black\" points=\"32.5,-739.42 32.5,-760.42 299.5,-760.42 299.5,-739.42 32.5,-739.42\"/>\n<text text-anchor=\"start\" x=\"104\" y=\"-746.22\" font-family=\"Times,serif\" font-size=\"14.00\">allegro_actuation</text>\n<polygon fill=\"none\" stroke=\"black\" points=\"299.5,-739.42 299.5,-760.42 663.5,-760.42 663.5,-739.42 299.5,-739.42\"/>\n<text text-anchor=\"start\" x=\"406.5\" y=\"-746.22\" font-family=\"Times,serif\" font-size=\"14.00\">spatial_accelerations</text>\n<polygon fill=\"none\" stroke=\"black\" points=\"32.5,-718.42 32.5,-739.42 299.5,-739.42 299.5,-718.42 32.5,-718.42\"/>\n<text text-anchor=\"start\" x=\"90\" y=\"-725.22\" font-family=\"Times,serif\" font-size=\"14.00\" fill=\"grey\">foam_brick_actuation</text>\n<polygon fill=\"none\" stroke=\"black\" points=\"299.5,-718.42 299.5,-739.42 663.5,-739.42 663.5,-718.42 299.5,-718.42\"/>\n<text text-anchor=\"start\" x=\"392.5\" y=\"-725.22\" font-family=\"Times,serif\" font-size=\"14.00\">generalized_acceleration</text>\n<polygon fill=\"none\" stroke=\"black\" points=\"32.5,-697.42 32.5,-718.42 299.5,-718.42 299.5,-697.42 32.5,-697.42\"/>\n<text text-anchor=\"start\" x=\"88.5\" y=\"-704.22\" font-family=\"Times,serif\" font-size=\"14.00\" fill=\"grey\">robot_table_actuation</text>\n<polygon fill=\"none\" stroke=\"black\" points=\"299.5,-697.42 299.5,-718.42 663.5,-718.42 663.5,-697.42 299.5,-697.42\"/>\n<text text-anchor=\"start\" x=\"386.5\" y=\"-704.22\" font-family=\"Times,serif\" font-size=\"14.00\" fill=\"grey\">WorldModelInstance_state</text>\n<polygon fill=\"none\" stroke=\"black\" points=\"32.5,-676.42 32.5,-697.42 299.5,-697.42 299.5,-676.42 32.5,-676.42\"/>\n<text text-anchor=\"start\" x=\"90\" y=\"-683.22\" font-family=\"Times,serif\" font-size=\"14.00\" fill=\"grey\">work_table_actuation</text>\n<polygon fill=\"none\" stroke=\"black\" points=\"299.5,-676.42 299.5,-697.42 663.5,-697.42 663.5,-676.42 299.5,-676.42\"/>\n<text text-anchor=\"start\" x=\"316\" y=\"-683.22\" font-family=\"Times,serif\" font-size=\"14.00\" fill=\"grey\">WorldModelInstance_generalized_acceleration</text>\n<polygon fill=\"none\" stroke=\"black\" points=\"32.5,-655.42 32.5,-676.42 299.5,-676.42 299.5,-655.42 32.5,-655.42\"/>\n<text text-anchor=\"start\" x=\"132.5\" y=\"-662.22\" font-family=\"Times,serif\" font-size=\"14.00\">actuation</text>\n<polygon fill=\"none\" stroke=\"black\" points=\"299.5,-655.42 299.5,-676.42 663.5,-676.42 663.5,-655.42 299.5,-655.42\"/>\n<text text-anchor=\"start\" x=\"381\" y=\"-662.22\" font-family=\"Times,serif\" font-size=\"14.00\" fill=\"grey\">DefaultModelInstance_state</text>\n<polygon fill=\"none\" stroke=\"black\" points=\"32.5,-634.42 32.5,-655.42 299.5,-655.42 299.5,-634.42 32.5,-634.42\"/>\n<text text-anchor=\"start\" x=\"41\" y=\"-641.22\" font-family=\"Times,serif\" font-size=\"14.00\" fill=\"grey\">WorldModelInstance_desired_state</text>\n<polygon fill=\"none\" stroke=\"black\" points=\"299.5,-634.42 299.5,-655.42 663.5,-655.42 663.5,-634.42 299.5,-634.42\"/>\n<text text-anchor=\"start\" x=\"310.5\" y=\"-641.22\" font-family=\"Times,serif\" font-size=\"14.00\" fill=\"grey\">DefaultModelInstance_generalized_acceleration</text>\n<polygon fill=\"none\" stroke=\"black\" points=\"32.5,-613.42 32.5,-634.42 299.5,-634.42 299.5,-613.42 32.5,-613.42\"/>\n<text text-anchor=\"start\" x=\"35.5\" y=\"-620.22\" font-family=\"Times,serif\" font-size=\"14.00\" fill=\"grey\">DefaultModelInstance_desired_state</text>\n<polygon fill=\"none\" stroke=\"black\" points=\"299.5,-613.42 299.5,-634.42 663.5,-634.42 663.5,-613.42 299.5,-613.42\"/>\n<text text-anchor=\"start\" x=\"445\" y=\"-620.22\" font-family=\"Times,serif\" font-size=\"14.00\">iiwa_state</text>\n<polygon fill=\"none\" stroke=\"black\" points=\"32.5,-592.42 32.5,-613.42 299.5,-613.42 299.5,-592.42 32.5,-592.42\"/>\n<text text-anchor=\"start\" x=\"99.5\" y=\"-599.22\" font-family=\"Times,serif\" font-size=\"14.00\" fill=\"grey\">iiwa_desired_state</text>\n<polygon fill=\"none\" stroke=\"black\" points=\"299.5,-592.42 299.5,-613.42 663.5,-613.42 663.5,-592.42 299.5,-592.42\"/>\n<text text-anchor=\"start\" x=\"374.5\" y=\"-599.22\" font-family=\"Times,serif\" font-size=\"14.00\">iiwa_generalized_acceleration</text>\n<polygon fill=\"none\" stroke=\"black\" points=\"32.5,-571.42 32.5,-592.42 299.5,-592.42 299.5,-571.42 32.5,-571.42\"/>\n<text text-anchor=\"start\" x=\"89.5\" y=\"-578.22\" font-family=\"Times,serif\" font-size=\"14.00\" fill=\"grey\">allegro_desired_state</text>\n<polygon fill=\"none\" stroke=\"black\" points=\"299.5,-571.42 299.5,-592.42 663.5,-592.42 663.5,-571.42 299.5,-571.42\"/>\n<text text-anchor=\"start\" x=\"435\" y=\"-578.22\" font-family=\"Times,serif\" font-size=\"14.00\">allegro_state</text>\n<polygon fill=\"none\" stroke=\"black\" points=\"32.5,-550.42 32.5,-571.42 299.5,-571.42 299.5,-550.42 32.5,-550.42\"/>\n<text text-anchor=\"start\" x=\"75.5\" y=\"-557.22\" font-family=\"Times,serif\" font-size=\"14.00\" fill=\"grey\">foam_brick_desired_state</text>\n<polygon fill=\"none\" stroke=\"black\" points=\"299.5,-550.42 299.5,-571.42 663.5,-571.42 663.5,-550.42 299.5,-550.42\"/>\n<text text-anchor=\"start\" x=\"364.5\" y=\"-557.22\" font-family=\"Times,serif\" font-size=\"14.00\">allegro_generalized_acceleration</text>\n<polygon fill=\"none\" stroke=\"black\" points=\"32.5,-529.42 32.5,-550.42 299.5,-550.42 299.5,-529.42 32.5,-529.42\"/>\n<text text-anchor=\"start\" x=\"74\" y=\"-536.22\" font-family=\"Times,serif\" font-size=\"14.00\" fill=\"grey\">robot_table_desired_state</text>\n<polygon fill=\"none\" stroke=\"black\" points=\"299.5,-529.42 299.5,-550.42 663.5,-550.42 663.5,-529.42 299.5,-529.42\"/>\n<text text-anchor=\"start\" x=\"421\" y=\"-536.22\" font-family=\"Times,serif\" font-size=\"14.00\">foam_brick_state</text>\n<polygon fill=\"none\" stroke=\"black\" points=\"32.5,-508.42 32.5,-529.42 299.5,-529.42 299.5,-508.42 32.5,-508.42\"/>\n<text text-anchor=\"start\" x=\"75.5\" y=\"-515.22\" font-family=\"Times,serif\" font-size=\"14.00\" fill=\"grey\">work_table_desired_state</text>\n<polygon fill=\"none\" stroke=\"black\" points=\"299.5,-508.42 299.5,-529.42 663.5,-529.42 663.5,-508.42 299.5,-508.42\"/>\n<text text-anchor=\"start\" x=\"350.5\" y=\"-515.22\" font-family=\"Times,serif\" font-size=\"14.00\">foam_brick_generalized_acceleration</text>\n<polygon fill=\"none\" stroke=\"black\" points=\"32.5,-487.42 32.5,-508.42 299.5,-508.42 299.5,-487.42 32.5,-487.42\"/>\n<text text-anchor=\"start\" x=\"73\" y=\"-494.22\" font-family=\"Times,serif\" font-size=\"14.00\">applied_generalized_force</text>\n<polygon fill=\"none\" stroke=\"black\" points=\"299.5,-487.42 299.5,-508.42 663.5,-508.42 663.5,-487.42 299.5,-487.42\"/>\n<text text-anchor=\"start\" x=\"419.5\" y=\"-494.22\" font-family=\"Times,serif\" font-size=\"14.00\" fill=\"grey\">robot_table_state</text>\n<polygon fill=\"none\" stroke=\"black\" points=\"32.5,-466.42 32.5,-487.42 299.5,-487.42 299.5,-466.42 32.5,-466.42\"/>\n<text text-anchor=\"start\" x=\"90.5\" y=\"-473.22\" font-family=\"Times,serif\" font-size=\"14.00\">applied_spatial_force</text>\n<polygon fill=\"none\" stroke=\"black\" points=\"299.5,-466.42 299.5,-487.42 663.5,-487.42 663.5,-466.42 299.5,-466.42\"/>\n<text text-anchor=\"start\" x=\"349\" y=\"-473.22\" font-family=\"Times,serif\" font-size=\"14.00\" fill=\"grey\">robot_table_generalized_acceleration</text>\n<polyline fill=\"none\" stroke=\"grey\" points=\"32.5,-466.42 32.5,-235.42 299.5,-235.42 \"/>\n<polygon fill=\"none\" stroke=\"black\" points=\"299.5,-445.42 299.5,-466.42 663.5,-466.42 663.5,-445.42 299.5,-445.42\"/>\n<text text-anchor=\"start\" x=\"421\" y=\"-452.22\" font-family=\"Times,serif\" font-size=\"14.00\" fill=\"grey\">work_table_state</text>\n<polygon fill=\"none\" stroke=\"black\" points=\"299.5,-424.42 299.5,-445.42 663.5,-445.42 663.5,-424.42 299.5,-424.42\"/>\n<text text-anchor=\"start\" x=\"350.5\" y=\"-431.22\" font-family=\"Times,serif\" font-size=\"14.00\" fill=\"grey\">work_table_generalized_acceleration</text>\n<polygon fill=\"none\" stroke=\"black\" points=\"299.5,-403.42 299.5,-424.42 663.5,-424.42 663.5,-403.42 299.5,-403.42\"/>\n<text text-anchor=\"start\" x=\"308\" y=\"-410.22\" font-family=\"Times,serif\" font-size=\"14.00\" fill=\"grey\">WorldModelInstance_generalized_contact_forces</text>\n<polygon fill=\"none\" stroke=\"black\" points=\"299.5,-382.42 299.5,-403.42 663.5,-403.42 663.5,-382.42 299.5,-382.42\"/>\n<text text-anchor=\"start\" x=\"302.5\" y=\"-389.22\" font-family=\"Times,serif\" font-size=\"14.00\" fill=\"grey\">DefaultModelInstance_generalized_contact_forces</text>\n<polygon fill=\"none\" stroke=\"black\" points=\"299.5,-361.42 299.5,-382.42 663.5,-382.42 663.5,-361.42 299.5,-361.42\"/>\n<text text-anchor=\"start\" x=\"367\" y=\"-368.22\" font-family=\"Times,serif\" font-size=\"14.00\">iiwa_generalized_contact_forces</text>\n<polygon fill=\"none\" stroke=\"black\" points=\"299.5,-340.42 299.5,-361.42 663.5,-361.42 663.5,-340.42 299.5,-340.42\"/>\n<text text-anchor=\"start\" x=\"356.5\" y=\"-347.22\" font-family=\"Times,serif\" font-size=\"14.00\">allegro_generalized_contact_forces</text>\n<polygon fill=\"none\" stroke=\"black\" points=\"299.5,-319.42 299.5,-340.42 663.5,-340.42 663.5,-319.42 299.5,-319.42\"/>\n<text text-anchor=\"start\" x=\"342.5\" y=\"-326.22\" font-family=\"Times,serif\" font-size=\"14.00\">foam_brick_generalized_contact_forces</text>\n<polygon fill=\"none\" stroke=\"black\" points=\"299.5,-298.42 299.5,-319.42 663.5,-319.42 663.5,-298.42 299.5,-298.42\"/>\n<text text-anchor=\"start\" x=\"341\" y=\"-305.22\" font-family=\"Times,serif\" font-size=\"14.00\" fill=\"grey\">robot_table_generalized_contact_forces</text>\n<polygon fill=\"none\" stroke=\"black\" points=\"299.5,-277.42 299.5,-298.42 663.5,-298.42 663.5,-277.42 299.5,-277.42\"/>\n<text text-anchor=\"start\" x=\"342.5\" y=\"-284.22\" font-family=\"Times,serif\" font-size=\"14.00\" fill=\"grey\">work_table_generalized_contact_forces</text>\n<polygon fill=\"none\" stroke=\"black\" points=\"299.5,-256.42 299.5,-277.42 663.5,-277.42 663.5,-256.42 299.5,-256.42\"/>\n<text text-anchor=\"start\" x=\"427\" y=\"-263.22\" font-family=\"Times,serif\" font-size=\"14.00\">reaction_forces</text>\n<polygon fill=\"none\" stroke=\"black\" points=\"299.5,-235.42 299.5,-256.42 663.5,-256.42 663.5,-235.42 299.5,-235.42\"/>\n<text text-anchor=\"start\" x=\"427\" y=\"-242.22\" font-family=\"Times,serif\" font-size=\"14.00\">contact_results</text>\n</g>\n<!-- s2&#45;&gt;s410out -->\n<g id=\"edge30\" class=\"edge\">\n<title>s2:e-&gt;s410out:w</title>\n<path fill=\"none\" stroke=\"green\" d=\"M664.5,-245.42C706.74,-245.42 671.73,-183.65 707,-160.42 773.83,-116.4 1328.75,-117.3 1441.26,-117.41\"/>\n<polygon fill=\"green\" stroke=\"green\" points=\"1441.5,-120.91 1451.5,-117.42 1441.5,-113.91 1441.5,-120.91\"/>\n</g>\n<!-- s2&#45;&gt;s410out -->\n<g id=\"edge31\" class=\"edge\">\n<title>s2:e-&gt;s410out:w</title>\n<path fill=\"none\" stroke=\"green\" d=\"M664.5,-813.42C730.23,-813.42 662.45,-271.74 707,-223.42 755.85,-170.43 1277.7,-140.29 1348,-124.42 1391.36,-114.62 1401.99,-96.39 1441.43,-93.74\"/>\n<polygon fill=\"green\" stroke=\"green\" points=\"1441.62,-97.24 1451.5,-93.42 1441.39,-90.24 1441.62,-97.24\"/>\n</g>\n<!-- s2&#45;&gt;s410out -->\n<g id=\"edge32\" class=\"edge\">\n<title>s2:e-&gt;s410out:w</title>\n<path fill=\"none\" stroke=\"green\" d=\"M664.5,-792.42C739.43,-792.42 654.12,-172.5 707,-119.42 938.63,113.14 1116.19,-65.67 1441.35,-69.36\"/>\n<polygon fill=\"green\" stroke=\"green\" points=\"1441.48,-72.86 1451.5,-69.42 1441.52,-65.86 1441.48,-72.86\"/>\n</g>\n<!-- s3 -->\n<g id=\"node4\" class=\"node\">\n<title>s3</title>\n<polygon fill=\"none\" stroke=\"black\" points=\"1061.5,-653.42 1061.5,-687.42 1340.5,-687.42 1340.5,-653.42 1061.5,-653.42\"/>\n<text text-anchor=\"start\" x=\"1153\" y=\"-674.22\" font-family=\"Times,serif\" font-weight=\"bold\" font-size=\"14.00\">SceneGraph</text>\n<text text-anchor=\"start\" x=\"1130.5\" y=\"-660.22\" font-family=\"Times,serif\" font-size=\"14.00\">name=scene_graph</text>\n<polygon fill=\"none\" stroke=\"black\" points=\"1061.5,-632.42 1061.5,-653.42 1292.5,-653.42 1292.5,-632.42 1061.5,-632.42\"/>\n<text text-anchor=\"start\" x=\"1138.5\" y=\"-639.22\" font-family=\"Times,serif\" font-size=\"14.00\">plant_pose</text>\n<polygon fill=\"none\" stroke=\"black\" points=\"1292.5,-569.42 1292.5,-653.42 1340.5,-653.42 1340.5,-569.42 1292.5,-569.42\"/>\n<text text-anchor=\"start\" x=\"1295.5\" y=\"-607.72\" font-family=\"Times,serif\" font-size=\"14.00\">query</text>\n<polygon fill=\"none\" stroke=\"black\" points=\"1061.5,-611.42 1061.5,-632.42 1292.5,-632.42 1292.5,-611.42 1061.5,-611.42\"/>\n<text text-anchor=\"start\" x=\"1107.5\" y=\"-618.22\" font-family=\"Times,serif\" font-size=\"14.00\">plant_configuration</text>\n<polygon fill=\"none\" stroke=\"black\" points=\"1061.5,-590.42 1061.5,-611.42 1292.5,-611.42 1292.5,-590.42 1061.5,-590.42\"/>\n<text text-anchor=\"start\" x=\"1095.5\" y=\"-597.22\" font-family=\"Times,serif\" font-size=\"14.00\">inertia_visualizer_pose</text>\n<polygon fill=\"none\" stroke=\"black\" points=\"1061.5,-569.42 1061.5,-590.42 1292.5,-590.42 1292.5,-569.42 1061.5,-569.42\"/>\n<text text-anchor=\"start\" x=\"1064.5\" y=\"-576.22\" font-family=\"Times,serif\" font-size=\"14.00\">inertia_visualizer_configuration</text>\n</g>\n<!-- s2&#45;&gt;s3 -->\n<g id=\"edge15\" class=\"edge\">\n<title>s2:e-&gt;s3:w</title>\n<path fill=\"none\" stroke=\"black\" d=\"M664.5,-834.42C691.37,-834.42 682.21,-867.06 707,-877.42 834.14,-930.51 911.05,-965.49 1017,-877.42 1095.57,-812.11 964.27,-654.68 1050.51,-643.99\"/>\n<polygon fill=\"black\" stroke=\"black\" points=\"1050.72,-647.48 1060.5,-643.42 1050.32,-640.5 1050.72,-647.48\"/>\n</g>\n<!-- s269 -->\n<g id=\"node6\" class=\"node\">\n<title>s269</title>\n<polygon fill=\"none\" stroke=\"black\" points=\"715,-624.42 715,-658.42 1009,-658.42 1009,-624.42 715,-624.42\"/>\n<text text-anchor=\"start\" x=\"718\" y=\"-645.22\" font-family=\"Times,serif\" font-weight=\"bold\" font-size=\"14.00\">manipulation.station.MultiplexState</text>\n<text text-anchor=\"start\" x=\"732.5\" y=\"-631.22\" font-family=\"Times,serif\" font-size=\"14.00\">name=iiwa+allegro.combined_state</text>\n<polygon fill=\"none\" stroke=\"black\" points=\"715,-603.42 715,-624.42 851,-624.42 851,-603.42 715,-603.42\"/>\n<text text-anchor=\"start\" x=\"748\" y=\"-610.22\" font-family=\"Times,serif\" font-size=\"14.00\">iiwa.state</text>\n<polygon fill=\"none\" stroke=\"black\" points=\"851,-582.42 851,-624.42 1009,-624.42 1009,-582.42 851,-582.42\"/>\n<text text-anchor=\"start\" x=\"874\" y=\"-599.72\" font-family=\"Times,serif\" font-size=\"14.00\">combined_state</text>\n<polygon fill=\"none\" stroke=\"black\" points=\"715,-582.42 715,-603.42 851,-603.42 851,-582.42 715,-582.42\"/>\n<text text-anchor=\"start\" x=\"737.5\" y=\"-589.22\" font-family=\"Times,serif\" font-size=\"14.00\">allegro.state</text>\n</g>\n<!-- s2&#45;&gt;s269 -->\n<g id=\"edge25\" class=\"edge\">\n<title>s2:e-&gt;s269:w</title>\n<path fill=\"none\" stroke=\"black\" d=\"M664.5,-624.42C683.16,-624.42 689.41,-616.87 703.8,-614.28\"/>\n<polygon fill=\"black\" stroke=\"black\" points=\"704.33,-617.75 714,-613.42 703.74,-610.77 704.33,-617.75\"/>\n</g>\n<!-- s2&#45;&gt;s269 -->\n<g id=\"edge26\" class=\"edge\">\n<title>s2:e-&gt;s269:w</title>\n<path fill=\"none\" stroke=\"black\" d=\"M664.5,-582.42C683.09,-582.42 689.44,-589.28 703.83,-591.63\"/>\n<polygon fill=\"black\" stroke=\"black\" points=\"703.76,-595.14 714,-592.42 704.3,-588.16 703.76,-595.14\"/>\n</g>\n<!-- s280 -->\n<g id=\"node11\" class=\"node\">\n<title>s280</title>\n<polygon fill=\"none\" stroke=\"black\" points=\"744,-256.42 744,-290.42 980,-290.42 980,-256.42 744,-256.42\"/>\n<text text-anchor=\"start\" x=\"747\" y=\"-277.22\" font-family=\"Times,serif\" font-weight=\"bold\" font-size=\"14.00\">ContactResultsToLcmSystem</text>\n<text text-anchor=\"start\" x=\"783.5\" y=\"-263.22\" font-family=\"Times,serif\" font-size=\"14.00\">name=contact_to_lcm</text>\n<polygon fill=\"none\" stroke=\"black\" points=\"744,-235.42 744,-256.42 862,-256.42 862,-235.42 744,-235.42\"/>\n<text text-anchor=\"start\" x=\"793.5\" y=\"-242.22\" font-family=\"Times,serif\" font-size=\"14.00\">u0</text>\n<polygon fill=\"none\" stroke=\"black\" points=\"862,-235.42 862,-256.42 980,-256.42 980,-235.42 862,-235.42\"/>\n<text text-anchor=\"start\" x=\"912\" y=\"-242.22\" font-family=\"Times,serif\" font-size=\"14.00\">y0</text>\n</g>\n<!-- s2&#45;&gt;s280 -->\n<g id=\"edge14\" class=\"edge\">\n<title>s2:e-&gt;s280:w</title>\n<path fill=\"none\" stroke=\"black\" d=\"M664.5,-245.42C695.71,-245.42 705.98,-245.42 732.77,-245.42\"/>\n<polygon fill=\"black\" stroke=\"black\" points=\"733,-248.92 743,-245.42 733,-241.92 733,-248.92\"/>\n</g>\n<!-- s282 -->\n<g id=\"node13\" class=\"node\">\n<title>s282</title>\n<polygon fill=\"none\" stroke=\"black\" points=\"726,-815.42 726,-849.42 999,-849.42 999,-815.42 726,-815.42\"/>\n<text text-anchor=\"start\" x=\"795.5\" y=\"-836.22\" font-family=\"Times,serif\" font-weight=\"bold\" font-size=\"14.00\">InertiaVisualizer</text>\n<text text-anchor=\"start\" x=\"775\" y=\"-822.22\" font-family=\"Times,serif\" font-size=\"14.00\">name=inertia_visualizer</text>\n<polygon fill=\"none\" stroke=\"black\" points=\"726,-794.42 726,-815.42 884,-815.42 884,-794.42 726,-794.42\"/>\n<text text-anchor=\"start\" x=\"729\" y=\"-801.22\" font-family=\"Times,serif\" font-size=\"14.00\">plant_geometry_pose</text>\n<polygon fill=\"none\" stroke=\"black\" points=\"884,-794.42 884,-815.42 999,-815.42 999,-794.42 884,-794.42\"/>\n<text text-anchor=\"start\" x=\"887\" y=\"-801.22\" font-family=\"Times,serif\" font-size=\"14.00\">geometry_pose</text>\n</g>\n<!-- s2&#45;&gt;s282 -->\n<g id=\"edge11\" class=\"edge\">\n<title>s2:e-&gt;s282:w</title>\n<path fill=\"none\" stroke=\"black\" d=\"M664.5,-834.42C690.76,-834.42 694.41,-811.45 715.01,-805.71\"/>\n<polygon fill=\"black\" stroke=\"black\" points=\"715.53,-809.17 725,-804.42 714.63,-802.23 715.53,-809.17\"/>\n</g>\n<!-- s387 -->\n<g id=\"node18\" class=\"node\">\n<title>s387</title>\n<polygon fill=\"none\" stroke=\"black\" points=\"1434.5,-488.42 1434.5,-536.42 1687.5,-536.42 1687.5,-488.42 1434.5,-488.42\"/>\n<text text-anchor=\"start\" x=\"1490.5\" y=\"-523.22\" font-family=\"Times,serif\" font-weight=\"bold\" font-size=\"14.00\">ContactVisualizer</text>\n<text text-anchor=\"start\" x=\"1437.5\" y=\"-509.22\" font-family=\"Times,serif\" font-size=\"14.00\">name=meshcat_contact_visualizer</text>\n<text text-anchor=\"start\" x=\"1462.5\" y=\"-495.22\" font-family=\"Times,serif\" font-size=\"14.00\">path=/drake/contact_forces</text>\n<polygon fill=\"none\" stroke=\"black\" points=\"1434.5,-467.42 1434.5,-488.42 1615.5,-488.42 1615.5,-467.42 1434.5,-467.42\"/>\n<text text-anchor=\"start\" x=\"1470.5\" y=\"-474.22\" font-family=\"Times,serif\" font-size=\"14.00\">contact_results</text>\n<polyline fill=\"none\" stroke=\"grey\" points=\"1615.5,-446.42 1687.5,-446.42 1687.5,-488.42 \"/>\n<polygon fill=\"none\" stroke=\"black\" points=\"1434.5,-446.42 1434.5,-467.42 1615.5,-467.42 1615.5,-446.42 1434.5,-446.42\"/>\n<text text-anchor=\"start\" x=\"1479\" y=\"-453.22\" font-family=\"Times,serif\" font-size=\"14.00\">query_object</text>\n</g>\n<!-- s2&#45;&gt;s387 -->\n<g id=\"edge23\" class=\"edge\">\n<title>s2:e-&gt;s387:w</title>\n<path fill=\"none\" stroke=\"black\" d=\"M664.5,-245.42C696.82,-245.42 680.15,-286.43 707,-304.42 979.95,-487.23 1099.13,-477.64 1423.36,-477.42\"/>\n<polygon fill=\"black\" stroke=\"black\" points=\"1423.5,-480.92 1433.5,-477.42 1423.5,-473.92 1423.5,-480.92\"/>\n</g>\n<!-- s3&#45;&gt;s410out -->\n<g id=\"edge29\" class=\"edge\">\n<title>s3:e-&gt;s410out:w</title>\n<path fill=\"none\" stroke=\"green\" d=\"M1341.5,-611.42C1385.31,-611.42 1366.38,-259.53 1384,-219.42 1400.8,-181.17 1405.29,-148.26 1441.11,-143.11\"/>\n<polygon fill=\"green\" stroke=\"green\" points=\"1441.76,-146.58 1451.5,-142.42 1441.29,-139.6 1441.76,-146.58\"/>\n</g>\n<!-- s3&#45;&gt;s2 -->\n<g id=\"edge8\" class=\"edge\">\n<title>s3:e-&gt;s2:w</title>\n<path fill=\"none\" stroke=\"black\" d=\"M1341.5,-611.42C1379.7,-611.42 1386.2,-270.05 1053,-565.42 953.17,-653.91 1114.3,-772.15 1017,-863.42 988.92,-889.76 709.49,-881.83 671,-882.92 387.33,-890.9 235.22,-1081.5 32.5,-882.92 20.11,-870.78 13.05,-846.77 22,-837.86\"/>\n<polygon fill=\"black\" stroke=\"black\" points=\"23.29,-841.11 31.5,-834.42 20.91,-834.53 23.29,-841.11\"/>\n</g>\n<!-- s272 -->\n<g id=\"node8\" class=\"node\">\n<title>s272</title>\n<polygon fill=\"none\" stroke=\"black\" points=\"1429.5,-371.42 1429.5,-419.42 1692.5,-419.42 1692.5,-371.42 1429.5,-371.42\"/>\n<text text-anchor=\"start\" x=\"1497.5\" y=\"-406.22\" font-family=\"Times,serif\" font-weight=\"bold\" font-size=\"14.00\">DrakeVisualizer</text>\n<text text-anchor=\"start\" x=\"1432.5\" y=\"-392.22\" font-family=\"Times,serif\" font-size=\"14.00\">name=drake_visualizer(illustration)</text>\n<text text-anchor=\"start\" x=\"1440.5\" y=\"-378.22\" font-family=\"Times,serif\" font-size=\"14.00\">channel=DRAKE_VIEWER_DRAW</text>\n<polygon fill=\"none\" stroke=\"black\" points=\"1429.5,-350.42 1429.5,-371.42 1606.5,-371.42 1606.5,-350.42 1429.5,-350.42\"/>\n<text text-anchor=\"start\" x=\"1472\" y=\"-357.22\" font-family=\"Times,serif\" font-size=\"14.00\">query_object</text>\n<polyline fill=\"none\" stroke=\"grey\" points=\"1606.5,-350.42 1692.5,-350.42 1692.5,-371.42 \"/>\n</g>\n<!-- s3&#45;&gt;s272 -->\n<g id=\"edge13\" class=\"edge\">\n<title>s3:e-&gt;s272:w</title>\n<path fill=\"none\" stroke=\"black\" d=\"M1341.5,-611.42C1422.83,-611.42 1353.01,-508.62 1384,-433.42 1397.01,-401.85 1391.89,-368.08 1418.27,-361.55\"/>\n<polygon fill=\"black\" stroke=\"black\" points=\"1418.94,-364.99 1428.5,-360.42 1418.18,-358.04 1418.94,-364.99\"/>\n</g>\n<!-- s276 -->\n<g id=\"node10\" class=\"node\">\n<title>s276</title>\n<polygon fill=\"none\" stroke=\"black\" points=\"1392.5,-276.42 1392.5,-324.42 1729.5,-324.42 1729.5,-276.42 1392.5,-276.42\"/>\n<text text-anchor=\"start\" x=\"1497.5\" y=\"-311.22\" font-family=\"Times,serif\" font-weight=\"bold\" font-size=\"14.00\">DrakeVisualizer</text>\n<text text-anchor=\"start\" x=\"1437.5\" y=\"-297.22\" font-family=\"Times,serif\" font-size=\"14.00\">name=drake_visualizer(proximity)</text>\n<text text-anchor=\"start\" x=\"1395.5\" y=\"-283.22\" font-family=\"Times,serif\" font-size=\"14.00\">channel=DRAKE_VIEWER_DRAW_PROXIMITY</text>\n<polygon fill=\"none\" stroke=\"black\" points=\"1392.5,-255.42 1392.5,-276.42 1606.5,-276.42 1606.5,-255.42 1392.5,-255.42\"/>\n<text text-anchor=\"start\" x=\"1453.5\" y=\"-262.22\" font-family=\"Times,serif\" font-size=\"14.00\">query_object</text>\n<polyline fill=\"none\" stroke=\"grey\" points=\"1606.5,-255.42 1729.5,-255.42 1729.5,-276.42 \"/>\n</g>\n<!-- s3&#45;&gt;s276 -->\n<g id=\"edge12\" class=\"edge\">\n<title>s3:e-&gt;s276:w</title>\n<path fill=\"none\" stroke=\"black\" d=\"M1341.5,-611.42C1415.55,-611.42 1323.29,-297.09 1381.74,-267.63\"/>\n<polygon fill=\"black\" stroke=\"black\" points=\"1382.52,-271.04 1391.5,-265.42 1380.97,-264.21 1382.52,-271.04\"/>\n</g>\n<!-- s384 -->\n<g id=\"node14\" class=\"node\">\n<title>s384</title>\n<polygon fill=\"none\" stroke=\"black\" points=\"1419.5,-583.42 1419.5,-631.42 1702.5,-631.42 1702.5,-583.42 1419.5,-583.42\"/>\n<text text-anchor=\"start\" x=\"1487.5\" y=\"-618.22\" font-family=\"Times,serif\" font-weight=\"bold\" font-size=\"14.00\">MeshcatVisualizer</text>\n<text text-anchor=\"start\" x=\"1422.5\" y=\"-604.22\" font-family=\"Times,serif\" font-size=\"14.00\">name=meshcat_visualizer(illustration)</text>\n<text text-anchor=\"start\" x=\"1474.5\" y=\"-590.22\" font-family=\"Times,serif\" font-size=\"14.00\">path=/drake/illustration</text>\n<polygon fill=\"none\" stroke=\"black\" points=\"1419.5,-562.42 1419.5,-583.42 1606.5,-583.42 1606.5,-562.42 1419.5,-562.42\"/>\n<text text-anchor=\"start\" x=\"1467\" y=\"-569.22\" font-family=\"Times,serif\" font-size=\"14.00\">query_object</text>\n<polyline fill=\"none\" stroke=\"grey\" points=\"1606.5,-562.42 1702.5,-562.42 1702.5,-583.42 \"/>\n</g>\n<!-- s3&#45;&gt;s384 -->\n<g id=\"edge19\" class=\"edge\">\n<title>s3:e-&gt;s384:w</title>\n<path fill=\"none\" stroke=\"black\" d=\"M1341.5,-611.42C1376.12,-611.42 1379.72,-579.66 1408.28,-573.46\"/>\n<polygon fill=\"black\" stroke=\"black\" points=\"1408.91,-576.91 1418.5,-572.42 1408.2,-569.95 1408.91,-576.91\"/>\n</g>\n<!-- s385 -->\n<g id=\"node16\" class=\"node\">\n<title>s385</title>\n<polygon fill=\"none\" stroke=\"black\" points=\"1435.5,-678.42 1435.5,-726.42 1686.5,-726.42 1686.5,-678.42 1435.5,-678.42\"/>\n<text text-anchor=\"start\" x=\"1487.5\" y=\"-713.22\" font-family=\"Times,serif\" font-weight=\"bold\" font-size=\"14.00\">MeshcatVisualizer</text>\n<text text-anchor=\"start\" x=\"1438.5\" y=\"-699.22\" font-family=\"Times,serif\" font-size=\"14.00\">name=meshcat_visualizer(inertia)</text>\n<text text-anchor=\"start\" x=\"1490\" y=\"-685.22\" font-family=\"Times,serif\" font-size=\"14.00\">path=/drake/inertia</text>\n<polygon fill=\"none\" stroke=\"black\" points=\"1435.5,-657.42 1435.5,-678.42 1606.5,-678.42 1606.5,-657.42 1435.5,-657.42\"/>\n<text text-anchor=\"start\" x=\"1475\" y=\"-664.22\" font-family=\"Times,serif\" font-size=\"14.00\">query_object</text>\n<polyline fill=\"none\" stroke=\"grey\" points=\"1606.5,-657.42 1686.5,-657.42 1686.5,-678.42 \"/>\n</g>\n<!-- s3&#45;&gt;s385 -->\n<g id=\"edge21\" class=\"edge\">\n<title>s3:e-&gt;s385:w</title>\n<path fill=\"none\" stroke=\"black\" d=\"M1341.5,-611.42C1365.69,-611.42 1363.29,-632.92 1384,-645.42 1401.69,-656.09 1408.05,-664.41 1424.31,-666.76\"/>\n<polygon fill=\"black\" stroke=\"black\" points=\"1424.29,-670.26 1434.5,-667.42 1424.75,-663.28 1424.29,-670.26\"/>\n</g>\n<!-- s386 -->\n<g id=\"node17\" class=\"node\">\n<title>s386</title>\n<polygon fill=\"none\" stroke=\"black\" points=\"1424.5,-773.42 1424.5,-821.42 1697.5,-821.42 1697.5,-773.42 1424.5,-773.42\"/>\n<text text-anchor=\"start\" x=\"1487.5\" y=\"-808.22\" font-family=\"Times,serif\" font-weight=\"bold\" font-size=\"14.00\">MeshcatVisualizer</text>\n<text text-anchor=\"start\" x=\"1427.5\" y=\"-794.22\" font-family=\"Times,serif\" font-size=\"14.00\">name=meshcat_visualizer(proximity)</text>\n<text text-anchor=\"start\" x=\"1479.5\" y=\"-780.22\" font-family=\"Times,serif\" font-size=\"14.00\">path=/drake/proximity</text>\n<polygon fill=\"none\" stroke=\"black\" points=\"1424.5,-752.42 1424.5,-773.42 1606.5,-773.42 1606.5,-752.42 1424.5,-752.42\"/>\n<text text-anchor=\"start\" x=\"1469.5\" y=\"-759.22\" font-family=\"Times,serif\" font-size=\"14.00\">query_object</text>\n<polyline fill=\"none\" stroke=\"grey\" points=\"1606.5,-752.42 1697.5,-752.42 1697.5,-773.42 \"/>\n</g>\n<!-- s3&#45;&gt;s386 -->\n<g id=\"edge20\" class=\"edge\">\n<title>s3:e-&gt;s386:w</title>\n<path fill=\"none\" stroke=\"black\" d=\"M1341.5,-611.42C1401.86,-611.42 1345.56,-693.88 1384,-740.42 1394.4,-753.01 1400.71,-759.66 1413.49,-761.71\"/>\n<polygon fill=\"black\" stroke=\"black\" points=\"1413.28,-765.21 1423.5,-762.42 1413.77,-758.23 1413.28,-765.21\"/>\n</g>\n<!-- s3&#45;&gt;s387 -->\n<g id=\"edge24\" class=\"edge\">\n<title>s3:e-&gt;s387:w</title>\n<path fill=\"none\" stroke=\"black\" d=\"M1341.5,-611.42C1378.11,-611.42 1391.19,-481.91 1423.76,-459.65\"/>\n<polygon fill=\"black\" stroke=\"black\" points=\"1425.11,-462.89 1433.5,-456.42 1422.91,-456.25 1425.11,-462.89\"/>\n</g>\n<!-- s270 -->\n<g id=\"node7\" class=\"node\">\n<title>s270</title>\n<polygon fill=\"none\" stroke=\"black\" points=\"1402.5,-890.42 1402.5,-924.42 1719.5,-924.42 1719.5,-890.42 1402.5,-890.42\"/>\n<text text-anchor=\"start\" x=\"1405.5\" y=\"-911.22\" font-family=\"Times,serif\" font-weight=\"bold\" font-size=\"14.00\">manipulation.station.DemultiplexInput</text>\n<text text-anchor=\"start\" x=\"1431\" y=\"-897.22\" font-family=\"Times,serif\" font-size=\"14.00\">name=iiwa+allegro.combined_input</text>\n<polygon fill=\"none\" stroke=\"black\" points=\"1402.5,-848.42 1402.5,-890.42 1571.5,-890.42 1571.5,-848.42 1402.5,-848.42\"/>\n<text text-anchor=\"start\" x=\"1430\" y=\"-865.72\" font-family=\"Times,serif\" font-size=\"14.00\">combined_input</text>\n<polygon fill=\"none\" stroke=\"black\" points=\"1571.5,-869.42 1571.5,-890.42 1719.5,-890.42 1719.5,-869.42 1571.5,-869.42\"/>\n<text text-anchor=\"start\" x=\"1609.5\" y=\"-876.22\" font-family=\"Times,serif\" font-size=\"14.00\">iiwa.input</text>\n<polygon fill=\"none\" stroke=\"black\" points=\"1571.5,-848.42 1571.5,-869.42 1719.5,-869.42 1719.5,-848.42 1571.5,-848.42\"/>\n<text text-anchor=\"start\" x=\"1599.5\" y=\"-855.22\" font-family=\"Times,serif\" font-size=\"14.00\">allegro.input</text>\n</g>\n<!-- s262&#45;&gt;s270 -->\n<g id=\"edge22\" class=\"edge\">\n<title>s262:e-&gt;s270:w</title>\n<path fill=\"none\" stroke=\"black\" d=\"M1328.5,-784.42C1374.41,-784.42 1355.39,-856.65 1391.15,-867.94\"/>\n<polygon fill=\"black\" stroke=\"black\" points=\"1391.11,-871.47 1401.5,-869.42 1392.09,-864.54 1391.11,-871.47\"/>\n</g>\n<!-- s269&#45;&gt;s410out -->\n<g id=\"edge28\" class=\"edge\">\n<title>s269:e-&gt;s410out:w</title>\n<path fill=\"none\" stroke=\"green\" d=\"M1010,-603.42C1094.98,-603.42 993.8,-284.39 1053,-223.42 1082.39,-193.15 1371.16,-169.26 1441.33,-166.65\"/>\n<polygon fill=\"green\" stroke=\"green\" points=\"1441.58,-170.15 1451.5,-166.42 1441.42,-163.15 1441.58,-170.15\"/>\n</g>\n<!-- s269&#45;&gt;s262 -->\n<g id=\"edge18\" class=\"edge\">\n<title>s269:e-&gt;s262:w</title>\n<path fill=\"none\" stroke=\"black\" d=\"M1010,-603.42C1091.28,-603.42 996.68,-768.52 1062.16,-783.35\"/>\n<polygon fill=\"black\" stroke=\"black\" points=\"1062.19,-786.88 1072.5,-784.42 1062.91,-779.91 1062.19,-786.88\"/>\n</g>\n<!-- s270&#45;&gt;s2 -->\n<g id=\"edge9\" class=\"edge\">\n<title>s270:e-&gt;s2:w</title>\n<path fill=\"none\" stroke=\"black\" d=\"M1720.5,-879.42C1736.06,-879.42 1730.64,-855.28 1719.5,-844.42 1706.24,-831.49 1069.1,-851.56 1053,-842.42 1025.96,-827.05 1044.06,-797.74 1017,-782.42 957.05,-748.48 763.33,-742.76 707,-782.42 668.2,-809.73 709.8,-855.6 671,-882.92 438.96,-1046.28 234.06,-1082.68 32.5,-882.92 17.44,-868 9.28,-797.01 22.75,-776.8\"/>\n<polygon fill=\"black\" stroke=\"black\" points=\"24.81,-779.64 31.5,-771.42 21.15,-773.67 24.81,-779.64\"/>\n</g>\n<!-- s270&#45;&gt;s2 -->\n<g id=\"edge10\" class=\"edge\">\n<title>s270:e-&gt;s2:w</title>\n<path fill=\"none\" stroke=\"black\" d=\"M1720.5,-858.42C1726.74,-858.42 1724.01,-848.73 1719.5,-844.42 1692.55,-818.64 1414.4,-857.01 1384,-835.42 1347.19,-809.27 1385.16,-766.07 1348,-740.42 1289.38,-699.95 762.96,-706.34 707,-750.42 659.06,-788.18 719.48,-845.85 671,-882.92 445.56,-1055.28 233.92,-1082.82 32.5,-882.92 14.13,-864.69 4.53,-776.15 22.47,-754.97\"/>\n<polygon fill=\"black\" stroke=\"black\" points=\"24.15,-758.05 31.5,-750.42 21,-751.8 24.15,-758.05\"/>\n</g>\n<!-- drakelcminterface68796480in -->\n<g id=\"node9\" class=\"node\">\n<title>drakelcminterface68796480in</title>\n<ellipse fill=\"none\" stroke=\"black\" cx=\"1923.79\" cy=\"-290.42\" rx=\"150.57\" ry=\"18\"/>\n<text text-anchor=\"middle\" x=\"1923.79\" y=\"-286.72\" font-family=\"Times,serif\" font-size=\"14.00\">drakelcminterface68796480in</text>\n</g>\n<!-- s272&#45;&gt;drakelcminterface68796480in -->\n<g id=\"edge1\" class=\"edge\">\n<title>s272:e-&gt;drakelcminterface68796480in</title>\n<path fill=\"none\" stroke=\"#800080\" stroke-dasharray=\"5,2\" d=\"M1701.5,-385.42C1773.71,-385.42 1849.21,-342.18 1890.69,-314.04\"/>\n<polygon fill=\"#800080\" stroke=\"#800080\" points=\"1892.78,-316.85 1899.01,-308.29 1888.8,-311.09 1892.78,-316.85\"/>\n</g>\n<!-- s276&#45;&gt;drakelcminterface68796480in -->\n<g id=\"edge2\" class=\"edge\">\n<title>s276:e-&gt;drakelcminterface68796480in</title>\n<path fill=\"none\" stroke=\"#800080\" stroke-dasharray=\"5,2\" d=\"M1737,-290.42C1745.4,-290.42 1754.02,-290.42 1762.72,-290.42\"/>\n<polygon fill=\"#800080\" stroke=\"#800080\" points=\"1762.97,-293.92 1772.97,-290.42 1762.97,-286.92 1762.97,-293.92\"/>\n</g>\n<!-- s281 -->\n<g id=\"node12\" class=\"node\">\n<title>s281</title>\n<polygon fill=\"none\" stroke=\"black\" points=\"1075.5,-256.42 1075.5,-318.42 1326.5,-318.42 1326.5,-256.42 1075.5,-256.42\"/>\n<text text-anchor=\"start\" x=\"1117.5\" y=\"-305.22\" font-family=\"Times,serif\" font-weight=\"bold\" font-size=\"14.00\">LcmPublisherSystem</text>\n<text text-anchor=\"start\" x=\"1083.5\" y=\"-291.22\" font-family=\"Times,serif\" font-size=\"14.00\">name=contact_results_publisher</text>\n<text text-anchor=\"start\" x=\"1093\" y=\"-277.22\" font-family=\"Times,serif\" font-size=\"14.00\">channel=CONTACT_RESULTS</text>\n<text text-anchor=\"start\" x=\"1078.5\" y=\"-263.22\" font-family=\"Times,serif\" font-size=\"14.00\">type=lcmt_contact_results_for_viz</text>\n<polygon fill=\"none\" stroke=\"black\" points=\"1075.5,-235.42 1075.5,-256.42 1248.5,-256.42 1248.5,-235.42 1075.5,-235.42\"/>\n<text text-anchor=\"start\" x=\"1114.5\" y=\"-242.22\" font-family=\"Times,serif\" font-size=\"14.00\">lcm_message</text>\n<polyline fill=\"none\" stroke=\"grey\" points=\"1248.5,-235.42 1326.5,-235.42 1326.5,-256.42 \"/>\n</g>\n<!-- s280&#45;&gt;s281 -->\n<g id=\"edge17\" class=\"edge\">\n<title>s280:e-&gt;s281:w</title>\n<path fill=\"none\" stroke=\"black\" d=\"M981,-245.42C1018.98,-245.42 1030.93,-245.42 1064.44,-245.42\"/>\n<polygon fill=\"black\" stroke=\"black\" points=\"1064.5,-248.92 1074.5,-245.42 1064.5,-241.92 1064.5,-248.92\"/>\n</g>\n<!-- s281&#45;&gt;drakelcminterface68796480in -->\n<g id=\"edge3\" class=\"edge\">\n<title>s281:e-&gt;drakelcminterface68796480in</title>\n<path fill=\"none\" stroke=\"#800080\" stroke-dasharray=\"5,2\" d=\"M1335.5,-277.42C1361.82,-277.42 1358.9,-251.34 1384,-243.42 1458.81,-219.81 1659.16,-233.72 1737,-243.42 1778.95,-248.64 1825.02,-260.26 1860.79,-270.63\"/>\n<polygon fill=\"#800080\" stroke=\"#800080\" points=\"1860.01,-274.05 1870.6,-273.52 1861.99,-267.34 1860.01,-274.05\"/>\n</g>\n<!-- s282&#45;&gt;s3 -->\n<g id=\"edge16\" class=\"edge\">\n<title>s282:e-&gt;s3:w</title>\n<path fill=\"none\" stroke=\"black\" d=\"M1000,-804.42C1090.88,-804.42 975.64,-616.04 1050.41,-601.33\"/>\n<polygon fill=\"black\" stroke=\"black\" points=\"1050.85,-604.8 1060.5,-600.42 1050.23,-597.83 1050.85,-604.8\"/>\n</g>\n<!-- meshcat_in -->\n<g id=\"node15\" class=\"node\">\n<title>meshcat_in</title>\n<ellipse fill=\"none\" stroke=\"magenta\" cx=\"1923.79\" cy=\"-644.42\" rx=\"50.09\" ry=\"18\"/>\n<text text-anchor=\"middle\" x=\"1923.79\" y=\"-640.72\" font-family=\"Times,serif\" font-size=\"14.00\">Meshcat</text>\n</g>\n<!-- s384&#45;&gt;meshcat_in -->\n<g id=\"edge4\" class=\"edge\">\n<title>s384:e-&gt;meshcat_in</title>\n<path fill=\"none\" stroke=\"magenta\" stroke-dasharray=\"5,2\" d=\"M1711.5,-597.42C1770.12,-597.42 1835.75,-614.87 1878.08,-628.5\"/>\n<polygon fill=\"magenta\" stroke=\"magenta\" points=\"1877.21,-631.9 1887.8,-631.7 1879.39,-625.25 1877.21,-631.9\"/>\n</g>\n<!-- s385&#45;&gt;meshcat_in -->\n<g id=\"edge5\" class=\"edge\">\n<title>s385:e-&gt;meshcat_in</title>\n<path fill=\"none\" stroke=\"magenta\" stroke-dasharray=\"5,2\" d=\"M1695.5,-692.42C1759.75,-692.42 1832.05,-673.83 1877.51,-659.79\"/>\n<polygon fill=\"magenta\" stroke=\"magenta\" points=\"1878.58,-663.12 1887.06,-656.78 1876.47,-656.44 1878.58,-663.12\"/>\n</g>\n<!-- s386&#45;&gt;meshcat_in -->\n<g id=\"edge6\" class=\"edge\">\n<title>s386:e-&gt;meshcat_in</title>\n<path fill=\"none\" stroke=\"magenta\" stroke-dasharray=\"5,2\" d=\"M1706.5,-787.42C1791.11,-787.42 1868.08,-710.32 1903.01,-669.35\"/>\n<polygon fill=\"magenta\" stroke=\"magenta\" points=\"1905.7,-671.59 1909.42,-661.67 1900.33,-667.1 1905.7,-671.59\"/>\n</g>\n<!-- s387&#45;&gt;meshcat_in -->\n<g id=\"edge7\" class=\"edge\">\n<title>s387:e-&gt;meshcat_in</title>\n<path fill=\"none\" stroke=\"magenta\" stroke-dasharray=\"5,2\" d=\"M1696.5,-491.42C1786.49,-491.42 1867.41,-575.49 1903.26,-618.99\"/>\n<polygon fill=\"magenta\" stroke=\"magenta\" points=\"1900.61,-621.29 1909.62,-626.87 1906.05,-616.89 1900.61,-621.29\"/>\n</g>\n</g>\n</svg>",
      "text/plain": [
       "<IPython.core.display.SVG object>"
      ]
     },
     "metadata": {},
     "output_type": "display_data"
    }
   ],
   "source": [
    "display(\n",
    "    SVG(\n",
    "        pydot.graph_from_dot_data(station.GetGraphvizString(max_depth=1))[\n",
    "            0\n",
    "        ].create_svg()\n",
    "    )\n",
    ")"
   ]
  },
  {
   "cell_type": "code",
   "execution_count": 8,
   "metadata": {},
   "outputs": [],
   "source": [
    "plant = station.GetSubsystemByName(\"plant\")"
   ]
  },
  {
   "cell_type": "code",
   "execution_count": 9,
   "metadata": {},
   "outputs": [],
   "source": [
    "# Get initial pose of the gripper by using default context of manip station.\n",
    "frame = \"iiwa_link_6\"\n",
    "gripper = plant.GetBodyByName(frame)\n",
    "plant_context = plant.GetMyContextFromRoot(context)\n",
    "X_robot_W = plant.EvalBodyPoseInWorld(plant_context, gripper)"
   ]
  },
  {
   "cell_type": "code",
   "execution_count": 10,
   "metadata": {},
   "outputs": [
    {
     "data": {
      "text/plain": [
       "RigidTransform(\n",
       "  R=RotationMatrix([\n",
       "    [-0.030258852683189456, 0.9994448829116672, 0.01394015265273602],\n",
       "    [-0.011679211887709906, -0.014299113804143093, 0.9998295511506448],\n",
       "    [0.9994738605106087, 0.030090885099988453, 0.012105403335712295],\n",
       "  ]),\n",
       "  p=[0.3357258176778487, -0.005447072803560757, 0.7269905055563901],\n",
       ")"
      ]
     },
     "execution_count": 10,
     "metadata": {},
     "output_type": "execute_result"
    }
   ],
   "source": [
    "X_robot_W"
   ]
  },
  {
   "cell_type": "code",
   "execution_count": 11,
   "metadata": {},
   "outputs": [],
   "source": [
    "def reset_arm():\n",
    "    station.GetInputPort(\"iiwa+allegro.desired_state\").FixValue(context, x0)\n",
    "    simulator.AdvanceTo(context.get_time() + 1)"
   ]
  },
  {
   "cell_type": "code",
   "execution_count": 12,
   "metadata": {},
   "outputs": [],
   "source": [
    "reset_arm()"
   ]
  },
  {
   "cell_type": "code",
   "execution_count": 13,
   "metadata": {},
   "outputs": [],
   "source": []
  },
  {
   "cell_type": "code",
   "execution_count": 14,
   "metadata": {},
   "outputs": [],
   "source": [
    "def get_table_contact():\n",
    "    \"\"\"\n",
    "    Moves the arm down until it comes in contact with the table\n",
    "    \"\"\"\n",
    "    pass\n",
    "\n",
    "\n",
    "def sample_new_target(previous_targets, target_bias, xmin=-5, xmax=5, ymin=-5, ymax=5):\n",
    "    \"\"\"\n",
    "        Proposes a new location to reach with the hand.\n",
    "        \n",
    "        Args:\n",
    "            previous_targets: np.array[coords]: list of previous target locations already checked \n",
    "            target_bias: np.array: (x, y, z) location to act as a kind of bias\n",
    "    \"\"\"\n",
    "    new_target = np.zeros(3)\n",
    "\n",
    "\n",
    "    return new_target\n",
    "\n",
    "\n",
    "def interpolate_locations(current_location, new_location, target_rotation, interp_steps=4, arc_height=1):\n",
    "    # NOTE: Convert positions to RigidTransforms\n",
    "    \"\"\"\n",
    "    Linear interpolation between two 3D coordinates\n",
    "    \"\"\"\n",
    "    coords = np.hstack([current_location, new_location])\n",
    "    xs = np.linspace(current_location[0], new_location[0], interp_steps)\n",
    "    ys = np.linspace(current_location[1], new_location[1], interp_steps)\n",
    "\n",
    "    # If z-values are the same, move the arm up to avoid dragging along \n",
    "    if current_location[2] == new_location[2]:\n",
    "        z0 = np.linspace(current_location[2], current_location[2] + arc_height, interp_steps // 2)\n",
    "        z1 = np.linspace(current_location[2] + arc_height, new_location[2], interp_steps // 2)\n",
    "        zs = np.concatenate([z0, z1])\n",
    "    \n",
    "    else:\n",
    "        zs = np.linspace(current_location[2], new_location[2], interp_steps)\n",
    "    \n",
    "    interp_coords = np.vstack((xs, ys, zs)).T\n",
    "    new_coords = np.vstack([current_location, interp_coords, new_location])\n",
    "\n",
    "    pose_list = []\n",
    "    for i in range(interp_steps + 2):\n",
    "        pose = RigidTransform(target_rotation, new_coords[i])\n",
    "        pose_list.append(pose)\n",
    "        \n",
    "    return pose_list\n",
    "\n",
    "\n",
    "def optimize_arm_movement(end_effector_poses):\n",
    "    \"\"\"Convert end-effector pose list to joint position list using series of\n",
    "    InverseKinematics problems. Note that q is 9-dimensional because the last 2 dimensions\n",
    "    contain gripper joints, but these should not matter to the constraints.\n",
    "    @param: pose_lst (python list): post_lst[i] contains keyframe X_WG at index i.\n",
    "    @return: q_knots (python_list): q_knots[i] contains IK solution that will give f(q_knots[i]) \\approx pose_lst[i].\n",
    "    \"\"\"\n",
    "    q_knots = []\n",
    "    plant = station.GetSubsystemByName(\"plant\")\n",
    "    world_frame = plant.world_frame()\n",
    "    frame = \"iiwa_link_6\"\n",
    "    gripper_frame = plant.GetFrameByName(frame)\n",
    "    iiwa_initial = plant.GetOutputPort(\"iiwa_state\").Eval(plant.GetMyContextFromRoot(context))[:7]\n",
    "    gripper_initial = np.ones((23))\n",
    "    q_nominal = np.hstack((iiwa_initial, gripper_initial))\n",
    "    \n",
    "    def AddPositionConstraint(ik, p_WG_lower, p_WG_upper):\n",
    "        \"\"\"Add position constraint to the ik problem. Implements an inequality\n",
    "        constraint where f_p(q) must lie between p_WG_lower and p_WG_upper. Can be\n",
    "        translated to\n",
    "        ik.prog().AddBoundingBoxConstraint(f_p(q), p_WG_lower, p_WG_upper)\n",
    "        \"\"\"\n",
    "        ik.AddPositionConstraint(\n",
    "            frameA=world_frame,\n",
    "            frameB=gripper_frame,\n",
    "            p_BQ=np.zeros(3),\n",
    "            p_AQ_lower=p_WG_lower,\n",
    "            p_AQ_upper=p_WG_upper,\n",
    "        )\n",
    "\n",
    "    for i in range(len(end_effector_poses)):\n",
    "        ik = inverse_kinematics.InverseKinematics(plant)\n",
    "        # q_variables = ik.q()  # Get variables for MathematicalProgram\n",
    "        q_variables = ik.q()  # Get variables for MathematicalProgram\n",
    "        prog = ik.prog()  # Get MathematicalProgram\n",
    "\n",
    "        pose = end_effector_poses[i]\n",
    "        AddPositionConstraint(\n",
    "                    ik,\n",
    "                    pose.translation() + 0.01,\n",
    "                    pose.translation() + 0.01,\n",
    "        )\n",
    "    \n",
    "        prog.AddQuadraticErrorCost(np.identity(len(q_variables)), q_nominal, q_variables)\n",
    "        if i == 0:\n",
    "            prog.SetInitialGuess(q_variables, q_nominal)\n",
    "        else:\n",
    "            prog.SetInitialGuess(q_variables, q_knots[i-1])\n",
    "\n",
    "        result = Solve(prog)\n",
    "\n",
    "        assert result.is_success()\n",
    "        q_knots.append(result.GetSolution(q_variables))\n",
    "\n",
    "    t_list = np.arange(len(q_knots))\n",
    "    q_traj = PiecewisePolynomial.CubicShapePreserving(t_list, q_knots.T)\n",
    "    return q_traj\n",
    "    \n",
    "\n",
    "def get_contacts(station, context):\n",
    "    contacts = []\n",
    "    contact = station.GetOutputPort(\"contact_results\").Eval(context)\n",
    "    num_contacts = contact.num_point_pair_contacts()\n",
    "    for i in range(num_contacts):\n",
    "        contacts.append(contact.point_pair_contact_info(i).contact_point())\n",
    "    return contacts\n",
    "\n",
    "\n",
    "def move_arm(station, context, end_effector_poses, time_interval=0.5):\n",
    "    \"\"\"\n",
    "    Add logic for re-planning on contact\n",
    "    \"\"\"    \n",
    "    current_state = station.GetInputPort(\"iiwa+allegro.desired_state\").Eval(context)\n",
    "    initial_contact = get_contacts(station, context)\n",
    "    num_contacts = len(initial_contact)\n",
    "    trajectory = optimize_arm_movement(end_effector_poses=)\n",
    "    for state in trajectory:\n",
    "        station.GetInputPort(\"iiwa+allegro.desired_state\").FixValue(context, state)\n",
    "        simulator.AdvanceTo(context.get_time() + time_interval)\n",
    "        # Check for contact\n",
    "        current_contact = get_contacts(station, context)\n",
    "        if len(current_contact) != initial_contact:\n",
    "            result = evaluate_contact(initial_contact, current_contact)\n",
    "\n",
    "\n",
    "def evaluate_contact():\n",
    "    \"\"\"\n",
    "    Determine if contact is likely an object or the table\n",
    "    \"\"\"\n",
    "    pass"
   ]
  },
  {
   "cell_type": "code",
   "execution_count": 153,
   "metadata": {},
   "outputs": [],
   "source": [
    "object_r = 0.1"
   ]
  },
  {
   "cell_type": "code",
   "execution_count": 163,
   "metadata": {},
   "outputs": [
    {
     "data": {
      "image/png": "[encoded data removed]",
      "text/plain": [
       "<Figure size 640x480 with 2 Axes>"
      ]
     },
     "metadata": {},
     "output_type": "display_data"
    }
   ],
   "source": [
    "effort_ratio = 0.7\n",
    "effort_c = 2.0\n",
    "p_target_c = 2.0\n",
    "\n",
    "table_x_bounds = [-0.5, 0.5]\n",
    "table_y_bounds = [-0.5, 0.5]\n",
    "n_samples = 20\n",
    "table_grid = {}\n",
    "for x in np.linspace(table_x_bounds[0], table_x_bounds[1], n_samples):\n",
    "    for y in np.linspace(table_y_bounds[0], table_y_bounds[1], n_samples):\n",
    "        table_grid[(x, y)] = 0.5\n",
    "touched_point = np.random.rand(2) - 0.5\n",
    "for coord, prob in table_grid.items():\n",
    "    dist = np.linalg.norm(np.array(coord) - touched_point)\n",
    "    if dist < object_r:\n",
    "        table_grid[coord] = 0.0\n",
    "    else:\n",
    "        c_dist = dist - object_r\n",
    "        effort_cost = np.exp(-effort_c * c_dist)\n",
    "        p_target = 1 - np.exp(-p_target_c * c_dist)\n",
    "        table_grid[coord] = effort_ratio * effort_cost + (1 - effort_ratio) * p_target\n",
    "# normalize the table grid\n",
    "table_grid_sum = sum(table_grid.values())\n",
    "for coord, prob in table_grid.items():\n",
    "    table_grid[coord] = prob / table_grid_sum\n",
    "# plot the heatmap of the table grid\n",
    "x = []\n",
    "y = []\n",
    "z = []\n",
    "for coord, prob in table_grid.items():\n",
    "    x.append(coord[0])\n",
    "    y.append(coord[1])\n",
    "    z.append(prob)\n",
    "plt.scatter(x, y, c=z)\n",
    "plt.colorbar()\n",
    "# show the touched point with a star\n",
    "plt.scatter(touched_point[0], touched_point[1], marker=\"*\", c=\"red\")\n",
    "plt.show()\n"
   ]
  },
  {
   "cell_type": "code",
   "execution_count": 16,
   "metadata": {},
   "outputs": [],
   "source": [
    "start = np.array([0, 0, 0])\n",
    "end = np.array([2, 0, 0])\n",
    "new_locs = interpolate_locations(start, end)"
   ]
  },
  {
   "cell_type": "code",
   "execution_count": 17,
   "metadata": {},
   "outputs": [],
   "source": [
    "final_rotation = X_robot_W.rotation()\n",
    "initial_position = X_robot_W.translation()\n",
    "final_position = copy.deepcopy(initial_position)\n",
    "final_position[2] = -0.2\n",
    "# linearly interpolate between initial and final position\n",
    "\n",
    "num_knot_points = 10\n",
    "t_list = np.arange(num_knot_points)\n",
    "positions = np.zeros((num_knot_points, 3))\n",
    "for i in range(3):\n",
    "    positions[:, i] = np.linspace(\n",
    "        initial_position[i], final_position[i], num_knot_points\n",
    "    )\n",
    "p_list = []\n",
    "for p in positions:\n",
    "    p_list.append(RigidTransform(final_rotation, p))"
   ]
  },
  {
   "cell_type": "code",
   "execution_count": 1,
   "metadata": {},
   "outputs": [],
   "source": [
    "def create_q_knots(pose_lst):\n",
    "    \"\"\"Convert end-effector pose list to joint position list using series of\n",
    "    InverseKinematics problems. Note that q is 9-dimensional because the last 2 dimensions\n",
    "    contain gripper joints, but these should not matter to the constraints.\n",
    "    @param: pose_lst (python list): post_lst[i] contains keyframe X_WG at index i.\n",
    "    @return: q_knots (python_list): q_knots[i] contains IK solution that will give f(q_knots[i]) \\approx pose_lst[i].\n",
    "    \"\"\"\n",
    "    q_knots = []\n",
    "    plant = station.GetSubsystemByName(\"plant\")\n",
    "    world_frame = plant.world_frame()\n",
    "    gripper_frame = plant.GetFrameByName(frame)\n",
    "    iiwa_initial = np.array([0.0, 0.1, 0.0, -1.5, 0.0, 0.0, 0.0])\n",
    "    gripper_initial = np.ones((23))\n",
    "    q_nominal = np.hstack((iiwa_initial, gripper_initial))\n",
    "    # q_nominal = iiwa_initial\n",
    "    print(q_nominal.shape)\n",
    "\n",
    "    def AddOrientationConstraint(ik, R_WG, bounds):\n",
    "        \"\"\"Add orientation constraint to the ik problem. Implements an inequality\n",
    "        constraint where the axis-angle difference between f_R(q) and R_WG must be\n",
    "        within bounds. Can be translated to:\n",
    "        ik.prog().AddBoundingBoxConstraint(angle_diff(f_R(q), R_WG), -bounds, bounds)\n",
    "        \"\"\"\n",
    "        ik.AddOrientationConstraint(\n",
    "            frameAbar=world_frame,\n",
    "            R_AbarA=R_WG,\n",
    "            frameBbar=gripper_frame,\n",
    "            R_BbarB=RotationMatrix(),\n",
    "            theta_bound=bounds,\n",
    "        )\n",
    "\n",
    "    def AddPositionConstraint(ik, p_WG_lower, p_WG_upper):\n",
    "        \"\"\"Add position constraint to the ik problem. Implements an inequality\n",
    "        constraint where f_p(q) must lie between p_WG_lower and p_WG_upper. Can be\n",
    "        translated to\n",
    "        ik.prog().AddBoundingBoxConstraint(f_p(q), p_WG_lower, p_WG_upper)\n",
    "        \"\"\"\n",
    "        ik.AddPositionConstraint(\n",
    "            frameA=world_frame,\n",
    "            frameB=gripper_frame,\n",
    "            p_BQ=np.zeros(3),\n",
    "            p_AQ_lower=p_WG_lower,\n",
    "            p_AQ_upper=p_WG_upper,\n",
    "        )\n",
    "\n",
    "    for i in range(len(pose_lst)):\n",
    "        ik = inverse_kinematics.InverseKinematics(plant)\n",
    "        print(ik)\n",
    "        # q_variables = ik.q()  # Get variables for MathematicalProgram\n",
    "        q_variables = ik.q()  # Get variables for MathematicalProgram\n",
    "        prog = ik.prog()  # Get MathematicalProgram\n",
    "\n",
    "        pose = pose_lst[i]\n",
    "        AddPositionConstraint(\n",
    "                    ik,\n",
    "                    pose.translation() + 0.01,\n",
    "                    pose.translation() + 0.01,\n",
    "        )\n",
    "\n",
    "        # AddOrientationConstraint(\n",
    "        #     ik,\n",
    "        #     pose.rotation(),\n",
    "        #     0.02,\n",
    "        # )\n",
    "        \n",
    "        prog.AddQuadraticErrorCost(np.identity(len(q_variables)), q_nominal, q_variables)\n",
    "        if i == 0:\n",
    "            prog.SetInitialGuess(q_variables, q_nominal)\n",
    "        else:\n",
    "            prog.SetInitialGuess(q_variables, q_knots[i-1])\n",
    "\n",
    "        result = Solve(prog)\n",
    "\n",
    "        assert result.is_success()\n",
    "        q_knots.append(result.GetSolution(q_variables))\n",
    "\n",
    "    return q_knots"
   ]
  },
  {
   "cell_type": "code",
   "execution_count": 18,
   "metadata": {},
   "outputs": [
    {
     "name": "stdout",
     "output_type": "stream",
     "text": [
      "(30,)\n",
      "<pydrake.multibody.inverse_kinematics.InverseKinematics object at 0x7fe6afdf2470>\n",
      "<pydrake.multibody.inverse_kinematics.InverseKinematics object at 0x7fe6ad1c1770>\n",
      "<pydrake.multibody.inverse_kinematics.InverseKinematics object at 0x7fe6ae728c30>\n",
      "<pydrake.multibody.inverse_kinematics.InverseKinematics object at 0x7fe6ae74d4f0>\n",
      "<pydrake.multibody.inverse_kinematics.InverseKinematics object at 0x7fe6ae18cc30>\n",
      "<pydrake.multibody.inverse_kinematics.InverseKinematics object at 0x7fe6aeaef6b0>\n",
      "<pydrake.multibody.inverse_kinematics.InverseKinematics object at 0x7fe6ae159770>\n",
      "<pydrake.multibody.inverse_kinematics.InverseKinematics object at 0x7fe6ae18cc30>\n",
      "<pydrake.multibody.inverse_kinematics.InverseKinematics object at 0x7fe6aea458b0>\n",
      "<pydrake.multibody.inverse_kinematics.InverseKinematics object at 0x7fe6aeaecef0>\n"
     ]
    }
   ],
   "source": [
    "# q_knots = np.array(create_q_knots(pose_lst))\n",
    "# q_traj = PiecewisePolynomial.CubicShapePreserving(t_lst, q_knots[:, 0:7].T)\n",
    "q_knots = np.array(create_q_knots(p_list))\n",
    "q_traj = PiecewisePolynomial.CubicShapePreserving(t_list, q_knots.T)"
   ]
  },
  {
   "cell_type": "code",
   "execution_count": 14,
   "metadata": {},
   "outputs": [],
   "source": [
    "def move_hand(station, context, end_point):\n",
    "    current_state = station.GetInputPort(\"iiwa+allegro.desired_state\").Eval(context)\n",
    "    current_state[:end_point.shape[0]] = end_point\n",
    "    station.GetInputPort(\"iiwa+allegro.desired_state\").FixValue(context, current_state)"
   ]
  },
  {
   "cell_type": "code",
   "execution_count": 15,
   "metadata": {},
   "outputs": [
    {
     "name": "stdout",
     "output_type": "stream",
     "text": [
      "[]\n"
     ]
    }
   ],
   "source": [
    "contact = station.GetOutputPort(\"contact_results\").Eval(context)\n",
    "init_num_contacts = contact.num_point_pair_contacts()\n",
    "contact_pre_move = []\n",
    "for i in range(init_num_contacts):\n",
    "    contact_pre_move.append(contact.point_pair_contact_info(i).contact_point())\n",
    "print(contact_pre_move)"
   ]
  },
  {
   "cell_type": "code",
   "execution_count": 7,
   "metadata": {},
   "outputs": [
    {
     "ename": "NameError",
     "evalue": "name 'reset_arm' is not defined",
     "output_type": "error",
     "traceback": [
      "\u001b[0;31m---------------------------------------------------------------------------\u001b[0m",
      "\u001b[0;31mNameError\u001b[0m                                 Traceback (most recent call last)",
      "Cell \u001b[0;32mIn[7], line 1\u001b[0m\n\u001b[0;32m----> 1\u001b[0m \u001b[43mreset_arm\u001b[49m()\n",
      "\u001b[0;31mNameError\u001b[0m: name 'reset_arm' is not defined"
     ]
    }
   ],
   "source": [
    "reset_arm()"
   ]
  },
  {
   "cell_type": "code",
   "execution_count": 18,
   "metadata": {},
   "outputs": [],
   "source": [
    "def get_contacts(station, context):\n",
    "    contacts = []\n",
    "    contact = station.GetOutputPort(\"contact_results\").Eval(context)\n",
    "    num_contacts = contact.num_point_pair_contacts()\n",
    "    for i in range(num_contacts):\n",
    "        contacts.append(contact.point_pair_contact_info(i).contact_point())\n",
    "    return contacts"
   ]
  },
  {
   "cell_type": "code",
   "execution_count": 23,
   "metadata": {},
   "outputs": [
    {
     "name": "stdout",
     "output_type": "stream",
     "text": [
      "contact changed\n",
      "[ 4.46331316e-01 -5.02037940e-02 -6.46337134e-05]\n",
      "[ 0.4547655   0.12516946 -0.00062631]\n",
      "[ 0.45463158  0.12616688 -0.00063569]\n"
     ]
    }
   ],
   "source": [
    "all_q = q_knots[:, :7]\n",
    "for each_q in all_q:\n",
    "    move_hand(station, context, each_q)\n",
    "    time.sleep(0.1)\n",
    "    simulator.AdvanceTo(simulator.get_context().get_time() + 0.06)\n",
    "    contact = station.GetOutputPort(\"contact_results\").Eval(context)\n",
    "    num_contacts = contact.num_point_pair_contacts()\n",
    "    if num_contacts != init_num_contacts:\n",
    "        print(\"contact changed\")\n",
    "        for i in range(num_contacts):\n",
    "            print(contact.point_pair_contact_info(i).contact_point())        "
   ]
  },
  {
   "cell_type": "code",
   "execution_count": 24,
   "metadata": {},
   "outputs": [
    {
     "data": {
      "text/plain": [
       "['__class__',\n",
       " '__copy__',\n",
       " '__deepcopy__',\n",
       " '__del__',\n",
       " '__delattr__',\n",
       " '__dir__',\n",
       " '__doc__',\n",
       " '__eq__',\n",
       " '__format__',\n",
       " '__ge__',\n",
       " '__getattribute__',\n",
       " '__getstate__',\n",
       " '__gt__',\n",
       " '__hash__',\n",
       " '__init__',\n",
       " '__init_subclass__',\n",
       " '__le__',\n",
       " '__lt__',\n",
       " '__module__',\n",
       " '__ne__',\n",
       " '__new__',\n",
       " '__reduce__',\n",
       " '__reduce_ex__',\n",
       " '__repr__',\n",
       " '__setattr__',\n",
       " '__sizeof__',\n",
       " '__str__',\n",
       " '__subclasshook__',\n",
       " '_pybind11_del_orig',\n",
       " 'bodyA_index',\n",
       " 'bodyB_index',\n",
       " 'contact_force',\n",
       " 'contact_point',\n",
       " 'point_pair',\n",
       " 'separation_speed',\n",
       " 'slip_speed']"
      ]
     },
     "execution_count": 24,
     "metadata": {},
     "output_type": "execute_result"
    }
   ],
   "source": [
    "dir(contact.point_pair_contact_info(i))"
   ]
  },
  {
   "cell_type": "code",
   "execution_count": 21,
   "metadata": {},
   "outputs": [
    {
     "name": "stdout",
     "output_type": "stream",
     "text": [
      "[ 0.63301612  0.03997491 -0.00141454]\n",
      "[ 0.66179362  0.04264613 -0.00169813]\n",
      "[ 0.6606545  0.0561385 -0.0026543]\n",
      "[ 0.63392196 -0.01359524 -0.00210071]\n",
      "[ 0.66282136 -0.0135821  -0.00242399]\n",
      "[ 6.62949092e-01  1.67814952e-04 -3.52434867e-03]\n",
      "[ 0.6329604  -0.03983164 -0.00147476]\n",
      "[ 0.6617242  -0.04264438 -0.00176381]\n",
      "[ 0.66051178 -0.05621701 -0.00277842]\n"
     ]
    }
   ],
   "source": [
    "contact = station.GetOutputPort(\"contact_results\").Eval(context)\n",
    "num_contacts = contact.num_point_pair_contacts()\n",
    "contact_post_move = []\n",
    "for i in range(num_contacts):\n",
    "    # if contact.point_pair_contact_info(i).contact_point() not in contact_pre_move:\n",
    "    contact_post_move.append(contact.point_pair_contact_info(i).contact_point())\n",
    "    print(contact_post_move[i])\n",
    "\n"
   ]
  },
  {
   "cell_type": "code",
   "execution_count": 23,
   "metadata": {},
   "outputs": [],
   "source": [
    "reset_arm()"
   ]
  },
  {
   "cell_type": "code",
   "execution_count": 48,
   "metadata": {},
   "outputs": [
    {
     "name": "stdout",
     "output_type": "stream",
     "text": [
      "Pre-Movement Allegro contact: \n",
      " [0. 0. 0. 0. 0. 0. 0. 0. 0. 0. 0. 0. 0. 0. 0. 0.]\n",
      "\n",
      "Post-Movement contact: \n",
      " [ 1.42691384e-03 -8.38035039e+00 -4.29735865e+00 -1.21253755e+00\n",
      "  0.00000000e+00  0.00000000e+00  0.00000000e+00  0.00000000e+00\n",
      "  1.80283314e-03 -1.07918749e+01 -5.56614946e+00 -1.60781418e+00\n",
      "  4.31904540e-04 -7.79119499e+00 -4.05517254e+00 -1.21517910e+00]\n"
     ]
    }
   ],
   "source": [
    "reset_arm()\n",
    "allegro_state = plant.GetOutputPort(\"allegro_generalized_contact_forces\").Eval(plant_context)\n",
    "print(\"Pre-Movement Allegro contact: \\n\", allegro_state)\n",
    "\n",
    "state = x0.copy()\n",
    "state[1] = 1.3\n",
    "state[5] = 1\n",
    "\n",
    "allegro.set_positions([\"index_\"])\n",
    "allegro.set_state(state, context)\n",
    "simulator.AdvanceTo(context.get_time() + 1)\n",
    "\n",
    "allegro_state = plant.GetOutputPort(\"allegro_generalized_contact_forces\").Eval(plant_context)\n",
    "print(\"\\nPost-Movement contact: \\n\", allegro_state)"
   ]
  },
  {
   "cell_type": "code",
   "execution_count": 22,
   "metadata": {},
   "outputs": [
    {
     "data": {
      "text/plain": [
       "[array([0.76904282, 0.01331116, 0.04211101]),\n",
       " array([0.77095749, 0.01331137, 0.04206761]),\n",
       " array([0.82453812, 0.01332492, 0.04348466]),\n",
       " array([ 0.75905849, -0.02447317, -0.0011354 ]),\n",
       " array([ 0.8337264 ,  0.02477568, -0.00110502]),\n",
       " array([ 0.83355805, -0.02522403, -0.00111421]),\n",
       " array([ 0.75872882,  0.0250284 , -0.00137816]),\n",
       " array([ 0.75856046, -0.02497131, -0.00138735])]"
      ]
     },
     "execution_count": 22,
     "metadata": {},
     "output_type": "execute_result"
    }
   ],
   "source": [
    "get_contacts(station, context)"
   ]
  },
  {
   "cell_type": "code",
   "execution_count": null,
   "metadata": {},
   "outputs": [],
   "source": [
    "time = 0.2"
   ]
  },
  {
   "cell_type": "code",
   "execution_count": null,
   "metadata": {},
   "outputs": [
    {
     "data": {
      "text/plain": [
       "array([ 0. ,  0.1,  0. , -1.5,  0. ,  0. ,  0. ])"
      ]
     },
     "execution_count": 8,
     "metadata": {},
     "output_type": "execute_result"
    }
   ],
   "source": [
    "station.GetInputPort(\"iiwa+allegro.desired_state\").Eval(context)[:7]"
   ]
  },
  {
   "cell_type": "code",
   "execution_count": null,
   "metadata": {},
   "outputs": [],
   "source": [
    "def open_hand(station, context):\n",
    "    current_state = station.GetInputPort(\"iiwa+allegro.desired_state\").Eval(context)\n",
    "    iiwa_idx = 7\n",
    "    current_state[8] = 4\n",
    "    station.GetInputPort(\"iiwa+allegro.desired_state\").FixValue(context, current_state)"
   ]
  },
  {
   "cell_type": "code",
   "execution_count": null,
   "metadata": {},
   "outputs": [],
   "source": [
    "def close_hand(station, context):\n",
    "    current_state = station.GetInputPort(\"iiwa+allegro.desired_state\").Eval(context)\n",
    "    iiwa_idx = 7\n",
    "    current_state[8] = 0\n",
    "    station.GetInputPort(\"iiwa+allegro.desired_state\").FixValue(context, current_state)"
   ]
  },
  {
   "cell_type": "code",
   "execution_count": null,
   "metadata": {},
   "outputs": [],
   "source": [
    "allegro_map = {\n",
    "    \"index_revolute\": 7,\n",
    "    \"index_0\": 8,\n",
    "    \"index_1\": 9,\n",
    "    \"index_2\": 10,\n",
    "    \"thumb_\": 11,\n",
    "    \"thumb_1\": 12, \n",
    "    \"thumb_revolute_z\": 11,\n",
    "    \"thumb_revolute_y\": 12, # avoid\n",
    "    \"thumb_joint_1\": 13,\n",
    "    \"thumb_joint_2\": 14,\n",
    "    \"middle_revolute\": 15,\n",
    "    \"middle_0\": 16,\n",
    "    \"middle_1\": 17,\n",
    "    \"middle_2\": 18,\n",
    "    \"pinky_revolute\": 19,\n",
    "    \"pinky_0\": 20,\n",
    "    \"pinky_1\": 21,\n",
    "    \"pinky_2\": 22\n",
    "}"
   ]
  },
  {
   "cell_type": "code",
   "execution_count": null,
   "metadata": {},
   "outputs": [],
   "source": [
    "def reset_hand(station, context):\n",
    "    current_state = station.GetInputPort(\"iiwa+allegro.desired_state\").Eval(context)\n",
    "    current_state[7:] = 0\n",
    "    station.GetInputPort(\"iiwa+allegro.desired_state\").FixValue(context, current_state)"
   ]
  },
  {
   "cell_type": "code",
   "execution_count": null,
   "metadata": {},
   "outputs": [],
   "source": [
    "def move_finger(station, context, index, amount):\n",
    "    current_state = station.GetInputPort(\"iiwa+allegro.desired_state\").Eval(context)\n",
    "    current_state[index] = amount\n",
    "    station.GetInputPort(\"iiwa+allegro.desired_state\").FixValue(context, current_state)\n",
    "\n",
    "index = 22\n",
    "amount = 2\n",
    "\n",
    "reset_hand(station, context)\n",
    "simulator.AdvanceTo(time) \n",
    "time += 1\n",
    "\n",
    "move_finger(station, context, index, amount)\n",
    "simulator.AdvanceTo(time)\n",
    "time += 1"
   ]
  },
  {
   "cell_type": "code",
   "execution_count": null,
   "metadata": {},
   "outputs": [],
   "source": [
    "open_hand(station, context)\n",
    "simulator.AdvanceTo(time)\n",
    "time += 1"
   ]
  },
  {
   "cell_type": "code",
   "execution_count": null,
   "metadata": {},
   "outputs": [],
   "source": [
    "close_hand(station, context)\n",
    "simulator.AdvanceTo(time)\n",
    "time += 1"
   ]
  },
  {
   "cell_type": "code",
   "execution_count": null,
   "metadata": {},
   "outputs": [
    {
     "data": {
      "text/plain": [
       "<ContactModel.kHydroelasticWithFallback: 2>"
      ]
     },
     "execution_count": 199,
     "metadata": {},
     "output_type": "execute_result"
    }
   ],
   "source": [
    "plant.get_contact_model()"
   ]
  },
  {
   "cell_type": "code",
   "execution_count": null,
   "metadata": {},
   "outputs": [
    {
     "name": "stdout",
     "output_type": "stream",
     "text": [
      "8\n"
     ]
    },
    {
     "data": {
      "text/plain": [
       "array([ 7.20192680e-01,  1.15709952e-01, -5.80416268e-05])"
      ]
     },
     "execution_count": 104,
     "metadata": {},
     "output_type": "execute_result"
    }
   ],
   "source": [
    "contact = station.GetOutputPort(\"contact_results\").Eval(context)\n",
    "num_contacts = contact.num_point_pair_contacts()\n",
    "print(num_contacts)\n",
    "a = contact.point_pair_contact_info(1)\n",
    "a.contact_point()"
   ]
  },
  {
   "cell_type": "code",
   "execution_count": null,
   "metadata": {},
   "outputs": [
    {
     "name": "stdout",
     "output_type": "stream",
     "text": [
      "[0.76671662 0.15635648 0.029096  ]\n",
      "[ 7.20192680e-01  1.15709952e-01 -5.80416268e-05]\n",
      "[0.80215838 0.10720572 0.02441489]\n",
      "[ 7.95898018e-01  9.72281132e-02 -2.13457851e-04]\n",
      "[ 6.37500001e-01  2.50000016e-02 -7.61718707e-06]\n",
      "[ 6.37500002e-01 -2.49999973e-02 -1.28237572e-05]\n",
      "[ 5.62500002e-01  2.50000026e-02 -1.28237666e-05]\n",
      "[ 5.62500003e-01 -2.49999963e-02 -1.80303367e-05]\n"
     ]
    }
   ],
   "source": []
  },
  {
   "cell_type": "code",
   "execution_count": null,
   "metadata": {},
   "outputs": [],
   "source": [
    "end_effector_frame = station."
   ]
  }
 ],
 "metadata": {
  "kernelspec": {
   "display_name": "Python 3.11.5 ('drake_env': venv)",
   "language": "python",
   "name": "python3"
  },
  "language_info": {
   "codemirror_mode": {
    "name": "ipython",
    "version": 3
   },
   "file_extension": ".py",
   "mimetype": "text/x-python",
   "name": "python",
   "nbconvert_exporter": "python",
   "pygments_lexer": "ipython3",
   "version": "3.11.4"
  },
  "orig_nbformat": 4,
  "vscode": {
   "interpreter": {
    "hash": "a3a58c6867cb66131d0bfe5a5f9b20b5d7637deda1e9bd90477c03cc28f30e93"
   }
  }
 },
 "nbformat": 4,
 "nbformat_minor": 2
}
