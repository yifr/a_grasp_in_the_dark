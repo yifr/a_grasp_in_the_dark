{
 "cells": [
  {
   "cell_type": "code",
   "execution_count": 1,
   "metadata": {},
   "outputs": [],
   "source": [
    "%load_ext autoreload\n",
    "%autoreload 2"
   ]
  },
  {
   "cell_type": "code",
   "execution_count": 2,
   "metadata": {},
   "outputs": [],
   "source": [
    "import numpy as np\n",
    "import pydot\n",
    "import os\n",
    "from IPython.display import SVG, display\n",
    "from pydrake.all import (\n",
    "    AddMultibodyPlantSceneGraph,\n",
    "    DiagramBuilder,\n",
    "    InverseDynamicsController,\n",
    "    LeafSystem,\n",
    "    MeshcatVisualizer,\n",
    "    MultibodyPlant,\n",
    "    Parser,\n",
    "    Simulator,\n",
    "    StartMeshcat,\n",
    "    RotationMatrix,\n",
    "    StateInterpolatorWithDiscreteDerivative,\n",
    "    ConstantVectorSource,\n",
    "    DiagramBuilder,\n",
    "    MeshcatVisualizer,\n",
    "    MeshcatVisualizerParams,\n",
    "    MultibodyPlant,\n",
    "    Parser,\n",
    "    PiecewisePolynomial,\n",
    "    PiecewiseQuaternionSlerp,\n",
    "    RigidTransform,\n",
    "    RollPitchYaw,\n",
    "    RotationMatrix,\n",
    "    Simulator,\n",
    "    Solve,\n",
    "    StartMeshcat,\n",
    "    TrajectorySource,\n",
    ")\n",
    "from manipulation.station import MakeHardwareStation, load_scenario\n",
    "from manipulation.scenarios import AddMultibodyTriad, MakeManipulationStation\n",
    "from manipulation.meshcat_utils import AddMeshcatTriad\n",
    "from pydrake.multibody import inverse_kinematics\n",
    "import copy"
   ]
  },
  {
   "cell_type": "code",
   "execution_count": 3,
   "metadata": {},
   "outputs": [],
   "source": [
    "import model_builder\n",
    "import AllegroWrapper"
   ]
  },
  {
   "cell_type": "code",
   "execution_count": 4,
   "metadata": {},
   "outputs": [
    {
     "name": "stderr",
     "output_type": "stream",
     "text": [
      "INFO:drake:Meshcat listening for connections at http://localhost:7001\n"
     ]
    }
   ],
   "source": [
    "meshcat, station, simulator, context = model_builder.old_scenario()\n",
    "allegro = AllegroWrapper.AllegroHand(station, context)\n",
    "x0 = allegro.get_state()"
   ]
  },
  {
   "cell_type": "code",
   "execution_count": 5,
   "metadata": {},
   "outputs": [
    {
     "data": {
      "image/svg+xml": "<svg xmlns=\"http://www.w3.org/2000/svg\" xmlns:xlink=\"http://www.w3.org/1999/xlink\" width=\"1731pt\" height=\"1239pt\" viewBox=\"0.00 0.00 1730.88 1238.55\">\n<g id=\"graph0\" class=\"graph\" transform=\"scale(1 1) rotate(0) translate(4 1234.55)\">\n<title>_426</title>\n<polygon fill=\"white\" stroke=\"transparent\" points=\"-4,4 -4,-1234.55 1726.88,-1234.55 1726.88,4 -4,4\"/>\n<g id=\"clust1\" class=\"cluster\">\n<title>cluster426diagram</title>\n<polygon fill=\"none\" stroke=\"black\" points=\"8,-10.55 8,-1222.55 1714.88,-1222.55 1714.88,-10.55 8,-10.55\"/>\n<text text-anchor=\"start\" x=\"835.94\" y=\"-1204.35\" font-family=\"Times,serif\" font-weight=\"bold\" font-size=\"14.00\">Diagram</text>\n<text text-anchor=\"start\" x=\"824.44\" y=\"-1190.35\" font-family=\"Times,serif\" font-size=\"14.00\">name=station</text>\n</g>\n<g id=\"clust2\" class=\"cluster\">\n<title>clusters426in</title>\n<polygon fill=\"lightgrey\" stroke=\"lightgrey\" points=\"586.5,-1095.55 586.5,-1170.55 774.5,-1170.55 774.5,-1095.55 586.5,-1095.55\"/>\n<text text-anchor=\"middle\" x=\"680.5\" y=\"-1155.35\" font-family=\"Times,serif\" font-size=\"14.00\">input ports</text>\n</g>\n<g id=\"clust3\" class=\"cluster\">\n<title>clusters426out</title>\n<polygon fill=\"lightgrey\" stroke=\"lightgrey\" points=\"1156.5,-18.55 1156.5,-189.55 1357.5,-189.55 1357.5,-18.55 1156.5,-18.55\"/>\n<text text-anchor=\"middle\" x=\"1257\" y=\"-174.35\" font-family=\"Times,serif\" font-size=\"14.00\">output ports</text>\n</g>\n<g id=\"clust4\" class=\"cluster\">\n<title>cluster426subsystems</title>\n<polygon fill=\"none\" stroke=\"white\" points=\"16,-197.55 16,-1087.55 1706.88,-1087.55 1706.88,-197.55 16,-197.55\"/>\n</g>\n<!-- s426in -->\n<g id=\"node1\" class=\"node\">\n<title>s426in</title>\n<polygon fill=\"none\" stroke=\"blue\" points=\"605.5,-1110.55 605.5,-1131.55 755.5,-1131.55 755.5,-1110.55 605.5,-1110.55\"/>\n<text text-anchor=\"start\" x=\"608.5\" y=\"-1117.35\" font-family=\"Times,serif\" font-size=\"14.00\">iiwa+allegro.desired_state</text>\n</g>\n<!-- s278 -->\n<g id=\"node5\" class=\"node\">\n<title>s278</title>\n<polygon fill=\"none\" stroke=\"black\" points=\"852.5,-874.55 852.5,-908.55 1046.5,-908.55 1046.5,-874.55 852.5,-874.55\"/>\n<text text-anchor=\"start\" x=\"868.5\" y=\"-895.35\" font-family=\"Times,serif\" font-weight=\"bold\" font-size=\"14.00\">InverseDynamicsController</text>\n<text text-anchor=\"start\" x=\"867.5\" y=\"-881.35\" font-family=\"Times,serif\" font-size=\"14.00\">name=iiwa+allegro.controller</text>\n<polygon fill=\"none\" stroke=\"black\" points=\"852.5,-853.55 852.5,-874.55 943.5,-874.55 943.5,-853.55 852.5,-853.55\"/>\n<text text-anchor=\"start\" x=\"855.5\" y=\"-860.35\" font-family=\"Times,serif\" font-size=\"14.00\">estimated_state</text>\n<polygon fill=\"none\" stroke=\"black\" points=\"943.5,-853.55 943.5,-874.55 1046.5,-874.55 1046.5,-853.55 943.5,-853.55\"/>\n<text text-anchor=\"start\" x=\"946.5\" y=\"-860.35\" font-family=\"Times,serif\" font-size=\"14.00\">generalized_force</text>\n<polygon fill=\"none\" stroke=\"black\" points=\"852.5,-832.55 852.5,-853.55 943.5,-853.55 943.5,-832.55 852.5,-832.55\"/>\n<text text-anchor=\"start\" x=\"862.5\" y=\"-839.35\" font-family=\"Times,serif\" font-size=\"14.00\">desired_state</text>\n<polygon fill=\"none\" stroke=\"black\" points=\"943.5,-832.55 943.5,-853.55 1046.5,-853.55 1046.5,-832.55 943.5,-832.55\"/>\n<text text-anchor=\"start\" x=\"973.5\" y=\"-840.35\" font-family=\"Times,serif\" text-decoration=\"line-through\" font-size=\"14.00\">force</text>\n<text text-anchor=\"start\" x=\"1001.5\" y=\"-840.35\" font-family=\"Times,serif\" font-size=\"14.00\">🪦</text>\n</g>\n<!-- s426in&#45;&gt;s278 -->\n<g id=\"edge27\" class=\"edge\">\n<title>s426in:e-&gt;s278:w</title>\n<path fill=\"none\" stroke=\"blue\" d=\"M756.5,-1120.55C883.5,-1120.55 729.79,-857.55 841.44,-843.16\"/>\n<polygon fill=\"blue\" stroke=\"blue\" points=\"841.73,-846.65 851.5,-842.55 841.31,-839.67 841.73,-846.65\"/>\n</g>\n<!-- s426out -->\n<g id=\"node2\" class=\"node\">\n<title>s426out</title>\n<polygon fill=\"none\" stroke=\"green\" points=\"1176,-129.55 1176,-150.55 1339,-150.55 1339,-129.55 1176,-129.55\"/>\n<text text-anchor=\"start\" x=\"1179\" y=\"-136.35\" font-family=\"Times,serif\" font-size=\"14.00\">iiwa+allegro.state_estimated</text>\n<polygon fill=\"none\" stroke=\"green\" points=\"1176,-105.55 1176,-126.55 1339,-126.55 1339,-105.55 1176,-105.55\"/>\n<text text-anchor=\"start\" x=\"1222\" y=\"-112.35\" font-family=\"Times,serif\" font-size=\"14.00\">query_object</text>\n<polygon fill=\"none\" stroke=\"green\" points=\"1176,-81.55 1176,-102.55 1339,-102.55 1339,-81.55 1176,-81.55\"/>\n<text text-anchor=\"start\" x=\"1216.5\" y=\"-88.35\" font-family=\"Times,serif\" font-size=\"14.00\">contact_results</text>\n<polygon fill=\"none\" stroke=\"green\" points=\"1176,-57.55 1176,-78.55 1339,-78.55 1339,-57.55 1176,-57.55\"/>\n<text text-anchor=\"start\" x=\"1195\" y=\"-64.35\" font-family=\"Times,serif\" font-size=\"14.00\">plant_continuous_state</text>\n<polygon fill=\"none\" stroke=\"green\" points=\"1176,-33.55 1176,-54.55 1339,-54.55 1339,-33.55 1176,-33.55\"/>\n<text text-anchor=\"start\" x=\"1225.5\" y=\"-40.35\" font-family=\"Times,serif\" font-size=\"14.00\">body_poses</text>\n</g>\n<!-- s2 -->\n<g id=\"node3\" class=\"node\">\n<title>s2</title>\n<polygon fill=\"none\" stroke=\"black\" points=\"32,-1040.55 32,-1074.55 520,-1074.55 520,-1040.55 32,-1040.55\"/>\n<text text-anchor=\"start\" x=\"229.5\" y=\"-1061.35\" font-family=\"Times,serif\" font-weight=\"bold\" font-size=\"14.00\">MultibodyPlant</text>\n<text text-anchor=\"start\" x=\"243\" y=\"-1047.35\" font-family=\"Times,serif\" font-size=\"14.00\">name=plant</text>\n<polygon fill=\"none\" stroke=\"black\" points=\"32,-1019.55 32,-1040.55 237,-1040.55 237,-1019.55 32,-1019.55\"/>\n<text text-anchor=\"start\" x=\"89.5\" y=\"-1026.35\" font-family=\"Times,serif\" font-size=\"14.00\">geometry_query</text>\n<polygon fill=\"none\" stroke=\"black\" points=\"237,-1019.55 237,-1040.55 520,-1040.55 520,-1019.55 237,-1019.55\"/>\n<text text-anchor=\"start\" x=\"336.5\" y=\"-1026.35\" font-family=\"Times,serif\" font-size=\"14.00\">geometry_pose</text>\n<polygon fill=\"none\" stroke=\"black\" points=\"32,-998.55 32,-1019.55 237,-1019.55 237,-998.55 32,-998.55\"/>\n<text text-anchor=\"start\" x=\"48.5\" y=\"-1005.35\" font-family=\"Times,serif\" font-size=\"14.00\" fill=\"grey\">WorldModelInstance_actuation</text>\n<polygon fill=\"none\" stroke=\"black\" points=\"237,-998.55 237,-1019.55 520,-1019.55 520,-998.55 237,-998.55\"/>\n<text text-anchor=\"start\" x=\"280.5\" y=\"-1005.35\" font-family=\"Times,serif\" font-size=\"14.00\" fill=\"grey\">WorldModelInstance_net_actuation</text>\n<polygon fill=\"none\" stroke=\"black\" points=\"32,-977.55 32,-998.55 237,-998.55 237,-977.55 32,-977.55\"/>\n<text text-anchor=\"start\" x=\"45.5\" y=\"-984.35\" font-family=\"Times,serif\" font-size=\"14.00\" fill=\"grey\">DefaultModelInstance_actuation</text>\n<polygon fill=\"none\" stroke=\"black\" points=\"237,-977.55 237,-998.55 520,-998.55 520,-977.55 237,-977.55\"/>\n<text text-anchor=\"start\" x=\"277.5\" y=\"-984.35\" font-family=\"Times,serif\" font-size=\"14.00\" fill=\"grey\">DefaultModelInstance_net_actuation</text>\n<polygon fill=\"none\" stroke=\"black\" points=\"32,-956.55 32,-977.55 237,-977.55 237,-956.55 32,-956.55\"/>\n<text text-anchor=\"start\" x=\"94.5\" y=\"-963.35\" font-family=\"Times,serif\" font-size=\"14.00\">iiwa_actuation</text>\n<polygon fill=\"none\" stroke=\"black\" points=\"237,-956.55 237,-977.55 520,-977.55 520,-956.55 237,-956.55\"/>\n<text text-anchor=\"start\" x=\"327\" y=\"-963.35\" font-family=\"Times,serif\" font-size=\"14.00\">iiwa_net_actuation</text>\n<polygon fill=\"none\" stroke=\"black\" points=\"32,-935.55 32,-956.55 237,-956.55 237,-935.55 32,-935.55\"/>\n<text text-anchor=\"start\" x=\"87.5\" y=\"-942.35\" font-family=\"Times,serif\" font-size=\"14.00\">allegro_actuation</text>\n<polygon fill=\"none\" stroke=\"black\" points=\"237,-935.55 237,-956.55 520,-956.55 520,-935.55 237,-935.55\"/>\n<text text-anchor=\"start\" x=\"319.5\" y=\"-942.35\" font-family=\"Times,serif\" font-size=\"14.00\">allegro_net_actuation</text>\n<polygon fill=\"none\" stroke=\"black\" points=\"32,-914.55 32,-935.55 237,-935.55 237,-914.55 32,-914.55\"/>\n<text text-anchor=\"start\" x=\"74.5\" y=\"-921.35\" font-family=\"Times,serif\" font-size=\"14.00\" fill=\"grey\">foam_brick_actuation</text>\n<polygon fill=\"none\" stroke=\"black\" points=\"237,-914.55 237,-935.55 520,-935.55 520,-914.55 237,-914.55\"/>\n<text text-anchor=\"start\" x=\"307\" y=\"-921.35\" font-family=\"Times,serif\" font-size=\"14.00\" fill=\"grey\">foam_brick_net_actuation</text>\n<polygon fill=\"none\" stroke=\"black\" points=\"32,-893.55 32,-914.55 237,-914.55 237,-893.55 32,-893.55\"/>\n<text text-anchor=\"start\" x=\"75.5\" y=\"-900.35\" font-family=\"Times,serif\" font-size=\"14.00\" fill=\"grey\">robot_table_actuation</text>\n<polygon fill=\"none\" stroke=\"black\" points=\"237,-893.55 237,-914.55 520,-914.55 520,-893.55 237,-893.55\"/>\n<text text-anchor=\"start\" x=\"307.5\" y=\"-900.35\" font-family=\"Times,serif\" font-size=\"14.00\" fill=\"grey\">robot_table_net_actuation</text>\n<polygon fill=\"none\" stroke=\"black\" points=\"32,-872.55 32,-893.55 237,-893.55 237,-872.55 32,-872.55\"/>\n<text text-anchor=\"start\" x=\"75.5\" y=\"-879.35\" font-family=\"Times,serif\" font-size=\"14.00\" fill=\"grey\">work_table_actuation</text>\n<polygon fill=\"none\" stroke=\"black\" points=\"237,-872.55 237,-893.55 520,-893.55 520,-872.55 237,-872.55\"/>\n<text text-anchor=\"start\" x=\"308\" y=\"-879.35\" font-family=\"Times,serif\" font-size=\"14.00\" fill=\"grey\">work_table_net_actuation</text>\n<polygon fill=\"none\" stroke=\"black\" points=\"32,-851.55 32,-872.55 237,-872.55 237,-851.55 32,-851.55\"/>\n<text text-anchor=\"start\" x=\"109.5\" y=\"-858.35\" font-family=\"Times,serif\" font-size=\"14.00\">actuation</text>\n<polygon fill=\"none\" stroke=\"black\" points=\"237,-851.55 237,-872.55 520,-872.55 520,-851.55 237,-851.55\"/>\n<text text-anchor=\"start\" x=\"342\" y=\"-858.35\" font-family=\"Times,serif\" font-size=\"14.00\">net_actuation</text>\n<polygon fill=\"none\" stroke=\"black\" points=\"32,-830.55 32,-851.55 237,-851.55 237,-830.55 32,-830.55\"/>\n<text text-anchor=\"start\" x=\"38\" y=\"-837.35\" font-family=\"Times,serif\" font-size=\"14.00\" fill=\"grey\">WorldModelInstance_desired_state</text>\n<polygon fill=\"none\" stroke=\"black\" points=\"237,-830.55 237,-851.55 520,-851.55 520,-830.55 237,-830.55\"/>\n<text text-anchor=\"start\" x=\"366\" y=\"-837.35\" font-family=\"Times,serif\" font-size=\"14.00\">state</text>\n<polygon fill=\"none\" stroke=\"black\" points=\"32,-809.55 32,-830.55 237,-830.55 237,-809.55 32,-809.55\"/>\n<text text-anchor=\"start\" x=\"35\" y=\"-816.35\" font-family=\"Times,serif\" font-size=\"14.00\" fill=\"grey\">DefaultModelInstance_desired_state</text>\n<polygon fill=\"none\" stroke=\"black\" points=\"237,-809.55 237,-830.55 520,-830.55 520,-809.55 237,-809.55\"/>\n<text text-anchor=\"start\" x=\"346.5\" y=\"-816.35\" font-family=\"Times,serif\" font-size=\"14.00\">body_poses</text>\n<polygon fill=\"none\" stroke=\"black\" points=\"32,-788.55 32,-809.55 237,-809.55 237,-788.55 32,-788.55\"/>\n<text text-anchor=\"start\" x=\"84\" y=\"-795.35\" font-family=\"Times,serif\" font-size=\"14.00\" fill=\"grey\">iiwa_desired_state</text>\n<polygon fill=\"none\" stroke=\"black\" points=\"237,-788.55 237,-809.55 520,-809.55 520,-788.55 237,-788.55\"/>\n<text text-anchor=\"start\" x=\"331.5\" y=\"-795.35\" font-family=\"Times,serif\" font-size=\"14.00\">spatial_velocities</text>\n<polygon fill=\"none\" stroke=\"black\" points=\"32,-767.55 32,-788.55 237,-788.55 237,-767.55 32,-767.55\"/>\n<text text-anchor=\"start\" x=\"77\" y=\"-774.35\" font-family=\"Times,serif\" font-size=\"14.00\" fill=\"grey\">allegro_desired_state</text>\n<polygon fill=\"none\" stroke=\"black\" points=\"237,-767.55 237,-788.55 520,-788.55 520,-767.55 237,-767.55\"/>\n<text text-anchor=\"start\" x=\"322\" y=\"-774.35\" font-family=\"Times,serif\" font-size=\"14.00\">spatial_accelerations</text>\n<polygon fill=\"none\" stroke=\"black\" points=\"32,-746.55 32,-767.55 237,-767.55 237,-746.55 32,-746.55\"/>\n<text text-anchor=\"start\" x=\"64\" y=\"-753.35\" font-family=\"Times,serif\" font-size=\"14.00\" fill=\"grey\">foam_brick_desired_state</text>\n<polygon fill=\"none\" stroke=\"black\" points=\"237,-746.55 237,-767.55 520,-767.55 520,-746.55 237,-746.55\"/>\n<text text-anchor=\"start\" x=\"311\" y=\"-753.35\" font-family=\"Times,serif\" font-size=\"14.00\">generalized_acceleration</text>\n<polygon fill=\"none\" stroke=\"black\" points=\"32,-725.55 32,-746.55 237,-746.55 237,-725.55 32,-725.55\"/>\n<text text-anchor=\"start\" x=\"65\" y=\"-732.35\" font-family=\"Times,serif\" font-size=\"14.00\" fill=\"grey\">robot_table_desired_state</text>\n<polygon fill=\"none\" stroke=\"black\" points=\"237,-725.55 237,-746.55 520,-746.55 520,-725.55 237,-725.55\"/>\n<text text-anchor=\"start\" x=\"304.5\" y=\"-732.35\" font-family=\"Times,serif\" font-size=\"14.00\" fill=\"grey\">WorldModelInstance_state</text>\n<polygon fill=\"none\" stroke=\"black\" points=\"32,-704.55 32,-725.55 237,-725.55 237,-704.55 32,-704.55\"/>\n<text text-anchor=\"start\" x=\"65\" y=\"-711.35\" font-family=\"Times,serif\" font-size=\"14.00\" fill=\"grey\">work_table_desired_state</text>\n<polygon fill=\"none\" stroke=\"black\" points=\"237,-704.55 237,-725.55 520,-725.55 520,-704.55 237,-704.55\"/>\n<text text-anchor=\"start\" x=\"250\" y=\"-711.35\" font-family=\"Times,serif\" font-size=\"14.00\" fill=\"grey\">WorldModelInstance_generalized_acceleration</text>\n<polygon fill=\"none\" stroke=\"black\" points=\"32,-683.55 32,-704.55 237,-704.55 237,-683.55 32,-683.55\"/>\n<text text-anchor=\"start\" x=\"62.5\" y=\"-690.35\" font-family=\"Times,serif\" font-size=\"14.00\">applied_generalized_force</text>\n<polygon fill=\"none\" stroke=\"black\" points=\"237,-683.55 237,-704.55 520,-704.55 520,-683.55 237,-683.55\"/>\n<text text-anchor=\"start\" x=\"301.5\" y=\"-690.35\" font-family=\"Times,serif\" font-size=\"14.00\" fill=\"grey\">DefaultModelInstance_state</text>\n<polygon fill=\"none\" stroke=\"black\" points=\"32,-662.55 32,-683.55 237,-683.55 237,-662.55 32,-662.55\"/>\n<text text-anchor=\"start\" x=\"76\" y=\"-669.35\" font-family=\"Times,serif\" font-size=\"14.00\">applied_spatial_force</text>\n<polygon fill=\"none\" stroke=\"black\" points=\"237,-662.55 237,-683.55 520,-683.55 520,-662.55 237,-662.55\"/>\n<text text-anchor=\"start\" x=\"247\" y=\"-669.35\" font-family=\"Times,serif\" font-size=\"14.00\" fill=\"grey\">DefaultModelInstance_generalized_acceleration</text>\n<polyline fill=\"none\" stroke=\"grey\" points=\"32,-662.55 32,-263.55 237,-263.55 \"/>\n<polygon fill=\"none\" stroke=\"black\" points=\"237,-641.55 237,-662.55 520,-662.55 520,-641.55 237,-641.55\"/>\n<text text-anchor=\"start\" x=\"351\" y=\"-648.35\" font-family=\"Times,serif\" font-size=\"14.00\">iiwa_state</text>\n<polygon fill=\"none\" stroke=\"black\" points=\"237,-620.55 237,-641.55 520,-641.55 520,-620.55 237,-620.55\"/>\n<text text-anchor=\"start\" x=\"296\" y=\"-627.35\" font-family=\"Times,serif\" font-size=\"14.00\">iiwa_generalized_acceleration</text>\n<polygon fill=\"none\" stroke=\"black\" points=\"237,-599.55 237,-620.55 520,-620.55 520,-599.55 237,-599.55\"/>\n<text text-anchor=\"start\" x=\"343.5\" y=\"-606.35\" font-family=\"Times,serif\" font-size=\"14.00\">allegro_state</text>\n<polygon fill=\"none\" stroke=\"black\" points=\"237,-578.55 237,-599.55 520,-599.55 520,-578.55 237,-578.55\"/>\n<text text-anchor=\"start\" x=\"289\" y=\"-585.35\" font-family=\"Times,serif\" font-size=\"14.00\">allegro_generalized_acceleration</text>\n<polygon fill=\"none\" stroke=\"black\" points=\"237,-557.55 237,-578.55 520,-578.55 520,-557.55 237,-557.55\"/>\n<text text-anchor=\"start\" x=\"331\" y=\"-564.35\" font-family=\"Times,serif\" font-size=\"14.00\">foam_brick_state</text>\n<polygon fill=\"none\" stroke=\"black\" points=\"237,-536.55 237,-557.55 520,-557.55 520,-536.55 237,-536.55\"/>\n<text text-anchor=\"start\" x=\"276\" y=\"-543.35\" font-family=\"Times,serif\" font-size=\"14.00\">foam_brick_generalized_acceleration</text>\n<polygon fill=\"none\" stroke=\"black\" points=\"237,-515.55 237,-536.55 520,-536.55 520,-515.55 237,-515.55\"/>\n<text text-anchor=\"start\" x=\"331.5\" y=\"-522.35\" font-family=\"Times,serif\" font-size=\"14.00\" fill=\"grey\">robot_table_state</text>\n<polygon fill=\"none\" stroke=\"black\" points=\"237,-494.55 237,-515.55 520,-515.55 520,-494.55 237,-494.55\"/>\n<text text-anchor=\"start\" x=\"277\" y=\"-501.35\" font-family=\"Times,serif\" font-size=\"14.00\" fill=\"grey\">robot_table_generalized_acceleration</text>\n<polygon fill=\"none\" stroke=\"black\" points=\"237,-473.55 237,-494.55 520,-494.55 520,-473.55 237,-473.55\"/>\n<text text-anchor=\"start\" x=\"332\" y=\"-480.35\" font-family=\"Times,serif\" font-size=\"14.00\" fill=\"grey\">work_table_state</text>\n<polygon fill=\"none\" stroke=\"black\" points=\"237,-452.55 237,-473.55 520,-473.55 520,-452.55 237,-452.55\"/>\n<text text-anchor=\"start\" x=\"277.5\" y=\"-459.35\" font-family=\"Times,serif\" font-size=\"14.00\" fill=\"grey\">work_table_generalized_acceleration</text>\n<polygon fill=\"none\" stroke=\"black\" points=\"237,-431.55 237,-452.55 520,-452.55 520,-431.55 237,-431.55\"/>\n<text text-anchor=\"start\" x=\"243\" y=\"-438.35\" font-family=\"Times,serif\" font-size=\"14.00\" fill=\"grey\">WorldModelInstance_generalized_contact_forces</text>\n<polygon fill=\"none\" stroke=\"black\" points=\"237,-410.55 237,-431.55 520,-431.55 520,-410.55 237,-410.55\"/>\n<text text-anchor=\"start\" x=\"240\" y=\"-417.35\" font-family=\"Times,serif\" font-size=\"14.00\" fill=\"grey\">DefaultModelInstance_generalized_contact_forces</text>\n<polygon fill=\"none\" stroke=\"black\" points=\"237,-389.55 237,-410.55 520,-410.55 520,-389.55 237,-389.55\"/>\n<text text-anchor=\"start\" x=\"289.5\" y=\"-396.35\" font-family=\"Times,serif\" font-size=\"14.00\">iiwa_generalized_contact_forces</text>\n<polygon fill=\"none\" stroke=\"black\" points=\"237,-368.55 237,-389.55 520,-389.55 520,-368.55 237,-368.55\"/>\n<text text-anchor=\"start\" x=\"282\" y=\"-375.35\" font-family=\"Times,serif\" font-size=\"14.00\">allegro_generalized_contact_forces</text>\n<polygon fill=\"none\" stroke=\"black\" points=\"237,-347.55 237,-368.55 520,-368.55 520,-347.55 237,-347.55\"/>\n<text text-anchor=\"start\" x=\"269.5\" y=\"-354.35\" font-family=\"Times,serif\" font-size=\"14.00\">foam_brick_generalized_contact_forces</text>\n<polygon fill=\"none\" stroke=\"black\" points=\"237,-326.55 237,-347.55 520,-347.55 520,-326.55 237,-326.55\"/>\n<text text-anchor=\"start\" x=\"270\" y=\"-333.35\" font-family=\"Times,serif\" font-size=\"14.00\" fill=\"grey\">robot_table_generalized_contact_forces</text>\n<polygon fill=\"none\" stroke=\"black\" points=\"237,-305.55 237,-326.55 520,-326.55 520,-305.55 237,-305.55\"/>\n<text text-anchor=\"start\" x=\"270.5\" y=\"-312.35\" font-family=\"Times,serif\" font-size=\"14.00\" fill=\"grey\">work_table_generalized_contact_forces</text>\n<polygon fill=\"none\" stroke=\"black\" points=\"237,-284.55 237,-305.55 520,-305.55 520,-284.55 237,-284.55\"/>\n<text text-anchor=\"start\" x=\"336.5\" y=\"-291.35\" font-family=\"Times,serif\" font-size=\"14.00\">reaction_forces</text>\n<polygon fill=\"none\" stroke=\"black\" points=\"237,-263.55 237,-284.55 520,-284.55 520,-263.55 237,-263.55\"/>\n<text text-anchor=\"start\" x=\"337.5\" y=\"-270.35\" font-family=\"Times,serif\" font-size=\"14.00\">contact_results</text>\n</g>\n<!-- s2&#45;&gt;s426out -->\n<g id=\"edge30\" class=\"edge\">\n<title>s2:e-&gt;s426out:w</title>\n<path fill=\"none\" stroke=\"green\" d=\"M521,-273.55C576.4,-273.55 520.13,-190.39 564,-156.55 652.74,-88.11 954.81,-122.53 1066,-108.55 1111.13,-102.88 1124.14,-93.1 1164.93,-91.72\"/>\n<polygon fill=\"green\" stroke=\"green\" points=\"1165.06,-95.22 1175,-91.55 1164.94,-88.22 1165.06,-95.22\"/>\n</g>\n<!-- s2&#45;&gt;s426out -->\n<g id=\"edge31\" class=\"edge\">\n<title>s2:e-&gt;s426out:w</title>\n<path fill=\"none\" stroke=\"green\" d=\"M521,-841.55C587.06,-841.55 522.79,-300.18 564,-248.55 708.06,-68.07 846.32,-185.73 1066,-114.55 1112.76,-99.4 1121.21,-71.69 1164.81,-67.97\"/>\n<polygon fill=\"green\" stroke=\"green\" points=\"1165.15,-71.46 1175,-67.55 1164.87,-64.46 1165.15,-71.46\"/>\n</g>\n<!-- s2&#45;&gt;s426out -->\n<g id=\"edge32\" class=\"edge\">\n<title>s2:e-&gt;s426out:w</title>\n<path fill=\"none\" stroke=\"green\" d=\"M521,-820.55C600.26,-820.55 509.25,-165.86 564,-108.55 750.25,86.4 898.12,-40.24 1164.66,-43.49\"/>\n<polygon fill=\"green\" stroke=\"green\" points=\"1164.98,-46.99 1175,-43.55 1165.02,-39.99 1164.98,-46.99\"/>\n</g>\n<!-- s3 -->\n<g id=\"node4\" class=\"node\">\n<title>s3</title>\n<polygon fill=\"none\" stroke=\"black\" points=\"841.5,-709.55 841.5,-743.55 1058.5,-743.55 1058.5,-709.55 841.5,-709.55\"/>\n<text text-anchor=\"start\" x=\"913.5\" y=\"-730.35\" font-family=\"Times,serif\" font-weight=\"bold\" font-size=\"14.00\">SceneGraph</text>\n<text text-anchor=\"start\" x=\"897\" y=\"-716.35\" font-family=\"Times,serif\" font-size=\"14.00\">name=scene_graph</text>\n<polygon fill=\"none\" stroke=\"black\" points=\"841.5,-688.55 841.5,-709.55 1021.5,-709.55 1021.5,-688.55 841.5,-688.55\"/>\n<text text-anchor=\"start\" x=\"902\" y=\"-695.35\" font-family=\"Times,serif\" font-size=\"14.00\">plant_pose</text>\n<polygon fill=\"none\" stroke=\"black\" points=\"1021.5,-625.55 1021.5,-709.55 1058.5,-709.55 1058.5,-625.55 1021.5,-625.55\"/>\n<text text-anchor=\"start\" x=\"1024.5\" y=\"-663.85\" font-family=\"Times,serif\" font-size=\"14.00\">query</text>\n<polygon fill=\"none\" stroke=\"black\" points=\"841.5,-667.55 841.5,-688.55 1021.5,-688.55 1021.5,-667.55 841.5,-667.55\"/>\n<text text-anchor=\"start\" x=\"878\" y=\"-674.35\" font-family=\"Times,serif\" font-size=\"14.00\">plant_configuration</text>\n<polygon fill=\"none\" stroke=\"black\" points=\"841.5,-646.55 841.5,-667.55 1021.5,-667.55 1021.5,-646.55 841.5,-646.55\"/>\n<text text-anchor=\"start\" x=\"868.5\" y=\"-653.35\" font-family=\"Times,serif\" font-size=\"14.00\">inertia_visualizer_pose</text>\n<polygon fill=\"none\" stroke=\"black\" points=\"841.5,-625.55 841.5,-646.55 1021.5,-646.55 1021.5,-625.55 841.5,-625.55\"/>\n<text text-anchor=\"start\" x=\"844.5\" y=\"-632.35\" font-family=\"Times,serif\" font-size=\"14.00\">inertia_visualizer_configuration</text>\n</g>\n<!-- s2&#45;&gt;s3 -->\n<g id=\"edge12\" class=\"edge\">\n<title>s2:e-&gt;s3:w</title>\n<path fill=\"none\" stroke=\"black\" d=\"M521,-1030.55C540.44,-1030.55 544.64,-1036.77 564,-1038.55 667.12,-1048.06 719.25,-1106.96 797,-1038.55 851.24,-990.83 772.94,-727.19 830.52,-701.56\"/>\n<polygon fill=\"black\" stroke=\"black\" points=\"831.39,-704.95 840.5,-699.55 830.01,-698.09 831.39,-704.95\"/>\n</g>\n<!-- s285 -->\n<g id=\"node6\" class=\"node\">\n<title>s285</title>\n<polygon fill=\"none\" stroke=\"black\" points=\"572.5,-651.55 572.5,-685.55 789.5,-685.55 789.5,-651.55 572.5,-651.55\"/>\n<text text-anchor=\"start\" x=\"575.5\" y=\"-672.35\" font-family=\"Times,serif\" font-weight=\"bold\" font-size=\"14.00\">manipulation.station.MultiplexState</text>\n<text text-anchor=\"start\" x=\"582.5\" y=\"-658.35\" font-family=\"Times,serif\" font-size=\"14.00\">name=iiwa+allegro.combined_state</text>\n<polygon fill=\"none\" stroke=\"black\" points=\"572.5,-630.55 572.5,-651.55 671.5,-651.55 671.5,-630.55 572.5,-630.55\"/>\n<text text-anchor=\"start\" x=\"596\" y=\"-637.35\" font-family=\"Times,serif\" font-size=\"14.00\">iiwa.state</text>\n<polygon fill=\"none\" stroke=\"black\" points=\"671.5,-609.55 671.5,-651.55 789.5,-651.55 789.5,-609.55 671.5,-609.55\"/>\n<text text-anchor=\"start\" x=\"687.5\" y=\"-626.85\" font-family=\"Times,serif\" font-size=\"14.00\">combined_state</text>\n<polygon fill=\"none\" stroke=\"black\" points=\"572.5,-609.55 572.5,-630.55 671.5,-630.55 671.5,-609.55 572.5,-609.55\"/>\n<text text-anchor=\"start\" x=\"588.5\" y=\"-616.35\" font-family=\"Times,serif\" font-size=\"14.00\">allegro.state</text>\n</g>\n<!-- s2&#45;&gt;s285 -->\n<g id=\"edge9\" class=\"edge\">\n<title>s2:e-&gt;s285:w</title>\n<path fill=\"none\" stroke=\"black\" d=\"M521,-651.55C540.2,-651.55 546.54,-643.87 561.52,-641.34\"/>\n<polygon fill=\"black\" stroke=\"black\" points=\"561.81,-644.83 571.5,-640.55 561.25,-637.85 561.81,-644.83\"/>\n</g>\n<!-- s2&#45;&gt;s285 -->\n<g id=\"edge10\" class=\"edge\">\n<title>s2:e-&gt;s285:w</title>\n<path fill=\"none\" stroke=\"black\" d=\"M521,-609.55C539.95,-609.55 546.45,-616.41 561.13,-618.77\"/>\n<polygon fill=\"black\" stroke=\"black\" points=\"561.26,-622.29 571.5,-619.55 561.79,-615.31 561.26,-622.29\"/>\n</g>\n<!-- s296 -->\n<g id=\"node11\" class=\"node\">\n<title>s296</title>\n<polygon fill=\"none\" stroke=\"black\" points=\"591.5,-281.55 591.5,-315.55 769.5,-315.55 769.5,-281.55 591.5,-281.55\"/>\n<text text-anchor=\"start\" x=\"594.5\" y=\"-302.35\" font-family=\"Times,serif\" font-weight=\"bold\" font-size=\"14.00\">ContactResultsToLcmSystem</text>\n<text text-anchor=\"start\" x=\"619\" y=\"-288.35\" font-family=\"Times,serif\" font-size=\"14.00\">name=contact_to_lcm</text>\n<polygon fill=\"none\" stroke=\"black\" points=\"591.5,-260.55 591.5,-281.55 680.5,-281.55 680.5,-260.55 591.5,-260.55\"/>\n<text text-anchor=\"start\" x=\"629\" y=\"-267.35\" font-family=\"Times,serif\" font-size=\"14.00\">u0</text>\n<polygon fill=\"none\" stroke=\"black\" points=\"680.5,-260.55 680.5,-281.55 769.5,-281.55 769.5,-260.55 680.5,-260.55\"/>\n<text text-anchor=\"start\" x=\"718\" y=\"-267.35\" font-family=\"Times,serif\" font-size=\"14.00\">y0</text>\n</g>\n<!-- s2&#45;&gt;s296 -->\n<g id=\"edge19\" class=\"edge\">\n<title>s2:e-&gt;s296:w</title>\n<path fill=\"none\" stroke=\"black\" d=\"M521,-273.55C548.17,-273.55 557.39,-271.24 580.21,-270.67\"/>\n<polygon fill=\"black\" stroke=\"black\" points=\"580.54,-274.17 590.5,-270.55 580.46,-267.17 580.54,-274.17\"/>\n</g>\n<!-- s298 -->\n<g id=\"node13\" class=\"node\">\n<title>s298</title>\n<polygon fill=\"none\" stroke=\"black\" points=\"573.5,-975.55 573.5,-1009.55 787.5,-1009.55 787.5,-975.55 573.5,-975.55\"/>\n<text text-anchor=\"start\" x=\"631\" y=\"-996.35\" font-family=\"Times,serif\" font-weight=\"bold\" font-size=\"14.00\">InertiaVisualizer</text>\n<text text-anchor=\"start\" x=\"614\" y=\"-982.35\" font-family=\"Times,serif\" font-size=\"14.00\">name=inertia_visualizer</text>\n<polygon fill=\"none\" stroke=\"black\" points=\"573.5,-954.55 573.5,-975.55 697.5,-975.55 697.5,-954.55 573.5,-954.55\"/>\n<text text-anchor=\"start\" x=\"576.5\" y=\"-961.35\" font-family=\"Times,serif\" font-size=\"14.00\">plant_geometry_pose</text>\n<polygon fill=\"none\" stroke=\"black\" points=\"697.5,-954.55 697.5,-975.55 787.5,-975.55 787.5,-954.55 697.5,-954.55\"/>\n<text text-anchor=\"start\" x=\"700.5\" y=\"-961.35\" font-family=\"Times,serif\" font-size=\"14.00\">geometry_pose</text>\n</g>\n<!-- s2&#45;&gt;s298 -->\n<g id=\"edge21\" class=\"edge\">\n<title>s2:e-&gt;s298:w</title>\n<path fill=\"none\" stroke=\"black\" d=\"M521,-1030.55C554.28,-1030.55 539.46,-977.74 562.59,-966.6\"/>\n<polygon fill=\"black\" stroke=\"black\" points=\"563.42,-970 572.5,-964.55 562,-963.15 563.42,-970\"/>\n</g>\n<!-- s403 -->\n<g id=\"node18\" class=\"node\">\n<title>s403</title>\n<polygon fill=\"none\" stroke=\"black\" points=\"1160,-540.55 1160,-588.55 1355,-588.55 1355,-540.55 1160,-540.55\"/>\n<text text-anchor=\"start\" x=\"1205\" y=\"-575.35\" font-family=\"Times,serif\" font-weight=\"bold\" font-size=\"14.00\">ContactVisualizer</text>\n<text text-anchor=\"start\" x=\"1163\" y=\"-561.35\" font-family=\"Times,serif\" font-size=\"14.00\">name=meshcat_contact_visualizer</text>\n<text text-anchor=\"start\" x=\"1183.5\" y=\"-547.35\" font-family=\"Times,serif\" font-size=\"14.00\">path=/drake/contact_forces</text>\n<polygon fill=\"none\" stroke=\"black\" points=\"1160,-519.55 1160,-540.55 1298,-540.55 1298,-519.55 1160,-519.55\"/>\n<text text-anchor=\"start\" x=\"1188\" y=\"-526.35\" font-family=\"Times,serif\" font-size=\"14.00\">contact_results</text>\n<polyline fill=\"none\" stroke=\"grey\" points=\"1298,-498.55 1355,-498.55 1355,-540.55 \"/>\n<polygon fill=\"none\" stroke=\"black\" points=\"1160,-498.55 1160,-519.55 1298,-519.55 1298,-498.55 1160,-498.55\"/>\n<text text-anchor=\"start\" x=\"1193.5\" y=\"-505.35\" font-family=\"Times,serif\" font-size=\"14.00\">query_object</text>\n</g>\n<!-- s2&#45;&gt;s403 -->\n<g id=\"edge25\" class=\"edge\">\n<title>s2:e-&gt;s403:w</title>\n<path fill=\"none\" stroke=\"black\" d=\"M521,-273.55C552.38,-273.55 538.46,-311.32 564,-329.55 788.27,-489.7 877.82,-528.61 1148.87,-529.54\"/>\n<polygon fill=\"black\" stroke=\"black\" points=\"1148.99,-533.04 1159,-529.55 1149.01,-526.04 1148.99,-533.04\"/>\n</g>\n<!-- s3&#45;&gt;s426out -->\n<g id=\"edge29\" class=\"edge\">\n<title>s3:e-&gt;s426out:w</title>\n<path fill=\"none\" stroke=\"green\" d=\"M1059.5,-667.55C1112.38,-667.55 1080.24,-241.75 1102,-193.55 1119.89,-153.93 1126.76,-121.92 1164.67,-117.16\"/>\n<polygon fill=\"green\" stroke=\"green\" points=\"1165.22,-120.64 1175,-116.55 1164.81,-113.65 1165.22,-120.64\"/>\n</g>\n<!-- s3&#45;&gt;s2 -->\n<g id=\"edge14\" class=\"edge\">\n<title>s3:e-&gt;s2:w</title>\n<path fill=\"none\" stroke=\"black\" d=\"M1059.5,-667.55C1088.16,-667.55 1049.43,-423.64 833,-621.55 766.81,-682.08 861.21,-960.93 797,-1023.55 759.86,-1059.78 610.62,-1015.79 564,-1038.55 542.36,-1049.12 549.97,-1069.19 528,-1079.05 326.9,-1169.36 189.48,-1233.32 32,-1079.05 19.61,-1066.91 12.55,-1042.91 21.5,-1033.99\"/>\n<polygon fill=\"black\" stroke=\"black\" points=\"22.79,-1037.25 31,-1030.55 20.41,-1030.67 22.79,-1037.25\"/>\n</g>\n<!-- s288 -->\n<g id=\"node8\" class=\"node\">\n<title>s288</title>\n<polygon fill=\"none\" stroke=\"black\" points=\"1152,-423.55 1152,-471.55 1363,-471.55 1363,-423.55 1152,-423.55\"/>\n<text text-anchor=\"start\" x=\"1210\" y=\"-458.35\" font-family=\"Times,serif\" font-weight=\"bold\" font-size=\"14.00\">DrakeVisualizer</text>\n<text text-anchor=\"start\" x=\"1159.5\" y=\"-444.35\" font-family=\"Times,serif\" font-size=\"14.00\">name=drake_visualizer(illustration)</text>\n<text text-anchor=\"start\" x=\"1155\" y=\"-430.35\" font-family=\"Times,serif\" font-size=\"14.00\">channel=DRAKE_VIEWER_DRAW</text>\n<polygon fill=\"none\" stroke=\"black\" points=\"1152,-402.55 1152,-423.55 1293,-423.55 1293,-402.55 1152,-402.55\"/>\n<text text-anchor=\"start\" x=\"1187\" y=\"-409.35\" font-family=\"Times,serif\" font-size=\"14.00\">query_object</text>\n<polyline fill=\"none\" stroke=\"grey\" points=\"1293,-402.55 1363,-402.55 1363,-423.55 \"/>\n</g>\n<!-- s3&#45;&gt;s288 -->\n<g id=\"edge17\" class=\"edge\">\n<title>s3:e-&gt;s288:w</title>\n<path fill=\"none\" stroke=\"black\" d=\"M1059.5,-667.55C1142.57,-667.55 1068.87,-561.72 1102,-485.55 1116.06,-453.22 1112.83,-419.8 1140.77,-413.58\"/>\n<polygon fill=\"black\" stroke=\"black\" points=\"1141.4,-417.03 1151,-412.55 1140.7,-410.07 1141.4,-417.03\"/>\n</g>\n<!-- s292 -->\n<g id=\"node10\" class=\"node\">\n<title>s292</title>\n<polygon fill=\"none\" stroke=\"black\" points=\"1110,-328.55 1110,-376.55 1404,-376.55 1404,-328.55 1110,-328.55\"/>\n<text text-anchor=\"start\" x=\"1209.5\" y=\"-363.35\" font-family=\"Times,serif\" font-weight=\"bold\" font-size=\"14.00\">DrakeVisualizer</text>\n<text text-anchor=\"start\" x=\"1161.5\" y=\"-349.35\" font-family=\"Times,serif\" font-size=\"14.00\">name=drake_visualizer(proximity)</text>\n<text text-anchor=\"start\" x=\"1113\" y=\"-335.35\" font-family=\"Times,serif\" font-size=\"14.00\">channel=DRAKE_VIEWER_DRAW_PROXIMITY</text>\n<polygon fill=\"none\" stroke=\"black\" points=\"1110,-307.55 1110,-328.55 1292,-328.55 1292,-307.55 1110,-307.55\"/>\n<text text-anchor=\"start\" x=\"1165.5\" y=\"-314.35\" font-family=\"Times,serif\" font-size=\"14.00\">query_object</text>\n<polyline fill=\"none\" stroke=\"grey\" points=\"1292,-307.55 1404,-307.55 1404,-328.55 \"/>\n</g>\n<!-- s3&#45;&gt;s292 -->\n<g id=\"edge18\" class=\"edge\">\n<title>s3:e-&gt;s292:w</title>\n<path fill=\"none\" stroke=\"black\" d=\"M1059.5,-667.55C1134.37,-667.55 1040.13,-349.6 1099.14,-319.79\"/>\n<polygon fill=\"black\" stroke=\"black\" points=\"1100.02,-323.18 1109,-317.55 1098.47,-316.35 1100.02,-323.18\"/>\n</g>\n<!-- s400 -->\n<g id=\"node14\" class=\"node\">\n<title>s400</title>\n<polygon fill=\"none\" stroke=\"black\" points=\"1149,-635.55 1149,-683.55 1366,-683.55 1366,-635.55 1149,-635.55\"/>\n<text text-anchor=\"start\" x=\"1203\" y=\"-670.35\" font-family=\"Times,serif\" font-weight=\"bold\" font-size=\"14.00\">MeshcatVisualizer</text>\n<text text-anchor=\"start\" x=\"1152\" y=\"-656.35\" font-family=\"Times,serif\" font-size=\"14.00\">name=meshcat_visualizer(illustration)</text>\n<text text-anchor=\"start\" x=\"1193.5\" y=\"-642.35\" font-family=\"Times,serif\" font-size=\"14.00\">path=/drake/illustration</text>\n<polygon fill=\"none\" stroke=\"black\" points=\"1149,-614.55 1149,-635.55 1293,-635.55 1293,-614.55 1149,-614.55\"/>\n<text text-anchor=\"start\" x=\"1185.5\" y=\"-621.35\" font-family=\"Times,serif\" font-size=\"14.00\">query_object</text>\n<polyline fill=\"none\" stroke=\"grey\" points=\"1293,-614.55 1366,-614.55 1366,-635.55 \"/>\n</g>\n<!-- s3&#45;&gt;s400 -->\n<g id=\"edge22\" class=\"edge\">\n<title>s3:e-&gt;s400:w</title>\n<path fill=\"none\" stroke=\"black\" d=\"M1059.5,-667.55C1099.47,-667.55 1103.78,-631.63 1137.62,-625.45\"/>\n<polygon fill=\"black\" stroke=\"black\" points=\"1138.34,-628.9 1148,-624.55 1137.74,-621.93 1138.34,-628.9\"/>\n</g>\n<!-- s401 -->\n<g id=\"node16\" class=\"node\">\n<title>s401</title>\n<polygon fill=\"none\" stroke=\"black\" points=\"1161,-730.55 1161,-778.55 1354,-778.55 1354,-730.55 1161,-730.55\"/>\n<text text-anchor=\"start\" x=\"1203\" y=\"-765.35\" font-family=\"Times,serif\" font-weight=\"bold\" font-size=\"14.00\">MeshcatVisualizer</text>\n<text text-anchor=\"start\" x=\"1164\" y=\"-751.35\" font-family=\"Times,serif\" font-size=\"14.00\">name=meshcat_visualizer(inertia)</text>\n<text text-anchor=\"start\" x=\"1205.5\" y=\"-737.35\" font-family=\"Times,serif\" font-size=\"14.00\">path=/drake/inertia</text>\n<polygon fill=\"none\" stroke=\"black\" points=\"1161,-709.55 1161,-730.55 1293,-730.55 1293,-709.55 1161,-709.55\"/>\n<text text-anchor=\"start\" x=\"1191.5\" y=\"-716.35\" font-family=\"Times,serif\" font-size=\"14.00\">query_object</text>\n<polyline fill=\"none\" stroke=\"grey\" points=\"1293,-709.55 1354,-709.55 1354,-730.55 \"/>\n</g>\n<!-- s3&#45;&gt;s401 -->\n<g id=\"edge23\" class=\"edge\">\n<title>s3:e-&gt;s401:w</title>\n<path fill=\"none\" stroke=\"black\" d=\"M1059.5,-667.55C1082.62,-667.55 1081.58,-686.7 1102,-697.55 1123.02,-708.72 1130.42,-717 1149.8,-719.06\"/>\n<polygon fill=\"black\" stroke=\"black\" points=\"1149.84,-722.56 1160,-719.55 1150.18,-715.57 1149.84,-722.56\"/>\n</g>\n<!-- s402 -->\n<g id=\"node17\" class=\"node\">\n<title>s402</title>\n<polygon fill=\"none\" stroke=\"black\" points=\"1151,-825.55 1151,-873.55 1363,-873.55 1363,-825.55 1151,-825.55\"/>\n<text text-anchor=\"start\" x=\"1202.5\" y=\"-860.35\" font-family=\"Times,serif\" font-weight=\"bold\" font-size=\"14.00\">MeshcatVisualizer</text>\n<text text-anchor=\"start\" x=\"1154\" y=\"-846.35\" font-family=\"Times,serif\" font-size=\"14.00\">name=meshcat_visualizer(proximity)</text>\n<text text-anchor=\"start\" x=\"1195\" y=\"-832.35\" font-family=\"Times,serif\" font-size=\"14.00\">path=/drake/proximity</text>\n<polygon fill=\"none\" stroke=\"black\" points=\"1151,-804.55 1151,-825.55 1292,-825.55 1292,-804.55 1151,-804.55\"/>\n<text text-anchor=\"start\" x=\"1186\" y=\"-811.35\" font-family=\"Times,serif\" font-size=\"14.00\">query_object</text>\n<polyline fill=\"none\" stroke=\"grey\" points=\"1292,-804.55 1363,-804.55 1363,-825.55 \"/>\n</g>\n<!-- s3&#45;&gt;s402 -->\n<g id=\"edge24\" class=\"edge\">\n<title>s3:e-&gt;s402:w</title>\n<path fill=\"none\" stroke=\"black\" d=\"M1059.5,-667.55C1118.18,-667.55 1062.68,-749 1102,-792.55 1115.27,-807.25 1123.61,-812.81 1139.99,-814.19\"/>\n<polygon fill=\"black\" stroke=\"black\" points=\"1139.88,-817.68 1150,-814.55 1140.14,-810.69 1139.88,-817.68\"/>\n</g>\n<!-- s3&#45;&gt;s403 -->\n<g id=\"edge26\" class=\"edge\">\n<title>s3:e-&gt;s403:w</title>\n<path fill=\"none\" stroke=\"black\" d=\"M1059.5,-667.55C1068.58,-667.55 1129.43,-546.9 1151.86,-515.8\"/>\n<polygon fill=\"black\" stroke=\"black\" points=\"1154.47,-518.13 1159,-508.55 1149.49,-513.22 1154.47,-518.13\"/>\n</g>\n<!-- s286 -->\n<g id=\"node7\" class=\"node\">\n<title>s286</title>\n<polygon fill=\"none\" stroke=\"black\" points=\"1140,-942.55 1140,-976.55 1375,-976.55 1375,-942.55 1140,-942.55\"/>\n<text text-anchor=\"start\" x=\"1143\" y=\"-963.35\" font-family=\"Times,serif\" font-weight=\"bold\" font-size=\"14.00\">manipulation.station.DemultiplexInput</text>\n<text text-anchor=\"start\" x=\"1157.5\" y=\"-949.35\" font-family=\"Times,serif\" font-size=\"14.00\">name=iiwa+allegro.combined_input</text>\n<polygon fill=\"none\" stroke=\"black\" points=\"1140,-900.55 1140,-942.55 1267,-942.55 1267,-900.55 1140,-900.55\"/>\n<text text-anchor=\"start\" x=\"1159\" y=\"-917.85\" font-family=\"Times,serif\" font-size=\"14.00\">combined_input</text>\n<polygon fill=\"none\" stroke=\"black\" points=\"1267,-921.55 1267,-942.55 1375,-942.55 1375,-921.55 1267,-921.55\"/>\n<text text-anchor=\"start\" x=\"1293.5\" y=\"-928.35\" font-family=\"Times,serif\" font-size=\"14.00\">iiwa.input</text>\n<polygon fill=\"none\" stroke=\"black\" points=\"1267,-900.55 1267,-921.55 1375,-921.55 1375,-900.55 1267,-900.55\"/>\n<text text-anchor=\"start\" x=\"1286\" y=\"-907.35\" font-family=\"Times,serif\" font-size=\"14.00\">allegro.input</text>\n</g>\n<!-- s278&#45;&gt;s286 -->\n<g id=\"edge11\" class=\"edge\">\n<title>s278:e-&gt;s286:w</title>\n<path fill=\"none\" stroke=\"black\" d=\"M1047.5,-863.55C1091.89,-863.55 1091.28,-912.84 1128.63,-920.55\"/>\n<polygon fill=\"black\" stroke=\"black\" points=\"1128.71,-924.07 1139,-921.55 1129.39,-917.1 1128.71,-924.07\"/>\n</g>\n<!-- s285&#45;&gt;s426out -->\n<g id=\"edge28\" class=\"edge\">\n<title>s285:e-&gt;s426out:w</title>\n<path fill=\"none\" stroke=\"green\" d=\"M790.5,-630.55C877.24,-630.55 777.45,-309.17 833,-242.55 844.68,-228.54 1107.51,-153.99 1164.97,-142.14\"/>\n<polygon fill=\"green\" stroke=\"green\" points=\"1165.67,-145.57 1175,-140.55 1164.58,-138.66 1165.67,-145.57\"/>\n</g>\n<!-- s285&#45;&gt;s278 -->\n<g id=\"edge8\" class=\"edge\">\n<title>s285:e-&gt;s278:w</title>\n<path fill=\"none\" stroke=\"black\" d=\"M790.5,-630.55C893.89,-630.55 754.62,-847.9 841.41,-862.75\"/>\n<polygon fill=\"black\" stroke=\"black\" points=\"841.26,-866.25 851.5,-863.55 841.81,-859.27 841.26,-866.25\"/>\n</g>\n<!-- s286&#45;&gt;s2 -->\n<g id=\"edge15\" class=\"edge\">\n<title>s286:e-&gt;s2:w</title>\n<path fill=\"none\" stroke=\"black\" d=\"M1376,-931.55C1391.56,-931.55 1386.16,-907.4 1375,-896.55 1355.6,-877.7 1158.11,-891.65 1131.5,-896.55 1100.86,-902.2 1096.52,-915.26 1066,-921.55 1011.32,-932.82 607.5,-907.56 564,-942.55 515.11,-981.88 577.7,-1040.76 528,-1079.05 353.37,-1213.59 188.58,-1234.23 32,-1079.05 16.94,-1064.13 8.78,-993.14 22.25,-972.93\"/>\n<polygon fill=\"black\" stroke=\"black\" points=\"24.31,-975.77 31,-967.55 20.65,-969.81 24.31,-975.77\"/>\n</g>\n<!-- s286&#45;&gt;s2 -->\n<g id=\"edge16\" class=\"edge\">\n<title>s286:e-&gt;s2:w</title>\n<path fill=\"none\" stroke=\"black\" d=\"M1376,-910.55C1382.24,-910.55 1379.49,-900.88 1375,-896.55 1353.13,-875.51 1127.74,-903.63 1102,-887.55 1073,-869.43 1095.3,-837.19 1066,-819.55 968.59,-760.9 638.92,-833.02 564,-918.55 515.83,-973.54 585.07,-1033.36 528,-1079.05 355.91,-1216.82 188.46,-1234.34 32,-1079.05 13.63,-1060.82 4.03,-972.28 21.97,-951.11\"/>\n<polygon fill=\"black\" stroke=\"black\" points=\"23.65,-954.18 31,-946.55 20.5,-947.93 23.65,-954.18\"/>\n</g>\n<!-- drakelcminterface4826747640in -->\n<g id=\"node9\" class=\"node\">\n<title>drakelcminterface4826747640in</title>\n<ellipse fill=\"none\" stroke=\"black\" cx=\"1573.44\" cy=\"-342.55\" rx=\"125.38\" ry=\"18\"/>\n<text text-anchor=\"middle\" x=\"1573.44\" y=\"-338.85\" font-family=\"Times,serif\" font-size=\"14.00\">drakelcminterface4826747640in</text>\n</g>\n<!-- s288&#45;&gt;drakelcminterface4826747640in -->\n<g id=\"edge1\" class=\"edge\">\n<title>s288:e-&gt;drakelcminterface4826747640in</title>\n<path fill=\"none\" stroke=\"#800080\" stroke-dasharray=\"5,2\" d=\"M1372,-437.55C1438.23,-437.55 1505.94,-394.67 1543.25,-366.53\"/>\n<polygon fill=\"#800080\" stroke=\"#800080\" points=\"1545.39,-369.3 1551.18,-360.42 1541.12,-363.75 1545.39,-369.3\"/>\n</g>\n<!-- s292&#45;&gt;drakelcminterface4826747640in -->\n<g id=\"edge2\" class=\"edge\">\n<title>s292:e-&gt;drakelcminterface4826747640in</title>\n<path fill=\"none\" stroke=\"#800080\" stroke-dasharray=\"5,2\" d=\"M1412,-342.55C1420.31,-342.55 1428.86,-342.55 1437.48,-342.55\"/>\n<polygon fill=\"#800080\" stroke=\"#800080\" points=\"1437.63,-346.05 1447.63,-342.55 1437.63,-339.05 1437.63,-346.05\"/>\n</g>\n<!-- s297 -->\n<g id=\"node12\" class=\"node\">\n<title>s297</title>\n<polygon fill=\"none\" stroke=\"black\" points=\"851.5,-275.55 851.5,-337.55 1047.5,-337.55 1047.5,-275.55 851.5,-275.55\"/>\n<text text-anchor=\"start\" x=\"887\" y=\"-324.35\" font-family=\"Times,serif\" font-weight=\"bold\" font-size=\"14.00\">LcmPublisherSystem</text>\n<text text-anchor=\"start\" x=\"861\" y=\"-310.35\" font-family=\"Times,serif\" font-size=\"14.00\">name=contact_results_publisher</text>\n<text text-anchor=\"start\" x=\"859.5\" y=\"-296.35\" font-family=\"Times,serif\" font-size=\"14.00\">channel=CONTACT_RESULTS</text>\n<text text-anchor=\"start\" x=\"854.5\" y=\"-282.35\" font-family=\"Times,serif\" font-size=\"14.00\">type=lcmt_contact_results_for_viz</text>\n<polygon fill=\"none\" stroke=\"black\" points=\"851.5,-254.55 851.5,-275.55 986.5,-275.55 986.5,-254.55 851.5,-254.55\"/>\n<text text-anchor=\"start\" x=\"881.5\" y=\"-261.35\" font-family=\"Times,serif\" font-size=\"14.00\">lcm_message</text>\n<polyline fill=\"none\" stroke=\"grey\" points=\"986.5,-254.55 1047.5,-254.55 1047.5,-275.55 \"/>\n</g>\n<!-- s296&#45;&gt;s297 -->\n<g id=\"edge20\" class=\"edge\">\n<title>s296:e-&gt;s297:w</title>\n<path fill=\"none\" stroke=\"black\" d=\"M770.5,-270.55C802.53,-270.55 812.8,-265.71 840.41,-264.73\"/>\n<polygon fill=\"black\" stroke=\"black\" points=\"840.56,-268.22 850.5,-264.55 840.44,-261.22 840.56,-268.22\"/>\n</g>\n<!-- s297&#45;&gt;drakelcminterface4826747640in -->\n<g id=\"edge3\" class=\"edge\">\n<title>s297:e-&gt;drakelcminterface4826747640in</title>\n<path fill=\"none\" stroke=\"#800080\" stroke-dasharray=\"5,2\" d=\"M1056.5,-296.55C1076.73,-296.55 1081.77,-295.77 1102,-295.55 1239.77,-294.04 1275.62,-275.99 1412,-295.55 1448.04,-300.72 1487.27,-312.11 1517.92,-322.38\"/>\n<polygon fill=\"#800080\" stroke=\"#800080\" points=\"1516.97,-325.75 1527.56,-325.66 1519.22,-319.12 1516.97,-325.75\"/>\n</g>\n<!-- s298&#45;&gt;s3 -->\n<g id=\"edge13\" class=\"edge\">\n<title>s298:e-&gt;s3:w</title>\n<path fill=\"none\" stroke=\"black\" d=\"M788.5,-964.55C854.25,-964.55 779.81,-688.18 830.78,-659.03\"/>\n<polygon fill=\"black\" stroke=\"black\" points=\"831.67,-662.41 840.5,-656.55 829.95,-655.63 831.67,-662.41\"/>\n</g>\n<!-- meshcat_in -->\n<g id=\"node15\" class=\"node\">\n<title>meshcat_in</title>\n<ellipse fill=\"none\" stroke=\"magenta\" cx=\"1573.44\" cy=\"-696.55\" rx=\"40.89\" ry=\"18\"/>\n<text text-anchor=\"middle\" x=\"1573.44\" y=\"-692.85\" font-family=\"Times,serif\" font-size=\"14.00\">Meshcat</text>\n</g>\n<!-- s400&#45;&gt;meshcat_in -->\n<g id=\"edge4\" class=\"edge\">\n<title>s400:e-&gt;meshcat_in</title>\n<path fill=\"none\" stroke=\"magenta\" stroke-dasharray=\"5,2\" d=\"M1375,-649.55C1430.87,-649.55 1493.28,-667.58 1532.69,-681.31\"/>\n<polygon fill=\"magenta\" stroke=\"magenta\" points=\"1531.6,-684.64 1542.19,-684.69 1533.94,-678.04 1531.6,-684.64\"/>\n</g>\n<!-- s401&#45;&gt;meshcat_in -->\n<g id=\"edge5\" class=\"edge\">\n<title>s401:e-&gt;meshcat_in</title>\n<path fill=\"none\" stroke=\"magenta\" stroke-dasharray=\"5,2\" d=\"M1363,-744.55C1423.09,-744.55 1490.48,-725.55 1532.2,-711.45\"/>\n<polygon fill=\"magenta\" stroke=\"magenta\" points=\"1533.41,-714.74 1541.72,-708.17 1531.12,-708.12 1533.41,-714.74\"/>\n</g>\n<!-- s402&#45;&gt;meshcat_in -->\n<g id=\"edge6\" class=\"edge\">\n<title>s402:e-&gt;meshcat_in</title>\n<path fill=\"none\" stroke=\"magenta\" stroke-dasharray=\"5,2\" d=\"M1372,-839.55C1452.02,-839.55 1522.18,-763.1 1554.12,-722\"/>\n<polygon fill=\"magenta\" stroke=\"magenta\" points=\"1557.08,-723.88 1560.35,-713.8 1551.51,-719.65 1557.08,-723.88\"/>\n</g>\n<!-- s403&#45;&gt;meshcat_in -->\n<g id=\"edge7\" class=\"edge\">\n<title>s403:e-&gt;meshcat_in</title>\n<path fill=\"none\" stroke=\"magenta\" stroke-dasharray=\"5,2\" d=\"M1364,-543.55C1449.22,-543.55 1522.67,-627.69 1554.95,-671.18\"/>\n<polygon fill=\"magenta\" stroke=\"magenta\" points=\"1552.14,-673.27 1560.84,-679.3 1557.8,-669.15 1552.14,-673.27\"/>\n</g>\n<!-- \\n -->\n<g id=\"node19\" class=\"node\">\n<title>\\n</title>\n<ellipse fill=\"none\" stroke=\"black\" cx=\"276\" cy=\"-223.55\" rx=\"27\" ry=\"18\"/>\n</g>\n</g>\n</svg>",
      "text/plain": [
       "<IPython.core.display.SVG object>"
      ]
     },
     "metadata": {},
     "output_type": "display_data"
    }
   ],
   "source": [
    "display(\n",
    "    SVG(\n",
    "        pydot.graph_from_dot_data(station.GetGraphvizString(max_depth=1))[\n",
    "            0\n",
    "        ].create_svg()\n",
    "    )\n",
    ")"
   ]
  },
  {
   "cell_type": "code",
   "execution_count": 6,
   "metadata": {},
   "outputs": [],
   "source": [
    "plant = station.GetSubsystemByName(\"plant\")"
   ]
  },
  {
   "cell_type": "code",
   "execution_count": 7,
   "metadata": {},
   "outputs": [],
   "source": [
    "# Get initial pose of the gripper by using default context of manip station.\n",
    "frame = \"hand_root\"\n",
    "gripper = plant.GetBodyByName(frame)\n",
    "plant_context = plant.GetMyContextFromRoot(context)\n",
    "X_robot_W = plant.EvalBodyPoseInWorld(plant_context, gripper)"
   ]
  },
  {
   "cell_type": "code",
   "execution_count": 8,
   "metadata": {},
   "outputs": [
    {
     "data": {
      "text/plain": [
       "RigidTransform(\n",
       "  R=RotationMatrix([\n",
       "    [-0.016666395910692303, 0.008332634516930441, 0.9998263841534472],\n",
       "    [0.003378913288040095, 0.999960032797533, -0.008277424270255209],\n",
       "    [-0.9998553966411047, 0.0032403718251401183, -0.01669388505096617],\n",
       "  ]),\n",
       "  p=[0.5689393697173113, -0.004596554601891682, 0.7279501811046996],\n",
       ")"
      ]
     },
     "execution_count": 8,
     "metadata": {},
     "output_type": "execute_result"
    }
   ],
   "source": [
    "X_robot_W"
   ]
  },
  {
   "cell_type": "code",
   "execution_count": 9,
   "metadata": {},
   "outputs": [],
   "source": [
    "def reset_arm():\n",
    "    station.GetInputPort(\"iiwa+allegro.desired_state\").FixValue(context, x0)\n",
    "    simulator.AdvanceTo(context.get_time() + 1)"
   ]
  },
  {
   "cell_type": "code",
   "execution_count": 10,
   "metadata": {},
   "outputs": [],
   "source": [
    "reset_arm()"
   ]
  },
  {
   "cell_type": "code",
   "execution_count": 11,
   "metadata": {},
   "outputs": [],
   "source": [
    "final_rotation = X_robot_W.rotation()\n",
    "initial_position = X_robot_W.translation()\n",
    "final_position = [0.3, -0.05, -0.3]\n",
    "# linearly interpolate between initial and final position\n",
    "\n",
    "num_knot_points = 10\n",
    "t_list = np.arange(num_knot_points)\n",
    "positions = np.zeros((num_knot_points, 3))\n",
    "for i in range(3):\n",
    "    positions[:, i] = np.linspace(\n",
    "        initial_position[i], final_position[i], num_knot_points\n",
    "    )\n",
    "p_list = []\n",
    "for p in positions:\n",
    "    p_list.append(RigidTransform(final_rotation, p))"
   ]
  },
  {
   "cell_type": "code",
   "execution_count": 12,
   "metadata": {},
   "outputs": [],
   "source": [
    "def create_q_knots(pose_lst):\n",
    "    \"\"\"Convert end-effector pose list to joint position list using series of\n",
    "    InverseKinematics problems. Note that q is 9-dimensional because the last 2 dimensions\n",
    "    contain gripper joints, but these should not matter to the constraints.\n",
    "    @param: pose_lst (python list): post_lst[i] contains keyframe X_WG at index i.\n",
    "    @return: q_knots (python_list): q_knots[i] contains IK solution that will give f(q_knots[i]) \\approx pose_lst[i].\n",
    "    \"\"\"\n",
    "    q_knots = []\n",
    "    plant = station.GetSubsystemByName(\"plant\")\n",
    "    world_frame = plant.world_frame()\n",
    "    gripper_frame = plant.GetFrameByName(frame)\n",
    "    iiwa_initial = np.array([0.0, 0.1, 0.0, -1.5, 0.0, 0.0, 0.0])\n",
    "    gripper_initial = np.ones((23))\n",
    "    q_nominal = np.hstack((iiwa_initial, gripper_initial))\n",
    "    # q_nominal = iiwa_initial\n",
    "    print(q_nominal.shape)\n",
    "\n",
    "    def AddOrientationConstraint(ik, R_WG, bounds):\n",
    "        \"\"\"Add orientation constraint to the ik problem. Implements an inequality\n",
    "        constraint where the axis-angle difference between f_R(q) and R_WG must be\n",
    "        within bounds. Can be translated to:\n",
    "        ik.prog().AddBoundingBoxConstraint(angle_diff(f_R(q), R_WG), -bounds, bounds)\n",
    "        \"\"\"\n",
    "        ik.AddOrientationConstraint(\n",
    "            frameAbar=world_frame,\n",
    "            R_AbarA=R_WG,\n",
    "            frameBbar=gripper_frame,\n",
    "            R_BbarB=RotationMatrix(),\n",
    "            theta_bound=bounds,\n",
    "        )\n",
    "\n",
    "    def AddPositionConstraint(ik, p_WG_lower, p_WG_upper):\n",
    "        \"\"\"Add position constraint to the ik problem. Implements an inequality\n",
    "        constraint where f_p(q) must lie between p_WG_lower and p_WG_upper. Can be\n",
    "        translated to\n",
    "        ik.prog().AddBoundingBoxConstraint(f_p(q), p_WG_lower, p_WG_upper)\n",
    "        \"\"\"\n",
    "        ik.AddPositionConstraint(\n",
    "            frameA=world_frame,\n",
    "            frameB=gripper_frame,\n",
    "            p_BQ=np.zeros(3),\n",
    "            p_AQ_lower=p_WG_lower,\n",
    "            p_AQ_upper=p_WG_upper,\n",
    "        )\n",
    "\n",
    "    for i in range(len(pose_lst)):\n",
    "        ik = inverse_kinematics.InverseKinematics(plant)\n",
    "        # q_variables = ik.q()  # Get variables for MathematicalProgram\n",
    "        q_variables = ik.q()  # Get variables for MathematicalProgram\n",
    "        prog = ik.prog()  # Get MathematicalProgram\n",
    "\n",
    "        pose = pose_lst[i]\n",
    "        AddPositionConstraint(\n",
    "                    ik,\n",
    "                    pose.translation() + 0.01,\n",
    "                    pose.translation() + 0.01,\n",
    "        )\n",
    "\n",
    "        # AddOrientationConstraint(\n",
    "        #     ik,\n",
    "        #     pose.rotation(),\n",
    "        #     0.02,\n",
    "        # )\n",
    "        \n",
    "        prog.AddQuadraticErrorCost(np.identity(len(q_variables)), q_nominal, q_variables)\n",
    "        if i == 0:\n",
    "            prog.SetInitialGuess(q_variables, q_nominal)\n",
    "        else:\n",
    "            prog.SetInitialGuess(q_variables, q_knots[i-1])\n",
    "\n",
    "        result = Solve(prog)\n",
    "\n",
    "        assert result.is_success()\n",
    "        q_knots.append(result.GetSolution(q_variables))\n",
    "\n",
    "    return q_knots"
   ]
  },
  {
   "cell_type": "code",
   "execution_count": 13,
   "metadata": {},
   "outputs": [
    {
     "name": "stdout",
     "output_type": "stream",
     "text": [
      "(30,)\n"
     ]
    }
   ],
   "source": [
    "# q_knots = np.array(create_q_knots(pose_lst))\n",
    "# q_traj = PiecewisePolynomial.CubicShapePreserving(t_lst, q_knots[:, 0:7].T)\n",
    "q_knots = np.array(create_q_knots(p_list))\n",
    "q_traj = PiecewisePolynomial.CubicShapePreserving(t_list, q_knots.T)"
   ]
  },
  {
   "cell_type": "code",
   "execution_count": 14,
   "metadata": {},
   "outputs": [],
   "source": [
    "def move_hand(station, context, end_point):\n",
    "    current_state = station.GetInputPort(\"iiwa+allegro.desired_state\").Eval(context)\n",
    "    current_state[:end_point.shape[0]] = end_point\n",
    "    station.GetInputPort(\"iiwa+allegro.desired_state\").FixValue(context, current_state)"
   ]
  },
  {
   "cell_type": "code",
   "execution_count": 15,
   "metadata": {},
   "outputs": [
    {
     "name": "stdout",
     "output_type": "stream",
     "text": [
      "[array([ 6.37500000e-01,  2.50000000e-02, -1.01785224e-05]), array([ 6.37500000e-01, -2.50000000e-02, -1.01785224e-05]), array([ 5.62500000e-01,  2.50000000e-02, -1.01785224e-05]), array([ 5.62500000e-01, -2.50000000e-02, -1.01785224e-05])]\n"
     ]
    }
   ],
   "source": [
    "contact = station.GetOutputPort(\"contact_results\").Eval(context)\n",
    "init_num_contacts = contact.num_point_pair_contacts()\n",
    "contact_pre_move = []\n",
    "for i in range(init_num_contacts):\n",
    "    contact_pre_move.append(contact.point_pair_contact_info(i).contact_point())\n",
    "print(contact_pre_move)"
   ]
  },
  {
   "cell_type": "code",
   "execution_count": 16,
   "metadata": {},
   "outputs": [],
   "source": [
    "reset_arm()"
   ]
  },
  {
   "cell_type": "code",
   "execution_count": 17,
   "metadata": {},
   "outputs": [],
   "source": [
    "def get_contacts(station, context):\n",
    "    contacts = []\n",
    "    contact = station.GetOutputPort(\"contact_results\").Eval(context)\n",
    "    num_contacts = contact.num_point_pair_contacts()\n",
    "    for i in range(num_contacts):\n",
    "        contacts.append(contact.point_pair_contact_info(i).contact_point())\n",
    "    return contacts"
   ]
  },
  {
   "cell_type": "code",
   "execution_count": 18,
   "metadata": {},
   "outputs": [
    {
     "name": "stdout",
     "output_type": "stream",
     "text": [
      "contact changed\n",
      "[ 0.48131639  0.07131708 -0.00218903]\n",
      "[ 0.48018411  0.0719955  -0.00216748]\n",
      "[ 6.37500002e-01  2.50000014e-02 -7.79499185e-06]\n",
      "[ 6.37500003e-01 -2.49999978e-02 -1.23335848e-05]\n",
      "[ 5.62500004e-01  2.50000032e-02 -1.78317838e-05]\n",
      "[ 5.62500006e-01 -2.49999960e-02 -2.23703767e-05]\n"
     ]
    }
   ],
   "source": [
    "all_q = q_knots[:, :7]\n",
    "for each_q in q_knots:\n",
    "    move_hand(station, context, each_q)\n",
    "    simulator.AdvanceTo(simulator.get_context().get_time() + 0.05)\n",
    "    contact = station.GetOutputPort(\"contact_results\").Eval(context)\n",
    "    num_contacts = contact.num_point_pair_contacts()\n",
    "    if num_contacts != init_num_contacts:\n",
    "        print(\"contact changed\")\n",
    "        for i in range(num_contacts):\n",
    "            print(contact.point_pair_contact_info(i).contact_point())        "
   ]
  },
  {
   "cell_type": "code",
   "execution_count": 19,
   "metadata": {},
   "outputs": [
    {
     "data": {
      "text/plain": [
       "[array([ 0.48131639,  0.07131708, -0.00218903]),\n",
       " array([ 0.48018411,  0.0719955 , -0.00216748]),\n",
       " array([ 6.37500002e-01,  2.50000014e-02, -7.79499185e-06]),\n",
       " array([ 6.37500003e-01, -2.49999978e-02, -1.23335848e-05]),\n",
       " array([ 5.62500004e-01,  2.50000032e-02, -1.78317838e-05]),\n",
       " array([ 5.62500006e-01, -2.49999960e-02, -2.23703767e-05])]"
      ]
     },
     "execution_count": 19,
     "metadata": {},
     "output_type": "execute_result"
    }
   ],
   "source": [
    "contact = station.GetOutputPort(\"contact_results\").Eval(context)\n",
    "num_contacts = contact.num_point_pair_contacts()\n",
    "contact_post_move = []\n",
    "for i in range(num_contacts):\n",
    "    # if contact.point_pair_contact_info(i).contact_point() not in contact_pre_move:\n",
    "    contact_post_move.append(contact.point_pair_contact_info(i).contact_point())\n",
    "contact_post_move"
   ]
  },
  {
   "cell_type": "code",
   "execution_count": 20,
   "metadata": {},
   "outputs": [],
   "source": [
    "x0[8]= 0"
   ]
  },
  {
   "cell_type": "code",
   "execution_count": 21,
   "metadata": {},
   "outputs": [],
   "source": [
    "reset_arm()"
   ]
  },
  {
   "cell_type": "code",
   "execution_count": 23,
   "metadata": {},
   "outputs": [
    {
     "data": {
      "text/plain": [
       "<pydrake.systems.analysis.SimulatorStatus at 0x173b1ff30>"
      ]
     },
     "execution_count": 23,
     "metadata": {},
     "output_type": "execute_result"
    }
   ],
   "source": [
    "reset_arm()\n",
    "state = x0.copy()\n",
    "state[1] = 1.3\n",
    "state[5] = -1\n",
    "allegro.set_state(state, context)\n",
    "simulator.AdvanceTo(context.get_time() + 1)"
   ]
  },
  {
   "cell_type": "code",
   "execution_count": 37,
   "metadata": {},
   "outputs": [
    {
     "data": {
      "text/plain": [
       "<HydroelasticContactRepresentation.kPolygon: 1>"
      ]
     },
     "execution_count": 37,
     "metadata": {},
     "output_type": "execute_result"
    }
   ],
   "source": [
    "contact = station.GetOutputPort(\"contact_results\").Eval(context)\n",
    "hydrocontact_info = contact.hydroelastic_contact_info(0)\n",
    "csf = hydrocontact_info.contact_surface()\n",
    "csf."
   ]
  },
  {
   "cell_type": "code",
   "execution_count": 19,
   "metadata": {},
   "outputs": [
    {
     "data": {
      "text/plain": [
       "[array([ 8.43074910e-01,  6.69689029e-02, -1.78347145e-07])]"
      ]
     },
     "execution_count": 19,
     "metadata": {},
     "output_type": "execute_result"
    }
   ],
   "source": [
    "get_contacts(station, context)"
   ]
  },
  {
   "cell_type": "code",
   "execution_count": 120,
   "metadata": {},
   "outputs": [
    {
     "ename": "RuntimeError",
     "evalue": "System station does not have an input port named iiwa+allegro.position_measured (valid port names: iiwa+allegro.desired_state)",
     "output_type": "error",
     "traceback": [
      "\u001b[0;31m---------------------------------------------------------------------------\u001b[0m",
      "\u001b[0;31mRuntimeError\u001b[0m                              Traceback (most recent call last)",
      "Cell \u001b[0;32mIn[120], line 1\u001b[0m\n\u001b[0;32m----> 1\u001b[0m \u001b[43mstation\u001b[49m\u001b[38;5;241;43m.\u001b[39;49m\u001b[43mGetInputPort\u001b[49m\u001b[43m(\u001b[49m\u001b[38;5;124;43m\"\u001b[39;49m\u001b[38;5;124;43miiwa+allegro.position_measured\u001b[39;49m\u001b[38;5;124;43m\"\u001b[39;49m\u001b[43m)\u001b[49m\u001b[38;5;241m.\u001b[39mFixValue(context, q_knots[\u001b[38;5;241m0\u001b[39m])\n",
      "\u001b[0;31mRuntimeError\u001b[0m: System station does not have an input port named iiwa+allegro.position_measured (valid port names: iiwa+allegro.desired_state)"
     ]
    }
   ],
   "source": [
    "station.GetInputPort(\"iiwa+allegro.position_measured\").FixValue(context, q_knots[0])"
   ]
  },
  {
   "cell_type": "code",
   "execution_count": null,
   "metadata": {},
   "outputs": [
    {
     "ename": "AttributeError",
     "evalue": "'pydrake.multibody.plant.PointPairContactInfo' object has no attribute 'contact_forces'",
     "output_type": "error",
     "traceback": [
      "\u001b[0;31m---------------------------------------------------------------------------\u001b[0m",
      "\u001b[0;31mAttributeError\u001b[0m                            Traceback (most recent call last)",
      "\u001b[1;32m/home/aryan/Projects/Manipulation/a_grasp_in_the_dark/project_codes/build_model.ipynb Cell 14\u001b[0m line \u001b[0;36m2\n\u001b[1;32m      <a href='vscode-notebook-cell:/home/aryan/Projects/Manipulation/a_grasp_in_the_dark/project_codes/build_model.ipynb#X36sZmlsZQ%3D%3D?line=0'>1</a>\u001b[0m contact \u001b[39m=\u001b[39m station\u001b[39m.\u001b[39mGetOutputPort(\u001b[39m\"\u001b[39m\u001b[39mcontact_results\u001b[39m\u001b[39m\"\u001b[39m)\u001b[39m.\u001b[39mEval(context)\n\u001b[0;32m----> <a href='vscode-notebook-cell:/home/aryan/Projects/Manipulation/a_grasp_in_the_dark/project_codes/build_model.ipynb#X36sZmlsZQ%3D%3D?line=1'>2</a>\u001b[0m contact\u001b[39m.\u001b[39mpoint_pair_contact_info(\u001b[39m2\u001b[39m)\u001b[39m.\u001b[39mcontact_forces\n",
      "\u001b[0;31mAttributeError\u001b[0m: 'pydrake.multibody.plant.PointPairContactInfo' object has no attribute 'contact_forces'"
     ]
    }
   ],
   "source": [
    "contact = station.GetOutputPort(\"contact_results\").Eval(context)\n",
    "contact.point_pair_contact_info(2).contact_force"
   ]
  },
  {
   "cell_type": "code",
   "execution_count": null,
   "metadata": {},
   "outputs": [],
   "source": [
    "time = 0.2"
   ]
  },
  {
   "cell_type": "code",
   "execution_count": null,
   "metadata": {},
   "outputs": [
    {
     "data": {
      "text/plain": [
       "array([ 0. ,  0.1,  0. , -1.5,  0. ,  0. ,  0. ])"
      ]
     },
     "execution_count": 8,
     "metadata": {},
     "output_type": "execute_result"
    }
   ],
   "source": [
    "station.GetInputPort(\"iiwa+allegro.desired_state\").Eval(context)[:7]"
   ]
  },
  {
   "cell_type": "code",
   "execution_count": null,
   "metadata": {},
   "outputs": [],
   "source": [
    "def open_hand(station, context):\n",
    "    current_state = station.GetInputPort(\"iiwa+allegro.desired_state\").Eval(context)\n",
    "    iiwa_idx = 7\n",
    "    current_state[8] = 4\n",
    "    station.GetInputPort(\"iiwa+allegro.desired_state\").FixValue(context, current_state)"
   ]
  },
  {
   "cell_type": "code",
   "execution_count": null,
   "metadata": {},
   "outputs": [],
   "source": [
    "def close_hand(station, context):\n",
    "    current_state = station.GetInputPort(\"iiwa+allegro.desired_state\").Eval(context)\n",
    "    iiwa_idx = 7\n",
    "    current_state[8] = 0\n",
    "    station.GetInputPort(\"iiwa+allegro.desired_state\").FixValue(context, current_state)"
   ]
  },
  {
   "cell_type": "code",
   "execution_count": null,
   "metadata": {},
   "outputs": [],
   "source": [
    "allegro_map = {\n",
    "    \"index_revolute\": 7,\n",
    "    \"index_0\": 8,\n",
    "    \"index_1\": 9,\n",
    "    \"index_2\": 10,\n",
    "    \"thumb_\": 11,\n",
    "    \"thumb_1\": 12, \n",
    "    \"thumb_revolute_z\": 11,\n",
    "    \"thumb_revolute_y\": 12, # avoid\n",
    "    \"thumb_joint_1\": 13,\n",
    "    \"thumb_joint_2\": 14,\n",
    "    \"middle_revolute\": 15,\n",
    "    \"middle_0\": 16,\n",
    "    \"middle_1\": 17,\n",
    "    \"middle_2\": 18,\n",
    "    \"pinky_revolute\": 19,\n",
    "    \"pinky_0\": 20,\n",
    "    \"pinky_1\": 21,\n",
    "    \"pinky_2\": 22\n",
    "}"
   ]
  },
  {
   "cell_type": "code",
   "execution_count": null,
   "metadata": {},
   "outputs": [],
   "source": [
    "def reset_hand(station, context):\n",
    "    current_state = station.GetInputPort(\"iiwa+allegro.desired_state\").Eval(context)\n",
    "    current_state[7:] = 0\n",
    "    station.GetInputPort(\"iiwa+allegro.desired_state\").FixValue(context, current_state)"
   ]
  },
  {
   "cell_type": "code",
   "execution_count": null,
   "metadata": {},
   "outputs": [],
   "source": [
    "def move_finger(station, context, index, amount):\n",
    "    current_state = station.GetInputPort(\"iiwa+allegro.desired_state\").Eval(context)\n",
    "    current_state[index] = amount\n",
    "    station.GetInputPort(\"iiwa+allegro.desired_state\").FixValue(context, current_state)\n",
    "\n",
    "index = 22\n",
    "amount = 2\n",
    "\n",
    "reset_hand(station, context)\n",
    "simulator.AdvanceTo(time) \n",
    "time += 1\n",
    "\n",
    "move_finger(station, context, index, amount)\n",
    "simulator.AdvanceTo(time)\n",
    "time += 1"
   ]
  },
  {
   "cell_type": "code",
   "execution_count": null,
   "metadata": {},
   "outputs": [],
   "source": [
    "open_hand(station, context)\n",
    "simulator.AdvanceTo(time)\n",
    "time += 1"
   ]
  },
  {
   "cell_type": "code",
   "execution_count": null,
   "metadata": {},
   "outputs": [],
   "source": [
    "close_hand(station, context)\n",
    "simulator.AdvanceTo(time)\n",
    "time += 1"
   ]
  },
  {
   "cell_type": "code",
   "execution_count": null,
   "metadata": {},
   "outputs": [
    {
     "data": {
      "text/plain": [
       "<ContactModel.kHydroelasticWithFallback: 2>"
      ]
     },
     "execution_count": 199,
     "metadata": {},
     "output_type": "execute_result"
    }
   ],
   "source": [
    "plant.get_contact_model()"
   ]
  },
  {
   "cell_type": "code",
   "execution_count": null,
   "metadata": {},
   "outputs": [
    {
     "name": "stdout",
     "output_type": "stream",
     "text": [
      "8\n"
     ]
    },
    {
     "data": {
      "text/plain": [
       "array([ 7.20192680e-01,  1.15709952e-01, -5.80416268e-05])"
      ]
     },
     "execution_count": 104,
     "metadata": {},
     "output_type": "execute_result"
    }
   ],
   "source": [
    "contact = station.GetOutputPort(\"contact_results\").Eval(context)\n",
    "num_contacts = contact.num_point_pair_contacts()\n",
    "print(num_contacts)\n",
    "a = contact.point_pair_contact_info(1)\n",
    "a.contact_point()"
   ]
  },
  {
   "cell_type": "code",
   "execution_count": null,
   "metadata": {},
   "outputs": [
    {
     "name": "stdout",
     "output_type": "stream",
     "text": [
      "[0.76671662 0.15635648 0.029096  ]\n",
      "[ 7.20192680e-01  1.15709952e-01 -5.80416268e-05]\n",
      "[0.80215838 0.10720572 0.02441489]\n",
      "[ 7.95898018e-01  9.72281132e-02 -2.13457851e-04]\n",
      "[ 6.37500001e-01  2.50000016e-02 -7.61718707e-06]\n",
      "[ 6.37500002e-01 -2.49999973e-02 -1.28237572e-05]\n",
      "[ 5.62500002e-01  2.50000026e-02 -1.28237666e-05]\n",
      "[ 5.62500003e-01 -2.49999963e-02 -1.80303367e-05]\n"
     ]
    }
   ],
   "source": []
  },
  {
   "cell_type": "code",
   "execution_count": null,
   "metadata": {},
   "outputs": [],
   "source": [
    "end_effector_frame = station."
   ]
  }
 ],
 "metadata": {
  "kernelspec": {
   "display_name": "Python 3.11.5 ('drake_env': venv)",
   "language": "python",
   "name": "python3"
  },
  "language_info": {
   "codemirror_mode": {
    "name": "ipython",
    "version": 3
   },
   "file_extension": ".py",
   "mimetype": "text/x-python",
   "name": "python",
   "nbconvert_exporter": "python",
   "pygments_lexer": "ipython3",
   "version": "3.11.4"
  },
  "orig_nbformat": 4,
  "vscode": {
   "interpreter": {
    "hash": "a3a58c6867cb66131d0bfe5a5f9b20b5d7637deda1e9bd90477c03cc28f30e93"
   }
  }
 },
 "nbformat": 4,
 "nbformat_minor": 2
}
