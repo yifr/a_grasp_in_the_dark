{
 "cells": [
  {
   "cell_type": "code",
   "execution_count": 22,
   "metadata": {},
   "outputs": [],
   "source": [
    "import numpy as np\n",
    "import pydot\n",
    "import os\n",
    "from IPython.display import SVG, display\n",
    "from pydrake.all import (\n",
    "    AddMultibodyPlantSceneGraph,\n",
    "    DiagramBuilder,\n",
    "    InverseDynamicsController,\n",
    "    LeafSystem,\n",
    "    MeshcatVisualizer,\n",
    "    MultibodyPlant,\n",
    "    Parser,\n",
    "    Simulator,\n",
    "    StartMeshcat,\n",
    "    StateInterpolatorWithDiscreteDerivative,\n",
    ")\n",
    "from manipulation.station import MakeHardwareStation, load_scenario"
   ]
  },
  {
   "cell_type": "code",
   "execution_count": 2,
   "metadata": {},
   "outputs": [
    {
     "name": "stderr",
     "output_type": "stream",
     "text": [
      "INFO:drake:Meshcat listening for connections at http://localhost:7002\n"
     ]
    }
   ],
   "source": [
    "# Start the visualizer.\n",
    "meshcat = StartMeshcat()"
   ]
  },
  {
   "cell_type": "code",
   "execution_count": 29,
   "metadata": {},
   "outputs": [],
   "source": [
    "hydro_bubble_gripper = \"../gripper_sdfs/schunk_wsg_50_hydro_bubble.sdf\"\n",
    "allegro_hand = \"../gripper_sdfs/allegro_hand_description_right.sdf\"\n",
    "model = os.path.join(os.getcwd(), allegro_hand)"
   ]
  },
  {
   "cell_type": "code",
   "execution_count": 222,
   "metadata": {},
   "outputs": [
    {
     "data": {
      "image/svg+xml": "<svg xmlns=\"http://www.w3.org/2000/svg\" xmlns:xlink=\"http://www.w3.org/1999/xlink\" width=\"1731pt\" height=\"1239pt\" viewBox=\"0.00 0.00 1730.88 1238.55\">\n<g id=\"graph0\" class=\"graph\" transform=\"scale(1 1) rotate(0) translate(4 1234.55)\">\n<title>_21716</title>\n<polygon fill=\"white\" stroke=\"transparent\" points=\"-4,4 -4,-1234.55 1726.88,-1234.55 1726.88,4 -4,4\"/>\n<g id=\"clust1\" class=\"cluster\">\n<title>cluster21716diagram</title>\n<polygon fill=\"none\" stroke=\"black\" points=\"8,-10.55 8,-1222.55 1714.88,-1222.55 1714.88,-10.55 8,-10.55\"/>\n<text text-anchor=\"start\" x=\"835.94\" y=\"-1204.35\" font-family=\"Times,serif\" font-weight=\"bold\" font-size=\"14.00\">Diagram</text>\n<text text-anchor=\"start\" x=\"824.44\" y=\"-1190.35\" font-family=\"Times,serif\" font-size=\"14.00\">name=station</text>\n</g>\n<g id=\"clust2\" class=\"cluster\">\n<title>clusters21716in</title>\n<polygon fill=\"lightgrey\" stroke=\"lightgrey\" points=\"586.5,-1095.55 586.5,-1170.55 774.5,-1170.55 774.5,-1095.55 586.5,-1095.55\"/>\n<text text-anchor=\"middle\" x=\"680.5\" y=\"-1155.35\" font-family=\"Times,serif\" font-size=\"14.00\">input ports</text>\n</g>\n<g id=\"clust3\" class=\"cluster\">\n<title>clusters21716out</title>\n<polygon fill=\"lightgrey\" stroke=\"lightgrey\" points=\"1156.5,-18.55 1156.5,-189.55 1357.5,-189.55 1357.5,-18.55 1156.5,-18.55\"/>\n<text text-anchor=\"middle\" x=\"1257\" y=\"-174.35\" font-family=\"Times,serif\" font-size=\"14.00\">output ports</text>\n</g>\n<g id=\"clust4\" class=\"cluster\">\n<title>cluster21716subsystems</title>\n<polygon fill=\"none\" stroke=\"white\" points=\"16,-197.55 16,-1087.55 1706.88,-1087.55 1706.88,-197.55 16,-197.55\"/>\n</g>\n<!-- s21716in -->\n<g id=\"node1\" class=\"node\">\n<title>s21716in</title>\n<polygon fill=\"none\" stroke=\"blue\" points=\"605.5,-1110.55 605.5,-1131.55 755.5,-1131.55 755.5,-1110.55 605.5,-1110.55\"/>\n<text text-anchor=\"start\" x=\"608.5\" y=\"-1117.35\" font-family=\"Times,serif\" font-size=\"14.00\">iiwa+allegro.desired_state</text>\n</g>\n<!-- s21568 -->\n<g id=\"node5\" class=\"node\">\n<title>s21568</title>\n<polygon fill=\"none\" stroke=\"black\" points=\"852.5,-874.55 852.5,-908.55 1046.5,-908.55 1046.5,-874.55 852.5,-874.55\"/>\n<text text-anchor=\"start\" x=\"868.5\" y=\"-895.35\" font-family=\"Times,serif\" font-weight=\"bold\" font-size=\"14.00\">InverseDynamicsController</text>\n<text text-anchor=\"start\" x=\"867.5\" y=\"-881.35\" font-family=\"Times,serif\" font-size=\"14.00\">name=iiwa+allegro.controller</text>\n<polygon fill=\"none\" stroke=\"black\" points=\"852.5,-853.55 852.5,-874.55 943.5,-874.55 943.5,-853.55 852.5,-853.55\"/>\n<text text-anchor=\"start\" x=\"855.5\" y=\"-860.35\" font-family=\"Times,serif\" font-size=\"14.00\">estimated_state</text>\n<polygon fill=\"none\" stroke=\"black\" points=\"943.5,-853.55 943.5,-874.55 1046.5,-874.55 1046.5,-853.55 943.5,-853.55\"/>\n<text text-anchor=\"start\" x=\"946.5\" y=\"-860.35\" font-family=\"Times,serif\" font-size=\"14.00\">generalized_force</text>\n<polygon fill=\"none\" stroke=\"black\" points=\"852.5,-832.55 852.5,-853.55 943.5,-853.55 943.5,-832.55 852.5,-832.55\"/>\n<text text-anchor=\"start\" x=\"862.5\" y=\"-839.35\" font-family=\"Times,serif\" font-size=\"14.00\">desired_state</text>\n<polygon fill=\"none\" stroke=\"black\" points=\"943.5,-832.55 943.5,-853.55 1046.5,-853.55 1046.5,-832.55 943.5,-832.55\"/>\n<text text-anchor=\"start\" x=\"973.5\" y=\"-840.35\" font-family=\"Times,serif\" text-decoration=\"line-through\" font-size=\"14.00\">force</text>\n<text text-anchor=\"start\" x=\"1001.5\" y=\"-840.35\" font-family=\"Times,serif\" font-size=\"14.00\">🪦</text>\n</g>\n<!-- s21716in&#45;&gt;s21568 -->\n<g id=\"edge27\" class=\"edge\">\n<title>s21716in:e-&gt;s21568:w</title>\n<path fill=\"none\" stroke=\"blue\" d=\"M756.5,-1120.55C883.5,-1120.55 729.79,-857.55 841.44,-843.16\"/>\n<polygon fill=\"blue\" stroke=\"blue\" points=\"841.73,-846.65 851.5,-842.55 841.31,-839.67 841.73,-846.65\"/>\n</g>\n<!-- s21716out -->\n<g id=\"node2\" class=\"node\">\n<title>s21716out</title>\n<polygon fill=\"none\" stroke=\"green\" points=\"1176,-129.55 1176,-150.55 1339,-150.55 1339,-129.55 1176,-129.55\"/>\n<text text-anchor=\"start\" x=\"1179\" y=\"-136.35\" font-family=\"Times,serif\" font-size=\"14.00\">iiwa+allegro.state_estimated</text>\n<polygon fill=\"none\" stroke=\"green\" points=\"1176,-105.55 1176,-126.55 1339,-126.55 1339,-105.55 1176,-105.55\"/>\n<text text-anchor=\"start\" x=\"1222\" y=\"-112.35\" font-family=\"Times,serif\" font-size=\"14.00\">query_object</text>\n<polygon fill=\"none\" stroke=\"green\" points=\"1176,-81.55 1176,-102.55 1339,-102.55 1339,-81.55 1176,-81.55\"/>\n<text text-anchor=\"start\" x=\"1216.5\" y=\"-88.35\" font-family=\"Times,serif\" font-size=\"14.00\">contact_results</text>\n<polygon fill=\"none\" stroke=\"green\" points=\"1176,-57.55 1176,-78.55 1339,-78.55 1339,-57.55 1176,-57.55\"/>\n<text text-anchor=\"start\" x=\"1195\" y=\"-64.35\" font-family=\"Times,serif\" font-size=\"14.00\">plant_continuous_state</text>\n<polygon fill=\"none\" stroke=\"green\" points=\"1176,-33.55 1176,-54.55 1339,-54.55 1339,-33.55 1176,-33.55\"/>\n<text text-anchor=\"start\" x=\"1225.5\" y=\"-40.35\" font-family=\"Times,serif\" font-size=\"14.00\">body_poses</text>\n</g>\n<!-- s21293 -->\n<g id=\"node3\" class=\"node\">\n<title>s21293</title>\n<polygon fill=\"none\" stroke=\"black\" points=\"32,-1040.55 32,-1074.55 520,-1074.55 520,-1040.55 32,-1040.55\"/>\n<text text-anchor=\"start\" x=\"229.5\" y=\"-1061.35\" font-family=\"Times,serif\" font-weight=\"bold\" font-size=\"14.00\">MultibodyPlant</text>\n<text text-anchor=\"start\" x=\"243\" y=\"-1047.35\" font-family=\"Times,serif\" font-size=\"14.00\">name=plant</text>\n<polygon fill=\"none\" stroke=\"black\" points=\"32,-1019.55 32,-1040.55 237,-1040.55 237,-1019.55 32,-1019.55\"/>\n<text text-anchor=\"start\" x=\"89.5\" y=\"-1026.35\" font-family=\"Times,serif\" font-size=\"14.00\">geometry_query</text>\n<polygon fill=\"none\" stroke=\"black\" points=\"237,-1019.55 237,-1040.55 520,-1040.55 520,-1019.55 237,-1019.55\"/>\n<text text-anchor=\"start\" x=\"336.5\" y=\"-1026.35\" font-family=\"Times,serif\" font-size=\"14.00\">geometry_pose</text>\n<polygon fill=\"none\" stroke=\"black\" points=\"32,-998.55 32,-1019.55 237,-1019.55 237,-998.55 32,-998.55\"/>\n<text text-anchor=\"start\" x=\"48.5\" y=\"-1005.35\" font-family=\"Times,serif\" font-size=\"14.00\" fill=\"grey\">WorldModelInstance_actuation</text>\n<polygon fill=\"none\" stroke=\"black\" points=\"237,-998.55 237,-1019.55 520,-1019.55 520,-998.55 237,-998.55\"/>\n<text text-anchor=\"start\" x=\"280.5\" y=\"-1005.35\" font-family=\"Times,serif\" font-size=\"14.00\" fill=\"grey\">WorldModelInstance_net_actuation</text>\n<polygon fill=\"none\" stroke=\"black\" points=\"32,-977.55 32,-998.55 237,-998.55 237,-977.55 32,-977.55\"/>\n<text text-anchor=\"start\" x=\"45.5\" y=\"-984.35\" font-family=\"Times,serif\" font-size=\"14.00\" fill=\"grey\">DefaultModelInstance_actuation</text>\n<polygon fill=\"none\" stroke=\"black\" points=\"237,-977.55 237,-998.55 520,-998.55 520,-977.55 237,-977.55\"/>\n<text text-anchor=\"start\" x=\"277.5\" y=\"-984.35\" font-family=\"Times,serif\" font-size=\"14.00\" fill=\"grey\">DefaultModelInstance_net_actuation</text>\n<polygon fill=\"none\" stroke=\"black\" points=\"32,-956.55 32,-977.55 237,-977.55 237,-956.55 32,-956.55\"/>\n<text text-anchor=\"start\" x=\"94.5\" y=\"-963.35\" font-family=\"Times,serif\" font-size=\"14.00\">iiwa_actuation</text>\n<polygon fill=\"none\" stroke=\"black\" points=\"237,-956.55 237,-977.55 520,-977.55 520,-956.55 237,-956.55\"/>\n<text text-anchor=\"start\" x=\"327\" y=\"-963.35\" font-family=\"Times,serif\" font-size=\"14.00\">iiwa_net_actuation</text>\n<polygon fill=\"none\" stroke=\"black\" points=\"32,-935.55 32,-956.55 237,-956.55 237,-935.55 32,-935.55\"/>\n<text text-anchor=\"start\" x=\"87.5\" y=\"-942.35\" font-family=\"Times,serif\" font-size=\"14.00\">allegro_actuation</text>\n<polygon fill=\"none\" stroke=\"black\" points=\"237,-935.55 237,-956.55 520,-956.55 520,-935.55 237,-935.55\"/>\n<text text-anchor=\"start\" x=\"319.5\" y=\"-942.35\" font-family=\"Times,serif\" font-size=\"14.00\">allegro_net_actuation</text>\n<polygon fill=\"none\" stroke=\"black\" points=\"32,-914.55 32,-935.55 237,-935.55 237,-914.55 32,-914.55\"/>\n<text text-anchor=\"start\" x=\"74.5\" y=\"-921.35\" font-family=\"Times,serif\" font-size=\"14.00\" fill=\"grey\">foam_brick_actuation</text>\n<polygon fill=\"none\" stroke=\"black\" points=\"237,-914.55 237,-935.55 520,-935.55 520,-914.55 237,-914.55\"/>\n<text text-anchor=\"start\" x=\"307\" y=\"-921.35\" font-family=\"Times,serif\" font-size=\"14.00\" fill=\"grey\">foam_brick_net_actuation</text>\n<polygon fill=\"none\" stroke=\"black\" points=\"32,-893.55 32,-914.55 237,-914.55 237,-893.55 32,-893.55\"/>\n<text text-anchor=\"start\" x=\"75.5\" y=\"-900.35\" font-family=\"Times,serif\" font-size=\"14.00\" fill=\"grey\">robot_table_actuation</text>\n<polygon fill=\"none\" stroke=\"black\" points=\"237,-893.55 237,-914.55 520,-914.55 520,-893.55 237,-893.55\"/>\n<text text-anchor=\"start\" x=\"307.5\" y=\"-900.35\" font-family=\"Times,serif\" font-size=\"14.00\" fill=\"grey\">robot_table_net_actuation</text>\n<polygon fill=\"none\" stroke=\"black\" points=\"32,-872.55 32,-893.55 237,-893.55 237,-872.55 32,-872.55\"/>\n<text text-anchor=\"start\" x=\"75.5\" y=\"-879.35\" font-family=\"Times,serif\" font-size=\"14.00\" fill=\"grey\">work_table_actuation</text>\n<polygon fill=\"none\" stroke=\"black\" points=\"237,-872.55 237,-893.55 520,-893.55 520,-872.55 237,-872.55\"/>\n<text text-anchor=\"start\" x=\"308\" y=\"-879.35\" font-family=\"Times,serif\" font-size=\"14.00\" fill=\"grey\">work_table_net_actuation</text>\n<polygon fill=\"none\" stroke=\"black\" points=\"32,-851.55 32,-872.55 237,-872.55 237,-851.55 32,-851.55\"/>\n<text text-anchor=\"start\" x=\"109.5\" y=\"-858.35\" font-family=\"Times,serif\" font-size=\"14.00\">actuation</text>\n<polygon fill=\"none\" stroke=\"black\" points=\"237,-851.55 237,-872.55 520,-872.55 520,-851.55 237,-851.55\"/>\n<text text-anchor=\"start\" x=\"342\" y=\"-858.35\" font-family=\"Times,serif\" font-size=\"14.00\">net_actuation</text>\n<polygon fill=\"none\" stroke=\"black\" points=\"32,-830.55 32,-851.55 237,-851.55 237,-830.55 32,-830.55\"/>\n<text text-anchor=\"start\" x=\"38\" y=\"-837.35\" font-family=\"Times,serif\" font-size=\"14.00\" fill=\"grey\">WorldModelInstance_desired_state</text>\n<polygon fill=\"none\" stroke=\"black\" points=\"237,-830.55 237,-851.55 520,-851.55 520,-830.55 237,-830.55\"/>\n<text text-anchor=\"start\" x=\"366\" y=\"-837.35\" font-family=\"Times,serif\" font-size=\"14.00\">state</text>\n<polygon fill=\"none\" stroke=\"black\" points=\"32,-809.55 32,-830.55 237,-830.55 237,-809.55 32,-809.55\"/>\n<text text-anchor=\"start\" x=\"35\" y=\"-816.35\" font-family=\"Times,serif\" font-size=\"14.00\" fill=\"grey\">DefaultModelInstance_desired_state</text>\n<polygon fill=\"none\" stroke=\"black\" points=\"237,-809.55 237,-830.55 520,-830.55 520,-809.55 237,-809.55\"/>\n<text text-anchor=\"start\" x=\"346.5\" y=\"-816.35\" font-family=\"Times,serif\" font-size=\"14.00\">body_poses</text>\n<polygon fill=\"none\" stroke=\"black\" points=\"32,-788.55 32,-809.55 237,-809.55 237,-788.55 32,-788.55\"/>\n<text text-anchor=\"start\" x=\"84\" y=\"-795.35\" font-family=\"Times,serif\" font-size=\"14.00\" fill=\"grey\">iiwa_desired_state</text>\n<polygon fill=\"none\" stroke=\"black\" points=\"237,-788.55 237,-809.55 520,-809.55 520,-788.55 237,-788.55\"/>\n<text text-anchor=\"start\" x=\"331.5\" y=\"-795.35\" font-family=\"Times,serif\" font-size=\"14.00\">spatial_velocities</text>\n<polygon fill=\"none\" stroke=\"black\" points=\"32,-767.55 32,-788.55 237,-788.55 237,-767.55 32,-767.55\"/>\n<text text-anchor=\"start\" x=\"77\" y=\"-774.35\" font-family=\"Times,serif\" font-size=\"14.00\" fill=\"grey\">allegro_desired_state</text>\n<polygon fill=\"none\" stroke=\"black\" points=\"237,-767.55 237,-788.55 520,-788.55 520,-767.55 237,-767.55\"/>\n<text text-anchor=\"start\" x=\"322\" y=\"-774.35\" font-family=\"Times,serif\" font-size=\"14.00\">spatial_accelerations</text>\n<polygon fill=\"none\" stroke=\"black\" points=\"32,-746.55 32,-767.55 237,-767.55 237,-746.55 32,-746.55\"/>\n<text text-anchor=\"start\" x=\"64\" y=\"-753.35\" font-family=\"Times,serif\" font-size=\"14.00\" fill=\"grey\">foam_brick_desired_state</text>\n<polygon fill=\"none\" stroke=\"black\" points=\"237,-746.55 237,-767.55 520,-767.55 520,-746.55 237,-746.55\"/>\n<text text-anchor=\"start\" x=\"311\" y=\"-753.35\" font-family=\"Times,serif\" font-size=\"14.00\">generalized_acceleration</text>\n<polygon fill=\"none\" stroke=\"black\" points=\"32,-725.55 32,-746.55 237,-746.55 237,-725.55 32,-725.55\"/>\n<text text-anchor=\"start\" x=\"65\" y=\"-732.35\" font-family=\"Times,serif\" font-size=\"14.00\" fill=\"grey\">robot_table_desired_state</text>\n<polygon fill=\"none\" stroke=\"black\" points=\"237,-725.55 237,-746.55 520,-746.55 520,-725.55 237,-725.55\"/>\n<text text-anchor=\"start\" x=\"304.5\" y=\"-732.35\" font-family=\"Times,serif\" font-size=\"14.00\" fill=\"grey\">WorldModelInstance_state</text>\n<polygon fill=\"none\" stroke=\"black\" points=\"32,-704.55 32,-725.55 237,-725.55 237,-704.55 32,-704.55\"/>\n<text text-anchor=\"start\" x=\"65\" y=\"-711.35\" font-family=\"Times,serif\" font-size=\"14.00\" fill=\"grey\">work_table_desired_state</text>\n<polygon fill=\"none\" stroke=\"black\" points=\"237,-704.55 237,-725.55 520,-725.55 520,-704.55 237,-704.55\"/>\n<text text-anchor=\"start\" x=\"250\" y=\"-711.35\" font-family=\"Times,serif\" font-size=\"14.00\" fill=\"grey\">WorldModelInstance_generalized_acceleration</text>\n<polygon fill=\"none\" stroke=\"black\" points=\"32,-683.55 32,-704.55 237,-704.55 237,-683.55 32,-683.55\"/>\n<text text-anchor=\"start\" x=\"62.5\" y=\"-690.35\" font-family=\"Times,serif\" font-size=\"14.00\">applied_generalized_force</text>\n<polygon fill=\"none\" stroke=\"black\" points=\"237,-683.55 237,-704.55 520,-704.55 520,-683.55 237,-683.55\"/>\n<text text-anchor=\"start\" x=\"301.5\" y=\"-690.35\" font-family=\"Times,serif\" font-size=\"14.00\" fill=\"grey\">DefaultModelInstance_state</text>\n<polygon fill=\"none\" stroke=\"black\" points=\"32,-662.55 32,-683.55 237,-683.55 237,-662.55 32,-662.55\"/>\n<text text-anchor=\"start\" x=\"76\" y=\"-669.35\" font-family=\"Times,serif\" font-size=\"14.00\">applied_spatial_force</text>\n<polygon fill=\"none\" stroke=\"black\" points=\"237,-662.55 237,-683.55 520,-683.55 520,-662.55 237,-662.55\"/>\n<text text-anchor=\"start\" x=\"247\" y=\"-669.35\" font-family=\"Times,serif\" font-size=\"14.00\" fill=\"grey\">DefaultModelInstance_generalized_acceleration</text>\n<polyline fill=\"none\" stroke=\"grey\" points=\"32,-662.55 32,-263.55 237,-263.55 \"/>\n<polygon fill=\"none\" stroke=\"black\" points=\"237,-641.55 237,-662.55 520,-662.55 520,-641.55 237,-641.55\"/>\n<text text-anchor=\"start\" x=\"351\" y=\"-648.35\" font-family=\"Times,serif\" font-size=\"14.00\">iiwa_state</text>\n<polygon fill=\"none\" stroke=\"black\" points=\"237,-620.55 237,-641.55 520,-641.55 520,-620.55 237,-620.55\"/>\n<text text-anchor=\"start\" x=\"296\" y=\"-627.35\" font-family=\"Times,serif\" font-size=\"14.00\">iiwa_generalized_acceleration</text>\n<polygon fill=\"none\" stroke=\"black\" points=\"237,-599.55 237,-620.55 520,-620.55 520,-599.55 237,-599.55\"/>\n<text text-anchor=\"start\" x=\"343.5\" y=\"-606.35\" font-family=\"Times,serif\" font-size=\"14.00\">allegro_state</text>\n<polygon fill=\"none\" stroke=\"black\" points=\"237,-578.55 237,-599.55 520,-599.55 520,-578.55 237,-578.55\"/>\n<text text-anchor=\"start\" x=\"289\" y=\"-585.35\" font-family=\"Times,serif\" font-size=\"14.00\">allegro_generalized_acceleration</text>\n<polygon fill=\"none\" stroke=\"black\" points=\"237,-557.55 237,-578.55 520,-578.55 520,-557.55 237,-557.55\"/>\n<text text-anchor=\"start\" x=\"331\" y=\"-564.35\" font-family=\"Times,serif\" font-size=\"14.00\">foam_brick_state</text>\n<polygon fill=\"none\" stroke=\"black\" points=\"237,-536.55 237,-557.55 520,-557.55 520,-536.55 237,-536.55\"/>\n<text text-anchor=\"start\" x=\"276\" y=\"-543.35\" font-family=\"Times,serif\" font-size=\"14.00\">foam_brick_generalized_acceleration</text>\n<polygon fill=\"none\" stroke=\"black\" points=\"237,-515.55 237,-536.55 520,-536.55 520,-515.55 237,-515.55\"/>\n<text text-anchor=\"start\" x=\"331.5\" y=\"-522.35\" font-family=\"Times,serif\" font-size=\"14.00\" fill=\"grey\">robot_table_state</text>\n<polygon fill=\"none\" stroke=\"black\" points=\"237,-494.55 237,-515.55 520,-515.55 520,-494.55 237,-494.55\"/>\n<text text-anchor=\"start\" x=\"277\" y=\"-501.35\" font-family=\"Times,serif\" font-size=\"14.00\" fill=\"grey\">robot_table_generalized_acceleration</text>\n<polygon fill=\"none\" stroke=\"black\" points=\"237,-473.55 237,-494.55 520,-494.55 520,-473.55 237,-473.55\"/>\n<text text-anchor=\"start\" x=\"332\" y=\"-480.35\" font-family=\"Times,serif\" font-size=\"14.00\" fill=\"grey\">work_table_state</text>\n<polygon fill=\"none\" stroke=\"black\" points=\"237,-452.55 237,-473.55 520,-473.55 520,-452.55 237,-452.55\"/>\n<text text-anchor=\"start\" x=\"277.5\" y=\"-459.35\" font-family=\"Times,serif\" font-size=\"14.00\" fill=\"grey\">work_table_generalized_acceleration</text>\n<polygon fill=\"none\" stroke=\"black\" points=\"237,-431.55 237,-452.55 520,-452.55 520,-431.55 237,-431.55\"/>\n<text text-anchor=\"start\" x=\"243\" y=\"-438.35\" font-family=\"Times,serif\" font-size=\"14.00\" fill=\"grey\">WorldModelInstance_generalized_contact_forces</text>\n<polygon fill=\"none\" stroke=\"black\" points=\"237,-410.55 237,-431.55 520,-431.55 520,-410.55 237,-410.55\"/>\n<text text-anchor=\"start\" x=\"240\" y=\"-417.35\" font-family=\"Times,serif\" font-size=\"14.00\" fill=\"grey\">DefaultModelInstance_generalized_contact_forces</text>\n<polygon fill=\"none\" stroke=\"black\" points=\"237,-389.55 237,-410.55 520,-410.55 520,-389.55 237,-389.55\"/>\n<text text-anchor=\"start\" x=\"289.5\" y=\"-396.35\" font-family=\"Times,serif\" font-size=\"14.00\">iiwa_generalized_contact_forces</text>\n<polygon fill=\"none\" stroke=\"black\" points=\"237,-368.55 237,-389.55 520,-389.55 520,-368.55 237,-368.55\"/>\n<text text-anchor=\"start\" x=\"282\" y=\"-375.35\" font-family=\"Times,serif\" font-size=\"14.00\">allegro_generalized_contact_forces</text>\n<polygon fill=\"none\" stroke=\"black\" points=\"237,-347.55 237,-368.55 520,-368.55 520,-347.55 237,-347.55\"/>\n<text text-anchor=\"start\" x=\"269.5\" y=\"-354.35\" font-family=\"Times,serif\" font-size=\"14.00\">foam_brick_generalized_contact_forces</text>\n<polygon fill=\"none\" stroke=\"black\" points=\"237,-326.55 237,-347.55 520,-347.55 520,-326.55 237,-326.55\"/>\n<text text-anchor=\"start\" x=\"270\" y=\"-333.35\" font-family=\"Times,serif\" font-size=\"14.00\" fill=\"grey\">robot_table_generalized_contact_forces</text>\n<polygon fill=\"none\" stroke=\"black\" points=\"237,-305.55 237,-326.55 520,-326.55 520,-305.55 237,-305.55\"/>\n<text text-anchor=\"start\" x=\"270.5\" y=\"-312.35\" font-family=\"Times,serif\" font-size=\"14.00\" fill=\"grey\">work_table_generalized_contact_forces</text>\n<polygon fill=\"none\" stroke=\"black\" points=\"237,-284.55 237,-305.55 520,-305.55 520,-284.55 237,-284.55\"/>\n<text text-anchor=\"start\" x=\"336.5\" y=\"-291.35\" font-family=\"Times,serif\" font-size=\"14.00\">reaction_forces</text>\n<polygon fill=\"none\" stroke=\"black\" points=\"237,-263.55 237,-284.55 520,-284.55 520,-263.55 237,-263.55\"/>\n<text text-anchor=\"start\" x=\"337.5\" y=\"-270.35\" font-family=\"Times,serif\" font-size=\"14.00\">contact_results</text>\n</g>\n<!-- s21293&#45;&gt;s21716out -->\n<g id=\"edge30\" class=\"edge\">\n<title>s21293:e-&gt;s21716out:w</title>\n<path fill=\"none\" stroke=\"green\" d=\"M521,-273.55C576.4,-273.55 520.13,-190.39 564,-156.55 652.74,-88.11 954.81,-122.53 1066,-108.55 1111.13,-102.88 1124.14,-93.1 1164.93,-91.72\"/>\n<polygon fill=\"green\" stroke=\"green\" points=\"1165.06,-95.22 1175,-91.55 1164.94,-88.22 1165.06,-95.22\"/>\n</g>\n<!-- s21293&#45;&gt;s21716out -->\n<g id=\"edge31\" class=\"edge\">\n<title>s21293:e-&gt;s21716out:w</title>\n<path fill=\"none\" stroke=\"green\" d=\"M521,-841.55C587.06,-841.55 522.79,-300.18 564,-248.55 708.06,-68.07 846.32,-185.73 1066,-114.55 1112.76,-99.4 1121.21,-71.69 1164.81,-67.97\"/>\n<polygon fill=\"green\" stroke=\"green\" points=\"1165.15,-71.46 1175,-67.55 1164.87,-64.46 1165.15,-71.46\"/>\n</g>\n<!-- s21293&#45;&gt;s21716out -->\n<g id=\"edge32\" class=\"edge\">\n<title>s21293:e-&gt;s21716out:w</title>\n<path fill=\"none\" stroke=\"green\" d=\"M521,-820.55C600.26,-820.55 509.25,-165.86 564,-108.55 750.25,86.4 898.12,-40.24 1164.66,-43.49\"/>\n<polygon fill=\"green\" stroke=\"green\" points=\"1164.98,-46.99 1175,-43.55 1165.02,-39.99 1164.98,-46.99\"/>\n</g>\n<!-- s21294 -->\n<g id=\"node4\" class=\"node\">\n<title>s21294</title>\n<polygon fill=\"none\" stroke=\"black\" points=\"841.5,-709.55 841.5,-743.55 1058.5,-743.55 1058.5,-709.55 841.5,-709.55\"/>\n<text text-anchor=\"start\" x=\"913.5\" y=\"-730.35\" font-family=\"Times,serif\" font-weight=\"bold\" font-size=\"14.00\">SceneGraph</text>\n<text text-anchor=\"start\" x=\"897\" y=\"-716.35\" font-family=\"Times,serif\" font-size=\"14.00\">name=scene_graph</text>\n<polygon fill=\"none\" stroke=\"black\" points=\"841.5,-688.55 841.5,-709.55 1021.5,-709.55 1021.5,-688.55 841.5,-688.55\"/>\n<text text-anchor=\"start\" x=\"902\" y=\"-695.35\" font-family=\"Times,serif\" font-size=\"14.00\">plant_pose</text>\n<polygon fill=\"none\" stroke=\"black\" points=\"1021.5,-625.55 1021.5,-709.55 1058.5,-709.55 1058.5,-625.55 1021.5,-625.55\"/>\n<text text-anchor=\"start\" x=\"1024.5\" y=\"-663.85\" font-family=\"Times,serif\" font-size=\"14.00\">query</text>\n<polygon fill=\"none\" stroke=\"black\" points=\"841.5,-667.55 841.5,-688.55 1021.5,-688.55 1021.5,-667.55 841.5,-667.55\"/>\n<text text-anchor=\"start\" x=\"878\" y=\"-674.35\" font-family=\"Times,serif\" font-size=\"14.00\">plant_configuration</text>\n<polygon fill=\"none\" stroke=\"black\" points=\"841.5,-646.55 841.5,-667.55 1021.5,-667.55 1021.5,-646.55 841.5,-646.55\"/>\n<text text-anchor=\"start\" x=\"868.5\" y=\"-653.35\" font-family=\"Times,serif\" font-size=\"14.00\">inertia_visualizer_pose</text>\n<polygon fill=\"none\" stroke=\"black\" points=\"841.5,-625.55 841.5,-646.55 1021.5,-646.55 1021.5,-625.55 841.5,-625.55\"/>\n<text text-anchor=\"start\" x=\"844.5\" y=\"-632.35\" font-family=\"Times,serif\" font-size=\"14.00\">inertia_visualizer_configuration</text>\n</g>\n<!-- s21293&#45;&gt;s21294 -->\n<g id=\"edge21\" class=\"edge\">\n<title>s21293:e-&gt;s21294:w</title>\n<path fill=\"none\" stroke=\"black\" d=\"M521,-1030.55C540.44,-1030.55 544.64,-1036.77 564,-1038.55 667.12,-1048.06 719.25,-1106.96 797,-1038.55 851.24,-990.83 772.94,-727.19 830.52,-701.56\"/>\n<polygon fill=\"black\" stroke=\"black\" points=\"831.39,-704.95 840.5,-699.55 830.01,-698.09 831.39,-704.95\"/>\n</g>\n<!-- s21575 -->\n<g id=\"node6\" class=\"node\">\n<title>s21575</title>\n<polygon fill=\"none\" stroke=\"black\" points=\"572.5,-651.55 572.5,-685.55 789.5,-685.55 789.5,-651.55 572.5,-651.55\"/>\n<text text-anchor=\"start\" x=\"575.5\" y=\"-672.35\" font-family=\"Times,serif\" font-weight=\"bold\" font-size=\"14.00\">manipulation.station.MultiplexState</text>\n<text text-anchor=\"start\" x=\"582.5\" y=\"-658.35\" font-family=\"Times,serif\" font-size=\"14.00\">name=iiwa+allegro.combined_state</text>\n<polygon fill=\"none\" stroke=\"black\" points=\"572.5,-630.55 572.5,-651.55 671.5,-651.55 671.5,-630.55 572.5,-630.55\"/>\n<text text-anchor=\"start\" x=\"596\" y=\"-637.35\" font-family=\"Times,serif\" font-size=\"14.00\">iiwa.state</text>\n<polygon fill=\"none\" stroke=\"black\" points=\"671.5,-609.55 671.5,-651.55 789.5,-651.55 789.5,-609.55 671.5,-609.55\"/>\n<text text-anchor=\"start\" x=\"687.5\" y=\"-626.85\" font-family=\"Times,serif\" font-size=\"14.00\">combined_state</text>\n<polygon fill=\"none\" stroke=\"black\" points=\"572.5,-609.55 572.5,-630.55 671.5,-630.55 671.5,-609.55 572.5,-609.55\"/>\n<text text-anchor=\"start\" x=\"588.5\" y=\"-616.35\" font-family=\"Times,serif\" font-size=\"14.00\">allegro.state</text>\n</g>\n<!-- s21293&#45;&gt;s21575 -->\n<g id=\"edge15\" class=\"edge\">\n<title>s21293:e-&gt;s21575:w</title>\n<path fill=\"none\" stroke=\"black\" d=\"M521,-651.55C540.2,-651.55 546.54,-643.87 561.52,-641.34\"/>\n<polygon fill=\"black\" stroke=\"black\" points=\"561.81,-644.83 571.5,-640.55 561.25,-637.85 561.81,-644.83\"/>\n</g>\n<!-- s21293&#45;&gt;s21575 -->\n<g id=\"edge16\" class=\"edge\">\n<title>s21293:e-&gt;s21575:w</title>\n<path fill=\"none\" stroke=\"black\" d=\"M521,-609.55C539.95,-609.55 546.45,-616.41 561.13,-618.77\"/>\n<polygon fill=\"black\" stroke=\"black\" points=\"561.26,-622.29 571.5,-619.55 561.79,-615.31 561.26,-622.29\"/>\n</g>\n<!-- s21586 -->\n<g id=\"node11\" class=\"node\">\n<title>s21586</title>\n<polygon fill=\"none\" stroke=\"black\" points=\"591.5,-281.55 591.5,-315.55 769.5,-315.55 769.5,-281.55 591.5,-281.55\"/>\n<text text-anchor=\"start\" x=\"594.5\" y=\"-302.35\" font-family=\"Times,serif\" font-weight=\"bold\" font-size=\"14.00\">ContactResultsToLcmSystem</text>\n<text text-anchor=\"start\" x=\"619\" y=\"-288.35\" font-family=\"Times,serif\" font-size=\"14.00\">name=contact_to_lcm</text>\n<polygon fill=\"none\" stroke=\"black\" points=\"591.5,-260.55 591.5,-281.55 680.5,-281.55 680.5,-260.55 591.5,-260.55\"/>\n<text text-anchor=\"start\" x=\"629\" y=\"-267.35\" font-family=\"Times,serif\" font-size=\"14.00\">u0</text>\n<polygon fill=\"none\" stroke=\"black\" points=\"680.5,-260.55 680.5,-281.55 769.5,-281.55 769.5,-260.55 680.5,-260.55\"/>\n<text text-anchor=\"start\" x=\"718\" y=\"-267.35\" font-family=\"Times,serif\" font-size=\"14.00\">y0</text>\n</g>\n<!-- s21293&#45;&gt;s21586 -->\n<g id=\"edge18\" class=\"edge\">\n<title>s21293:e-&gt;s21586:w</title>\n<path fill=\"none\" stroke=\"black\" d=\"M521,-273.55C548.17,-273.55 557.39,-271.24 580.21,-270.67\"/>\n<polygon fill=\"black\" stroke=\"black\" points=\"580.54,-274.17 590.5,-270.55 580.46,-267.17 580.54,-274.17\"/>\n</g>\n<!-- s21588 -->\n<g id=\"node13\" class=\"node\">\n<title>s21588</title>\n<polygon fill=\"none\" stroke=\"black\" points=\"573.5,-975.55 573.5,-1009.55 787.5,-1009.55 787.5,-975.55 573.5,-975.55\"/>\n<text text-anchor=\"start\" x=\"631\" y=\"-996.35\" font-family=\"Times,serif\" font-weight=\"bold\" font-size=\"14.00\">InertiaVisualizer</text>\n<text text-anchor=\"start\" x=\"614\" y=\"-982.35\" font-family=\"Times,serif\" font-size=\"14.00\">name=inertia_visualizer</text>\n<polygon fill=\"none\" stroke=\"black\" points=\"573.5,-954.55 573.5,-975.55 697.5,-975.55 697.5,-954.55 573.5,-954.55\"/>\n<text text-anchor=\"start\" x=\"576.5\" y=\"-961.35\" font-family=\"Times,serif\" font-size=\"14.00\">plant_geometry_pose</text>\n<polygon fill=\"none\" stroke=\"black\" points=\"697.5,-954.55 697.5,-975.55 787.5,-975.55 787.5,-954.55 697.5,-954.55\"/>\n<text text-anchor=\"start\" x=\"700.5\" y=\"-961.35\" font-family=\"Times,serif\" font-size=\"14.00\">geometry_pose</text>\n</g>\n<!-- s21293&#45;&gt;s21588 -->\n<g id=\"edge8\" class=\"edge\">\n<title>s21293:e-&gt;s21588:w</title>\n<path fill=\"none\" stroke=\"black\" d=\"M521,-1030.55C554.28,-1030.55 539.46,-977.74 562.59,-966.6\"/>\n<polygon fill=\"black\" stroke=\"black\" points=\"563.42,-970 572.5,-964.55 562,-963.15 563.42,-970\"/>\n</g>\n<!-- s21693 -->\n<g id=\"node18\" class=\"node\">\n<title>s21693</title>\n<polygon fill=\"none\" stroke=\"black\" points=\"1160,-540.55 1160,-588.55 1355,-588.55 1355,-540.55 1160,-540.55\"/>\n<text text-anchor=\"start\" x=\"1205\" y=\"-575.35\" font-family=\"Times,serif\" font-weight=\"bold\" font-size=\"14.00\">ContactVisualizer</text>\n<text text-anchor=\"start\" x=\"1163\" y=\"-561.35\" font-family=\"Times,serif\" font-size=\"14.00\">name=meshcat_contact_visualizer</text>\n<text text-anchor=\"start\" x=\"1183.5\" y=\"-547.35\" font-family=\"Times,serif\" font-size=\"14.00\">path=/drake/contact_forces</text>\n<polygon fill=\"none\" stroke=\"black\" points=\"1160,-519.55 1160,-540.55 1298,-540.55 1298,-519.55 1160,-519.55\"/>\n<text text-anchor=\"start\" x=\"1188\" y=\"-526.35\" font-family=\"Times,serif\" font-size=\"14.00\">contact_results</text>\n<polyline fill=\"none\" stroke=\"grey\" points=\"1298,-498.55 1355,-498.55 1355,-540.55 \"/>\n<polygon fill=\"none\" stroke=\"black\" points=\"1160,-498.55 1160,-519.55 1298,-519.55 1298,-498.55 1160,-498.55\"/>\n<text text-anchor=\"start\" x=\"1193.5\" y=\"-505.35\" font-family=\"Times,serif\" font-size=\"14.00\">query_object</text>\n</g>\n<!-- s21293&#45;&gt;s21693 -->\n<g id=\"edge9\" class=\"edge\">\n<title>s21293:e-&gt;s21693:w</title>\n<path fill=\"none\" stroke=\"black\" d=\"M521,-273.55C552.38,-273.55 538.46,-311.32 564,-329.55 788.27,-489.7 877.82,-528.61 1148.87,-529.54\"/>\n<polygon fill=\"black\" stroke=\"black\" points=\"1148.99,-533.04 1159,-529.55 1149.01,-526.04 1148.99,-533.04\"/>\n</g>\n<!-- s21294&#45;&gt;s21716out -->\n<g id=\"edge29\" class=\"edge\">\n<title>s21294:e-&gt;s21716out:w</title>\n<path fill=\"none\" stroke=\"green\" d=\"M1059.5,-667.55C1112.38,-667.55 1080.24,-241.75 1102,-193.55 1119.89,-153.93 1126.76,-121.92 1164.67,-117.16\"/>\n<polygon fill=\"green\" stroke=\"green\" points=\"1165.22,-120.64 1175,-116.55 1164.81,-113.65 1165.22,-120.64\"/>\n</g>\n<!-- s21294&#45;&gt;s21293 -->\n<g id=\"edge23\" class=\"edge\">\n<title>s21294:e-&gt;s21293:w</title>\n<path fill=\"none\" stroke=\"black\" d=\"M1059.5,-667.55C1088.16,-667.55 1049.43,-423.64 833,-621.55 766.81,-682.08 861.21,-960.93 797,-1023.55 759.86,-1059.78 610.62,-1015.79 564,-1038.55 542.36,-1049.12 549.97,-1069.19 528,-1079.05 326.9,-1169.36 189.48,-1233.32 32,-1079.05 19.61,-1066.91 12.55,-1042.91 21.5,-1033.99\"/>\n<polygon fill=\"black\" stroke=\"black\" points=\"22.79,-1037.25 31,-1030.55 20.41,-1030.67 22.79,-1037.25\"/>\n</g>\n<!-- s21578 -->\n<g id=\"node8\" class=\"node\">\n<title>s21578</title>\n<polygon fill=\"none\" stroke=\"black\" points=\"1152,-423.55 1152,-471.55 1363,-471.55 1363,-423.55 1152,-423.55\"/>\n<text text-anchor=\"start\" x=\"1210\" y=\"-458.35\" font-family=\"Times,serif\" font-weight=\"bold\" font-size=\"14.00\">DrakeVisualizer</text>\n<text text-anchor=\"start\" x=\"1159.5\" y=\"-444.35\" font-family=\"Times,serif\" font-size=\"14.00\">name=drake_visualizer(illustration)</text>\n<text text-anchor=\"start\" x=\"1155\" y=\"-430.35\" font-family=\"Times,serif\" font-size=\"14.00\">channel=DRAKE_VIEWER_DRAW</text>\n<polygon fill=\"none\" stroke=\"black\" points=\"1152,-402.55 1152,-423.55 1293,-423.55 1293,-402.55 1152,-402.55\"/>\n<text text-anchor=\"start\" x=\"1187\" y=\"-409.35\" font-family=\"Times,serif\" font-size=\"14.00\">query_object</text>\n<polyline fill=\"none\" stroke=\"grey\" points=\"1293,-402.55 1363,-402.55 1363,-423.55 \"/>\n</g>\n<!-- s21294&#45;&gt;s21578 -->\n<g id=\"edge20\" class=\"edge\">\n<title>s21294:e-&gt;s21578:w</title>\n<path fill=\"none\" stroke=\"black\" d=\"M1059.5,-667.55C1142.57,-667.55 1068.87,-561.72 1102,-485.55 1116.06,-453.22 1112.83,-419.8 1140.77,-413.58\"/>\n<polygon fill=\"black\" stroke=\"black\" points=\"1141.4,-417.03 1151,-412.55 1140.7,-410.07 1141.4,-417.03\"/>\n</g>\n<!-- s21582 -->\n<g id=\"node10\" class=\"node\">\n<title>s21582</title>\n<polygon fill=\"none\" stroke=\"black\" points=\"1110,-328.55 1110,-376.55 1404,-376.55 1404,-328.55 1110,-328.55\"/>\n<text text-anchor=\"start\" x=\"1209.5\" y=\"-363.35\" font-family=\"Times,serif\" font-weight=\"bold\" font-size=\"14.00\">DrakeVisualizer</text>\n<text text-anchor=\"start\" x=\"1161.5\" y=\"-349.35\" font-family=\"Times,serif\" font-size=\"14.00\">name=drake_visualizer(proximity)</text>\n<text text-anchor=\"start\" x=\"1113\" y=\"-335.35\" font-family=\"Times,serif\" font-size=\"14.00\">channel=DRAKE_VIEWER_DRAW_PROXIMITY</text>\n<polygon fill=\"none\" stroke=\"black\" points=\"1110,-307.55 1110,-328.55 1292,-328.55 1292,-307.55 1110,-307.55\"/>\n<text text-anchor=\"start\" x=\"1165.5\" y=\"-314.35\" font-family=\"Times,serif\" font-size=\"14.00\">query_object</text>\n<polyline fill=\"none\" stroke=\"grey\" points=\"1292,-307.55 1404,-307.55 1404,-328.55 \"/>\n</g>\n<!-- s21294&#45;&gt;s21582 -->\n<g id=\"edge26\" class=\"edge\">\n<title>s21294:e-&gt;s21582:w</title>\n<path fill=\"none\" stroke=\"black\" d=\"M1059.5,-667.55C1134.37,-667.55 1040.13,-349.6 1099.14,-319.79\"/>\n<polygon fill=\"black\" stroke=\"black\" points=\"1100.02,-323.18 1109,-317.55 1098.47,-316.35 1100.02,-323.18\"/>\n</g>\n<!-- s21690 -->\n<g id=\"node14\" class=\"node\">\n<title>s21690</title>\n<polygon fill=\"none\" stroke=\"black\" points=\"1149,-635.55 1149,-683.55 1366,-683.55 1366,-635.55 1149,-635.55\"/>\n<text text-anchor=\"start\" x=\"1203\" y=\"-670.35\" font-family=\"Times,serif\" font-weight=\"bold\" font-size=\"14.00\">MeshcatVisualizer</text>\n<text text-anchor=\"start\" x=\"1152\" y=\"-656.35\" font-family=\"Times,serif\" font-size=\"14.00\">name=meshcat_visualizer(illustration)</text>\n<text text-anchor=\"start\" x=\"1193.5\" y=\"-642.35\" font-family=\"Times,serif\" font-size=\"14.00\">path=/drake/illustration</text>\n<polygon fill=\"none\" stroke=\"black\" points=\"1149,-614.55 1149,-635.55 1293,-635.55 1293,-614.55 1149,-614.55\"/>\n<text text-anchor=\"start\" x=\"1185.5\" y=\"-621.35\" font-family=\"Times,serif\" font-size=\"14.00\">query_object</text>\n<polyline fill=\"none\" stroke=\"grey\" points=\"1293,-614.55 1366,-614.55 1366,-635.55 \"/>\n</g>\n<!-- s21294&#45;&gt;s21690 -->\n<g id=\"edge13\" class=\"edge\">\n<title>s21294:e-&gt;s21690:w</title>\n<path fill=\"none\" stroke=\"black\" d=\"M1059.5,-667.55C1099.47,-667.55 1103.78,-631.63 1137.62,-625.45\"/>\n<polygon fill=\"black\" stroke=\"black\" points=\"1138.34,-628.9 1148,-624.55 1137.74,-621.93 1138.34,-628.9\"/>\n</g>\n<!-- s21691 -->\n<g id=\"node16\" class=\"node\">\n<title>s21691</title>\n<polygon fill=\"none\" stroke=\"black\" points=\"1161,-730.55 1161,-778.55 1354,-778.55 1354,-730.55 1161,-730.55\"/>\n<text text-anchor=\"start\" x=\"1203\" y=\"-765.35\" font-family=\"Times,serif\" font-weight=\"bold\" font-size=\"14.00\">MeshcatVisualizer</text>\n<text text-anchor=\"start\" x=\"1164\" y=\"-751.35\" font-family=\"Times,serif\" font-size=\"14.00\">name=meshcat_visualizer(inertia)</text>\n<text text-anchor=\"start\" x=\"1205.5\" y=\"-737.35\" font-family=\"Times,serif\" font-size=\"14.00\">path=/drake/inertia</text>\n<polygon fill=\"none\" stroke=\"black\" points=\"1161,-709.55 1161,-730.55 1293,-730.55 1293,-709.55 1161,-709.55\"/>\n<text text-anchor=\"start\" x=\"1191.5\" y=\"-716.35\" font-family=\"Times,serif\" font-size=\"14.00\">query_object</text>\n<polyline fill=\"none\" stroke=\"grey\" points=\"1293,-709.55 1354,-709.55 1354,-730.55 \"/>\n</g>\n<!-- s21294&#45;&gt;s21691 -->\n<g id=\"edge11\" class=\"edge\">\n<title>s21294:e-&gt;s21691:w</title>\n<path fill=\"none\" stroke=\"black\" d=\"M1059.5,-667.55C1082.62,-667.55 1081.58,-686.7 1102,-697.55 1123.02,-708.72 1130.42,-717 1149.8,-719.06\"/>\n<polygon fill=\"black\" stroke=\"black\" points=\"1149.84,-722.56 1160,-719.55 1150.18,-715.57 1149.84,-722.56\"/>\n</g>\n<!-- s21692 -->\n<g id=\"node17\" class=\"node\">\n<title>s21692</title>\n<polygon fill=\"none\" stroke=\"black\" points=\"1151,-825.55 1151,-873.55 1363,-873.55 1363,-825.55 1151,-825.55\"/>\n<text text-anchor=\"start\" x=\"1202.5\" y=\"-860.35\" font-family=\"Times,serif\" font-weight=\"bold\" font-size=\"14.00\">MeshcatVisualizer</text>\n<text text-anchor=\"start\" x=\"1154\" y=\"-846.35\" font-family=\"Times,serif\" font-size=\"14.00\">name=meshcat_visualizer(proximity)</text>\n<text text-anchor=\"start\" x=\"1195\" y=\"-832.35\" font-family=\"Times,serif\" font-size=\"14.00\">path=/drake/proximity</text>\n<polygon fill=\"none\" stroke=\"black\" points=\"1151,-804.55 1151,-825.55 1292,-825.55 1292,-804.55 1151,-804.55\"/>\n<text text-anchor=\"start\" x=\"1186\" y=\"-811.35\" font-family=\"Times,serif\" font-size=\"14.00\">query_object</text>\n<polyline fill=\"none\" stroke=\"grey\" points=\"1292,-804.55 1363,-804.55 1363,-825.55 \"/>\n</g>\n<!-- s21294&#45;&gt;s21692 -->\n<g id=\"edge12\" class=\"edge\">\n<title>s21294:e-&gt;s21692:w</title>\n<path fill=\"none\" stroke=\"black\" d=\"M1059.5,-667.55C1118.18,-667.55 1062.68,-749 1102,-792.55 1115.27,-807.25 1123.61,-812.81 1139.99,-814.19\"/>\n<polygon fill=\"black\" stroke=\"black\" points=\"1139.88,-817.68 1150,-814.55 1140.14,-810.69 1139.88,-817.68\"/>\n</g>\n<!-- s21294&#45;&gt;s21693 -->\n<g id=\"edge10\" class=\"edge\">\n<title>s21294:e-&gt;s21693:w</title>\n<path fill=\"none\" stroke=\"black\" d=\"M1059.5,-667.55C1068.58,-667.55 1129.43,-546.9 1151.86,-515.8\"/>\n<polygon fill=\"black\" stroke=\"black\" points=\"1154.47,-518.13 1159,-508.55 1149.49,-513.22 1154.47,-518.13\"/>\n</g>\n<!-- s21576 -->\n<g id=\"node7\" class=\"node\">\n<title>s21576</title>\n<polygon fill=\"none\" stroke=\"black\" points=\"1140,-942.55 1140,-976.55 1375,-976.55 1375,-942.55 1140,-942.55\"/>\n<text text-anchor=\"start\" x=\"1143\" y=\"-963.35\" font-family=\"Times,serif\" font-weight=\"bold\" font-size=\"14.00\">manipulation.station.DemultiplexInput</text>\n<text text-anchor=\"start\" x=\"1157.5\" y=\"-949.35\" font-family=\"Times,serif\" font-size=\"14.00\">name=iiwa+allegro.combined_input</text>\n<polygon fill=\"none\" stroke=\"black\" points=\"1140,-900.55 1140,-942.55 1267,-942.55 1267,-900.55 1140,-900.55\"/>\n<text text-anchor=\"start\" x=\"1159\" y=\"-917.85\" font-family=\"Times,serif\" font-size=\"14.00\">combined_input</text>\n<polygon fill=\"none\" stroke=\"black\" points=\"1267,-921.55 1267,-942.55 1375,-942.55 1375,-921.55 1267,-921.55\"/>\n<text text-anchor=\"start\" x=\"1293.5\" y=\"-928.35\" font-family=\"Times,serif\" font-size=\"14.00\">iiwa.input</text>\n<polygon fill=\"none\" stroke=\"black\" points=\"1267,-900.55 1267,-921.55 1375,-921.55 1375,-900.55 1267,-900.55\"/>\n<text text-anchor=\"start\" x=\"1286\" y=\"-907.35\" font-family=\"Times,serif\" font-size=\"14.00\">allegro.input</text>\n</g>\n<!-- s21568&#45;&gt;s21576 -->\n<g id=\"edge17\" class=\"edge\">\n<title>s21568:e-&gt;s21576:w</title>\n<path fill=\"none\" stroke=\"black\" d=\"M1047.5,-863.55C1091.89,-863.55 1091.28,-912.84 1128.63,-920.55\"/>\n<polygon fill=\"black\" stroke=\"black\" points=\"1128.71,-924.07 1139,-921.55 1129.39,-917.1 1128.71,-924.07\"/>\n</g>\n<!-- s21575&#45;&gt;s21716out -->\n<g id=\"edge28\" class=\"edge\">\n<title>s21575:e-&gt;s21716out:w</title>\n<path fill=\"none\" stroke=\"green\" d=\"M790.5,-630.55C877.24,-630.55 777.45,-309.17 833,-242.55 844.68,-228.54 1107.51,-153.99 1164.97,-142.14\"/>\n<polygon fill=\"green\" stroke=\"green\" points=\"1165.67,-145.57 1175,-140.55 1164.58,-138.66 1165.67,-145.57\"/>\n</g>\n<!-- s21575&#45;&gt;s21568 -->\n<g id=\"edge14\" class=\"edge\">\n<title>s21575:e-&gt;s21568:w</title>\n<path fill=\"none\" stroke=\"black\" d=\"M790.5,-630.55C893.89,-630.55 754.62,-847.9 841.41,-862.75\"/>\n<polygon fill=\"black\" stroke=\"black\" points=\"841.26,-866.25 851.5,-863.55 841.81,-859.27 841.26,-866.25\"/>\n</g>\n<!-- s21576&#45;&gt;s21293 -->\n<g id=\"edge24\" class=\"edge\">\n<title>s21576:e-&gt;s21293:w</title>\n<path fill=\"none\" stroke=\"black\" d=\"M1376,-931.55C1391.56,-931.55 1386.16,-907.4 1375,-896.55 1355.6,-877.7 1158.11,-891.65 1131.5,-896.55 1100.86,-902.2 1096.52,-915.26 1066,-921.55 1011.32,-932.82 607.5,-907.56 564,-942.55 515.11,-981.88 577.7,-1040.76 528,-1079.05 353.37,-1213.59 188.58,-1234.23 32,-1079.05 16.94,-1064.13 8.78,-993.14 22.25,-972.93\"/>\n<polygon fill=\"black\" stroke=\"black\" points=\"24.31,-975.77 31,-967.55 20.65,-969.81 24.31,-975.77\"/>\n</g>\n<!-- s21576&#45;&gt;s21293 -->\n<g id=\"edge25\" class=\"edge\">\n<title>s21576:e-&gt;s21293:w</title>\n<path fill=\"none\" stroke=\"black\" d=\"M1376,-910.55C1382.24,-910.55 1379.49,-900.88 1375,-896.55 1353.13,-875.51 1127.74,-903.63 1102,-887.55 1073,-869.43 1095.3,-837.19 1066,-819.55 968.59,-760.9 638.92,-833.02 564,-918.55 515.83,-973.54 585.07,-1033.36 528,-1079.05 355.91,-1216.82 188.46,-1234.34 32,-1079.05 13.63,-1060.82 4.03,-972.28 21.97,-951.11\"/>\n<polygon fill=\"black\" stroke=\"black\" points=\"23.65,-954.18 31,-946.55 20.5,-947.93 23.65,-954.18\"/>\n</g>\n<!-- drakelcminterface6372755336in -->\n<g id=\"node9\" class=\"node\">\n<title>drakelcminterface6372755336in</title>\n<ellipse fill=\"none\" stroke=\"black\" cx=\"1573.44\" cy=\"-342.55\" rx=\"125.38\" ry=\"18\"/>\n<text text-anchor=\"middle\" x=\"1573.44\" y=\"-338.85\" font-family=\"Times,serif\" font-size=\"14.00\">drakelcminterface6372755336in</text>\n</g>\n<!-- s21578&#45;&gt;drakelcminterface6372755336in -->\n<g id=\"edge1\" class=\"edge\">\n<title>s21578:e-&gt;drakelcminterface6372755336in</title>\n<path fill=\"none\" stroke=\"#800080\" stroke-dasharray=\"5,2\" d=\"M1372,-437.55C1438.23,-437.55 1505.94,-394.67 1543.25,-366.53\"/>\n<polygon fill=\"#800080\" stroke=\"#800080\" points=\"1545.39,-369.3 1551.18,-360.42 1541.12,-363.75 1545.39,-369.3\"/>\n</g>\n<!-- s21582&#45;&gt;drakelcminterface6372755336in -->\n<g id=\"edge2\" class=\"edge\">\n<title>s21582:e-&gt;drakelcminterface6372755336in</title>\n<path fill=\"none\" stroke=\"#800080\" stroke-dasharray=\"5,2\" d=\"M1412,-342.55C1420.31,-342.55 1428.86,-342.55 1437.48,-342.55\"/>\n<polygon fill=\"#800080\" stroke=\"#800080\" points=\"1437.63,-346.05 1447.63,-342.55 1437.63,-339.05 1437.63,-346.05\"/>\n</g>\n<!-- s21587 -->\n<g id=\"node12\" class=\"node\">\n<title>s21587</title>\n<polygon fill=\"none\" stroke=\"black\" points=\"851.5,-275.55 851.5,-337.55 1047.5,-337.55 1047.5,-275.55 851.5,-275.55\"/>\n<text text-anchor=\"start\" x=\"887\" y=\"-324.35\" font-family=\"Times,serif\" font-weight=\"bold\" font-size=\"14.00\">LcmPublisherSystem</text>\n<text text-anchor=\"start\" x=\"861\" y=\"-310.35\" font-family=\"Times,serif\" font-size=\"14.00\">name=contact_results_publisher</text>\n<text text-anchor=\"start\" x=\"859.5\" y=\"-296.35\" font-family=\"Times,serif\" font-size=\"14.00\">channel=CONTACT_RESULTS</text>\n<text text-anchor=\"start\" x=\"854.5\" y=\"-282.35\" font-family=\"Times,serif\" font-size=\"14.00\">type=lcmt_contact_results_for_viz</text>\n<polygon fill=\"none\" stroke=\"black\" points=\"851.5,-254.55 851.5,-275.55 986.5,-275.55 986.5,-254.55 851.5,-254.55\"/>\n<text text-anchor=\"start\" x=\"881.5\" y=\"-261.35\" font-family=\"Times,serif\" font-size=\"14.00\">lcm_message</text>\n<polyline fill=\"none\" stroke=\"grey\" points=\"986.5,-254.55 1047.5,-254.55 1047.5,-275.55 \"/>\n</g>\n<!-- s21586&#45;&gt;s21587 -->\n<g id=\"edge19\" class=\"edge\">\n<title>s21586:e-&gt;s21587:w</title>\n<path fill=\"none\" stroke=\"black\" d=\"M770.5,-270.55C802.53,-270.55 812.8,-265.71 840.41,-264.73\"/>\n<polygon fill=\"black\" stroke=\"black\" points=\"840.56,-268.22 850.5,-264.55 840.44,-261.22 840.56,-268.22\"/>\n</g>\n<!-- s21587&#45;&gt;drakelcminterface6372755336in -->\n<g id=\"edge3\" class=\"edge\">\n<title>s21587:e-&gt;drakelcminterface6372755336in</title>\n<path fill=\"none\" stroke=\"#800080\" stroke-dasharray=\"5,2\" d=\"M1056.5,-296.55C1076.73,-296.55 1081.77,-295.77 1102,-295.55 1239.77,-294.04 1275.62,-275.99 1412,-295.55 1448.04,-300.72 1487.27,-312.11 1517.92,-322.38\"/>\n<polygon fill=\"#800080\" stroke=\"#800080\" points=\"1516.97,-325.75 1527.56,-325.66 1519.22,-319.12 1516.97,-325.75\"/>\n</g>\n<!-- s21588&#45;&gt;s21294 -->\n<g id=\"edge22\" class=\"edge\">\n<title>s21588:e-&gt;s21294:w</title>\n<path fill=\"none\" stroke=\"black\" d=\"M788.5,-964.55C854.25,-964.55 779.81,-688.18 830.78,-659.03\"/>\n<polygon fill=\"black\" stroke=\"black\" points=\"831.67,-662.41 840.5,-656.55 829.95,-655.63 831.67,-662.41\"/>\n</g>\n<!-- meshcat_in -->\n<g id=\"node15\" class=\"node\">\n<title>meshcat_in</title>\n<ellipse fill=\"none\" stroke=\"magenta\" cx=\"1573.44\" cy=\"-696.55\" rx=\"40.89\" ry=\"18\"/>\n<text text-anchor=\"middle\" x=\"1573.44\" y=\"-692.85\" font-family=\"Times,serif\" font-size=\"14.00\">Meshcat</text>\n</g>\n<!-- s21690&#45;&gt;meshcat_in -->\n<g id=\"edge4\" class=\"edge\">\n<title>s21690:e-&gt;meshcat_in</title>\n<path fill=\"none\" stroke=\"magenta\" stroke-dasharray=\"5,2\" d=\"M1375,-649.55C1430.87,-649.55 1493.28,-667.58 1532.69,-681.31\"/>\n<polygon fill=\"magenta\" stroke=\"magenta\" points=\"1531.6,-684.64 1542.19,-684.69 1533.94,-678.04 1531.6,-684.64\"/>\n</g>\n<!-- s21691&#45;&gt;meshcat_in -->\n<g id=\"edge5\" class=\"edge\">\n<title>s21691:e-&gt;meshcat_in</title>\n<path fill=\"none\" stroke=\"magenta\" stroke-dasharray=\"5,2\" d=\"M1363,-744.55C1423.09,-744.55 1490.48,-725.55 1532.2,-711.45\"/>\n<polygon fill=\"magenta\" stroke=\"magenta\" points=\"1533.41,-714.74 1541.72,-708.17 1531.12,-708.12 1533.41,-714.74\"/>\n</g>\n<!-- s21692&#45;&gt;meshcat_in -->\n<g id=\"edge6\" class=\"edge\">\n<title>s21692:e-&gt;meshcat_in</title>\n<path fill=\"none\" stroke=\"magenta\" stroke-dasharray=\"5,2\" d=\"M1372,-839.55C1452.02,-839.55 1522.18,-763.1 1554.12,-722\"/>\n<polygon fill=\"magenta\" stroke=\"magenta\" points=\"1557.08,-723.88 1560.35,-713.8 1551.51,-719.65 1557.08,-723.88\"/>\n</g>\n<!-- s21693&#45;&gt;meshcat_in -->\n<g id=\"edge7\" class=\"edge\">\n<title>s21693:e-&gt;meshcat_in</title>\n<path fill=\"none\" stroke=\"magenta\" stroke-dasharray=\"5,2\" d=\"M1364,-543.55C1449.22,-543.55 1522.67,-627.69 1554.95,-671.18\"/>\n<polygon fill=\"magenta\" stroke=\"magenta\" points=\"1552.14,-673.27 1560.84,-679.3 1557.8,-669.15 1552.14,-673.27\"/>\n</g>\n<!-- \\n -->\n<g id=\"node19\" class=\"node\">\n<title>\\n</title>\n<ellipse fill=\"none\" stroke=\"black\" cx=\"276\" cy=\"-223.55\" rx=\"27\" ry=\"18\"/>\n</g>\n</g>\n</svg>",
      "text/plain": [
       "<IPython.core.display.SVG object>"
      ]
     },
     "metadata": {},
     "output_type": "display_data"
    },
    {
     "data": {
      "text/plain": [
       "<pydrake.systems.analysis.SimulatorStatus at 0x179ad6f70>"
      ]
     },
     "execution_count": 222,
     "metadata": {},
     "output_type": "execute_result"
    }
   ],
   "source": [
    "scenario_data = \"\"\"\n",
    "directives:\n",
    "- add_model:\n",
    "    name: iiwa\n",
    "    file: package://drake/manipulation/models/iiwa_description/iiwa7/iiwa7_no_collision.sdf\n",
    "    default_joint_positions:\n",
    "        iiwa_joint_1: [0]\n",
    "        iiwa_joint_2: [0.1]\n",
    "        iiwa_joint_3: [0]\n",
    "        iiwa_joint_4: [-1.2]\n",
    "        iiwa_joint_5: [0]\n",
    "        iiwa_joint_6: [ 1.6]\n",
    "        iiwa_joint_7: [0]\n",
    "- add_weld:\n",
    "    parent: world\n",
    "    child: iiwa::iiwa_link_0\n",
    "- add_model:\n",
    "    name: allegro\n",
    "    file: file://\"\"\" + model + \"\"\"\n",
    "- add_weld:\n",
    "    parent: iiwa::iiwa_link_7\n",
    "    child: allegro::hand_root\n",
    "    X_PC:\n",
    "        translation: [0, 0, 0.05]\n",
    "        rotation: !Rpy { deg: [0, 0, 0]}\n",
    "# And now the environment:\n",
    "- add_model:\n",
    "    name: foam_brick\n",
    "    file: package://drake/examples/manipulation_station/models/061_foam_brick.sdf\n",
    "    default_free_body_pose:\n",
    "        base_link:\n",
    "            translation: [0.6, 0, 0]\n",
    "- add_model:\n",
    "    name: robot_table\n",
    "    file: package://drake/examples/kuka_iiwa_arm/models/table/extra_heavy_duty_table_surface_only_collision.sdf\n",
    "- add_weld:\n",
    "    parent: world\n",
    "    child: robot_table::link\n",
    "    X_PC:\n",
    "        translation: [0, 0, -0.7645]\n",
    "- add_model:\n",
    "    name: work_table\n",
    "    file: package://drake/examples/kuka_iiwa_arm/models/table/extra_heavy_duty_table_surface_only_collision.sdf\n",
    "- add_weld:\n",
    "    parent: world\n",
    "    child: work_table::link\n",
    "    X_PC:\n",
    "        translation: [0.75, 0, -0.7645]\n",
    "model_drivers:\n",
    "    iiwa+allegro: !InverseDynamicsDriver {}\n",
    "\"\"\"\n",
    "\n",
    "scenario = load_scenario(data=scenario_data)\n",
    "station = MakeHardwareStation(scenario, meshcat)\n",
    "\n",
    "display(\n",
    "    SVG(\n",
    "        pydot.graph_from_dot_data(station.GetGraphvizString(max_depth=1))[\n",
    "            0\n",
    "        ].create_svg()\n",
    "    )\n",
    ")\n",
    "\n",
    "simulator = Simulator(station)\n",
    "context = simulator.get_mutable_context()\n",
    "\n",
    "x0 = station.GetOutputPort(\"iiwa+allegro.state_estimated\").Eval(context)\n",
    "station.GetInputPort(\"iiwa+allegro.desired_state\").FixValue(context, x0)\n",
    "\n",
    "# Confirm that simulation works:\n",
    "simulator.AdvanceTo(0.1)"
   ]
  },
  {
   "cell_type": "code",
   "execution_count": 163,
   "metadata": {},
   "outputs": [],
   "source": [
    "plant = station.GetSubsystemByName(\"plant\")"
   ]
  },
  {
   "cell_type": "code",
   "execution_count": 164,
   "metadata": {},
   "outputs": [],
   "source": [
    "time = 0.2\n"
   ]
  },
  {
   "cell_type": "code",
   "execution_count": 165,
   "metadata": {},
   "outputs": [],
   "source": [
    "def open_hand(station, context):\n",
    "    current_state = station.GetInputPort(\"iiwa+allegro.desired_state\").Eval(context)\n",
    "    iiwa_idx = 7\n",
    "    current_state[iiwa_idx:] = current_state[iiwa_idx] * -1\n",
    "    station.GetInputPort(\"iiwa+allegro.desired_state\").FixValue(context, current_state)"
   ]
  },
  {
   "cell_type": "code",
   "execution_count": 166,
   "metadata": {},
   "outputs": [],
   "source": [
    "def close_hand(station, context):\n",
    "    current_state = station.GetInputPort(\"iiwa+allegro.desired_state\").Eval(context)\n",
    "    iiwa_idx = 7\n",
    "    current_state[iiwa_idx:] = 4\n",
    "    station.GetInputPort(\"iiwa+allegro.desired_state\").FixValue(context, current_state)"
   ]
  },
  {
   "cell_type": "code",
   "execution_count": 207,
   "metadata": {},
   "outputs": [],
   "source": [
    "def close_finger(station, context):\n",
    "    current_state = station.GetInputPort(\"iiwa+allegro.desired_state\").Eval(context)\n",
    "    current_state[20:] = 4\n",
    "    station.GetInputPort(\"iiwa+allegro.desired_state\").FixValue(context, current_state)"
   ]
  },
  {
   "cell_type": "code",
   "execution_count": 209,
   "metadata": {},
   "outputs": [],
   "source": [
    "close_finger(station, context)\n",
    "simulator.AdvanceTo(time)\n",
    "time += .1"
   ]
  },
  {
   "cell_type": "code",
   "execution_count": 206,
   "metadata": {},
   "outputs": [],
   "source": [
    "open_hand(station, context)\n",
    "simulator.AdvanceTo(time)\n",
    "time += .1"
   ]
  },
  {
   "cell_type": "code",
   "execution_count": 203,
   "metadata": {},
   "outputs": [],
   "source": [
    "close_hand(station, context)\n",
    "simulator.AdvanceTo(time)\n",
    "time += .1"
   ]
  },
  {
   "cell_type": "code",
   "execution_count": 199,
   "metadata": {},
   "outputs": [
    {
     "data": {
      "text/plain": [
       "<ContactModel.kHydroelasticWithFallback: 2>"
      ]
     },
     "execution_count": 199,
     "metadata": {},
     "output_type": "execute_result"
    }
   ],
   "source": [
    "plant.get_contact_model()"
   ]
  },
  {
   "cell_type": "code",
   "execution_count": 221,
   "metadata": {},
   "outputs": [
    {
     "name": "stdout",
     "output_type": "stream",
     "text": [
      "10\n"
     ]
    },
    {
     "data": {
      "text/plain": [
       "array([-2.78832199e-06, -2.77532879e-06, -6.86756179e-02])"
      ]
     },
     "execution_count": 221,
     "metadata": {},
     "output_type": "execute_result"
    }
   ],
   "source": [
    "contact = station.GetOutputPort(\"contact_results\").Eval(context)\n",
    "num_contacts = contact.num_point_pair_contacts()\n",
    "print(num_contacts)\n",
    "a = contact.point_pair_contact_info(num_contacts - 1)\n",
    "a.contact_force()"
   ]
  },
  {
   "cell_type": "code",
   "execution_count": null,
   "metadata": {},
   "outputs": [],
   "source": []
  }
 ],
 "metadata": {
  "kernelspec": {
   "display_name": "Python 3.11.5 ('drake_env': venv)",
   "language": "python",
   "name": "python3"
  },
  "language_info": {
   "codemirror_mode": {
    "name": "ipython",
    "version": 3
   },
   "file_extension": ".py",
   "mimetype": "text/x-python",
   "name": "python",
   "nbconvert_exporter": "python",
   "pygments_lexer": "ipython3",
   "version": "3.11.5"
  },
  "orig_nbformat": 4,
  "vscode": {
   "interpreter": {
    "hash": "a3a58c6867cb66131d0bfe5a5f9b20b5d7637deda1e9bd90477c03cc28f30e93"
   }
  }
 },
 "nbformat": 4,
 "nbformat_minor": 2
}
